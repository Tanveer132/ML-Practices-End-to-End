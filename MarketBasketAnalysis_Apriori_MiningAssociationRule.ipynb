{
 "cells": [
  {
   "cell_type": "markdown",
   "id": "8275addf",
   "metadata": {},
   "source": [
    "# Market Basket Analysis\n",
    "\n",
    "**Unsupervised ML Algorithm**\n",
    "\n",
    "Important Metrics in Association rules :\n",
    "\n",
    "Support: is an indication of how frequently the item set appears in the data set.\n",
    "    \n",
    "    supp(T-shirt⇒Trousers)=(3/7)=43%\n",
    "    \n",
    "Confidence:For a rule X⇒Y, confidence shows the percentage in which Y is bought with X. \n",
    "           It’s an indication of how often the rule has been found to be true.\n",
    "           \n",
    "     conf(Trousers⇒Belt)=(4/7)/(5/7)=80%\n",
    "           \n",
    "The lift of a rule is the ratio of the observed support to that expected if X and Y were independent\n",
    "\n",
    "    lift(T-shirt⇒Trousers)= (3/7)/(4/7)(5/7)=1.05"
   ]
  },
  {
   "cell_type": "code",
   "execution_count": 120,
   "id": "119edc4b",
   "metadata": {},
   "outputs": [],
   "source": [
    "import pandas as pd\n",
    "import numpy as np\n",
    "import matplotlib.pyplot as plt\n",
    "import seaborn as sns\n",
    "\n",
    "\n",
    "from mlxtend.preprocessing import TransactionEncoder\n",
    "from mlxtend.frequent_patterns import apriori, association_rules"
   ]
  },
  {
   "cell_type": "code",
   "execution_count": 122,
   "id": "16b9979e",
   "metadata": {},
   "outputs": [
    {
     "data": {
      "text/html": [
       "<div>\n",
       "<style scoped>\n",
       "    .dataframe tbody tr th:only-of-type {\n",
       "        vertical-align: middle;\n",
       "    }\n",
       "\n",
       "    .dataframe tbody tr th {\n",
       "        vertical-align: top;\n",
       "    }\n",
       "\n",
       "    .dataframe thead th {\n",
       "        text-align: right;\n",
       "    }\n",
       "</style>\n",
       "<table border=\"1\" class=\"dataframe\">\n",
       "  <thead>\n",
       "    <tr style=\"text-align: right;\">\n",
       "      <th></th>\n",
       "      <th>Transaction</th>\n",
       "      <th>Item</th>\n",
       "      <th>date_time</th>\n",
       "      <th>period_day</th>\n",
       "      <th>weekday_weekend</th>\n",
       "    </tr>\n",
       "  </thead>\n",
       "  <tbody>\n",
       "    <tr>\n",
       "      <th>0</th>\n",
       "      <td>1</td>\n",
       "      <td>Bread</td>\n",
       "      <td>30-10-2016 09:58</td>\n",
       "      <td>morning</td>\n",
       "      <td>weekend</td>\n",
       "    </tr>\n",
       "    <tr>\n",
       "      <th>1</th>\n",
       "      <td>2</td>\n",
       "      <td>Scandinavian</td>\n",
       "      <td>30-10-2016 10:05</td>\n",
       "      <td>morning</td>\n",
       "      <td>weekend</td>\n",
       "    </tr>\n",
       "    <tr>\n",
       "      <th>2</th>\n",
       "      <td>2</td>\n",
       "      <td>Scandinavian</td>\n",
       "      <td>30-10-2016 10:05</td>\n",
       "      <td>morning</td>\n",
       "      <td>weekend</td>\n",
       "    </tr>\n",
       "    <tr>\n",
       "      <th>3</th>\n",
       "      <td>3</td>\n",
       "      <td>Hot chocolate</td>\n",
       "      <td>30-10-2016 10:07</td>\n",
       "      <td>morning</td>\n",
       "      <td>weekend</td>\n",
       "    </tr>\n",
       "    <tr>\n",
       "      <th>4</th>\n",
       "      <td>3</td>\n",
       "      <td>Jam</td>\n",
       "      <td>30-10-2016 10:07</td>\n",
       "      <td>morning</td>\n",
       "      <td>weekend</td>\n",
       "    </tr>\n",
       "  </tbody>\n",
       "</table>\n",
       "</div>"
      ],
      "text/plain": [
       "   Transaction           Item         date_time period_day weekday_weekend\n",
       "0            1          Bread  30-10-2016 09:58    morning         weekend\n",
       "1            2   Scandinavian  30-10-2016 10:05    morning         weekend\n",
       "2            2   Scandinavian  30-10-2016 10:05    morning         weekend\n",
       "3            3  Hot chocolate  30-10-2016 10:07    morning         weekend\n",
       "4            3            Jam  30-10-2016 10:07    morning         weekend"
      ]
     },
     "execution_count": 122,
     "metadata": {},
     "output_type": "execute_result"
    }
   ],
   "source": [
    "#get dataset\n",
    "df=pd.read_csv('Bread Basket.csv')\n",
    "df.head()"
   ]
  },
  {
   "cell_type": "code",
   "execution_count": 123,
   "id": "f3b76dc6",
   "metadata": {},
   "outputs": [
    {
     "name": "stdout",
     "output_type": "stream",
     "text": [
      "<class 'pandas.core.frame.DataFrame'>\n",
      "RangeIndex: 20507 entries, 0 to 20506\n",
      "Data columns (total 5 columns):\n",
      " #   Column           Non-Null Count  Dtype \n",
      "---  ------           --------------  ----- \n",
      " 0   Transaction      20507 non-null  int64 \n",
      " 1   Item             20507 non-null  object\n",
      " 2   date_time        20507 non-null  object\n",
      " 3   period_day       20507 non-null  object\n",
      " 4   weekday_weekend  20507 non-null  object\n",
      "dtypes: int64(1), object(4)\n",
      "memory usage: 801.2+ KB\n"
     ]
    }
   ],
   "source": [
    "df.info()"
   ]
  },
  {
   "cell_type": "markdown",
   "id": "12833d4c",
   "metadata": {},
   "source": [
    "Dataset has collection of data for different time interval.\n",
    "We need to convert it to understandable transactions"
   ]
  },
  {
   "cell_type": "code",
   "execution_count": 124,
   "id": "d0d41a7b",
   "metadata": {},
   "outputs": [],
   "source": [
    "df = df.groupby('Transaction')['Item'].apply(list)\n",
    "df = pd.DataFrame(df)"
   ]
  },
  {
   "cell_type": "code",
   "execution_count": 125,
   "id": "34755b88",
   "metadata": {},
   "outputs": [
    {
     "data": {
      "text/plain": [
       "Int64Index([   1,    2,    3,    4,    5,    6,    7,    8,    9,   10,\n",
       "            ...\n",
       "            9674, 9676, 9677, 9678, 9679, 9680, 9681, 9682, 9683, 9684],\n",
       "           dtype='int64', name='Transaction', length=9465)"
      ]
     },
     "execution_count": 125,
     "metadata": {},
     "output_type": "execute_result"
    }
   ],
   "source": [
    "df.index"
   ]
  },
  {
   "cell_type": "markdown",
   "id": "53cebeb3",
   "metadata": {},
   "source": [
    "We got 9684 transactions in dataset. Each transaction is list of items bought can be called as Basket."
   ]
  },
  {
   "cell_type": "code",
   "execution_count": 126,
   "id": "1a28d5b5",
   "metadata": {
    "scrolled": true
   },
   "outputs": [
    {
     "data": {
      "text/plain": [
       "[['Bread'],\n",
       " ['Scandinavian', 'Scandinavian'],\n",
       " ['Hot chocolate', 'Jam', 'Cookies'],\n",
       " ['Muffin'],\n",
       " ['Coffee', 'Pastry', 'Bread']]"
      ]
     },
     "execution_count": 126,
     "metadata": {},
     "output_type": "execute_result"
    }
   ],
   "source": [
    "data=list(df['Item'])\n",
    "data[:5]"
   ]
  },
  {
   "cell_type": "markdown",
   "id": "9cdac927",
   "metadata": {},
   "source": [
    "Creating data using 'from mlxtend.preprocessing import TransactionEncoder' to prepare ready."
   ]
  },
  {
   "cell_type": "code",
   "execution_count": 64,
   "id": "3a1e2cb2",
   "metadata": {},
   "outputs": [
    {
     "data": {
      "text/html": [
       "<div>\n",
       "<style scoped>\n",
       "    .dataframe tbody tr th:only-of-type {\n",
       "        vertical-align: middle;\n",
       "    }\n",
       "\n",
       "    .dataframe tbody tr th {\n",
       "        vertical-align: top;\n",
       "    }\n",
       "\n",
       "    .dataframe thead th {\n",
       "        text-align: right;\n",
       "    }\n",
       "</style>\n",
       "<table border=\"1\" class=\"dataframe\">\n",
       "  <thead>\n",
       "    <tr style=\"text-align: right;\">\n",
       "      <th></th>\n",
       "      <th>Adjustment</th>\n",
       "      <th>Afternoon with the baker</th>\n",
       "      <th>Alfajores</th>\n",
       "      <th>Argentina Night</th>\n",
       "      <th>Art Tray</th>\n",
       "      <th>Bacon</th>\n",
       "      <th>Baguette</th>\n",
       "      <th>Bakewell</th>\n",
       "      <th>Bare Popcorn</th>\n",
       "      <th>Basket</th>\n",
       "      <th>...</th>\n",
       "      <th>The BART</th>\n",
       "      <th>The Nomad</th>\n",
       "      <th>Tiffin</th>\n",
       "      <th>Toast</th>\n",
       "      <th>Truffles</th>\n",
       "      <th>Tshirt</th>\n",
       "      <th>Valentine's card</th>\n",
       "      <th>Vegan Feast</th>\n",
       "      <th>Vegan mincepie</th>\n",
       "      <th>Victorian Sponge</th>\n",
       "    </tr>\n",
       "  </thead>\n",
       "  <tbody>\n",
       "    <tr>\n",
       "      <th>0</th>\n",
       "      <td>False</td>\n",
       "      <td>False</td>\n",
       "      <td>False</td>\n",
       "      <td>False</td>\n",
       "      <td>False</td>\n",
       "      <td>False</td>\n",
       "      <td>False</td>\n",
       "      <td>False</td>\n",
       "      <td>False</td>\n",
       "      <td>False</td>\n",
       "      <td>...</td>\n",
       "      <td>False</td>\n",
       "      <td>False</td>\n",
       "      <td>False</td>\n",
       "      <td>False</td>\n",
       "      <td>False</td>\n",
       "      <td>False</td>\n",
       "      <td>False</td>\n",
       "      <td>False</td>\n",
       "      <td>False</td>\n",
       "      <td>False</td>\n",
       "    </tr>\n",
       "    <tr>\n",
       "      <th>1</th>\n",
       "      <td>False</td>\n",
       "      <td>False</td>\n",
       "      <td>False</td>\n",
       "      <td>False</td>\n",
       "      <td>False</td>\n",
       "      <td>False</td>\n",
       "      <td>False</td>\n",
       "      <td>False</td>\n",
       "      <td>False</td>\n",
       "      <td>False</td>\n",
       "      <td>...</td>\n",
       "      <td>False</td>\n",
       "      <td>False</td>\n",
       "      <td>False</td>\n",
       "      <td>False</td>\n",
       "      <td>False</td>\n",
       "      <td>False</td>\n",
       "      <td>False</td>\n",
       "      <td>False</td>\n",
       "      <td>False</td>\n",
       "      <td>False</td>\n",
       "    </tr>\n",
       "    <tr>\n",
       "      <th>2</th>\n",
       "      <td>False</td>\n",
       "      <td>False</td>\n",
       "      <td>False</td>\n",
       "      <td>False</td>\n",
       "      <td>False</td>\n",
       "      <td>False</td>\n",
       "      <td>False</td>\n",
       "      <td>False</td>\n",
       "      <td>False</td>\n",
       "      <td>False</td>\n",
       "      <td>...</td>\n",
       "      <td>False</td>\n",
       "      <td>False</td>\n",
       "      <td>False</td>\n",
       "      <td>False</td>\n",
       "      <td>False</td>\n",
       "      <td>False</td>\n",
       "      <td>False</td>\n",
       "      <td>False</td>\n",
       "      <td>False</td>\n",
       "      <td>False</td>\n",
       "    </tr>\n",
       "    <tr>\n",
       "      <th>3</th>\n",
       "      <td>False</td>\n",
       "      <td>False</td>\n",
       "      <td>False</td>\n",
       "      <td>False</td>\n",
       "      <td>False</td>\n",
       "      <td>False</td>\n",
       "      <td>False</td>\n",
       "      <td>False</td>\n",
       "      <td>False</td>\n",
       "      <td>False</td>\n",
       "      <td>...</td>\n",
       "      <td>False</td>\n",
       "      <td>False</td>\n",
       "      <td>False</td>\n",
       "      <td>False</td>\n",
       "      <td>False</td>\n",
       "      <td>False</td>\n",
       "      <td>False</td>\n",
       "      <td>False</td>\n",
       "      <td>False</td>\n",
       "      <td>False</td>\n",
       "    </tr>\n",
       "    <tr>\n",
       "      <th>4</th>\n",
       "      <td>False</td>\n",
       "      <td>False</td>\n",
       "      <td>False</td>\n",
       "      <td>False</td>\n",
       "      <td>False</td>\n",
       "      <td>False</td>\n",
       "      <td>False</td>\n",
       "      <td>False</td>\n",
       "      <td>False</td>\n",
       "      <td>False</td>\n",
       "      <td>...</td>\n",
       "      <td>False</td>\n",
       "      <td>False</td>\n",
       "      <td>False</td>\n",
       "      <td>False</td>\n",
       "      <td>False</td>\n",
       "      <td>False</td>\n",
       "      <td>False</td>\n",
       "      <td>False</td>\n",
       "      <td>False</td>\n",
       "      <td>False</td>\n",
       "    </tr>\n",
       "  </tbody>\n",
       "</table>\n",
       "<p>5 rows × 94 columns</p>\n",
       "</div>"
      ],
      "text/plain": [
       "   Adjustment  Afternoon with the baker  Alfajores  Argentina Night  Art Tray  \\\n",
       "0       False                     False      False            False     False   \n",
       "1       False                     False      False            False     False   \n",
       "2       False                     False      False            False     False   \n",
       "3       False                     False      False            False     False   \n",
       "4       False                     False      False            False     False   \n",
       "\n",
       "   Bacon  Baguette  Bakewell  Bare Popcorn  Basket  ...  The BART  The Nomad  \\\n",
       "0  False     False     False         False   False  ...     False      False   \n",
       "1  False     False     False         False   False  ...     False      False   \n",
       "2  False     False     False         False   False  ...     False      False   \n",
       "3  False     False     False         False   False  ...     False      False   \n",
       "4  False     False     False         False   False  ...     False      False   \n",
       "\n",
       "   Tiffin  Toast  Truffles  Tshirt  Valentine's card  Vegan Feast  \\\n",
       "0   False  False     False   False             False        False   \n",
       "1   False  False     False   False             False        False   \n",
       "2   False  False     False   False             False        False   \n",
       "3   False  False     False   False             False        False   \n",
       "4   False  False     False   False             False        False   \n",
       "\n",
       "   Vegan mincepie  Victorian Sponge  \n",
       "0           False             False  \n",
       "1           False             False  \n",
       "2           False             False  \n",
       "3           False             False  \n",
       "4           False             False  \n",
       "\n",
       "[5 rows x 94 columns]"
      ]
     },
     "execution_count": 64,
     "metadata": {},
     "output_type": "execute_result"
    }
   ],
   "source": [
    "te = TransactionEncoder()\n",
    "te_ary = te.fit(data).transform(data)\n",
    "df = pd.DataFrame(te_ary, columns=te.columns_)\n",
    "df.head()"
   ]
  },
  {
   "cell_type": "code",
   "execution_count": 70,
   "id": "da03f049",
   "metadata": {},
   "outputs": [],
   "source": [
    "def convert_into_binary(x):\n",
    "    if x > 0:\n",
    "        return 1\n",
    "    else:\n",
    "        return 0\n",
    "    \n",
    "df = df.applymap(convert_into_binary)"
   ]
  },
  {
   "cell_type": "markdown",
   "id": "2dd3cc75",
   "metadata": {},
   "source": [
    "For 94 items we created pivot table of transiction which is required format of apriori.\n",
    "\n",
    "**Calling Apriori function and Mining Association rules**"
   ]
  },
  {
   "cell_type": "code",
   "execution_count": 72,
   "id": "fd6f70f7",
   "metadata": {},
   "outputs": [],
   "source": [
    "#call apriori function and pass minimum support here we are passing 7%. \n",
    "# means 7 times in total number of transaction that item was present.\n",
    "\n",
    "frequent_itemsets = apriori(df, min_support=0.03, use_colnames=True)"
   ]
  },
  {
   "cell_type": "code",
   "execution_count": 73,
   "id": "3bd4df8b",
   "metadata": {},
   "outputs": [
    {
     "data": {
      "text/html": [
       "<div>\n",
       "<style scoped>\n",
       "    .dataframe tbody tr th:only-of-type {\n",
       "        vertical-align: middle;\n",
       "    }\n",
       "\n",
       "    .dataframe tbody tr th {\n",
       "        vertical-align: top;\n",
       "    }\n",
       "\n",
       "    .dataframe thead th {\n",
       "        text-align: right;\n",
       "    }\n",
       "</style>\n",
       "<table border=\"1\" class=\"dataframe\">\n",
       "  <thead>\n",
       "    <tr style=\"text-align: right;\">\n",
       "      <th></th>\n",
       "      <th>support</th>\n",
       "      <th>itemsets</th>\n",
       "    </tr>\n",
       "  </thead>\n",
       "  <tbody>\n",
       "    <tr>\n",
       "      <th>0</th>\n",
       "      <td>0.036344</td>\n",
       "      <td>(Alfajores)</td>\n",
       "    </tr>\n",
       "    <tr>\n",
       "      <th>1</th>\n",
       "      <td>0.327205</td>\n",
       "      <td>(Bread)</td>\n",
       "    </tr>\n",
       "    <tr>\n",
       "      <th>2</th>\n",
       "      <td>0.040042</td>\n",
       "      <td>(Brownie)</td>\n",
       "    </tr>\n",
       "    <tr>\n",
       "      <th>3</th>\n",
       "      <td>0.103856</td>\n",
       "      <td>(Cake)</td>\n",
       "    </tr>\n",
       "    <tr>\n",
       "      <th>4</th>\n",
       "      <td>0.478394</td>\n",
       "      <td>(Coffee)</td>\n",
       "    </tr>\n",
       "  </tbody>\n",
       "</table>\n",
       "</div>"
      ],
      "text/plain": [
       "    support     itemsets\n",
       "0  0.036344  (Alfajores)\n",
       "1  0.327205      (Bread)\n",
       "2  0.040042    (Brownie)\n",
       "3  0.103856       (Cake)\n",
       "4  0.478394     (Coffee)"
      ]
     },
     "execution_count": 73,
     "metadata": {},
     "output_type": "execute_result"
    }
   ],
   "source": [
    "frequent_itemsets.head()"
   ]
  },
  {
   "cell_type": "code",
   "execution_count": 99,
   "id": "768831cd",
   "metadata": {},
   "outputs": [
    {
     "data": {
      "text/html": [
       "<div>\n",
       "<style scoped>\n",
       "    .dataframe tbody tr th:only-of-type {\n",
       "        vertical-align: middle;\n",
       "    }\n",
       "\n",
       "    .dataframe tbody tr th {\n",
       "        vertical-align: top;\n",
       "    }\n",
       "\n",
       "    .dataframe thead th {\n",
       "        text-align: right;\n",
       "    }\n",
       "</style>\n",
       "<table border=\"1\" class=\"dataframe\">\n",
       "  <thead>\n",
       "    <tr style=\"text-align: right;\">\n",
       "      <th></th>\n",
       "      <th>antecedents</th>\n",
       "      <th>consequents</th>\n",
       "      <th>antecedent support</th>\n",
       "      <th>consequent support</th>\n",
       "      <th>support</th>\n",
       "      <th>confidence</th>\n",
       "      <th>lift</th>\n",
       "      <th>leverage</th>\n",
       "      <th>conviction</th>\n",
       "    </tr>\n",
       "  </thead>\n",
       "  <tbody>\n",
       "    <tr>\n",
       "      <th>0</th>\n",
       "      <td>(Coffee)</td>\n",
       "      <td>(Bread)</td>\n",
       "      <td>0.478394</td>\n",
       "      <td>0.327205</td>\n",
       "      <td>0.090016</td>\n",
       "      <td>0.188163</td>\n",
       "      <td>0.575059</td>\n",
       "      <td>-0.066517</td>\n",
       "      <td>0.828731</td>\n",
       "    </tr>\n",
       "    <tr>\n",
       "      <th>1</th>\n",
       "      <td>(Bread)</td>\n",
       "      <td>(Coffee)</td>\n",
       "      <td>0.327205</td>\n",
       "      <td>0.478394</td>\n",
       "      <td>0.090016</td>\n",
       "      <td>0.275105</td>\n",
       "      <td>0.575059</td>\n",
       "      <td>-0.066517</td>\n",
       "      <td>0.719561</td>\n",
       "    </tr>\n",
       "    <tr>\n",
       "      <th>2</th>\n",
       "      <td>(Coffee)</td>\n",
       "      <td>(Cake)</td>\n",
       "      <td>0.478394</td>\n",
       "      <td>0.103856</td>\n",
       "      <td>0.054728</td>\n",
       "      <td>0.114399</td>\n",
       "      <td>1.101515</td>\n",
       "      <td>0.005044</td>\n",
       "      <td>1.011905</td>\n",
       "    </tr>\n",
       "    <tr>\n",
       "      <th>3</th>\n",
       "      <td>(Cake)</td>\n",
       "      <td>(Coffee)</td>\n",
       "      <td>0.103856</td>\n",
       "      <td>0.478394</td>\n",
       "      <td>0.054728</td>\n",
       "      <td>0.526958</td>\n",
       "      <td>1.101515</td>\n",
       "      <td>0.005044</td>\n",
       "      <td>1.102664</td>\n",
       "    </tr>\n",
       "    <tr>\n",
       "      <th>4</th>\n",
       "      <td>(Coffee)</td>\n",
       "      <td>(Medialuna)</td>\n",
       "      <td>0.478394</td>\n",
       "      <td>0.061807</td>\n",
       "      <td>0.035182</td>\n",
       "      <td>0.073542</td>\n",
       "      <td>1.189878</td>\n",
       "      <td>0.005614</td>\n",
       "      <td>1.012667</td>\n",
       "    </tr>\n",
       "  </tbody>\n",
       "</table>\n",
       "</div>"
      ],
      "text/plain": [
       "  antecedents  consequents  antecedent support  consequent support   support  \\\n",
       "0    (Coffee)      (Bread)            0.478394            0.327205  0.090016   \n",
       "1     (Bread)     (Coffee)            0.327205            0.478394  0.090016   \n",
       "2    (Coffee)       (Cake)            0.478394            0.103856  0.054728   \n",
       "3      (Cake)     (Coffee)            0.103856            0.478394  0.054728   \n",
       "4    (Coffee)  (Medialuna)            0.478394            0.061807  0.035182   \n",
       "\n",
       "   confidence      lift  leverage  conviction  \n",
       "0    0.188163  0.575059 -0.066517    0.828731  \n",
       "1    0.275105  0.575059 -0.066517    0.719561  \n",
       "2    0.114399  1.101515  0.005044    1.011905  \n",
       "3    0.526958  1.101515  0.005044    1.102664  \n",
       "4    0.073542  1.189878  0.005614    1.012667  "
      ]
     },
     "execution_count": 99,
     "metadata": {},
     "output_type": "execute_result"
    }
   ],
   "source": [
    "# we have association rules which need to put on frequent itemset. \n",
    "# here we are setting based on lift and has minimum lift as 1\n",
    "rules_mlxtend = association_rules(frequent_itemsets, metric=\"lift\", min_threshold=0.05)\n",
    "rules_mlxtend.head()"
   ]
  },
  {
   "cell_type": "code",
   "execution_count": 100,
   "id": "119c01b3",
   "metadata": {},
   "outputs": [
    {
     "name": "stdout",
     "output_type": "stream",
     "text": [
      "   antecedents consequents  antecedent support  consequent support   support  \\\n",
      "5  (Medialuna)    (Coffee)            0.061807            0.478394  0.035182   \n",
      "\n",
      "   confidence      lift  leverage  conviction  \n",
      "5    0.569231  1.189878  0.005614    1.210871  \n",
      "   antecedents  consequents  antecedent support  consequent support   support  \\\n",
      "4     (Coffee)  (Medialuna)            0.478394            0.061807  0.035182   \n",
      "5  (Medialuna)     (Coffee)            0.061807            0.478394  0.035182   \n",
      "\n",
      "   confidence      lift  leverage  conviction  \n",
      "4    0.073542  1.189878  0.005614    1.012667  \n",
      "5    0.569231  1.189878  0.005614    1.210871  \n"
     ]
    }
   ],
   "source": [
    "print(rules_mlxtend[rules_mlxtend['confidence']==max(rules_mlxtend['confidence'])])\n",
    "\n",
    "print(rules_mlxtend[rules_mlxtend['lift']==max(rules_mlxtend['lift'])])"
   ]
  },
  {
   "cell_type": "markdown",
   "id": "dddc587d",
   "metadata": {},
   "source": [
    "Conclusion : We can observe maximum lift and maximum confidence. And can use to filter out rules as per requirement."
   ]
  },
  {
   "cell_type": "code",
   "execution_count": 101,
   "id": "7d6a9b81",
   "metadata": {},
   "outputs": [],
   "source": [
    "# menu = ['Adjustment', 'Afternoon with the baker', 'Alfajores',\n",
    "#        'Argentina Night', 'Art Tray', 'Bacon', 'Baguette', 'Bakewell',\n",
    "#        'Bare Popcorn', 'Basket', 'Bowl Nic Pitt', 'Bread', 'Bread Pudding',\n",
    "#        'Brioche and salami', 'Brownie', 'Cake', 'Caramel bites',\n",
    "#        'Cherry me Dried fruit', 'Chicken Stew', 'Chicken sand',\n",
    "#        'Chimichurri Oil', 'Chocolates', 'Christmas common', 'Coffee',\n",
    "#        'Coffee granules ', 'Coke', 'Cookies', 'Crepes', 'Crisps',\n",
    "#        'Drinking chocolate spoons ', 'Duck egg', 'Dulce de Leche', 'Eggs',\n",
    "#        \"Ella's Kitchen Pouches\", 'Empanadas', 'Extra Salami or Feta',\n",
    "#        'Fairy Doors', 'Farm House', 'Focaccia', 'Frittata', 'Fudge',\n",
    "#        'Gift voucher', 'Gingerbread syrup', 'Granola', 'Hack the stack',\n",
    "#        'Half slice Monster ', 'Hearty & Seasonal', 'Honey', 'Hot chocolate',\n",
    "#        'Jam', 'Jammie Dodgers', 'Juice', 'Keeping It Local', 'Kids biscuit',\n",
    "#        'Lemon and coconut', 'Medialuna', 'Mighty Protein', 'Mineral water',\n",
    "#        'Mortimer', 'Muesli', 'Muffin', 'My-5 Fruit Shoot', 'Nomad bag',\n",
    "#        'Olum & polenta', 'Panatone', 'Pastry', 'Pick and Mix Bowls', 'Pintxos',\n",
    "#        'Polenta', 'Postcard', 'Raspberry shortbread sandwich', 'Raw bars',\n",
    "#        'Salad', 'Sandwich', 'Scandinavian', 'Scone', 'Siblings', 'Smoothies',\n",
    "#        'Soup', 'Spanish Brunch', 'Spread', 'Tacos/Fajita', 'Tartine', 'Tea',\n",
    "#        'The BART', 'The Nomad', 'Tiffin', 'Toast', 'Truffles', 'Tshirt',\n",
    "#        \"Valentine's card\", 'Vegan Feast', 'Vegan mincepie',\n",
    "#        'Victorian Sponge'] \n",
    "\n",
    "#Convert frozenset objects into string\n",
    "rules_mlxtend[\"antecedents\"] = rules_mlxtend[\"antecedents\"].apply(lambda x: ', '.join(list(x))).astype(\"unicode\")\n",
    "rules_mlxtend[\"consequents\"] = rules_mlxtend[\"consequents\"].apply(lambda x: ', '.join(list(x))).astype(\"unicode\")\n",
    "\n"
   ]
  },
  {
   "cell_type": "code",
   "execution_count": 116,
   "id": "e2366952",
   "metadata": {},
   "outputs": [
    {
     "name": "stdout",
     "output_type": "stream",
     "text": [
      "You Have bought Bread ... Are you missing  Coffee  !!!\n"
     ]
    }
   ],
   "source": [
    "bought_item = \"Bread\"\n",
    "\n",
    "\n",
    "recommended_item = rules_mlxtend['consequents'].loc[(rules_mlxtend[\"antecedents\"] == bought_item) & rules_mlxtend['lift'] >=1]\n",
    "recommended_item = str(recommended_item).split(\"Name\")[0].replace(\" \",\"\").replace(\"\\n\",\"\")[1:]\n",
    "\n",
    "print(\"You Have bought\",bought_item,\"... Are you missing \",recommended_item,\" !!!\")"
   ]
  },
  {
   "cell_type": "code",
   "execution_count": null,
   "id": "40667988",
   "metadata": {},
   "outputs": [],
   "source": []
  }
 ],
 "metadata": {
  "kernelspec": {
   "display_name": "Python 3",
   "language": "python",
   "name": "python3"
  },
  "language_info": {
   "codemirror_mode": {
    "name": "ipython",
    "version": 3
   },
   "file_extension": ".py",
   "mimetype": "text/x-python",
   "name": "python",
   "nbconvert_exporter": "python",
   "pygments_lexer": "ipython3",
   "version": "3.8.8"
  }
 },
 "nbformat": 4,
 "nbformat_minor": 5
}

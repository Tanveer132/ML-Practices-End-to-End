{
  "nbformat": 4,
  "nbformat_minor": 0,
  "metadata": {
    "colab": {
      "name": "TimeSeriesAnalysis_Forecasting_Multivariate_LSTM.ipynb",
      "provenance": [],
      "include_colab_link": true
    },
    "kernelspec": {
      "name": "python3",
      "display_name": "Python 3"
    },
    "language_info": {
      "name": "python"
    }
  },
  "cells": [
    {
      "cell_type": "markdown",
      "metadata": {
        "id": "view-in-github",
        "colab_type": "text"
      },
      "source": [
        "<a href=\"https://colab.research.google.com/github/Tanveer132/ML-Practices-End-to-End/blob/main/TimeSeriesAnalysis_Forecasting_Multivariate_LSTM.ipynb\" target=\"_parent\"><img src=\"https://colab.research.google.com/assets/colab-badge.svg\" alt=\"Open In Colab\"/></a>"
      ]
    },
    {
      "cell_type": "markdown",
      "metadata": {
        "id": "wEsiMlWKjy4s"
      },
      "source": [
        "#Time Series Analysis - Forecasting with LSTM\n",
        "\n",
        "preparing multivariate data"
      ]
    },
    {
      "cell_type": "code",
      "metadata": {
        "id": "oZrTv3EYARCL"
      },
      "source": [
        "import pandas as pd\n",
        "import numpy as np\n",
        "import matplotlib.pyplot as plt"
      ],
      "execution_count": null,
      "outputs": []
    },
    {
      "cell_type": "code",
      "metadata": {
        "id": "7HtsvxG-FdLD"
      },
      "source": [
        "col_1=np.array([10,20,30,40,50,60,70,80,90])\n",
        "col_2=np.array([15,25,35,45,55,65,75,85,95])"
      ],
      "execution_count": null,
      "outputs": []
    },
    {
      "cell_type": "code",
      "metadata": {
        "id": "DOYA51cUGAqT"
      },
      "source": [
        "out=[]\n",
        "for i in range(len(col_1)):\n",
        "  out.append(col_1[i]+col_2[i])\n",
        "out_col=np.array(out)"
      ],
      "execution_count": null,
      "outputs": []
    },
    {
      "cell_type": "code",
      "metadata": {
        "colab": {
          "base_uri": "https://localhost:8080/"
        },
        "id": "Kc5ZRs3wGe68",
        "outputId": "e5d78158-9a77-4572-d096-6f29712c7baa"
      },
      "source": [
        "out_col"
      ],
      "execution_count": null,
      "outputs": [
        {
          "output_type": "execute_result",
          "data": {
            "text/plain": [
              "array([ 25,  45,  65,  85, 105, 125, 145, 165, 185])"
            ]
          },
          "metadata": {
            "tags": []
          },
          "execution_count": 4
        }
      ]
    },
    {
      "cell_type": "code",
      "metadata": {
        "colab": {
          "base_uri": "https://localhost:8080/"
        },
        "id": "UPAiRW5KGg_g",
        "outputId": "f78acfd6-348c-47f9-bbb3-9af80f7aa2ae"
      },
      "source": [
        "out_col=col_1+col_2\n",
        "out_col"
      ],
      "execution_count": null,
      "outputs": [
        {
          "output_type": "execute_result",
          "data": {
            "text/plain": [
              "array([ 25,  45,  65,  85, 105, 125, 145, 165, 185])"
            ]
          },
          "metadata": {
            "tags": []
          },
          "execution_count": 5
        }
      ]
    },
    {
      "cell_type": "code",
      "metadata": {
        "id": "C0GFcnpeGmTs"
      },
      "source": [
        "col_1=col_1.reshape(len(col_1),1)\n",
        "col_2=col_2.reshape(len(col_1),1)\n",
        "out_col=out_col.reshape(len(col_1),1)"
      ],
      "execution_count": null,
      "outputs": []
    },
    {
      "cell_type": "code",
      "metadata": {
        "id": "D2UsPHIqHAgv"
      },
      "source": [
        "data=np.hstack((col_1,col_2,out_col))"
      ],
      "execution_count": null,
      "outputs": []
    },
    {
      "cell_type": "code",
      "metadata": {
        "colab": {
          "base_uri": "https://localhost:8080/"
        },
        "id": "bPbl_GyPHIr6",
        "outputId": "fd9f92ff-31bf-4f80-a67d-5a7df1e8ad86"
      },
      "source": [
        "data"
      ],
      "execution_count": null,
      "outputs": [
        {
          "output_type": "execute_result",
          "data": {
            "text/plain": [
              "array([[ 10,  15,  25],\n",
              "       [ 20,  25,  45],\n",
              "       [ 30,  35,  65],\n",
              "       [ 40,  45,  85],\n",
              "       [ 50,  55, 105],\n",
              "       [ 60,  65, 125],\n",
              "       [ 70,  75, 145],\n",
              "       [ 80,  85, 165],\n",
              "       [ 90,  95, 185]])"
            ]
          },
          "metadata": {
            "tags": []
          },
          "execution_count": 20
        }
      ]
    },
    {
      "cell_type": "code",
      "metadata": {
        "id": "lAfCJozdHKSB"
      },
      "source": [
        "def feature_transform(n_steps,data):\n",
        "  x=[]\n",
        "  y=[]\n",
        "  for i in range(n_steps,len(data)+1):\n",
        "    x.append(data[i-n_steps:i,:-1])\n",
        "    y.append(data[i-1,-1])\n",
        "  return np.array(x),np.array(y)"
      ],
      "execution_count": null,
      "outputs": []
    },
    {
      "cell_type": "code",
      "metadata": {
        "id": "Ejj1yX6BH7fO"
      },
      "source": [
        "n_steps=3\n",
        "x,y=feature_transform(n_steps,data)"
      ],
      "execution_count": null,
      "outputs": []
    },
    {
      "cell_type": "code",
      "metadata": {
        "id": "nAKZ_U4JIDPy"
      },
      "source": [
        "x,y"
      ],
      "execution_count": null,
      "outputs": []
    },
    {
      "cell_type": "code",
      "metadata": {
        "colab": {
          "base_uri": "https://localhost:8080/"
        },
        "id": "teGJQ5r_IxdG",
        "outputId": "a5e3eced-9e0b-442a-fd48-6c2fbdd25d6b"
      },
      "source": [
        "x.shape"
      ],
      "execution_count": null,
      "outputs": [
        {
          "output_type": "execute_result",
          "data": {
            "text/plain": [
              "(7, 3, 2)"
            ]
          },
          "metadata": {
            "tags": []
          },
          "execution_count": 12
        }
      ]
    },
    {
      "cell_type": "code",
      "metadata": {
        "id": "Tbz_NvO_IEdr"
      },
      "source": [
        "from keras.layers import Dense,LSTM\n",
        "from keras.models import Sequential\n",
        "model=Sequential()\n",
        "model.add(LSTM(50,activation='relu',input_shape=(n_steps,x.shape[2])))\n",
        "model.add(Dense(1))\n",
        "model.compile(optimizer='adam',loss=\"mse\")"
      ],
      "execution_count": null,
      "outputs": []
    },
    {
      "cell_type": "code",
      "metadata": {
        "id": "fKtlXGzHJCYD"
      },
      "source": [
        "history=model.fit(x,y,epochs=100)"
      ],
      "execution_count": null,
      "outputs": []
    },
    {
      "cell_type": "code",
      "metadata": {
        "id": "CrT839F-JOUL"
      },
      "source": [
        "#testing\n",
        "xtest=np.array([[80,85],[90,95],[100,105]])\n",
        "xtest=xtest.reshape((1,3,2))"
      ],
      "execution_count": null,
      "outputs": []
    },
    {
      "cell_type": "code",
      "metadata": {
        "colab": {
          "base_uri": "https://localhost:8080/"
        },
        "id": "qch8HVW0JqYp",
        "outputId": "d4d3cb56-0281-4215-c4ec-47b598efde18"
      },
      "source": [
        "ypred= model.predict(xtest)\n",
        "ypred"
      ],
      "execution_count": null,
      "outputs": [
        {
          "output_type": "execute_result",
          "data": {
            "text/plain": [
              "array([[207.27235]], dtype=float32)"
            ]
          },
          "metadata": {
            "tags": []
          },
          "execution_count": 19
        }
      ]
    }
  ]
}
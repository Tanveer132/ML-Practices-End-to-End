{
  "nbformat": 4,
  "nbformat_minor": 0,
  "metadata": {
    "colab": {
      "name": "Numpy_Mathematical_computing.ipynb",
      "provenance": [],
      "collapsed_sections": [],
      "authorship_tag": "ABX9TyOdsfbKDrkhk4c4ni3v/r0l",
      "include_colab_link": true
    },
    "kernelspec": {
      "name": "python3",
      "display_name": "Python 3"
    },
    "language_info": {
      "name": "python"
    }
  },
  "cells": [
    {
      "cell_type": "markdown",
      "metadata": {
        "id": "view-in-github",
        "colab_type": "text"
      },
      "source": [
        "<a href=\"https://colab.research.google.com/github/Tanveer132/ML-Practices-End-to-End/blob/main/Numpy_Mathematical_computing.ipynb\" target=\"_parent\"><img src=\"https://colab.research.google.com/assets/colab-badge.svg\" alt=\"Open In Colab\"/></a>"
      ]
    },
    {
      "cell_type": "markdown",
      "metadata": {
        "id": "DEF_iME6e0tb"
      },
      "source": [
        "**Numpy :**\n",
        "\n",
        "    Mathematical computing library.\n",
        "    Supportive to large number of data like multidimensional array.\n",
        "    operations like FT, mean, max, min, create random number list can be done.\n",
        "     \n"
      ]
    },
    {
      "cell_type": "code",
      "metadata": {
        "id": "eroxVK03evwu"
      },
      "source": [
        "import numpy as np"
      ],
      "execution_count": 1,
      "outputs": []
    },
    {
      "cell_type": "markdown",
      "metadata": {
        "id": "ZxZNod-4hpZT"
      },
      "source": [
        "**Create array and describe array**"
      ]
    },
    {
      "cell_type": "code",
      "metadata": {
        "colab": {
          "base_uri": "https://localhost:8080/"
        },
        "id": "JxAfqwZCf4vw",
        "outputId": "3ec55692-6cbe-45ea-b97a-a4f045d7a42b"
      },
      "source": [
        "#create 1D array\n",
        "array_1d=np.array([1,2,3,4,5])\n",
        "print(array_1d.dtype)\n",
        "print(array_1d.shape)\n",
        "print(array_1d.size)\n",
        "print(array_1d.ndim)\n",
        "\n",
        "array=np.array([1,'s'])\n",
        "print(array.dtype)\n",
        "print(array.shape)\n",
        "print(array.size)\n",
        "print(array.ndim)"
      ],
      "execution_count": 2,
      "outputs": [
        {
          "output_type": "stream",
          "text": [
            "int64\n",
            "(5,)\n",
            "5\n",
            "1\n",
            "<U21\n",
            "(2,)\n",
            "2\n",
            "1\n"
          ],
          "name": "stdout"
        }
      ]
    },
    {
      "cell_type": "code",
      "metadata": {
        "colab": {
          "base_uri": "https://localhost:8080/"
        },
        "id": "kk_qQpjSgV_1",
        "outputId": "b984ad69-10d6-4281-a6c8-5af082002c80"
      },
      "source": [
        "#Create 2D array\n",
        "\n",
        "array_2D=np.array([[1,2,3,4,5],[5,6,7,8,9]])\n",
        "print(array.dtype)\n",
        "print(array.shape)\n",
        "print(array.size)\n",
        "print(array.ndim)"
      ],
      "execution_count": 3,
      "outputs": [
        {
          "output_type": "stream",
          "text": [
            "<U21\n",
            "(2,)\n",
            "2\n",
            "1\n"
          ],
          "name": "stdout"
        }
      ]
    },
    {
      "cell_type": "code",
      "metadata": {
        "colab": {
          "base_uri": "https://localhost:8080/"
        },
        "id": "fVc4koRLg46d",
        "outputId": "c0b104a5-4a11-4fa4-9142-b6a539c1b4a8"
      },
      "source": [
        "#Array of ones and zeros\n",
        "\n",
        "array_1=np.ones((2,5),dtype=int)\n",
        "print(array_1)\n",
        "array_0=np.zeros((2,5),dtype=int)\n",
        "print(array_0)"
      ],
      "execution_count": 4,
      "outputs": [
        {
          "output_type": "stream",
          "text": [
            "[[1 1 1 1 1]\n",
            " [1 1 1 1 1]]\n",
            "[[0 0 0 0 0]\n",
            " [0 0 0 0 0]]\n"
          ],
          "name": "stdout"
        }
      ]
    },
    {
      "cell_type": "code",
      "metadata": {
        "colab": {
          "base_uri": "https://localhost:8080/"
        },
        "id": "axshhFgehTLw",
        "outputId": "840bcef7-f15b-424a-84ba-d8916aca067b"
      },
      "source": [
        "array_bool=np.ones((2,5),dtype=bool)\n",
        "print(array_bool)"
      ],
      "execution_count": 5,
      "outputs": [
        {
          "output_type": "stream",
          "text": [
            "[[ True  True  True  True  True]\n",
            " [ True  True  True  True  True]]\n"
          ],
          "name": "stdout"
        }
      ]
    },
    {
      "cell_type": "code",
      "metadata": {
        "colab": {
          "base_uri": "https://localhost:8080/"
        },
        "id": "UgUu7IQgiRiJ",
        "outputId": "a5c2038e-0f0f-4559-f822-9f3a0a9f9855"
      },
      "source": [
        "#create array using random elements in range\n",
        "random_array=np.random.randint(-2,5,size=(2,3))\n",
        "print(random_array)\n",
        "\n",
        "#select random choice in given array\n",
        "choice=np.random.choice(random_array.flatten(),size=(1,3))\n",
        "print(choice)\n",
        "#bool should be 0 and 1 only\n",
        "random_bool=np.random.randint(0,2,size=(2,3),dtype=bool)  \n",
        "print(random_bool)"
      ],
      "execution_count": 18,
      "outputs": [
        {
          "output_type": "stream",
          "text": [
            "[[ 1  0 -1]\n",
            " [ 0 -2  4]]\n",
            "[[1 4 0]]\n",
            "[[ True False  True]\n",
            " [False False False]]\n"
          ],
          "name": "stdout"
        }
      ]
    },
    {
      "cell_type": "code",
      "metadata": {
        "colab": {
          "base_uri": "https://localhost:8080/"
        },
        "id": "isaCVzWOji3O",
        "outputId": "cf209097-4070-463a-9d51-713c1e7cb741"
      },
      "source": [
        "#array with given number of elements in given range\n",
        "lin_array=np.linspace(0,10,50)\n",
        "print(lin_array)"
      ],
      "execution_count": 7,
      "outputs": [
        {
          "output_type": "stream",
          "text": [
            "[ 0.          0.20408163  0.40816327  0.6122449   0.81632653  1.02040816\n",
            "  1.2244898   1.42857143  1.63265306  1.83673469  2.04081633  2.24489796\n",
            "  2.44897959  2.65306122  2.85714286  3.06122449  3.26530612  3.46938776\n",
            "  3.67346939  3.87755102  4.08163265  4.28571429  4.48979592  4.69387755\n",
            "  4.89795918  5.10204082  5.30612245  5.51020408  5.71428571  5.91836735\n",
            "  6.12244898  6.32653061  6.53061224  6.73469388  6.93877551  7.14285714\n",
            "  7.34693878  7.55102041  7.75510204  7.95918367  8.16326531  8.36734694\n",
            "  8.57142857  8.7755102   8.97959184  9.18367347  9.3877551   9.59183673\n",
            "  9.79591837 10.        ]\n"
          ],
          "name": "stdout"
        }
      ]
    },
    {
      "cell_type": "code",
      "metadata": {
        "colab": {
          "base_uri": "https://localhost:8080/"
        },
        "id": "-Axs3Rc3ps-t",
        "outputId": "268e24af-1ea8-4294-ce9a-ed21595dc84b"
      },
      "source": [
        "#array in given range with given step\n",
        "range_array=np.arange(0,10,2)\n",
        "print(range_array)\n",
        "\n",
        "range_array=np.arange(0,10).reshape((2,5))\n",
        "print(range_array)"
      ],
      "execution_count": 8,
      "outputs": [
        {
          "output_type": "stream",
          "text": [
            "[0 2 4 6 8]\n",
            "[[0 1 2 3 4]\n",
            " [5 6 7 8 9]]\n"
          ],
          "name": "stdout"
        }
      ]
    },
    {
      "cell_type": "markdown",
      "metadata": {
        "id": "tynmCm62krOo"
      },
      "source": [
        "**Operations on array using numpy**"
      ]
    },
    {
      "cell_type": "code",
      "metadata": {
        "colab": {
          "base_uri": "https://localhost:8080/"
        },
        "id": "WLrULBdPki7w",
        "outputId": "56dd0bdd-aa63-4440-9dac-66ae0a27ccb0"
      },
      "source": [
        "#reshape array\n",
        "#new size(row*column) = old size(row*column)\n",
        "reshaped_array=np.reshape(lin_array,(5,10))\n",
        "print(reshaped_array)"
      ],
      "execution_count": 9,
      "outputs": [
        {
          "output_type": "stream",
          "text": [
            "[[ 0.          0.20408163  0.40816327  0.6122449   0.81632653  1.02040816\n",
            "   1.2244898   1.42857143  1.63265306  1.83673469]\n",
            " [ 2.04081633  2.24489796  2.44897959  2.65306122  2.85714286  3.06122449\n",
            "   3.26530612  3.46938776  3.67346939  3.87755102]\n",
            " [ 4.08163265  4.28571429  4.48979592  4.69387755  4.89795918  5.10204082\n",
            "   5.30612245  5.51020408  5.71428571  5.91836735]\n",
            " [ 6.12244898  6.32653061  6.53061224  6.73469388  6.93877551  7.14285714\n",
            "   7.34693878  7.55102041  7.75510204  7.95918367]\n",
            " [ 8.16326531  8.36734694  8.57142857  8.7755102   8.97959184  9.18367347\n",
            "   9.3877551   9.59183673  9.79591837 10.        ]]\n"
          ],
          "name": "stdout"
        }
      ]
    },
    {
      "cell_type": "code",
      "metadata": {
        "colab": {
          "base_uri": "https://localhost:8080/"
        },
        "id": "cx9fdsWOlGDF",
        "outputId": "e12969d7-2550-4cd2-d73e-63e22c52c373"
      },
      "source": [
        "#convert multidimensional array into 1D array\n",
        "# flatten()--> doesn't make change in original array\n",
        "flatten_array=reshaped_array.flatten()\n",
        "print(flatten_array)\n",
        "flatten_array[0]=1000\n",
        "print(reshaped_array)\n",
        "\n",
        "# ravel()--> make change in original array\n",
        "ravel_array=reshaped_array.ravel()\n",
        "print(ravel_array)\n",
        "ravel_array[0]=1000.0\n",
        "print(reshaped_array)"
      ],
      "execution_count": 10,
      "outputs": [
        {
          "output_type": "stream",
          "text": [
            "[ 0.          0.20408163  0.40816327  0.6122449   0.81632653  1.02040816\n",
            "  1.2244898   1.42857143  1.63265306  1.83673469  2.04081633  2.24489796\n",
            "  2.44897959  2.65306122  2.85714286  3.06122449  3.26530612  3.46938776\n",
            "  3.67346939  3.87755102  4.08163265  4.28571429  4.48979592  4.69387755\n",
            "  4.89795918  5.10204082  5.30612245  5.51020408  5.71428571  5.91836735\n",
            "  6.12244898  6.32653061  6.53061224  6.73469388  6.93877551  7.14285714\n",
            "  7.34693878  7.55102041  7.75510204  7.95918367  8.16326531  8.36734694\n",
            "  8.57142857  8.7755102   8.97959184  9.18367347  9.3877551   9.59183673\n",
            "  9.79591837 10.        ]\n",
            "[[ 0.          0.20408163  0.40816327  0.6122449   0.81632653  1.02040816\n",
            "   1.2244898   1.42857143  1.63265306  1.83673469]\n",
            " [ 2.04081633  2.24489796  2.44897959  2.65306122  2.85714286  3.06122449\n",
            "   3.26530612  3.46938776  3.67346939  3.87755102]\n",
            " [ 4.08163265  4.28571429  4.48979592  4.69387755  4.89795918  5.10204082\n",
            "   5.30612245  5.51020408  5.71428571  5.91836735]\n",
            " [ 6.12244898  6.32653061  6.53061224  6.73469388  6.93877551  7.14285714\n",
            "   7.34693878  7.55102041  7.75510204  7.95918367]\n",
            " [ 8.16326531  8.36734694  8.57142857  8.7755102   8.97959184  9.18367347\n",
            "   9.3877551   9.59183673  9.79591837 10.        ]]\n",
            "[ 0.          0.20408163  0.40816327  0.6122449   0.81632653  1.02040816\n",
            "  1.2244898   1.42857143  1.63265306  1.83673469  2.04081633  2.24489796\n",
            "  2.44897959  2.65306122  2.85714286  3.06122449  3.26530612  3.46938776\n",
            "  3.67346939  3.87755102  4.08163265  4.28571429  4.48979592  4.69387755\n",
            "  4.89795918  5.10204082  5.30612245  5.51020408  5.71428571  5.91836735\n",
            "  6.12244898  6.32653061  6.53061224  6.73469388  6.93877551  7.14285714\n",
            "  7.34693878  7.55102041  7.75510204  7.95918367  8.16326531  8.36734694\n",
            "  8.57142857  8.7755102   8.97959184  9.18367347  9.3877551   9.59183673\n",
            "  9.79591837 10.        ]\n",
            "[[1.00000000e+03 2.04081633e-01 4.08163265e-01 6.12244898e-01\n",
            "  8.16326531e-01 1.02040816e+00 1.22448980e+00 1.42857143e+00\n",
            "  1.63265306e+00 1.83673469e+00]\n",
            " [2.04081633e+00 2.24489796e+00 2.44897959e+00 2.65306122e+00\n",
            "  2.85714286e+00 3.06122449e+00 3.26530612e+00 3.46938776e+00\n",
            "  3.67346939e+00 3.87755102e+00]\n",
            " [4.08163265e+00 4.28571429e+00 4.48979592e+00 4.69387755e+00\n",
            "  4.89795918e+00 5.10204082e+00 5.30612245e+00 5.51020408e+00\n",
            "  5.71428571e+00 5.91836735e+00]\n",
            " [6.12244898e+00 6.32653061e+00 6.53061224e+00 6.73469388e+00\n",
            "  6.93877551e+00 7.14285714e+00 7.34693878e+00 7.55102041e+00\n",
            "  7.75510204e+00 7.95918367e+00]\n",
            " [8.16326531e+00 8.36734694e+00 8.57142857e+00 8.77551020e+00\n",
            "  8.97959184e+00 9.18367347e+00 9.38775510e+00 9.59183673e+00\n",
            "  9.79591837e+00 1.00000000e+01]]\n"
          ],
          "name": "stdout"
        }
      ]
    },
    {
      "cell_type": "code",
      "metadata": {
        "colab": {
          "base_uri": "https://localhost:8080/"
        },
        "id": "_GjxdjkGmp6g",
        "outputId": "aa16b8a0-04fc-4382-d6e0-caf41da9c3fd"
      },
      "source": [
        "#transpose array\n",
        "\n",
        "transpose_array=reshaped_array.transpose()\n",
        "print(transpose_array)"
      ],
      "execution_count": 11,
      "outputs": [
        {
          "output_type": "stream",
          "text": [
            "[[1.00000000e+03 2.04081633e+00 4.08163265e+00 6.12244898e+00\n",
            "  8.16326531e+00]\n",
            " [2.04081633e-01 2.24489796e+00 4.28571429e+00 6.32653061e+00\n",
            "  8.36734694e+00]\n",
            " [4.08163265e-01 2.44897959e+00 4.48979592e+00 6.53061224e+00\n",
            "  8.57142857e+00]\n",
            " [6.12244898e-01 2.65306122e+00 4.69387755e+00 6.73469388e+00\n",
            "  8.77551020e+00]\n",
            " [8.16326531e-01 2.85714286e+00 4.89795918e+00 6.93877551e+00\n",
            "  8.97959184e+00]\n",
            " [1.02040816e+00 3.06122449e+00 5.10204082e+00 7.14285714e+00\n",
            "  9.18367347e+00]\n",
            " [1.22448980e+00 3.26530612e+00 5.30612245e+00 7.34693878e+00\n",
            "  9.38775510e+00]\n",
            " [1.42857143e+00 3.46938776e+00 5.51020408e+00 7.55102041e+00\n",
            "  9.59183673e+00]\n",
            " [1.63265306e+00 3.67346939e+00 5.71428571e+00 7.75510204e+00\n",
            "  9.79591837e+00]\n",
            " [1.83673469e+00 3.87755102e+00 5.91836735e+00 7.95918367e+00\n",
            "  1.00000000e+01]]\n"
          ],
          "name": "stdout"
        }
      ]
    },
    {
      "cell_type": "markdown",
      "metadata": {
        "id": "wdf-50_rqtlF"
      },
      "source": [
        "**Mathematical operations on array**"
      ]
    },
    {
      "cell_type": "code",
      "metadata": {
        "id": "ip1hauJxpfj3"
      },
      "source": [
        "arr1=np.array([1,2,3,4,5])\n",
        "arr2=np.array([5,6,7,8,9])"
      ],
      "execution_count": 12,
      "outputs": []
    },
    {
      "cell_type": "code",
      "metadata": {
        "colab": {
          "base_uri": "https://localhost:8080/"
        },
        "id": "jsB8OXhZrr6U",
        "outputId": "9a354db6-4ce3-400c-b1b5-25a3d6ddfe52"
      },
      "source": [
        "#addition\n",
        "add_arr=np.add(arr1,arr2)\n",
        "print(arr1)\n",
        "print(arr2)\n",
        "print(add_arr)\n"
      ],
      "execution_count": 13,
      "outputs": [
        {
          "output_type": "stream",
          "text": [
            "[1 2 3 4 5]\n",
            "[5 6 7 8 9]\n",
            "[ 6  8 10 12 14]\n"
          ],
          "name": "stdout"
        }
      ]
    },
    {
      "cell_type": "code",
      "metadata": {
        "colab": {
          "base_uri": "https://localhost:8080/"
        },
        "id": "R6VVKNUvr_l7",
        "outputId": "42d6e8ea-d06d-419a-f2d5-1d3739467801"
      },
      "source": [
        "#subtraction\n",
        "sub_arr=np.subtract(arr2,arr1)\n",
        "print(arr1)\n",
        "print(arr2)\n",
        "print(sub_arr)\n"
      ],
      "execution_count": 14,
      "outputs": [
        {
          "output_type": "stream",
          "text": [
            "[1 2 3 4 5]\n",
            "[5 6 7 8 9]\n",
            "[4 4 4 4 4]\n"
          ],
          "name": "stdout"
        }
      ]
    },
    {
      "cell_type": "code",
      "metadata": {
        "colab": {
          "base_uri": "https://localhost:8080/"
        },
        "id": "aIew0osusQf7",
        "outputId": "234ef5ff-bda0-4b01-d70d-17b2dae53425"
      },
      "source": [
        "#multiplication\n",
        "mul_arr=np.multiply(arr1,arr2)\n",
        "print(arr1)\n",
        "print(arr2)\n",
        "print(mul_arr)\n",
        "\n",
        "#matrix multiplication\n",
        "dot_arr=arr1.dot(arr2)\n",
        "print(arr1)\n",
        "print(arr2)\n",
        "print(dot_arr)"
      ],
      "execution_count": 15,
      "outputs": [
        {
          "output_type": "stream",
          "text": [
            "[1 2 3 4 5]\n",
            "[5 6 7 8 9]\n",
            "[ 5 12 21 32 45]\n",
            "[1 2 3 4 5]\n",
            "[5 6 7 8 9]\n",
            "115\n"
          ],
          "name": "stdout"
        }
      ]
    },
    {
      "cell_type": "code",
      "metadata": {
        "colab": {
          "base_uri": "https://localhost:8080/"
        },
        "id": "xr4dlVwrsjIu",
        "outputId": "305f8eaa-3ea6-4771-cca5-cb797f00d14a"
      },
      "source": [
        "#max-->gives max element and argmax-->gives index of max element\n",
        "\n",
        "print(arr1.argmax())\n",
        "print(arr1.max())\n",
        "\n",
        "print(arr1.argmax(axis=0))\n",
        "print(arr1.max(axis=0))\n"
      ],
      "execution_count": 16,
      "outputs": [
        {
          "output_type": "stream",
          "text": [
            "4\n",
            "5\n",
            "4\n",
            "5\n"
          ],
          "name": "stdout"
        }
      ]
    },
    {
      "cell_type": "markdown",
      "metadata": {
        "id": "HVTxsmXv0FFb"
      },
      "source": [
        "**Statastical operations on array**"
      ]
    },
    {
      "cell_type": "code",
      "metadata": {
        "id": "XfTR3MKQtkBW",
        "colab": {
          "base_uri": "https://localhost:8080/"
        },
        "outputId": "ae352ca7-5177-41ec-d5f2-7547d0fa498e"
      },
      "source": [
        "#min value\n",
        "print(np.amin(arr1))\n",
        "#max value\n",
        "print(np.amax(arr1))\n",
        "#standard deviation\n",
        "print(np.std(arr1))\n",
        "#mean\n",
        "print(np.mean(arr1))\n",
        "#median\n",
        "print(np.median(arr1))\n",
        "#range\n",
        "print(np.ptp(arr1))\n",
        "#average \n",
        "print(np.average(arr1))\n"
      ],
      "execution_count": 21,
      "outputs": [
        {
          "output_type": "stream",
          "text": [
            "1\n",
            "5\n",
            "1.4142135623730951\n",
            "3.0\n",
            "3.0\n",
            "4\n",
            "3.0\n"
          ],
          "name": "stdout"
        }
      ]
    },
    {
      "cell_type": "code",
      "metadata": {
        "id": "SG9L2wuE0443"
      },
      "source": [
        ""
      ],
      "execution_count": null,
      "outputs": []
    }
  ]
}
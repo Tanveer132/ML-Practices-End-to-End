{
  "nbformat": 4,
  "nbformat_minor": 0,
  "metadata": {
    "colab": {
      "name": "Regression_Regularization_RidgeLassoElasticNet.ipynb",
      "provenance": [],
      "authorship_tag": "ABX9TyP8R4fdhX0FxI+dwCGjAnao",
      "include_colab_link": true
    },
    "kernelspec": {
      "name": "python3",
      "display_name": "Python 3"
    },
    "language_info": {
      "name": "python"
    }
  },
  "cells": [
    {
      "cell_type": "markdown",
      "metadata": {
        "id": "view-in-github",
        "colab_type": "text"
      },
      "source": [
        "<a href=\"https://colab.research.google.com/github/Tanveer132/ML-Practices-End-to-End/blob/main/Regression_Regularization_RidgeLassoElasticNet.ipynb\" target=\"_parent\"><img src=\"https://colab.research.google.com/assets/colab-badge.svg\" alt=\"Open In Colab\"/></a>"
      ]
    },
    {
      "cell_type": "markdown",
      "metadata": {
        "id": "EIUm-WZDUkFe"
      },
      "source": [
        "#Regularization and Hypertunning Techniques in Regression\n",
        "\n",
        "1. Lasso Regression- L1 Regularization\n",
        "2. Ridge Regression- L2 Regularization\n",
        "3. Elastic Net Regression - L1 L2 Regularization\n"
      ]
    },
    {
      "cell_type": "code",
      "metadata": {
        "id": "2D7AEEGgY_-v"
      },
      "source": [
        "import pandas as pd\n",
        "import numpy as np\n",
        "import matplotlib.pyplot as plt\n",
        "import seaborn as sns\n",
        "\n",
        "from sklearn import preprocessing\n",
        "from sklearn.preprocessing import PolynomialFeatures\n",
        "from sklearn.model_selection import train_test_split\n",
        "from sklearn.metrics import mean_squared_error\n",
        "\n",
        "from sklearn.linear_model import LinearRegression,Ridge,Lasso,ElasticNet,ElasticNetCV"
      ],
      "execution_count": 17,
      "outputs": []
    },
    {
      "cell_type": "code",
      "metadata": {
        "colab": {
          "base_uri": "https://localhost:8080/",
          "height": 206
        },
        "id": "lc7d_Pp1Y_4_",
        "outputId": "b92c93f0-15f3-4800-e2a3-f295867d731d"
      },
      "source": [
        "df=pd.read_csv('/content/housing.csv')\n",
        "df.head()"
      ],
      "execution_count": 2,
      "outputs": [
        {
          "output_type": "execute_result",
          "data": {
            "text/html": [
              "<div>\n",
              "<style scoped>\n",
              "    .dataframe tbody tr th:only-of-type {\n",
              "        vertical-align: middle;\n",
              "    }\n",
              "\n",
              "    .dataframe tbody tr th {\n",
              "        vertical-align: top;\n",
              "    }\n",
              "\n",
              "    .dataframe thead th {\n",
              "        text-align: right;\n",
              "    }\n",
              "</style>\n",
              "<table border=\"1\" class=\"dataframe\">\n",
              "  <thead>\n",
              "    <tr style=\"text-align: right;\">\n",
              "      <th></th>\n",
              "      <th>RM</th>\n",
              "      <th>LSTAT</th>\n",
              "      <th>PTRATIO</th>\n",
              "      <th>MEDV</th>\n",
              "    </tr>\n",
              "  </thead>\n",
              "  <tbody>\n",
              "    <tr>\n",
              "      <th>0</th>\n",
              "      <td>6.575</td>\n",
              "      <td>4.98</td>\n",
              "      <td>15.3</td>\n",
              "      <td>504000</td>\n",
              "    </tr>\n",
              "    <tr>\n",
              "      <th>1</th>\n",
              "      <td>6.421</td>\n",
              "      <td>9.14</td>\n",
              "      <td>17.8</td>\n",
              "      <td>453600</td>\n",
              "    </tr>\n",
              "    <tr>\n",
              "      <th>2</th>\n",
              "      <td>7.185</td>\n",
              "      <td>4.03</td>\n",
              "      <td>17.8</td>\n",
              "      <td>728700</td>\n",
              "    </tr>\n",
              "    <tr>\n",
              "      <th>3</th>\n",
              "      <td>6.998</td>\n",
              "      <td>2.94</td>\n",
              "      <td>18.7</td>\n",
              "      <td>701400</td>\n",
              "    </tr>\n",
              "    <tr>\n",
              "      <th>4</th>\n",
              "      <td>7.147</td>\n",
              "      <td>5.33</td>\n",
              "      <td>18.7</td>\n",
              "      <td>760200</td>\n",
              "    </tr>\n",
              "  </tbody>\n",
              "</table>\n",
              "</div>"
            ],
            "text/plain": [
              "      RM  LSTAT  PTRATIO    MEDV\n",
              "0  6.575   4.98     15.3  504000\n",
              "1  6.421   9.14     17.8  453600\n",
              "2  7.185   4.03     17.8  728700\n",
              "3  6.998   2.94     18.7  701400\n",
              "4  7.147   5.33     18.7  760200"
            ]
          },
          "metadata": {
            "tags": []
          },
          "execution_count": 2
        }
      ]
    },
    {
      "cell_type": "code",
      "metadata": {
        "colab": {
          "base_uri": "https://localhost:8080/"
        },
        "id": "0uhonHX1Y_td",
        "outputId": "089b8b23-e759-4686-8985-51414e994ad5"
      },
      "source": [
        "x=df.drop(columns=['MEDV'])\n",
        "y=df['MEDV']\n",
        "\n",
        "xtrain, xtest, ytrain, ytest = train_test_split(x, y, test_size=0.30, random_state=1)\n",
        "print(xtrain.shape)\n",
        "print(ytrain.shape)\n",
        "print(xtest.shape)\n",
        "print(ytest.shape)"
      ],
      "execution_count": 3,
      "outputs": [
        {
          "output_type": "stream",
          "text": [
            "(342, 3)\n",
            "(342,)\n",
            "(147, 3)\n",
            "(147,)\n"
          ],
          "name": "stdout"
        }
      ]
    },
    {
      "cell_type": "markdown",
      "metadata": {
        "id": "sh2NgnCEdQL4"
      },
      "source": [
        "##Linear Regression"
      ]
    },
    {
      "cell_type": "code",
      "metadata": {
        "colab": {
          "base_uri": "https://localhost:8080/"
        },
        "id": "Kn5X2qw1cQP1",
        "outputId": "8c85012b-55c5-4964-c79f-96cc63c2b074"
      },
      "source": [
        "regression_model = LinearRegression()\n",
        "regression_model.fit(xtrain, ytrain)\n",
        "ypred=regression_model.predict(xtest)\n",
        "print(\"Linear Regression Model Training Score: \", regression_model.score(xtrain, ytrain))\n",
        "print(\"Linear Regression Model Testing Score: \",regression_model.score(xtest, ytest))\n",
        "print(\"Coefficient : \",regression_model.coef_)\n",
        "print(\"Mean squarred error :\",mean_squared_error(ytest,ypred))\n",
        "print(\"Root mean squarred error :\",np.sqrt(mean_squared_error(ytest,ypred)))"
      ],
      "execution_count": 4,
      "outputs": [
        {
          "output_type": "stream",
          "text": [
            "Linear Regression Model Training Score:  0.7105567540949002\n",
            "Linear Regression Model Testing Score:  0.7281579138457906\n",
            "Coefficient :  [ 79732.26980104 -10749.03822448 -20236.8593118 ]\n",
            "Mean squarred error : 6608699697.637288\n",
            "Root mean squarred error : 81293.90935142244\n"
          ],
          "name": "stdout"
        }
      ]
    },
    {
      "cell_type": "code",
      "metadata": {
        "colab": {
          "base_uri": "https://localhost:8080/"
        },
        "id": "J_36vJeIcQCA",
        "outputId": "563abac4-6e1a-443d-876f-b220639d9339"
      },
      "source": [
        "poly = PolynomialFeatures(degree = 3, interaction_only=True)\n",
        "xpoly = poly.fit_transform(x)\n",
        "xtrain, xtest, ytrain, ytest = train_test_split(xpoly, y, test_size=0.30, random_state=1)\n",
        "\n",
        "regression_model.fit(xtrain, ytrain)\n",
        "ypred=regression_model.predict(xtest)\n",
        "\n",
        "\n",
        "print(\"Polynomial Regression Model Training Score: \", regression_model.score(xtrain, ytrain))\n",
        "print(\"Polynomial Regression Model Testing Score: \",regression_model.score(xtest, ytest))\n",
        "print(\"Coefficient : \",regression_model.coef_)\n",
        "print(\"Mean squarred error :\",mean_squared_error(ytest,ypred))\n",
        "print(\"Root mean squarred error :\",np.sqrt(mean_squared_error(ytest,ypred)))"
      ],
      "execution_count": 7,
      "outputs": [
        {
          "output_type": "stream",
          "text": [
            "Polynomial Regression Model Training Score:  0.8264144074115771\n",
            "Polynomial Regression Model Testing Score:  0.8158615403304428\n",
            "Coefficient :  [     0.         704809.32963779 146105.45923163 187471.86412613\n",
            " -21911.23213915 -29222.76232936  -5973.00755759    757.98700689]\n",
            "Mean squarred error : 4476554016.920222\n",
            "Root mean squarred error : 66907.05506088444\n"
          ],
          "name": "stdout"
        }
      ]
    },
    {
      "cell_type": "markdown",
      "metadata": {
        "id": "SvJ00iNWU6l0"
      },
      "source": [
        "##Ridge Regression - L2 Regularization\n",
        "\n",
        "This model solves a regression model where the loss function is the linear least squares function and regularization is given by the l2-norm.\n",
        "\n",
        "    ||y - Xw||^2_2 + alpha * ||w||^2_2\n",
        "\n",
        "    1.Is also known as least squares\n",
        "    2.Sum of squares = 1\n",
        "      Example if applied this norm along row then sum of square for a row = 1. \n",
        "    3.takes outliers in consideration during training: \n",
        "    it is resistant to outliers in the data.\n",
        "    4.Computational efficiency:\n",
        "      L1-norm does not have an analytical solution, but L2-norm does.\n",
        "      This allows the L2-norm solutions to be calculated computationally efficiently.\n",
        "      However, L1-norm solutions does have the sparsity properties which allows it to be used along with sparse algorithms, \n",
        "      which makes the calculation more computationally efficient."
      ]
    },
    {
      "cell_type": "code",
      "metadata": {
        "colab": {
          "base_uri": "https://localhost:8080/"
        },
        "id": "ukppLnoAgHPJ",
        "outputId": "cc1fd53c-73c7-4d06-dc3d-3b3f095baa18"
      },
      "source": [
        "ridge = Ridge(alpha=.3)\n",
        "ridge.fit(xtrain,ytrain)\n",
        "ypred=ridge.predict(xtest)\n",
        "\n",
        "print(\"Polynomial Regression Model Training Score: \", ridge.score(xtrain, ytrain))\n",
        "print(\"Polynomial Regression Model Testing Score: \",ridge.score(xtest, ytest))\n",
        "print(\"Mean squarred error :\",mean_squared_error(ytest,ypred))\n",
        "print(\"Root mean squarred error :\",np.sqrt(mean_squared_error(ytest,ypred)))\n",
        "print(\"Coefficient : \",ridge.coef_)\n"
      ],
      "execution_count": 11,
      "outputs": [
        {
          "output_type": "stream",
          "text": [
            "Polynomial Regression Model Training Score:  0.8225470380719747\n",
            "Polynomial Regression Model Testing Score:  0.8151427403732288\n",
            "Mean squarred error : 4494028621.853938\n",
            "Root mean squarred error : 67037.51652510658\n",
            "Coefficient :  [ 0.00000000e+00  4.63252784e+05  5.30766346e+04  1.02112873e+05\n",
            " -7.22179028e+03 -1.61293166e+04 -1.08166454e+03 -1.50742377e+01]\n"
          ],
          "name": "stdout"
        }
      ]
    },
    {
      "cell_type": "markdown",
      "metadata": {
        "id": "FDteDIegU6PE"
      },
      "source": [
        "##Lasso Regression - L1 Regularization\n",
        "\n",
        "It may be defined as the normalization technique that modifies the dataset values in a way that in each row the sum of the absolute values will always be up to 1. It is also called Least Absolute Deviations.\n",
        "\n",
        "    (1 / (2 * n_samples)) * ||y - Xw||^2_2 + alpha * ||w||_1\n",
        "\n",
        "    1.Is also known as least absolute deviations (LAD), least absolute errors (LAE)\n",
        "    2.It is basically minimizing the sum of the absolute differences (S) between the target value (Yi) and the estimated values\n",
        "    3.On another words Sum of absolute values = 1\n",
        "        Example if applied this norm along row then sum of square for a row = 1. \n",
        "    4.It is insensitive to outliers\n",
        "    5.Sparsity:\n",
        "        Refers to that only very few entries in a matrix (or vector) is non-zero.\n",
        "        L1-norm has the property of producing many coefficients with zero values or very small values with few large coefficients. "
      ]
    },
    {
      "cell_type": "code",
      "metadata": {
        "colab": {
          "base_uri": "https://localhost:8080/"
        },
        "id": "uqqbd2CkaC9O",
        "outputId": "45f7cfae-cc52-4ecb-feac-99346b9e11fe"
      },
      "source": [
        "lasso = Lasso(alpha=0.003)\n",
        "lasso.fit(xtrain,ytrain)\n",
        "ypred=lasso.predict(xtest)\n",
        "\n",
        "print(\"Polynomial Regression Model Training Score: \", lasso.score(xtrain, ytrain))\n",
        "print(\"Polynomial Regression Model Testing Score: \",lasso.score(xtest, ytest))\n",
        "print(\"Mean squarred error :\",mean_squared_error(ytest,ypred))\n",
        "print(\"Root mean squarred error :\",np.sqrt(mean_squared_error(ytest,ypred)))\n",
        "print(\"Coefficient : \",lasso.coef_)\n"
      ],
      "execution_count": 12,
      "outputs": [
        {
          "output_type": "stream",
          "text": [
            "Polynomial Regression Model Training Score:  0.8236197927501434\n",
            "Polynomial Regression Model Testing Score:  0.8150442863253459\n",
            "Mean squarred error : 4496422118.92306\n",
            "Root mean squarred error : 67055.366071054\n",
            "Coefficient :  [ 0.00000000e+00  5.24110715e+05  4.72304851e+04  1.25816118e+05\n",
            " -5.61968586e+03 -1.94993387e+04 -8.40581543e+02 -8.73002173e+01]\n"
          ],
          "name": "stdout"
        },
        {
          "output_type": "stream",
          "text": [
            "/usr/local/lib/python3.7/dist-packages/sklearn/linear_model/_coordinate_descent.py:476: ConvergenceWarning: Objective did not converge. You might want to increase the number of iterations. Duality gap: 861144556779.1823, tolerance: 976463778.3157893\n",
            "  positive)\n"
          ],
          "name": "stderr"
        }
      ]
    },
    {
      "cell_type": "markdown",
      "metadata": {
        "id": "LtpN0aUHaBBp"
      },
      "source": [
        "## ElasticNet Regression \n",
        "ElasticNet regularization applies both L1-norm and L2-norm regularization to penalize the coefficients in a regression model. In this tutorial, we'll learn how to use sklearn's ElasticNet and ElasticNetCV models to analyze regression data. The post covers:\n",
        "\n",
        "    Preparing data\n",
        "    Best alpha\n",
        "    Defining model and checking the results\n",
        "    Cross-validation with ElasticNetCV"
      ]
    },
    {
      "cell_type": "code",
      "metadata": {
        "colab": {
          "base_uri": "https://localhost:8080/"
        },
        "id": "h56OOmumSL1w",
        "outputId": "d544f5b3-2286-46be-bfae-eb77b245819e"
      },
      "source": [
        "#To figure out what alpha value is good for our model, we'll define multiple values and check the performance accuracy.\n",
        "alphas = [0.0001, 0.001, 0.01, 0.1, 0.3, 0.5, 0.7, 1]\n",
        "\n",
        "#we'll check the R-squared, MSE, and RMSE metrics for each alpha.\n",
        "\n",
        "for a in alphas:\n",
        "    model = ElasticNet(alpha=a).fit(xtrain, ytrain)   \n",
        "    score1 = model.score(xtrain, ytrain)\n",
        "    score2 = model.score(xtest, ytest)\n",
        "    pred_y = model.predict(xtest)\n",
        "    mse = mean_squared_error(ytest, pred_y)   \n",
        "    print(\"Alpha:{0:.4f}, Training R2:{1:.2f}, Testing R2:{2:.2f} MSE:{3:.2f}, RMSE:{4:.2f}\"\n",
        "       .format(a, score1,score2, mse, np.sqrt(mse)))"
      ],
      "execution_count": 15,
      "outputs": [
        {
          "output_type": "stream",
          "text": [
            "Alpha:0.0001, Training R2:0.82, Testing R2:0.82 MSE:4495991983.46, RMSE:67052.16\n",
            "Alpha:0.0010, Training R2:0.82, Testing R2:0.81 MSE:4499668749.08, RMSE:67079.57\n",
            "Alpha:0.0100, Training R2:0.81, Testing R2:0.81 MSE:4683018970.05, RMSE:68432.59\n",
            "Alpha:0.1000, Training R2:0.79, Testing R2:0.79 MSE:5058907194.95, RMSE:71126.00\n",
            "Alpha:0.3000, Training R2:0.79, Testing R2:0.78 MSE:5245837463.66, RMSE:72428.15\n",
            "Alpha:0.5000, Training R2:0.78, Testing R2:0.78 MSE:5404315383.88, RMSE:73514.05\n",
            "Alpha:0.7000, Training R2:0.78, Testing R2:0.77 MSE:5556266812.03, RMSE:74540.37\n",
            "Alpha:1.0000, Training R2:0.77, Testing R2:0.76 MSE:5768895075.54, RMSE:75953.24\n"
          ],
          "name": "stdout"
        },
        {
          "output_type": "stream",
          "text": [
            "/usr/local/lib/python3.7/dist-packages/sklearn/linear_model/_coordinate_descent.py:476: ConvergenceWarning: Objective did not converge. You might want to increase the number of iterations. Duality gap: 863990530479.6533, tolerance: 976463778.3157893\n",
            "  positive)\n",
            "/usr/local/lib/python3.7/dist-packages/sklearn/linear_model/_coordinate_descent.py:476: ConvergenceWarning: Objective did not converge. You might want to increase the number of iterations. Duality gap: 886233341547.709, tolerance: 976463778.3157893\n",
            "  positive)\n",
            "/usr/local/lib/python3.7/dist-packages/sklearn/linear_model/_coordinate_descent.py:476: ConvergenceWarning: Objective did not converge. You might want to increase the number of iterations. Duality gap: 973739284708.3541, tolerance: 976463778.3157893\n",
            "  positive)\n",
            "/usr/local/lib/python3.7/dist-packages/sklearn/linear_model/_coordinate_descent.py:476: ConvergenceWarning: Objective did not converge. You might want to increase the number of iterations. Duality gap: 1059168378294.1007, tolerance: 976463778.3157893\n",
            "  positive)\n",
            "/usr/local/lib/python3.7/dist-packages/sklearn/linear_model/_coordinate_descent.py:476: ConvergenceWarning: Objective did not converge. You might want to increase the number of iterations. Duality gap: 1130170522141.6062, tolerance: 976463778.3157893\n",
            "  positive)\n",
            "/usr/local/lib/python3.7/dist-packages/sklearn/linear_model/_coordinate_descent.py:476: ConvergenceWarning: Objective did not converge. You might want to increase the number of iterations. Duality gap: 1184597294955.0032, tolerance: 976463778.3157893\n",
            "  positive)\n",
            "/usr/local/lib/python3.7/dist-packages/sklearn/linear_model/_coordinate_descent.py:476: ConvergenceWarning: Objective did not converge. You might want to increase the number of iterations. Duality gap: 1229239557373.458, tolerance: 976463778.3157893\n",
            "  positive)\n",
            "/usr/local/lib/python3.7/dist-packages/sklearn/linear_model/_coordinate_descent.py:476: ConvergenceWarning: Objective did not converge. You might want to increase the number of iterations. Duality gap: 1283191176849.7146, tolerance: 976463778.3157893\n",
            "  positive)\n"
          ],
          "name": "stderr"
        }
      ]
    },
    {
      "cell_type": "code",
      "metadata": {
        "colab": {
          "base_uri": "https://localhost:8080/",
          "height": 293
        },
        "id": "I2FuS8aPijQi",
        "outputId": "de574208-a99e-4a26-d05a-65d1198302d4"
      },
      "source": [
        "\n",
        "x_ax = range(len(xtest))\n",
        "plt.scatter(x_ax, ytest, s=5, color=\"blue\", label=\"original\")\n",
        "plt.plot(x_ax, ypred, lw=0.8, color=\"red\", label=\"predicted\")\n",
        "plt.legend()"
      ],
      "execution_count": 16,
      "outputs": [
        {
          "output_type": "execute_result",
          "data": {
            "text/plain": [
              "<matplotlib.legend.Legend at 0x7f748add0450>"
            ]
          },
          "metadata": {
            "tags": []
          },
          "execution_count": 16
        },
        {
          "output_type": "display_data",
          "data": {
            "image/png": "[encoded data removed]",
            "text/plain": [
              "<Figure size 432x288 with 1 Axes>"
            ]
          },
          "metadata": {
            "tags": [],
            "needs_background": "light"
          }
        }
      ]
    },
    {
      "cell_type": "markdown",
      "metadata": {
        "id": "MFbELNmji9x1"
      },
      "source": [
        "Cross-validation with ElasticNetCV\n",
        "\n",
        "ElasticNetCV is a cross-validation class that can search multiple alpha values and applies the best one. We'll define the model with alphas value and fit it with xtrain and ytrain data.\n"
      ]
    },
    {
      "cell_type": "code",
      "metadata": {
        "id": "LRvcMx4Pi4Qi"
      },
      "source": [
        "elastic_cv=ElasticNetCV(alphas=alphas, cv=5)\n",
        "model = elastic_cv.fit(xtrain, ytrain)\n"
      ],
      "execution_count": null,
      "outputs": []
    },
    {
      "cell_type": "code",
      "metadata": {
        "colab": {
          "base_uri": "https://localhost:8080/"
        },
        "id": "C23fD1rpjIFk",
        "outputId": "5024fa58-2eea-425f-acac-3b25cbb75366"
      },
      "source": [
        "print(model.alpha_)\n",
        "print(model.intercept_)"
      ],
      "execution_count": 20,
      "outputs": [
        {
          "output_type": "stream",
          "text": [
            "0.0001\n",
            "-2693509.6335613476\n"
          ],
          "name": "stdout"
        }
      ]
    },
    {
      "cell_type": "code",
      "metadata": {
        "colab": {
          "base_uri": "https://localhost:8080/"
        },
        "id": "o3XVl5FOjVew",
        "outputId": "ca70a579-de85-4b44-f9f8-30454a4f2b6c"
      },
      "source": [
        "elastic=ElasticNet(alpha=0.0001).fit(xtrain, ytrain)\n",
        "ypred = elastic.predict(xtest)\n",
        "score = elastic.score(xtest, ytest)\n",
        "mse = mean_squared_error(ytest, ypred)\n",
        "print(\"For alpha= 0.0001 \")\n",
        "print(\"R2:{0:.3f}, MSE:{1:.2f}, RMSE:{2:.2f}\"\n",
        "      .format(score, mse, np.sqrt(mse)))"
      ],
      "execution_count": 21,
      "outputs": [
        {
          "output_type": "stream",
          "text": [
            "For alpha= 0.0001 \n",
            "R2:0.815, MSE:4495991983.46, RMSE:67052.16\n"
          ],
          "name": "stdout"
        },
        {
          "output_type": "stream",
          "text": [
            "/usr/local/lib/python3.7/dist-packages/sklearn/linear_model/_coordinate_descent.py:476: ConvergenceWarning: Objective did not converge. You might want to increase the number of iterations. Duality gap: 863990530479.6533, tolerance: 976463778.3157893\n",
            "  positive)\n"
          ],
          "name": "stderr"
        }
      ]
    },
    {
      "cell_type": "code",
      "metadata": {
        "id": "THyUefLwjvT7"
      },
      "source": [
        ""
      ],
      "execution_count": null,
      "outputs": []
    }
  ]
}
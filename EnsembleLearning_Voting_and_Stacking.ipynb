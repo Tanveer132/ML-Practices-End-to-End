{
  "nbformat": 4,
  "nbformat_minor": 0,
  "metadata": {
    "colab": {
      "name": "EnsembleLearning_Voting_and_Stacking.ipynb",
      "provenance": [],
      "collapsed_sections": [],
      "authorship_tag": "ABX9TyMaHNF+L/dCgv4PXoumcGmb",
      "include_colab_link": true
    },
    "kernelspec": {
      "name": "python3",
      "display_name": "Python 3"
    },
    "language_info": {
      "name": "python"
    }
  },
  "cells": [
    {
      "cell_type": "markdown",
      "metadata": {
        "id": "view-in-github",
        "colab_type": "text"
      },
      "source": [
        "<a href=\"https://colab.research.google.com/github/Tanveer132/ML-Practices-End-to-End/blob/main/EnsembleLearning_Voting_and_Stacking.ipynb\" target=\"_parent\"><img src=\"https://colab.research.google.com/assets/colab-badge.svg\" alt=\"Open In Colab\"/></a>"
      ]
    },
    {
      "cell_type": "markdown",
      "metadata": {
        "id": "pggA86_MH40l"
      },
      "source": [
        "# Ensemble Learning\n",
        "\n",
        "    for a diverse set of models in comparison to single models. \n",
        "    This diversification in Machine Learning is achieved by a technique called Ensemble Learning.\n",
        "\n",
        "Basic Ensemble Learning Technique :\n",
        "\n",
        "  1. Voting Classifier\n",
        "  2. Stacking Classifier / Regressor"
      ]
    },
    {
      "cell_type": "code",
      "metadata": {
        "id": "4RLJNgMiKLFD"
      },
      "source": [
        "#Import Necessary libraries\n",
        "import numpy as np\n",
        "import pandas as pd\n",
        "import seaborn as sns\n",
        "import matplotlib.pyplot as plt\n",
        "\n",
        "from sklearn.model_selection import train_test_split\n",
        "from sklearn.linear_model import LogisticRegression\n",
        "from sklearn.svm import SVC\n",
        "from sklearn.tree import DecisionTreeClassifier\n",
        "from sklearn.naive_bayes import GaussianNB\n",
        "from sklearn.neighbors import  KNeighborsClassifier\n",
        "from sklearn.linear_model import LinearRegression,ElasticNetCV\n",
        "from sklearn.svm import SVR\n",
        "from sklearn.ensemble import GradientBoostingRegressor\n",
        "from sklearn.ensemble import VotingClassifier,StackingClassifier,StackingRegressor\n",
        "\n",
        "from sklearn.metrics import accuracy_score, confusion_matrix, classification_report"
      ],
      "execution_count": 36,
      "outputs": []
    },
    {
      "cell_type": "markdown",
      "metadata": {
        "id": "xP1AYJlGJ3nD"
      },
      "source": [
        "##Voting Classifier\n",
        "\n",
        "    The max voting method is generally used for classification problems. In this technique, \n",
        "    multiple models are used to make predictions for each data point. The predictions by each model are considered as a ‘vote’. \n",
        "    The predictions which we get from the majority of the models are used as the final prediction.\n",
        "\n",
        "    "
      ]
    },
    {
      "cell_type": "code",
      "metadata": {
        "colab": {
          "base_uri": "https://localhost:8080/",
          "height": 206
        },
        "id": "lqGFJM_SCqE9",
        "outputId": "cbf950d7-cc1d-463b-f79c-04fca83c8666"
      },
      "source": [
        "df = pd.read_csv('/content/diabetes.csv')\n",
        "df.head()"
      ],
      "execution_count": 5,
      "outputs": [
        {
          "output_type": "execute_result",
          "data": {
            "text/html": [
              "<div>\n",
              "<style scoped>\n",
              "    .dataframe tbody tr th:only-of-type {\n",
              "        vertical-align: middle;\n",
              "    }\n",
              "\n",
              "    .dataframe tbody tr th {\n",
              "        vertical-align: top;\n",
              "    }\n",
              "\n",
              "    .dataframe thead th {\n",
              "        text-align: right;\n",
              "    }\n",
              "</style>\n",
              "<table border=\"1\" class=\"dataframe\">\n",
              "  <thead>\n",
              "    <tr style=\"text-align: right;\">\n",
              "      <th></th>\n",
              "      <th>Pregnancies</th>\n",
              "      <th>Glucose</th>\n",
              "      <th>BloodPressure</th>\n",
              "      <th>SkinThickness</th>\n",
              "      <th>Insulin</th>\n",
              "      <th>BMI</th>\n",
              "      <th>DiabetesPedigreeFunction</th>\n",
              "      <th>Age</th>\n",
              "      <th>Outcome</th>\n",
              "    </tr>\n",
              "  </thead>\n",
              "  <tbody>\n",
              "    <tr>\n",
              "      <th>0</th>\n",
              "      <td>6</td>\n",
              "      <td>148</td>\n",
              "      <td>72</td>\n",
              "      <td>35</td>\n",
              "      <td>0</td>\n",
              "      <td>33.6</td>\n",
              "      <td>0.627</td>\n",
              "      <td>50</td>\n",
              "      <td>1</td>\n",
              "    </tr>\n",
              "    <tr>\n",
              "      <th>1</th>\n",
              "      <td>1</td>\n",
              "      <td>85</td>\n",
              "      <td>66</td>\n",
              "      <td>29</td>\n",
              "      <td>0</td>\n",
              "      <td>26.6</td>\n",
              "      <td>0.351</td>\n",
              "      <td>31</td>\n",
              "      <td>0</td>\n",
              "    </tr>\n",
              "    <tr>\n",
              "      <th>2</th>\n",
              "      <td>8</td>\n",
              "      <td>183</td>\n",
              "      <td>64</td>\n",
              "      <td>0</td>\n",
              "      <td>0</td>\n",
              "      <td>23.3</td>\n",
              "      <td>0.672</td>\n",
              "      <td>32</td>\n",
              "      <td>1</td>\n",
              "    </tr>\n",
              "    <tr>\n",
              "      <th>3</th>\n",
              "      <td>1</td>\n",
              "      <td>89</td>\n",
              "      <td>66</td>\n",
              "      <td>23</td>\n",
              "      <td>94</td>\n",
              "      <td>28.1</td>\n",
              "      <td>0.167</td>\n",
              "      <td>21</td>\n",
              "      <td>0</td>\n",
              "    </tr>\n",
              "    <tr>\n",
              "      <th>4</th>\n",
              "      <td>0</td>\n",
              "      <td>137</td>\n",
              "      <td>40</td>\n",
              "      <td>35</td>\n",
              "      <td>168</td>\n",
              "      <td>43.1</td>\n",
              "      <td>2.288</td>\n",
              "      <td>33</td>\n",
              "      <td>1</td>\n",
              "    </tr>\n",
              "  </tbody>\n",
              "</table>\n",
              "</div>"
            ],
            "text/plain": [
              "   Pregnancies  Glucose  BloodPressure  ...  DiabetesPedigreeFunction  Age  Outcome\n",
              "0            6      148             72  ...                     0.627   50        1\n",
              "1            1       85             66  ...                     0.351   31        0\n",
              "2            8      183             64  ...                     0.672   32        1\n",
              "3            1       89             66  ...                     0.167   21        0\n",
              "4            0      137             40  ...                     2.288   33        1\n",
              "\n",
              "[5 rows x 9 columns]"
            ]
          },
          "metadata": {
            "tags": []
          },
          "execution_count": 5
        }
      ]
    },
    {
      "cell_type": "code",
      "metadata": {
        "id": "8QyXbo4HLlDB"
      },
      "source": [
        "x=df.drop(columns=[\"Outcome\"])\n",
        "y=df[\"Outcome\"]\n",
        "xtrain,xtest,ytrain,ytest=train_test_split(x,y,test_size=0.2,random_state=0)"
      ],
      "execution_count": 7,
      "outputs": []
    },
    {
      "cell_type": "code",
      "metadata": {
        "id": "XAwA64VIMyjo"
      },
      "source": [
        "lr=LogisticRegression(class_weight='balanced')\n",
        "knn=KNeighborsClassifier(n_neighbors=3)\n",
        "svc=SVC(probability =True)\n",
        "nb=GaussianNB()\n",
        "dt=DecisionTreeClassifier()\n",
        "models=[('lr',lr),('knn',knn),('svm',svc),('GNB',nb),('dt',dt)]"
      ],
      "execution_count": 9,
      "outputs": []
    },
    {
      "cell_type": "code",
      "metadata": {
        "colab": {
          "base_uri": "https://localhost:8080/"
        },
        "id": "hWiqXJ87NpJW",
        "outputId": "fd92b7c5-e70f-4c31-9ea5-72a7ee1d91e6"
      },
      "source": [
        "from sklearn.ensemble import VotingClassifier\n",
        "model=VotingClassifier(estimators=models,voting='soft')\n",
        "model.fit(xtrain,ytrain)\n",
        "ypred=model.predict(xtest)"
      ],
      "execution_count": 13,
      "outputs": [
        {
          "output_type": "stream",
          "text": [
            "/usr/local/lib/python3.7/dist-packages/sklearn/linear_model/_logistic.py:940: ConvergenceWarning: lbfgs failed to converge (status=1):\n",
            "STOP: TOTAL NO. of ITERATIONS REACHED LIMIT.\n",
            "\n",
            "Increase the number of iterations (max_iter) or scale the data as shown in:\n",
            "    https://scikit-learn.org/stable/modules/preprocessing.html\n",
            "Please also refer to the documentation for alternative solver options:\n",
            "    https://scikit-learn.org/stable/modules/linear_model.html#logistic-regression\n",
            "  extra_warning_msg=_LOGISTIC_SOLVER_CONVERGENCE_MSG)\n"
          ],
          "name": "stderr"
        }
      ]
    },
    {
      "cell_type": "code",
      "metadata": {
        "colab": {
          "base_uri": "https://localhost:8080/",
          "height": 471
        },
        "id": "_2Zq6Un5O2WT",
        "outputId": "4f5bc835-5008-46da-83a9-5f8cb66f3797"
      },
      "source": [
        "print(\"Accuracy is :\",accuracy_score(ytest,ypred))\n",
        "print(classification_report(ytest,ypred))\n",
        "cm=confusion_matrix(ytest,ypred)\n",
        "sns.heatmap(cm,annot=True)"
      ],
      "execution_count": 14,
      "outputs": [
        {
          "output_type": "stream",
          "text": [
            "Accuracy is : 0.7857142857142857\n",
            "              precision    recall  f1-score   support\n",
            "\n",
            "           0       0.85      0.84      0.85       107\n",
            "           1       0.65      0.66      0.65        47\n",
            "\n",
            "    accuracy                           0.79       154\n",
            "   macro avg       0.75      0.75      0.75       154\n",
            "weighted avg       0.79      0.79      0.79       154\n",
            "\n"
          ],
          "name": "stdout"
        },
        {
          "output_type": "execute_result",
          "data": {
            "text/plain": [
              "<matplotlib.axes._subplots.AxesSubplot at 0x7f0d3d35fa10>"
            ]
          },
          "metadata": {
            "tags": []
          },
          "execution_count": 14
        },
        {
          "output_type": "display_data",
          "data": {
            "image/png": "[encoded data removed]",
            "text/plain": [
              "<Figure size 432x288 with 2 Axes>"
            ]
          },
          "metadata": {
            "tags": [],
            "needs_background": "light"
          }
        }
      ]
    },
    {
      "cell_type": "code",
      "metadata": {
        "colab": {
          "base_uri": "https://localhost:8080/"
        },
        "id": "1ZqIjpXNO7BB",
        "outputId": "6065cc56-098a-4251-fe1e-f4218db517a3"
      },
      "source": [
        "#probability is calculated only if voting is 'soft'\n",
        "# predict class probabilities for all classifiers\n",
        "probas = [c.fit(x, y).predict_proba(x) for c in (lr, knn, svc, nb, dt, model)]\n",
        "# get class probabilities for the first sample in the dataset\n",
        "class1_1 = [pr[0, 0] for pr in probas]\n",
        "class2_1 = [pr[0, 1] for pr in probas]\n"
      ],
      "execution_count": 15,
      "outputs": [
        {
          "output_type": "stream",
          "text": [
            "/usr/local/lib/python3.7/dist-packages/sklearn/linear_model/_logistic.py:940: ConvergenceWarning: lbfgs failed to converge (status=1):\n",
            "STOP: TOTAL NO. of ITERATIONS REACHED LIMIT.\n",
            "\n",
            "Increase the number of iterations (max_iter) or scale the data as shown in:\n",
            "    https://scikit-learn.org/stable/modules/preprocessing.html\n",
            "Please also refer to the documentation for alternative solver options:\n",
            "    https://scikit-learn.org/stable/modules/linear_model.html#logistic-regression\n",
            "  extra_warning_msg=_LOGISTIC_SOLVER_CONVERGENCE_MSG)\n",
            "/usr/local/lib/python3.7/dist-packages/sklearn/linear_model/_logistic.py:940: ConvergenceWarning: lbfgs failed to converge (status=1):\n",
            "STOP: TOTAL NO. of ITERATIONS REACHED LIMIT.\n",
            "\n",
            "Increase the number of iterations (max_iter) or scale the data as shown in:\n",
            "    https://scikit-learn.org/stable/modules/preprocessing.html\n",
            "Please also refer to the documentation for alternative solver options:\n",
            "    https://scikit-learn.org/stable/modules/linear_model.html#logistic-regression\n",
            "  extra_warning_msg=_LOGISTIC_SOLVER_CONVERGENCE_MSG)\n"
          ],
          "name": "stderr"
        }
      ]
    },
    {
      "cell_type": "code",
      "metadata": {
        "colab": {
          "base_uri": "https://localhost:8080/",
          "height": 315
        },
        "id": "cf5FPL63PZeT",
        "outputId": "e74b2c36-77ac-46d1-cfa3-8b8f0b61b24c"
      },
      "source": [
        "\n",
        "N = 6  # number of groups\n",
        "ind = np.arange(N)  # group positions\n",
        "width = 0.35  # bar width\n",
        "\n",
        "fig, ax = plt.subplots()\n",
        "\n",
        "# bars for classifier 1-3\n",
        "p1 = ax.bar(ind, np.hstack(([class1_1[:-1], [0]])), width,\n",
        "            color='green', edgecolor='k')\n",
        "p2 = ax.bar(ind + width, np.hstack(([class2_1[:-1], [0]])), width,\n",
        "            color='lightgreen', edgecolor='k')\n",
        "\n",
        "# bars for VotingClassifier\n",
        "p3 = ax.bar(ind, [0, 0, 0,0,0, class1_1[-1]], width,\n",
        "            color='blue', edgecolor='k')\n",
        "p4 = ax.bar(ind + width, [0, 0, 0,0,0, class2_1[-1]], width,\n",
        "            color='steelblue', edgecolor='k')\n",
        "\n",
        "# plot annotations\n",
        "ax.set_xticks(ind + width)\n",
        "ax.set_xticklabels(['LogisticRegression\\nweight 1',\n",
        "                    'K-Nearest Neighbors\\neighbor 3',\n",
        "                    'Support Vector',\n",
        "                    'GaussianNB\\nweight 1',\n",
        "                    'Decision Tree',\n",
        "                    'VotingClassifier\\n(average probabilities)'],\n",
        "                   rotation=40,\n",
        "                   ha='right')\n",
        "plt.ylim([0, 1])\n",
        "plt.title('Class probabilities for sample 1 by different classifiers')\n",
        "plt.legend([p1[0], p2[0]], ['class 1', 'class 2'], loc='upper left')\n",
        "plt.tight_layout()\n",
        "plt.show()\n"
      ],
      "execution_count": 28,
      "outputs": [
        {
          "output_type": "display_data",
          "data": {
            "text/plain": [
              "<Figure size 720x576 with 0 Axes>"
            ]
          },
          "metadata": {
            "tags": []
          }
        },
        {
          "output_type": "display_data",
          "data": {
            "image/png": "[encoded data removed]",
            "text/plain": [
              "<Figure size 432x288 with 1 Axes>"
            ]
          },
          "metadata": {
            "tags": [],
            "needs_background": "light"
          }
        }
      ]
    },
    {
      "cell_type": "markdown",
      "metadata": {
        "id": "fm8bJV6mYhGC"
      },
      "source": [
        "##Stacking Classifier\n",
        "\n",
        "Stacking is an ensemble learning technique that uses predictions from multiple models (for example decision tree, knn or svm) to build a new model. This model is used for making predictions on the test set.\n",
        "\n",
        "    1.The train set is split into 10 parts.\n",
        "    2.A base model (suppose a decision tree) is fitted on 9 parts and predictions are made for the 10th part. \n",
        "      This is done for each part of the train set.\n",
        "    3.The base model (in this case, decision tree) is then fitted on the whole train dataset.\n",
        "    4.Using this model, predictions are made on the test set.\n",
        "    5.Steps 2 to 4 are repeated for another base model (say knn)\n",
        "      resulting in another set of predictions for the train set and test set.\n",
        "    6.The predictions from the train set are used as features to build a new model.\n",
        "    7.This model is used to make final predictions on the test prediction set."
      ]
    },
    {
      "cell_type": "code",
      "metadata": {
        "id": "8p9aOCd9RVTU"
      },
      "source": [
        "lr=LogisticRegression(class_weight='balanced')\n",
        "knn=KNeighborsClassifier(n_neighbors=3)\n",
        "svc=SVC(probability =True)\n",
        "nb=GaussianNB()\n",
        "dt=DecisionTreeClassifier()\n",
        "models=[('lr',lr),('knn',knn),('svm',svc),('GNB',nb),('dt',dt)]\n",
        "\n",
        "final_model=LogisticRegression()\n"
      ],
      "execution_count": 29,
      "outputs": []
    },
    {
      "cell_type": "code",
      "metadata": {
        "id": "30pa84nRaIfH"
      },
      "source": [
        "model=StackingClassifier(estimators=models,final_estimator=final_model)\n",
        "model.fit(xtrain,ytrain)\n",
        "ypred=model.predict(xtest)"
      ],
      "execution_count": null,
      "outputs": []
    },
    {
      "cell_type": "code",
      "metadata": {
        "colab": {
          "base_uri": "https://localhost:8080/",
          "height": 467
        },
        "id": "Tq6EUVw8aMFA",
        "outputId": "28a91718-a1ff-421e-b78d-5362fe034185"
      },
      "source": [
        "from sklearn.metrics import accuracy_score,classification_report,confusion_matrix\n",
        "print(\"Accuracy is :\",accuracy_score(ytest,ypred))\n",
        "print(classification_report(ytest,ypred))\n",
        "cm=confusion_matrix(ytest,ypred)\n",
        "sns.heatmap(cm,annot=True)"
      ],
      "execution_count": 32,
      "outputs": [
        {
          "output_type": "stream",
          "text": [
            "Accuracy is : 0.8051948051948052\n",
            "              precision    recall  f1-score   support\n",
            "\n",
            "           0       0.83      0.90      0.86       107\n",
            "           1       0.72      0.60      0.65        47\n",
            "\n",
            "    accuracy                           0.81       154\n",
            "   macro avg       0.78      0.75      0.76       154\n",
            "weighted avg       0.80      0.81      0.80       154\n",
            "\n"
          ],
          "name": "stdout"
        },
        {
          "output_type": "execute_result",
          "data": {
            "text/plain": [
              "<matplotlib.axes._subplots.AxesSubplot at 0x7f0d3cabbb90>"
            ]
          },
          "metadata": {
            "tags": []
          },
          "execution_count": 32
        },
        {
          "output_type": "display_data",
          "data": {
            "image/png": "[encoded data removed]",
            "text/plain": [
              "<Figure size 432x288 with 2 Axes>"
            ]
          },
          "metadata": {
            "tags": [],
            "needs_background": "light"
          }
        }
      ]
    },
    {
      "cell_type": "code",
      "metadata": {
        "id": "K5Yx2XY5aUkq"
      },
      "source": [
        "#probability is calculated only if voting is 'soft'\n",
        "# predict class probabilities for all classifiers\n",
        "probas = [c.fit(x, y).predict_proba(x) for c in (lr, knn, svc, nb, dt, model)]\n",
        "# get class probabilities for the first sample in the dataset\n",
        "class1_1 = [pr[0, 0] for pr in probas]\n",
        "class2_1 = [pr[0, 1] for pr in probas]\n"
      ],
      "execution_count": null,
      "outputs": []
    },
    {
      "cell_type": "code",
      "metadata": {
        "colab": {
          "base_uri": "https://localhost:8080/",
          "height": 297
        },
        "id": "rnFnmoa9ahCf",
        "outputId": "b27895c7-65ef-4947-bc1c-133d11e46017"
      },
      "source": [
        "\n",
        "N = 6  # number of groups\n",
        "ind = np.arange(N)  # group positions\n",
        "width = 0.35  # bar width\n",
        "\n",
        "fig, ax = plt.subplots()\n",
        "\n",
        "# bars for classifier 1-3\n",
        "p1 = ax.bar(ind, np.hstack(([class1_1[:-1], [0]])), width,\n",
        "            color='green', edgecolor='k')\n",
        "p2 = ax.bar(ind + width, np.hstack(([class2_1[:-1], [0]])), width,\n",
        "            color='lightgreen', edgecolor='k')\n",
        "\n",
        "# bars for VotingClassifier\n",
        "p3 = ax.bar(ind, [0, 0, 0,0,0, class1_1[-1]], width,\n",
        "            color='blue', edgecolor='k')\n",
        "p4 = ax.bar(ind + width, [0, 0, 0,0,0, class2_1[-1]], width,\n",
        "            color='steelblue', edgecolor='k')\n",
        "\n",
        "# plot annotations\n",
        "ax.set_xticks(ind + width)\n",
        "ax.set_xticklabels(['LogisticRegression\\nweight 1',\n",
        "                    'K-Nearest Neighbors\\neighbor 3',\n",
        "                    'Support Vector',\n",
        "                    'GaussianNB\\nweight 1',\n",
        "                    'Decision Tree',\n",
        "                    'Stacking Classifier\\n(average probabilities)'],\n",
        "                   rotation=40,\n",
        "                   ha='right')\n",
        "plt.ylim([0, 1])\n",
        "plt.title('Class probabilities for sample 1 by different classifiers')\n",
        "plt.legend([p1[0], p2[0]], ['class 1', 'class 2'], loc='upper left')\n",
        "plt.tight_layout()\n",
        "plt.show()\n"
      ],
      "execution_count": 35,
      "outputs": [
        {
          "output_type": "display_data",
          "data": {
            "image/png": "[encoded data removed]",
            "text/plain": [
              "<Figure size 432x288 with 1 Axes>"
            ]
          },
          "metadata": {
            "tags": [],
            "needs_background": "light"
          }
        }
      ]
    },
    {
      "cell_type": "markdown",
      "metadata": {
        "id": "tGqzFGTSbZvO"
      },
      "source": [
        "#Stacking Regressor\n"
      ]
    },
    {
      "cell_type": "code",
      "metadata": {
        "colab": {
          "base_uri": "https://localhost:8080/",
          "height": 206
        },
        "id": "s7-iTGsRb5Lm",
        "outputId": "fda8636a-6774-4d24-cc72-0d7938984b9d"
      },
      "source": [
        "df = pd.read_csv('/content/housing.csv')\n",
        "df.head()"
      ],
      "execution_count": 40,
      "outputs": [
        {
          "output_type": "execute_result",
          "data": {
            "text/html": [
              "<div>\n",
              "<style scoped>\n",
              "    .dataframe tbody tr th:only-of-type {\n",
              "        vertical-align: middle;\n",
              "    }\n",
              "\n",
              "    .dataframe tbody tr th {\n",
              "        vertical-align: top;\n",
              "    }\n",
              "\n",
              "    .dataframe thead th {\n",
              "        text-align: right;\n",
              "    }\n",
              "</style>\n",
              "<table border=\"1\" class=\"dataframe\">\n",
              "  <thead>\n",
              "    <tr style=\"text-align: right;\">\n",
              "      <th></th>\n",
              "      <th>RM</th>\n",
              "      <th>LSTAT</th>\n",
              "      <th>PTRATIO</th>\n",
              "      <th>MEDV</th>\n",
              "    </tr>\n",
              "  </thead>\n",
              "  <tbody>\n",
              "    <tr>\n",
              "      <th>0</th>\n",
              "      <td>6.575</td>\n",
              "      <td>4.98</td>\n",
              "      <td>15.3</td>\n",
              "      <td>504000</td>\n",
              "    </tr>\n",
              "    <tr>\n",
              "      <th>1</th>\n",
              "      <td>6.421</td>\n",
              "      <td>9.14</td>\n",
              "      <td>17.8</td>\n",
              "      <td>453600</td>\n",
              "    </tr>\n",
              "    <tr>\n",
              "      <th>2</th>\n",
              "      <td>7.185</td>\n",
              "      <td>4.03</td>\n",
              "      <td>17.8</td>\n",
              "      <td>728700</td>\n",
              "    </tr>\n",
              "    <tr>\n",
              "      <th>3</th>\n",
              "      <td>6.998</td>\n",
              "      <td>2.94</td>\n",
              "      <td>18.7</td>\n",
              "      <td>701400</td>\n",
              "    </tr>\n",
              "    <tr>\n",
              "      <th>4</th>\n",
              "      <td>7.147</td>\n",
              "      <td>5.33</td>\n",
              "      <td>18.7</td>\n",
              "      <td>760200</td>\n",
              "    </tr>\n",
              "  </tbody>\n",
              "</table>\n",
              "</div>"
            ],
            "text/plain": [
              "      RM  LSTAT  PTRATIO    MEDV\n",
              "0  6.575   4.98     15.3  504000\n",
              "1  6.421   9.14     17.8  453600\n",
              "2  7.185   4.03     17.8  728700\n",
              "3  6.998   2.94     18.7  701400\n",
              "4  7.147   5.33     18.7  760200"
            ]
          },
          "metadata": {
            "tags": []
          },
          "execution_count": 40
        }
      ]
    },
    {
      "cell_type": "code",
      "metadata": {
        "id": "BjO2wu6wb4ak"
      },
      "source": [
        "x = df.drop(columns='MEDV')\n",
        "y = df['MEDV']\n",
        "xtrain,xtest,ytrain,ytest = train_test_split(x,y,test_size=0.3,random_state=0)"
      ],
      "execution_count": 41,
      "outputs": []
    },
    {
      "cell_type": "code",
      "metadata": {
        "id": "FNKqEdNja3Pu"
      },
      "source": [
        "base_models=[(\"Elasticnet\",ElasticNetCV()),('gbr',GradientBoostingRegressor(n_estimators=100)),('svr',SVR())]\n",
        "final_model=LinearRegression()"
      ],
      "execution_count": 42,
      "outputs": []
    },
    {
      "cell_type": "code",
      "metadata": {
        "id": "_1ueCgJZbt-S"
      },
      "source": [
        "model=StackingRegressor(estimators=base_models,final_estimator=final_model)\n",
        "model.fit(xtrain,ytrain)\n",
        "ypred=model.predict(xtest)"
      ],
      "execution_count": 43,
      "outputs": []
    },
    {
      "cell_type": "code",
      "metadata": {
        "colab": {
          "base_uri": "https://localhost:8080/"
        },
        "id": "tbRvOL03bykd",
        "outputId": "4476704c-5d77-44cd-9af3-36fa7800f874"
      },
      "source": [
        "from sklearn.metrics import r2_score\n",
        "print(r2_score(ytest,ypred))"
      ],
      "execution_count": 44,
      "outputs": [
        {
          "output_type": "stream",
          "text": [
            "0.8372638728999231\n"
          ],
          "name": "stdout"
        }
      ]
    },
    {
      "cell_type": "code",
      "metadata": {
        "colab": {
          "base_uri": "https://localhost:8080/",
          "height": 295
        },
        "id": "nqGeOynab29L",
        "outputId": "346e1ff6-bf2f-4c02-c5b8-9d8b95e0ee6a"
      },
      "source": [
        "plt.scatter(xtest['RM'],ytest,color='yellow', edgecolors='red')\n",
        "plt.scatter(xtest['RM'],model.predict(xtest),color='m')\n",
        "plt.title(\"RoomArea Vs Price\")\n",
        "plt.xlabel(\"RoomArea\")\n",
        "plt.ylabel(\"Price\")\n",
        "plt.show()\n",
        "\n"
      ],
      "execution_count": 56,
      "outputs": [
        {
          "output_type": "display_data",
          "data": {
            "image/png": "[encoded data removed]",
            "text/plain": [
              "<Figure size 432x288 with 1 Axes>"
            ]
          },
          "metadata": {
            "tags": [],
            "needs_background": "light"
          }
        }
      ]
    },
    {
      "cell_type": "code",
      "metadata": {
        "id": "A2Jmg3NWdWcY"
      },
      "source": [
        ""
      ],
      "execution_count": null,
      "outputs": []
    }
  ]
}
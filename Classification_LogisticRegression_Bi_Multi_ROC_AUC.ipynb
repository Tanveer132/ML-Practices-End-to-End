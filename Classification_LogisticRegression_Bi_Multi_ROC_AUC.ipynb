{
  "nbformat": 4,
  "nbformat_minor": 0,
  "metadata": {
    "colab": {
      "name": "Classification_LogisticRegression_Bi_Multi_ROC_AUC.ipynb",
      "provenance": [],
      "collapsed_sections": [],
      "authorship_tag": "ABX9TyNgpMGRhfvVZYPTPMqYWV+q",
      "include_colab_link": true
    },
    "kernelspec": {
      "name": "python3",
      "display_name": "Python 3"
    },
    "language_info": {
      "name": "python"
    }
  },
  "cells": [
    {
      "cell_type": "markdown",
      "metadata": {
        "id": "view-in-github",
        "colab_type": "text"
      },
      "source": [
        "<a href=\"https://colab.research.google.com/github/Tanveer132/ML-Practices-End-to-End/blob/main/Classification_LogisticRegression_Bi_Multi_ROC_AUC.ipynb\" target=\"_parent\"><img src=\"https://colab.research.google.com/assets/colab-badge.svg\" alt=\"Open In Colab\"/></a>"
      ]
    },
    {
      "cell_type": "markdown",
      "metadata": {
        "id": "DaZqH6kAUcee"
      },
      "source": [
        "#Logistic Regression - Binomial/Multinomial classification.\n",
        "\n",
        "    Linear Regression cannot be used for classification for its sensitive nature for outliers.\n",
        "\n",
        "    Sigmoid function is used in logistic regression.\n",
        "    It brings the values to high and low.\n",
        "\n",
        "    Linear model: ŷ = b0+b1x\n",
        "    Sigmoid function: σ(z) = 1/(1+e^−z)\n",
        "    Logistic regression model: ŷ = σ(b0+b1x) = 1/(1+e^-(b0+b1x))\n",
        "\n"
      ]
    },
    {
      "cell_type": "code",
      "metadata": {
        "id": "1_XvTmGzUAxI"
      },
      "source": [
        "import pandas as pd\n",
        "import numpy as np\n",
        "import matplotlib.pyplot as plt\n",
        "import seaborn as sns\n",
        "from sklearn.preprocessing import StandardScaler,LabelEncoder\n",
        "\n",
        "from sklearn.model_selection import train_test_split\n",
        "from sklearn.linear_model import LogisticRegression\n",
        "\n",
        "from sklearn.metrics import accuracy_score,confusion_matrix,classification_report\n",
        "from sklearn.model_selection import RepeatedStratifiedKFold\n",
        "from sklearn.model_selection import GridSearchCV\n",
        "\n",
        "from sklearn.metrics import roc_curve,roc_auc_score\n"
      ],
      "execution_count": 57,
      "outputs": []
    },
    {
      "cell_type": "markdown",
      "metadata": {
        "id": "XHJMm5idzZLd"
      },
      "source": [
        "##Binomial Classification - diabetes data"
      ]
    },
    {
      "cell_type": "code",
      "metadata": {
        "colab": {
          "base_uri": "https://localhost:8080/",
          "height": 206
        },
        "id": "42NI9iSJsij3",
        "outputId": "dbeb1ece-f5ad-4da8-de6f-7680a2d7e7ec"
      },
      "source": [
        "df=pd.read_csv('/content/diabetes.csv')\n",
        "df.head()"
      ],
      "execution_count": 58,
      "outputs": [
        {
          "output_type": "execute_result",
          "data": {
            "text/html": [
              "<div>\n",
              "<style scoped>\n",
              "    .dataframe tbody tr th:only-of-type {\n",
              "        vertical-align: middle;\n",
              "    }\n",
              "\n",
              "    .dataframe tbody tr th {\n",
              "        vertical-align: top;\n",
              "    }\n",
              "\n",
              "    .dataframe thead th {\n",
              "        text-align: right;\n",
              "    }\n",
              "</style>\n",
              "<table border=\"1\" class=\"dataframe\">\n",
              "  <thead>\n",
              "    <tr style=\"text-align: right;\">\n",
              "      <th></th>\n",
              "      <th>Pregnancies</th>\n",
              "      <th>Glucose</th>\n",
              "      <th>BloodPressure</th>\n",
              "      <th>SkinThickness</th>\n",
              "      <th>Insulin</th>\n",
              "      <th>BMI</th>\n",
              "      <th>DiabetesPedigreeFunction</th>\n",
              "      <th>Age</th>\n",
              "      <th>Outcome</th>\n",
              "    </tr>\n",
              "  </thead>\n",
              "  <tbody>\n",
              "    <tr>\n",
              "      <th>0</th>\n",
              "      <td>6</td>\n",
              "      <td>148</td>\n",
              "      <td>72</td>\n",
              "      <td>35</td>\n",
              "      <td>0</td>\n",
              "      <td>33.6</td>\n",
              "      <td>0.627</td>\n",
              "      <td>50</td>\n",
              "      <td>1</td>\n",
              "    </tr>\n",
              "    <tr>\n",
              "      <th>1</th>\n",
              "      <td>1</td>\n",
              "      <td>85</td>\n",
              "      <td>66</td>\n",
              "      <td>29</td>\n",
              "      <td>0</td>\n",
              "      <td>26.6</td>\n",
              "      <td>0.351</td>\n",
              "      <td>31</td>\n",
              "      <td>0</td>\n",
              "    </tr>\n",
              "    <tr>\n",
              "      <th>2</th>\n",
              "      <td>8</td>\n",
              "      <td>183</td>\n",
              "      <td>64</td>\n",
              "      <td>0</td>\n",
              "      <td>0</td>\n",
              "      <td>23.3</td>\n",
              "      <td>0.672</td>\n",
              "      <td>32</td>\n",
              "      <td>1</td>\n",
              "    </tr>\n",
              "    <tr>\n",
              "      <th>3</th>\n",
              "      <td>1</td>\n",
              "      <td>89</td>\n",
              "      <td>66</td>\n",
              "      <td>23</td>\n",
              "      <td>94</td>\n",
              "      <td>28.1</td>\n",
              "      <td>0.167</td>\n",
              "      <td>21</td>\n",
              "      <td>0</td>\n",
              "    </tr>\n",
              "    <tr>\n",
              "      <th>4</th>\n",
              "      <td>0</td>\n",
              "      <td>137</td>\n",
              "      <td>40</td>\n",
              "      <td>35</td>\n",
              "      <td>168</td>\n",
              "      <td>43.1</td>\n",
              "      <td>2.288</td>\n",
              "      <td>33</td>\n",
              "      <td>1</td>\n",
              "    </tr>\n",
              "  </tbody>\n",
              "</table>\n",
              "</div>"
            ],
            "text/plain": [
              "   Pregnancies  Glucose  BloodPressure  ...  DiabetesPedigreeFunction  Age  Outcome\n",
              "0            6      148             72  ...                     0.627   50        1\n",
              "1            1       85             66  ...                     0.351   31        0\n",
              "2            8      183             64  ...                     0.672   32        1\n",
              "3            1       89             66  ...                     0.167   21        0\n",
              "4            0      137             40  ...                     2.288   33        1\n",
              "\n",
              "[5 rows x 9 columns]"
            ]
          },
          "metadata": {
            "tags": []
          },
          "execution_count": 58
        }
      ]
    },
    {
      "cell_type": "code",
      "metadata": {
        "colab": {
          "base_uri": "https://localhost:8080/"
        },
        "id": "68t_qV3As4PS",
        "outputId": "21086003-ba4c-4eeb-f678-42ea028d750e"
      },
      "source": [
        "df.info()"
      ],
      "execution_count": 59,
      "outputs": [
        {
          "output_type": "stream",
          "text": [
            "<class 'pandas.core.frame.DataFrame'>\n",
            "RangeIndex: 768 entries, 0 to 767\n",
            "Data columns (total 9 columns):\n",
            " #   Column                    Non-Null Count  Dtype  \n",
            "---  ------                    --------------  -----  \n",
            " 0   Pregnancies               768 non-null    int64  \n",
            " 1   Glucose                   768 non-null    int64  \n",
            " 2   BloodPressure             768 non-null    int64  \n",
            " 3   SkinThickness             768 non-null    int64  \n",
            " 4   Insulin                   768 non-null    int64  \n",
            " 5   BMI                       768 non-null    float64\n",
            " 6   DiabetesPedigreeFunction  768 non-null    float64\n",
            " 7   Age                       768 non-null    int64  \n",
            " 8   Outcome                   768 non-null    int64  \n",
            "dtypes: float64(2), int64(7)\n",
            "memory usage: 54.1 KB\n"
          ],
          "name": "stdout"
        }
      ]
    },
    {
      "cell_type": "code",
      "metadata": {
        "colab": {
          "base_uri": "https://localhost:8080/"
        },
        "id": "_xn_znyas8CV",
        "outputId": "d803419c-b5e8-42b7-bbd8-a2f31506cb1e"
      },
      "source": [
        "df.isna().sum()"
      ],
      "execution_count": 60,
      "outputs": [
        {
          "output_type": "execute_result",
          "data": {
            "text/plain": [
              "Pregnancies                 0\n",
              "Glucose                     0\n",
              "BloodPressure               0\n",
              "SkinThickness               0\n",
              "Insulin                     0\n",
              "BMI                         0\n",
              "DiabetesPedigreeFunction    0\n",
              "Age                         0\n",
              "Outcome                     0\n",
              "dtype: int64"
            ]
          },
          "metadata": {
            "tags": []
          },
          "execution_count": 60
        }
      ]
    },
    {
      "cell_type": "code",
      "metadata": {
        "colab": {
          "base_uri": "https://localhost:8080/",
          "height": 296
        },
        "id": "xKfhGXHTtBtA",
        "outputId": "faa56104-c62c-4cdc-f3df-83ae6f38bc26"
      },
      "source": [
        "sns.countplot(data=df,x=df['Outcome'])"
      ],
      "execution_count": 61,
      "outputs": [
        {
          "output_type": "execute_result",
          "data": {
            "text/plain": [
              "<matplotlib.axes._subplots.AxesSubplot at 0x7f7c635b5150>"
            ]
          },
          "metadata": {
            "tags": []
          },
          "execution_count": 61
        },
        {
          "output_type": "display_data",
          "data": {
            "image/png": "[encoded data removed]",
            "text/plain": [
              "<Figure size 432x288 with 1 Axes>"
            ]
          },
          "metadata": {
            "tags": [],
            "needs_background": "light"
          }
        }
      ]
    },
    {
      "cell_type": "markdown",
      "metadata": {
        "id": "RIR5DDZftL-R"
      },
      "source": [
        "Conclusion :\n",
        "\n",
        "    Data contains information more about patients who are not having diabetes.\n",
        "    i.e. Unbalanced data"
      ]
    },
    {
      "cell_type": "code",
      "metadata": {
        "id": "YDJ9yPS1tJY5"
      },
      "source": [
        "#Split data\n",
        "\n",
        "x=df.iloc[:,:-1]\n",
        "y=df.iloc[:,-1]\n",
        "\n",
        "xtrain,xtest,ytrain,ytest=train_test_split(x,y,test_size=0.2,random_state=0)\n"
      ],
      "execution_count": 62,
      "outputs": []
    },
    {
      "cell_type": "code",
      "metadata": {
        "colab": {
          "base_uri": "https://localhost:8080/"
        },
        "id": "ZC4afEhst3wq",
        "outputId": "18dc38a0-d680-442a-f0ce-6124d2207923"
      },
      "source": [
        "#Build model and fit\n",
        "\n",
        "model=LogisticRegression()\n",
        "model.fit(xtrain,ytrain)\n",
        "ypred=model.predict(xtest)"
      ],
      "execution_count": 63,
      "outputs": [
        {
          "output_type": "stream",
          "text": [
            "/usr/local/lib/python3.7/dist-packages/sklearn/linear_model/_logistic.py:940: ConvergenceWarning: lbfgs failed to converge (status=1):\n",
            "STOP: TOTAL NO. of ITERATIONS REACHED LIMIT.\n",
            "\n",
            "Increase the number of iterations (max_iter) or scale the data as shown in:\n",
            "    https://scikit-learn.org/stable/modules/preprocessing.html\n",
            "Please also refer to the documentation for alternative solver options:\n",
            "    https://scikit-learn.org/stable/modules/linear_model.html#logistic-regression\n",
            "  extra_warning_msg=_LOGISTIC_SOLVER_CONVERGENCE_MSG)\n"
          ],
          "name": "stderr"
        }
      ]
    },
    {
      "cell_type": "code",
      "metadata": {
        "colab": {
          "base_uri": "https://localhost:8080/",
          "height": 206
        },
        "id": "7jiBHbs4uA51",
        "outputId": "554368b2-f8b8-4e69-9345-62d08b7ee9ac"
      },
      "source": [
        "#Demonstrate actual and predicted values\n",
        "\n",
        "pd.DataFrame({\"actual\":ytest,\"prediction\":ypred}).head()\n"
      ],
      "execution_count": 64,
      "outputs": [
        {
          "output_type": "execute_result",
          "data": {
            "text/html": [
              "<div>\n",
              "<style scoped>\n",
              "    .dataframe tbody tr th:only-of-type {\n",
              "        vertical-align: middle;\n",
              "    }\n",
              "\n",
              "    .dataframe tbody tr th {\n",
              "        vertical-align: top;\n",
              "    }\n",
              "\n",
              "    .dataframe thead th {\n",
              "        text-align: right;\n",
              "    }\n",
              "</style>\n",
              "<table border=\"1\" class=\"dataframe\">\n",
              "  <thead>\n",
              "    <tr style=\"text-align: right;\">\n",
              "      <th></th>\n",
              "      <th>actual</th>\n",
              "      <th>prediction</th>\n",
              "    </tr>\n",
              "  </thead>\n",
              "  <tbody>\n",
              "    <tr>\n",
              "      <th>661</th>\n",
              "      <td>1</td>\n",
              "      <td>1</td>\n",
              "    </tr>\n",
              "    <tr>\n",
              "      <th>122</th>\n",
              "      <td>0</td>\n",
              "      <td>0</td>\n",
              "    </tr>\n",
              "    <tr>\n",
              "      <th>113</th>\n",
              "      <td>0</td>\n",
              "      <td>0</td>\n",
              "    </tr>\n",
              "    <tr>\n",
              "      <th>14</th>\n",
              "      <td>1</td>\n",
              "      <td>1</td>\n",
              "    </tr>\n",
              "    <tr>\n",
              "      <th>529</th>\n",
              "      <td>0</td>\n",
              "      <td>0</td>\n",
              "    </tr>\n",
              "  </tbody>\n",
              "</table>\n",
              "</div>"
            ],
            "text/plain": [
              "     actual  prediction\n",
              "661       1           1\n",
              "122       0           0\n",
              "113       0           0\n",
              "14        1           1\n",
              "529       0           0"
            ]
          },
          "metadata": {
            "tags": []
          },
          "execution_count": 64
        }
      ]
    },
    {
      "cell_type": "code",
      "metadata": {
        "colab": {
          "base_uri": "https://localhost:8080/",
          "height": 473
        },
        "id": "Qry_UNJQuIW_",
        "outputId": "73b62fe6-6a7e-4ada-c100-ad8be1239e01"
      },
      "source": [
        "#Calulate accuracy, calssification report and confusion matrix\n",
        "\n",
        "print(\"Accuracy :\", accuracy_score(ytest,ypred))\n",
        "print(\"Report :\\n\",classification_report(ytest,ypred))\n",
        "cm=confusion_matrix(ytest,ypred)\n",
        "sns.heatmap(data=cm,annot=True)"
      ],
      "execution_count": 65,
      "outputs": [
        {
          "output_type": "stream",
          "text": [
            "Accuracy : 0.8246753246753247\n",
            "Report :\n",
            "               precision    recall  f1-score   support\n",
            "\n",
            "           0       0.84      0.92      0.88       107\n",
            "           1       0.76      0.62      0.68        47\n",
            "\n",
            "    accuracy                           0.82       154\n",
            "   macro avg       0.80      0.77      0.78       154\n",
            "weighted avg       0.82      0.82      0.82       154\n",
            "\n"
          ],
          "name": "stdout"
        },
        {
          "output_type": "execute_result",
          "data": {
            "text/plain": [
              "<matplotlib.axes._subplots.AxesSubplot at 0x7f7c6350cf90>"
            ]
          },
          "metadata": {
            "tags": []
          },
          "execution_count": 65
        },
        {
          "output_type": "display_data",
          "data": {
            "image/png": "[encoded data removed]",
            "text/plain": [
              "<Figure size 432x288 with 2 Axes>"
            ]
          },
          "metadata": {
            "tags": [],
            "needs_background": "light"
          }
        }
      ]
    },
    {
      "cell_type": "markdown",
      "metadata": {
        "id": "dFH2JVmTuZYk"
      },
      "source": [
        "Conclusion :\n",
        "\n",
        "Confusion Matrix is a performance measurement for machine learning classification.\n",
        "\n",
        "    True Positive:\n",
        "      You predicted positive and it’s actual is positive.\n",
        "    True Negative:\n",
        "      Interpretation: You predicted negative and it’s actual is Negative.\n",
        "    False Positive: (Type 1 Error)\n",
        "      You predicted positive and it’s actual is Negative.\n",
        "    False Negative: (Type 2 Error)\n",
        "      Interpretation: You predicted negative and it’s actual is positive.\n",
        "\n",
        "Accuracy :\n",
        "\n",
        "    Overall performence of the model.\n",
        "      (TP+TN)/(TP+TN_FP+FN) = 0.82\n",
        "\n",
        "Recall / Sensitivity:\n",
        "\n",
        "    Out of all the positive classes, how much we predicted correctly. \n",
        "    It should be high as possible.\n",
        "      TP/(TP+FN) = 0.92 for 0 and 0.62 for 1\n",
        "\n",
        "Precision :\n",
        "\n",
        "    Out of all the positive classes we have predicted correctly, \n",
        "    how many are actually positive.\n",
        "      TP/(TP+FP) = 0.84 for 0 and 0.76 for 1\n",
        "\n",
        "F1 Score :\n",
        "\n",
        "    The F-score is a way of combining the precision and recall of the model, and \n",
        "    it is defined as the harmonic mean of the model’s precision and recall.\n",
        "      (2*Recall*Precision) / (Recall + Precision) = 0.88 for 0 and 0.68 for 1\n",
        "\n",
        "This accuracy can incresed by balancing data. i.e. Getting same number of information rows for both classes.\n"
      ]
    },
    {
      "cell_type": "markdown",
      "metadata": {
        "id": "MmcOym5M0vv5"
      },
      "source": [
        "###Tunning Hyperparameters for Logistic Regression"
      ]
    },
    {
      "cell_type": "code",
      "metadata": {
        "id": "LKXUf24F02fd"
      },
      "source": [
        "# help(LogisticRegression)\n",
        "#tune solver,penalty,C\n",
        "model=LogisticRegression()\n",
        "solver=['newton-cg', 'lbfgs', 'liblinear', 'sag', 'saga']\n",
        "penalty=['l1', 'l2', 'elasticnet']\n",
        "c=[100,10,1,0.1,0.01,0.001]"
      ],
      "execution_count": 66,
      "outputs": []
    },
    {
      "cell_type": "code",
      "metadata": {
        "id": "5uIS3kNK02S-"
      },
      "source": [
        "kfoldcv=RepeatedStratifiedKFold(n_splits=10,n_repeats=5,random_state=1)\n",
        "grid=dict(solver=solver,penalty=penalty,C=c)\n",
        "grid_cv=GridSearchCV(estimator=model,param_grid=grid,cv=kfoldcv,scoring=\"accuracy\")\n",
        "res=grid_cv.fit(x,y)"
      ],
      "execution_count": null,
      "outputs": []
    },
    {
      "cell_type": "code",
      "metadata": {
        "colab": {
          "base_uri": "https://localhost:8080/"
        },
        "id": "OXKIvNEH02GT",
        "outputId": "5a29874a-a075-4517-cd57-83fd6869c21f"
      },
      "source": [
        "print(res.best_score_)\n",
        "print(res.best_params_)"
      ],
      "execution_count": 68,
      "outputs": [
        {
          "output_type": "stream",
          "text": [
            "0.7770608339029392\n",
            "{'C': 100, 'penalty': 'l2', 'solver': 'lbfgs'}\n"
          ],
          "name": "stdout"
        }
      ]
    },
    {
      "cell_type": "code",
      "metadata": {
        "colab": {
          "base_uri": "https://localhost:8080/"
        },
        "id": "ctR3vfDr1xVV",
        "outputId": "647dc978-707a-4ad4-e04a-9806937502d4"
      },
      "source": [
        "from sklearn.model_selection import train_test_split\n",
        "model=LogisticRegression(solver=\"lbfgs\",C=100,penalty='l2')\n",
        "model.fit(xtrain,ytrain)\n",
        "ypred=model.predict(xtest)"
      ],
      "execution_count": 69,
      "outputs": [
        {
          "output_type": "stream",
          "text": [
            "/usr/local/lib/python3.7/dist-packages/sklearn/linear_model/_logistic.py:940: ConvergenceWarning: lbfgs failed to converge (status=1):\n",
            "STOP: TOTAL NO. of ITERATIONS REACHED LIMIT.\n",
            "\n",
            "Increase the number of iterations (max_iter) or scale the data as shown in:\n",
            "    https://scikit-learn.org/stable/modules/preprocessing.html\n",
            "Please also refer to the documentation for alternative solver options:\n",
            "    https://scikit-learn.org/stable/modules/linear_model.html#logistic-regression\n",
            "  extra_warning_msg=_LOGISTIC_SOLVER_CONVERGENCE_MSG)\n"
          ],
          "name": "stderr"
        }
      ]
    },
    {
      "cell_type": "code",
      "metadata": {
        "colab": {
          "base_uri": "https://localhost:8080/",
          "height": 473
        },
        "id": "-e7iZOj818pm",
        "outputId": "b0aef96b-9c1d-4128-ab7b-6c355b6284fe"
      },
      "source": [
        "#Calulate accuracy, calssification report and confusion matrix\n",
        "\n",
        "print(\"Accuracy :\", accuracy_score(ytest,ypred))\n",
        "print(\"Report :\\n\",classification_report(ytest,ypred))\n",
        "cm=confusion_matrix(ytest,ypred)\n",
        "sns.heatmap(data=cm,annot=True)"
      ],
      "execution_count": 70,
      "outputs": [
        {
          "output_type": "stream",
          "text": [
            "Accuracy : 0.8181818181818182\n",
            "Report :\n",
            "               precision    recall  f1-score   support\n",
            "\n",
            "           0       0.84      0.92      0.88       107\n",
            "           1       0.76      0.60      0.67        47\n",
            "\n",
            "    accuracy                           0.82       154\n",
            "   macro avg       0.80      0.76      0.77       154\n",
            "weighted avg       0.81      0.82      0.81       154\n",
            "\n"
          ],
          "name": "stdout"
        },
        {
          "output_type": "execute_result",
          "data": {
            "text/plain": [
              "<matplotlib.axes._subplots.AxesSubplot at 0x7f7c632ee810>"
            ]
          },
          "metadata": {
            "tags": []
          },
          "execution_count": 70
        },
        {
          "output_type": "display_data",
          "data": {
            "image/png": "[encoded data removed]",
            "text/plain": [
              "<Figure size 432x288 with 2 Axes>"
            ]
          },
          "metadata": {
            "tags": [],
            "needs_background": "light"
          }
        }
      ]
    },
    {
      "cell_type": "markdown",
      "metadata": {
        "id": "vyFPsnMy7IPM"
      },
      "source": [
        "##ROC - AUC curve\n",
        "\n",
        "Sensitivity = True Positive Rate\n",
        "\n",
        "Specificity = True Negative Rate"
      ]
    },
    {
      "cell_type": "code",
      "metadata": {
        "colab": {
          "base_uri": "https://localhost:8080/"
        },
        "id": "UbgBQIVi7LnD",
        "outputId": "43ec605c-0b17-4f00-ea53-f681f0ee9d24"
      },
      "source": [
        "# Find the probability for prediction of classes\n",
        "ypred_prob=model.predict_proba(xtest)\n",
        "# Get probability for single class\n",
        "ypred_prob[:,1]"
      ],
      "execution_count": 71,
      "outputs": [
        {
          "output_type": "execute_result",
          "data": {
            "text/plain": [
              "array([0.96264389, 0.17597099, 0.11388715, 0.61401279, 0.14657637,\n",
              "       0.04384157, 0.74804879, 0.8470892 , 0.48582998, 0.3541222 ,\n",
              "       0.58377879, 0.95623644, 0.30595115, 0.2726506 , 0.14358662,\n",
              "       0.18950381, 0.85142184, 0.03393299, 0.39250034, 0.28125787,\n",
              "       0.64862574, 0.45543132, 0.30269032, 0.06805268, 0.06146918,\n",
              "       0.38584933, 0.05533475, 0.910372  , 0.12155431, 0.15339658,\n",
              "       0.45774634, 0.27455519, 0.11006916, 0.50028187, 0.10980701,\n",
              "       0.68165549, 0.41871584, 0.08833792, 0.34987099, 0.71886366,\n",
              "       0.32180388, 0.25022716, 0.18092729, 0.79986347, 0.68021662,\n",
              "       0.01106776, 0.09005646, 0.20276624, 0.40282112, 0.31810228,\n",
              "       0.39659468, 0.20892629, 0.8697802 , 0.46422998, 0.152485  ,\n",
              "       0.00399466, 0.07027157, 0.53403737, 0.2998586 , 0.09279781,\n",
              "       0.65240222, 0.45408946, 0.11547499, 0.78857672, 0.66597184,\n",
              "       0.90965744, 0.67736689, 0.14193161, 0.38106833, 0.11653285,\n",
              "       0.13471285, 0.44759404, 0.10877859, 0.9547394 , 0.8431446 ,\n",
              "       0.3077018 , 0.10995619, 0.63166878, 0.07660629, 0.19430342,\n",
              "       0.32871937, 0.38525828, 0.23227902, 0.03708441, 0.21798376,\n",
              "       0.22355974, 0.30947183, 0.43595785, 0.85309994, 0.20713743,\n",
              "       0.15895101, 0.17901997, 0.2692547 , 0.0466238 , 0.60233942,\n",
              "       0.20799304, 0.46502793, 0.48731743, 0.65594435, 0.25062702,\n",
              "       0.24607979, 0.11680323, 0.21382997, 0.04366343, 0.68440168,\n",
              "       0.40847203, 0.1426997 , 0.29427615, 0.04531839, 0.75364092,\n",
              "       0.1369088 , 0.2920758 , 0.59318845, 0.44462377, 0.48977597,\n",
              "       0.57156176, 0.14035712, 0.66047104, 0.10074792, 0.74902703,\n",
              "       0.36476245, 0.32662583, 0.28530891, 0.42154307, 0.21218977,\n",
              "       0.05337247, 0.32645312, 0.378012  , 0.4944775 , 0.34855873,\n",
              "       0.3706367 , 0.0518475 , 0.067863  , 0.747223  , 0.33345986,\n",
              "       0.41344168, 0.14806301, 0.39441716, 0.72680021, 0.22489125,\n",
              "       0.09980809, 0.51399896, 0.07818966, 0.08855203, 0.34676248,\n",
              "       0.10662976, 0.08257659, 0.09923889, 0.17656383, 0.20993069,\n",
              "       0.09313115, 0.66950012, 0.1030445 , 0.20827726])"
            ]
          },
          "metadata": {
            "tags": []
          },
          "execution_count": 71
        }
      ]
    },
    {
      "cell_type": "code",
      "metadata": {
        "colab": {
          "base_uri": "https://localhost:8080/"
        },
        "id": "4Ig7O9PA71TF",
        "outputId": "9b41fe7a-6b8e-4cb6-830f-93fd70fb4a36"
      },
      "source": [
        "\n",
        "# roc curve for models\n",
        "fpr, tpr, thresh1 = roc_curve(ytest, ypred_prob[:,1])\n",
        "auc=roc_auc_score(ytest,ypred_prob[:,1])\n",
        "print(\"AUC : \",auc)"
      ],
      "execution_count": 73,
      "outputs": [
        {
          "output_type": "stream",
          "text": [
            "AUC :  0.8687611851262677\n"
          ],
          "name": "stdout"
        }
      ]
    },
    {
      "cell_type": "code",
      "metadata": {
        "colab": {
          "base_uri": "https://localhost:8080/",
          "height": 282
        },
        "id": "qs_ItLNv87vb",
        "outputId": "c1533f96-7b46-4331-c81c-73d504f90ff1"
      },
      "source": [
        "plt.plot(fpr, tpr, linestyle='--',color='orange', label='Logistic Regression')\n",
        "plt.legend()"
      ],
      "execution_count": 74,
      "outputs": [
        {
          "output_type": "execute_result",
          "data": {
            "text/plain": [
              "<matplotlib.legend.Legend at 0x7f7c6340b190>"
            ]
          },
          "metadata": {
            "tags": []
          },
          "execution_count": 74
        },
        {
          "output_type": "display_data",
          "data": {
            "image/png": "[encoded data removed]",
            "text/plain": [
              "<Figure size 432x288 with 1 Axes>"
            ]
          },
          "metadata": {
            "tags": [],
            "needs_background": "light"
          }
        }
      ]
    },
    {
      "cell_type": "markdown",
      "metadata": {
        "id": "4PBQczPUzmD9"
      },
      "source": [
        "##Multinomial Classification - Iris data"
      ]
    },
    {
      "cell_type": "code",
      "metadata": {
        "colab": {
          "base_uri": "https://localhost:8080/",
          "height": 206
        },
        "id": "pTv9hXwlzshl",
        "outputId": "77d9c7de-bd3b-4de6-9edf-d9956090fbda"
      },
      "source": [
        "df = pd.read_csv('/content/iris.csv')\n",
        "df.head()"
      ],
      "execution_count": 87,
      "outputs": [
        {
          "output_type": "execute_result",
          "data": {
            "text/html": [
              "<div>\n",
              "<style scoped>\n",
              "    .dataframe tbody tr th:only-of-type {\n",
              "        vertical-align: middle;\n",
              "    }\n",
              "\n",
              "    .dataframe tbody tr th {\n",
              "        vertical-align: top;\n",
              "    }\n",
              "\n",
              "    .dataframe thead th {\n",
              "        text-align: right;\n",
              "    }\n",
              "</style>\n",
              "<table border=\"1\" class=\"dataframe\">\n",
              "  <thead>\n",
              "    <tr style=\"text-align: right;\">\n",
              "      <th></th>\n",
              "      <th>sepal_length</th>\n",
              "      <th>sepal_width</th>\n",
              "      <th>petal_length</th>\n",
              "      <th>petal_width</th>\n",
              "      <th>species</th>\n",
              "    </tr>\n",
              "  </thead>\n",
              "  <tbody>\n",
              "    <tr>\n",
              "      <th>0</th>\n",
              "      <td>5.1</td>\n",
              "      <td>3.5</td>\n",
              "      <td>1.4</td>\n",
              "      <td>0.2</td>\n",
              "      <td>setosa</td>\n",
              "    </tr>\n",
              "    <tr>\n",
              "      <th>1</th>\n",
              "      <td>4.9</td>\n",
              "      <td>3.0</td>\n",
              "      <td>1.4</td>\n",
              "      <td>0.2</td>\n",
              "      <td>setosa</td>\n",
              "    </tr>\n",
              "    <tr>\n",
              "      <th>2</th>\n",
              "      <td>4.7</td>\n",
              "      <td>3.2</td>\n",
              "      <td>1.3</td>\n",
              "      <td>0.2</td>\n",
              "      <td>setosa</td>\n",
              "    </tr>\n",
              "    <tr>\n",
              "      <th>3</th>\n",
              "      <td>4.6</td>\n",
              "      <td>3.1</td>\n",
              "      <td>1.5</td>\n",
              "      <td>0.2</td>\n",
              "      <td>setosa</td>\n",
              "    </tr>\n",
              "    <tr>\n",
              "      <th>4</th>\n",
              "      <td>5.0</td>\n",
              "      <td>3.6</td>\n",
              "      <td>1.4</td>\n",
              "      <td>0.2</td>\n",
              "      <td>setosa</td>\n",
              "    </tr>\n",
              "  </tbody>\n",
              "</table>\n",
              "</div>"
            ],
            "text/plain": [
              "   sepal_length  sepal_width  petal_length  petal_width species\n",
              "0           5.1          3.5           1.4          0.2  setosa\n",
              "1           4.9          3.0           1.4          0.2  setosa\n",
              "2           4.7          3.2           1.3          0.2  setosa\n",
              "3           4.6          3.1           1.5          0.2  setosa\n",
              "4           5.0          3.6           1.4          0.2  setosa"
            ]
          },
          "metadata": {
            "tags": []
          },
          "execution_count": 87
        }
      ]
    },
    {
      "cell_type": "code",
      "metadata": {
        "colab": {
          "base_uri": "https://localhost:8080/"
        },
        "id": "eoY7V731z311",
        "outputId": "7b1b8f62-0e91-48e5-c45f-2fd9b99b5587"
      },
      "source": [
        "df.info()"
      ],
      "execution_count": 88,
      "outputs": [
        {
          "output_type": "stream",
          "text": [
            "<class 'pandas.core.frame.DataFrame'>\n",
            "RangeIndex: 150 entries, 0 to 149\n",
            "Data columns (total 5 columns):\n",
            " #   Column        Non-Null Count  Dtype  \n",
            "---  ------        --------------  -----  \n",
            " 0   sepal_length  150 non-null    float64\n",
            " 1   sepal_width   150 non-null    float64\n",
            " 2   petal_length  150 non-null    float64\n",
            " 3   petal_width   150 non-null    float64\n",
            " 4   species       150 non-null    object \n",
            "dtypes: float64(4), object(1)\n",
            "memory usage: 6.0+ KB\n"
          ],
          "name": "stdout"
        }
      ]
    },
    {
      "cell_type": "code",
      "metadata": {
        "colab": {
          "base_uri": "https://localhost:8080/"
        },
        "id": "VgMU4c8X2SQn",
        "outputId": "52b940c7-2e02-4c3c-ec89-42539d1445c1"
      },
      "source": [
        "df.isna().sum()"
      ],
      "execution_count": 89,
      "outputs": [
        {
          "output_type": "execute_result",
          "data": {
            "text/plain": [
              "sepal_length    0\n",
              "sepal_width     0\n",
              "petal_length    0\n",
              "petal_width     0\n",
              "species         0\n",
              "dtype: int64"
            ]
          },
          "metadata": {
            "tags": []
          },
          "execution_count": 89
        }
      ]
    },
    {
      "cell_type": "code",
      "metadata": {
        "colab": {
          "base_uri": "https://localhost:8080/",
          "height": 455
        },
        "id": "cypNlv9b2VD6",
        "outputId": "c9a7c8b1-1ea8-4611-e1f6-b498acefbc79"
      },
      "source": [
        "sns.catplot(df['species'],data=df,kind='count')\n"
      ],
      "execution_count": 90,
      "outputs": [
        {
          "output_type": "stream",
          "text": [
            "/usr/local/lib/python3.7/dist-packages/seaborn/_decorators.py:43: FutureWarning: Pass the following variable as a keyword arg: x. From version 0.12, the only valid positional argument will be `data`, and passing other arguments without an explicit keyword will result in an error or misinterpretation.\n",
            "  FutureWarning\n"
          ],
          "name": "stderr"
        },
        {
          "output_type": "execute_result",
          "data": {
            "text/plain": [
              "<seaborn.axisgrid.FacetGrid at 0x7f7c6326a050>"
            ]
          },
          "metadata": {
            "tags": []
          },
          "execution_count": 90
        },
        {
          "output_type": "display_data",
          "data": {
            "image/png": "[encoded data removed]",
            "text/plain": [
              "<Figure size 360x360 with 1 Axes>"
            ]
          },
          "metadata": {
            "tags": [],
            "needs_background": "light"
          }
        }
      ]
    },
    {
      "cell_type": "markdown",
      "metadata": {
        "id": "GZVV-8RN2dLG"
      },
      "source": [
        "Conclusion :\n",
        "\n",
        "    Information for all classes is balanced."
      ]
    },
    {
      "cell_type": "code",
      "metadata": {
        "id": "kX_U_dsc2cAL"
      },
      "source": [
        "# Encoding categorical data\n",
        "df['species']=df['species'].astype('category')\n",
        "df['species_cat']=df['species'].cat.codes"
      ],
      "execution_count": 91,
      "outputs": []
    },
    {
      "cell_type": "code",
      "metadata": {
        "colab": {
          "base_uri": "https://localhost:8080/",
          "height": 206
        },
        "id": "WGNYU3HJ4BaK",
        "outputId": "ef8de2ca-31bc-40ba-d3b4-ebc19468a093"
      },
      "source": [
        "df.head()"
      ],
      "execution_count": 92,
      "outputs": [
        {
          "output_type": "execute_result",
          "data": {
            "text/html": [
              "<div>\n",
              "<style scoped>\n",
              "    .dataframe tbody tr th:only-of-type {\n",
              "        vertical-align: middle;\n",
              "    }\n",
              "\n",
              "    .dataframe tbody tr th {\n",
              "        vertical-align: top;\n",
              "    }\n",
              "\n",
              "    .dataframe thead th {\n",
              "        text-align: right;\n",
              "    }\n",
              "</style>\n",
              "<table border=\"1\" class=\"dataframe\">\n",
              "  <thead>\n",
              "    <tr style=\"text-align: right;\">\n",
              "      <th></th>\n",
              "      <th>sepal_length</th>\n",
              "      <th>sepal_width</th>\n",
              "      <th>petal_length</th>\n",
              "      <th>petal_width</th>\n",
              "      <th>species</th>\n",
              "      <th>species_cat</th>\n",
              "    </tr>\n",
              "  </thead>\n",
              "  <tbody>\n",
              "    <tr>\n",
              "      <th>0</th>\n",
              "      <td>5.1</td>\n",
              "      <td>3.5</td>\n",
              "      <td>1.4</td>\n",
              "      <td>0.2</td>\n",
              "      <td>setosa</td>\n",
              "      <td>0</td>\n",
              "    </tr>\n",
              "    <tr>\n",
              "      <th>1</th>\n",
              "      <td>4.9</td>\n",
              "      <td>3.0</td>\n",
              "      <td>1.4</td>\n",
              "      <td>0.2</td>\n",
              "      <td>setosa</td>\n",
              "      <td>0</td>\n",
              "    </tr>\n",
              "    <tr>\n",
              "      <th>2</th>\n",
              "      <td>4.7</td>\n",
              "      <td>3.2</td>\n",
              "      <td>1.3</td>\n",
              "      <td>0.2</td>\n",
              "      <td>setosa</td>\n",
              "      <td>0</td>\n",
              "    </tr>\n",
              "    <tr>\n",
              "      <th>3</th>\n",
              "      <td>4.6</td>\n",
              "      <td>3.1</td>\n",
              "      <td>1.5</td>\n",
              "      <td>0.2</td>\n",
              "      <td>setosa</td>\n",
              "      <td>0</td>\n",
              "    </tr>\n",
              "    <tr>\n",
              "      <th>4</th>\n",
              "      <td>5.0</td>\n",
              "      <td>3.6</td>\n",
              "      <td>1.4</td>\n",
              "      <td>0.2</td>\n",
              "      <td>setosa</td>\n",
              "      <td>0</td>\n",
              "    </tr>\n",
              "  </tbody>\n",
              "</table>\n",
              "</div>"
            ],
            "text/plain": [
              "   sepal_length  sepal_width  petal_length  petal_width species  species_cat\n",
              "0           5.1          3.5           1.4          0.2  setosa            0\n",
              "1           4.9          3.0           1.4          0.2  setosa            0\n",
              "2           4.7          3.2           1.3          0.2  setosa            0\n",
              "3           4.6          3.1           1.5          0.2  setosa            0\n",
              "4           5.0          3.6           1.4          0.2  setosa            0"
            ]
          },
          "metadata": {
            "tags": []
          },
          "execution_count": 92
        }
      ]
    },
    {
      "cell_type": "code",
      "metadata": {
        "id": "TUq4lp_W4TMa"
      },
      "source": [
        "x=df.drop(columns=['species','species_cat'])\n",
        "y=df['species_cat']\n",
        "\n",
        "xtrain,xtest,ytrain,ytest=train_test_split(x,y,test_size=0.2,random_state=0)"
      ],
      "execution_count": 93,
      "outputs": []
    },
    {
      "cell_type": "code",
      "metadata": {
        "colab": {
          "base_uri": "https://localhost:8080/"
        },
        "id": "SuMSxp9o4m_M",
        "outputId": "9f3fce12-bea7-4301-fef2-2f853666f377"
      },
      "source": [
        "#Build model and fit\n",
        "\n",
        "model=LogisticRegression(multi_class='multinomial')\n",
        "model.fit(xtrain,ytrain)\n",
        "ypred=model.predict(xtest)"
      ],
      "execution_count": 94,
      "outputs": [
        {
          "output_type": "stream",
          "text": [
            "/usr/local/lib/python3.7/dist-packages/sklearn/linear_model/_logistic.py:940: ConvergenceWarning: lbfgs failed to converge (status=1):\n",
            "STOP: TOTAL NO. of ITERATIONS REACHED LIMIT.\n",
            "\n",
            "Increase the number of iterations (max_iter) or scale the data as shown in:\n",
            "    https://scikit-learn.org/stable/modules/preprocessing.html\n",
            "Please also refer to the documentation for alternative solver options:\n",
            "    https://scikit-learn.org/stable/modules/linear_model.html#logistic-regression\n",
            "  extra_warning_msg=_LOGISTIC_SOLVER_CONVERGENCE_MSG)\n"
          ],
          "name": "stderr"
        }
      ]
    },
    {
      "cell_type": "code",
      "metadata": {
        "colab": {
          "base_uri": "https://localhost:8080/",
          "height": 206
        },
        "id": "OF5dnXFJ40Jg",
        "outputId": "c5e5a4af-7065-42de-a871-fed930d18412"
      },
      "source": [
        "#Demonstrate actual and predicted values\n",
        "\n",
        "pd.DataFrame({\"actual\":ytest,\"prediction\":ypred}).head()"
      ],
      "execution_count": 95,
      "outputs": [
        {
          "output_type": "execute_result",
          "data": {
            "text/html": [
              "<div>\n",
              "<style scoped>\n",
              "    .dataframe tbody tr th:only-of-type {\n",
              "        vertical-align: middle;\n",
              "    }\n",
              "\n",
              "    .dataframe tbody tr th {\n",
              "        vertical-align: top;\n",
              "    }\n",
              "\n",
              "    .dataframe thead th {\n",
              "        text-align: right;\n",
              "    }\n",
              "</style>\n",
              "<table border=\"1\" class=\"dataframe\">\n",
              "  <thead>\n",
              "    <tr style=\"text-align: right;\">\n",
              "      <th></th>\n",
              "      <th>actual</th>\n",
              "      <th>prediction</th>\n",
              "    </tr>\n",
              "  </thead>\n",
              "  <tbody>\n",
              "    <tr>\n",
              "      <th>114</th>\n",
              "      <td>2</td>\n",
              "      <td>2</td>\n",
              "    </tr>\n",
              "    <tr>\n",
              "      <th>62</th>\n",
              "      <td>1</td>\n",
              "      <td>1</td>\n",
              "    </tr>\n",
              "    <tr>\n",
              "      <th>33</th>\n",
              "      <td>0</td>\n",
              "      <td>0</td>\n",
              "    </tr>\n",
              "    <tr>\n",
              "      <th>107</th>\n",
              "      <td>2</td>\n",
              "      <td>2</td>\n",
              "    </tr>\n",
              "    <tr>\n",
              "      <th>7</th>\n",
              "      <td>0</td>\n",
              "      <td>0</td>\n",
              "    </tr>\n",
              "  </tbody>\n",
              "</table>\n",
              "</div>"
            ],
            "text/plain": [
              "     actual  prediction\n",
              "114       2           2\n",
              "62        1           1\n",
              "33        0           0\n",
              "107       2           2\n",
              "7         0           0"
            ]
          },
          "metadata": {
            "tags": []
          },
          "execution_count": 95
        }
      ]
    },
    {
      "cell_type": "code",
      "metadata": {
        "colab": {
          "base_uri": "https://localhost:8080/",
          "height": 491
        },
        "id": "W_gMlLcz44c7",
        "outputId": "f7204817-d2e9-42aa-b56c-05a307894c29"
      },
      "source": [
        "#Calulate accuracy, calssification report and confusion matrix\n",
        "\n",
        "print(\"Accuracy :\", accuracy_score(ytest,ypred))\n",
        "print(\"Report :\\n\",classification_report(ytest,ypred))\n",
        "cm=confusion_matrix(ytest,ypred)\n",
        "sns.heatmap(data=cm,annot=True)"
      ],
      "execution_count": 96,
      "outputs": [
        {
          "output_type": "stream",
          "text": [
            "Accuracy : 1.0\n",
            "Report :\n",
            "               precision    recall  f1-score   support\n",
            "\n",
            "           0       1.00      1.00      1.00        11\n",
            "           1       1.00      1.00      1.00        13\n",
            "           2       1.00      1.00      1.00         6\n",
            "\n",
            "    accuracy                           1.00        30\n",
            "   macro avg       1.00      1.00      1.00        30\n",
            "weighted avg       1.00      1.00      1.00        30\n",
            "\n"
          ],
          "name": "stdout"
        },
        {
          "output_type": "execute_result",
          "data": {
            "text/plain": [
              "<matplotlib.axes._subplots.AxesSubplot at 0x7f7c632b1850>"
            ]
          },
          "metadata": {
            "tags": []
          },
          "execution_count": 96
        },
        {
          "output_type": "display_data",
          "data": {
            "image/png": "[encoded data removed]",
            "text/plain": [
              "<Figure size 432x288 with 2 Axes>"
            ]
          },
          "metadata": {
            "tags": [],
            "needs_background": "light"
          }
        }
      ]
    },
    {
      "cell_type": "markdown",
      "metadata": {
        "id": "BDFQh3iR5HL7"
      },
      "source": [
        "Conclusion :\n",
        "\n",
        "Confusion Matrix is a performance measurement for machine learning classification.\n",
        "\n",
        "    True Positive:\n",
        "      You predicted positive and it’s actual is positive.\n",
        "    True Negative:\n",
        "      Interpretation: You predicted negative and it’s actual is Negative.\n",
        "    False Positive: (Type 1 Error)\n",
        "      You predicted positive and it’s actual is Negative.\n",
        "    False Negative: (Type 2 Error)\n",
        "      Interpretation: You predicted negative and it’s actual is positive.\n",
        "\n",
        "Accuracy :\n",
        "\n",
        "    Overall performence of the model.\n",
        "      (TP+TN)/(TP+TN_FP+FN) = 1.0\n",
        "\n",
        "Recall / Sensitivity :\n",
        "\n",
        "    Out of all the positive classes, how much we predicted correctly. \n",
        "    It should be high as possible.\n",
        "      TP/(TP+FN) = 1.0 for 0 and 1.0 for 1\n",
        "\n",
        "Precision :\n",
        "\n",
        "    Out of all the positive classes we have predicted correctly, \n",
        "    how many are actually positive.\n",
        "      TP/(TP+FP) = 1.0 for 0 and 1.0 for 1\n",
        "\n",
        "F1 Score :\n",
        "\n",
        "    The F-score is a way of combining the precision and recall of the model, and \n",
        "    it is defined as the harmonic mean of the model’s precision and recall.\n",
        "      (2*Recall*Precision) / (Recall + Precision) = 1.0 for 0 and 1.0 for 1\n",
        "\n",
        "\n"
      ]
    },
    {
      "cell_type": "markdown",
      "metadata": {
        "id": "_zooOiRMEoPX"
      },
      "source": [
        "##ROC - AUC curve"
      ]
    },
    {
      "cell_type": "code",
      "metadata": {
        "id": "YI-u89KuFBPg"
      },
      "source": [
        "ypred_prob=model.predict_proba(xtest)"
      ],
      "execution_count": 97,
      "outputs": []
    },
    {
      "cell_type": "code",
      "metadata": {
        "id": "j3bunYCc7-M7"
      },
      "source": [
        "# roc curve for classes\n",
        "fpr = {}\n",
        "tpr = {}\n",
        "thresh ={}\n",
        "\n",
        "n_class = 3\n",
        "for i in range(n_class):    \n",
        "    fpr[str(i)], tpr[str(i)], thresh[str(i)] = roc_curve(ytest, ypred_prob[:,i],pos_label=i)\n"
      ],
      "execution_count": 98,
      "outputs": []
    },
    {
      "cell_type": "code",
      "metadata": {
        "colab": {
          "base_uri": "https://localhost:8080/",
          "height": 367
        },
        "id": "cYpP0op79KNw",
        "outputId": "599fa8a9-3373-4f11-fbee-9d6d6fbaff06"
      },
      "source": [
        "# plotting    \n",
        "plt.figure(figsize=(17,5))\n",
        "plt.subplot(1,3,1)\n",
        "plt.plot(fpr[str(0)], tpr[str(0)], linestyle='--',color='orange', label='Class 0 vs Rest')\n",
        "plt.title('Multiclass ROC curve')\n",
        "plt.xlabel('False Positive Rate')\n",
        "plt.ylabel('True Positive rate')\n",
        "plt.legend(loc='best')\n",
        "plt.subplot(1,3,2)\n",
        "plt.plot(fpr[str(1)], tpr[str(1)], linestyle='--',color='green', label='Class 1 vs Rest')\n",
        "plt.title('Multiclass ROC curve')\n",
        "plt.xlabel('False Positive Rate')\n",
        "plt.ylabel('True Positive rate')\n",
        "plt.legend(loc='best')\n",
        "plt.subplot(1,3,3)\n",
        "plt.plot(fpr[str(2)], tpr[str(2)], linestyle='--',color='blue', label='Class 2 vs Rest')\n",
        "plt.title('Multiclass ROC curve')\n",
        "plt.xlabel('False Positive Rate')\n",
        "plt.ylabel('True Positive rate')\n",
        "plt.legend(loc='best')"
      ],
      "execution_count": 102,
      "outputs": [
        {
          "output_type": "execute_result",
          "data": {
            "text/plain": [
              "<matplotlib.legend.Legend at 0x7f7c62ecc1d0>"
            ]
          },
          "metadata": {
            "tags": []
          },
          "execution_count": 102
        },
        {
          "output_type": "display_data",
          "data": {
            "image/png": "[encoded data removed]",
            "text/plain": [
              "<Figure size 1224x360 with 3 Axes>"
            ]
          },
          "metadata": {
            "tags": [],
            "needs_background": "light"
          }
        }
      ]
    },
    {
      "cell_type": "code",
      "metadata": {
        "id": "WI7TOG7--6Qr"
      },
      "source": [
        ""
      ],
      "execution_count": null,
      "outputs": []
    }
  ]
}
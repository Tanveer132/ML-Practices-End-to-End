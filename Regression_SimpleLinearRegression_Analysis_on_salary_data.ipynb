{
  "nbformat": 4,
  "nbformat_minor": 0,
  "metadata": {
    "colab": {
      "name": "Regression_SimpleLinearRegression_Analysis on salary data.ipynb",
      "provenance": [],
      "collapsed_sections": [],
      "authorship_tag": "ABX9TyPjuWDY3pCTfUiluxnIsxuG",
      "include_colab_link": true
    },
    "kernelspec": {
      "name": "python3",
      "display_name": "Python 3"
    },
    "language_info": {
      "name": "python"
    }
  },
  "cells": [
    {
      "cell_type": "markdown",
      "metadata": {
        "id": "view-in-github",
        "colab_type": "text"
      },
      "source": [
        "<a href=\"https://colab.research.google.com/github/Tanveer132/ML-Practices-End-to-End/blob/main/Regression_SimpleLinearRegression_Analysis_on_salary_data.ipynb\" target=\"_parent\"><img src=\"https://colab.research.google.com/assets/colab-badge.svg\" alt=\"Open In Colab\"/></a>"
      ]
    },
    {
      "cell_type": "markdown",
      "metadata": {
        "id": "ngSO2zaClyWs"
      },
      "source": [
        "#Simple Linear Regression"
      ]
    },
    {
      "cell_type": "code",
      "metadata": {
        "id": "Rr66Qaauihfe"
      },
      "source": [
        "import numpy as np\n",
        "import matplotlib.pyplot as plt\n",
        "import pandas as pd\n",
        "from sklearn.linear_model import LinearRegression\n",
        "import seaborn as sns"
      ],
      "execution_count": null,
      "outputs": []
    },
    {
      "cell_type": "markdown",
      "metadata": {
        "id": "v7r6zOnCm3xT"
      },
      "source": [
        "##Linear regression on dummy data"
      ]
    },
    {
      "cell_type": "code",
      "metadata": {
        "id": "rn9wqYRtmy45"
      },
      "source": [
        "x=[1,2,3,4,5]\n",
        "y=[2,4,5,4,5]"
      ],
      "execution_count": null,
      "outputs": []
    },
    {
      "cell_type": "code",
      "metadata": {
        "id": "Uo76PU25m86O"
      },
      "source": [
        "#model performs matrix multiplication so that reshape the array in 2d\n",
        "x=np.array(x).reshape(-1,1)\n",
        "y=np.array(y)"
      ],
      "execution_count": null,
      "outputs": []
    },
    {
      "cell_type": "code",
      "metadata": {
        "id": "CcTYONUUnGJ6"
      },
      "source": [
        "model=LinearRegression()\n",
        "model.fit(x,y)\n",
        "ypred=model.predict(x)"
      ],
      "execution_count": null,
      "outputs": []
    },
    {
      "cell_type": "code",
      "metadata": {
        "colab": {
          "base_uri": "https://localhost:8080/"
        },
        "id": "EdkcF06AnZza",
        "outputId": "3953424e-219c-407c-c9a1-7d8213d26680"
      },
      "source": [
        "#y intercept\n",
        "print(model.intercept_)\n",
        "#slope\n",
        "print(model.coef_)\n",
        "# r square\n",
        "print(model.score(x,y))"
      ],
      "execution_count": null,
      "outputs": [
        {
          "output_type": "stream",
          "text": [
            "2.2\n",
            "[0.6]\n",
            "0.6000000000000001\n"
          ],
          "name": "stdout"
        }
      ]
    },
    {
      "cell_type": "code",
      "metadata": {
        "colab": {
          "base_uri": "https://localhost:8080/",
          "height": 282
        },
        "id": "7nsafrPXngbh",
        "outputId": "0bed0570-8000-44c6-ea00-c1ab28a87a2e"
      },
      "source": [
        "plt.scatter(x,y)\n",
        "plt.plot(x,ypred, color='r', marker=\"*\")"
      ],
      "execution_count": null,
      "outputs": [
        {
          "output_type": "execute_result",
          "data": {
            "text/plain": [
              "[<matplotlib.lines.Line2D at 0x7f862ce4e450>]"
            ]
          },
          "metadata": {
            "tags": []
          },
          "execution_count": 7
        },
        {
          "output_type": "display_data",
          "data": {
            "image/png": "[encoded data removed]",
            "text/plain": [
              "<Figure size 432x288 with 1 Axes>"
            ]
          },
          "metadata": {
            "tags": [],
            "needs_background": "light"
          }
        }
      ]
    },
    {
      "cell_type": "code",
      "metadata": {
        "colab": {
          "base_uri": "https://localhost:8080/"
        },
        "id": "KocVZ4NknmPH",
        "outputId": "8b4c7eba-1ce4-40cd-e240-77277959528b"
      },
      "source": [
        "ypred1=model.predict([[3.2]])\n",
        "print(ypred1)"
      ],
      "execution_count": null,
      "outputs": [
        {
          "output_type": "stream",
          "text": [
            "[4.12]\n"
          ],
          "name": "stdout"
        }
      ]
    },
    {
      "cell_type": "markdown",
      "metadata": {
        "id": "UV7sx1_KntUS"
      },
      "source": [
        "##Linear regression on real data"
      ]
    },
    {
      "cell_type": "code",
      "metadata": {
        "colab": {
          "base_uri": "https://localhost:8080/",
          "height": 206
        },
        "id": "6B19ERAgnsTR",
        "outputId": "a1eee257-7513-4fed-e3c3-a550277c770c"
      },
      "source": [
        "df=pd.read_csv('/content/Salary_Data.csv')\n",
        "df.head()"
      ],
      "execution_count": null,
      "outputs": [
        {
          "output_type": "execute_result",
          "data": {
            "text/html": [
              "<div>\n",
              "<style scoped>\n",
              "    .dataframe tbody tr th:only-of-type {\n",
              "        vertical-align: middle;\n",
              "    }\n",
              "\n",
              "    .dataframe tbody tr th {\n",
              "        vertical-align: top;\n",
              "    }\n",
              "\n",
              "    .dataframe thead th {\n",
              "        text-align: right;\n",
              "    }\n",
              "</style>\n",
              "<table border=\"1\" class=\"dataframe\">\n",
              "  <thead>\n",
              "    <tr style=\"text-align: right;\">\n",
              "      <th></th>\n",
              "      <th>YearsExperience</th>\n",
              "      <th>Salary</th>\n",
              "    </tr>\n",
              "  </thead>\n",
              "  <tbody>\n",
              "    <tr>\n",
              "      <th>0</th>\n",
              "      <td>1.1</td>\n",
              "      <td>39343</td>\n",
              "    </tr>\n",
              "    <tr>\n",
              "      <th>1</th>\n",
              "      <td>1.3</td>\n",
              "      <td>46205</td>\n",
              "    </tr>\n",
              "    <tr>\n",
              "      <th>2</th>\n",
              "      <td>1.5</td>\n",
              "      <td>37731</td>\n",
              "    </tr>\n",
              "    <tr>\n",
              "      <th>3</th>\n",
              "      <td>2.0</td>\n",
              "      <td>43525</td>\n",
              "    </tr>\n",
              "    <tr>\n",
              "      <th>4</th>\n",
              "      <td>2.2</td>\n",
              "      <td>39891</td>\n",
              "    </tr>\n",
              "  </tbody>\n",
              "</table>\n",
              "</div>"
            ],
            "text/plain": [
              "   YearsExperience  Salary\n",
              "0              1.1   39343\n",
              "1              1.3   46205\n",
              "2              1.5   37731\n",
              "3              2.0   43525\n",
              "4              2.2   39891"
            ]
          },
          "metadata": {
            "tags": []
          },
          "execution_count": 9
        }
      ]
    },
    {
      "cell_type": "code",
      "metadata": {
        "colab": {
          "base_uri": "https://localhost:8080/",
          "height": 296
        },
        "id": "JgDvynSgoFdW",
        "outputId": "8a1e06ef-5856-43a7-bb22-b0a23a01eb90"
      },
      "source": [
        "df.plot(kind='scatter',x='YearsExperience',y='Salary')"
      ],
      "execution_count": null,
      "outputs": [
        {
          "output_type": "execute_result",
          "data": {
            "text/plain": [
              "<matplotlib.axes._subplots.AxesSubplot at 0x7f862c111a10>"
            ]
          },
          "metadata": {
            "tags": []
          },
          "execution_count": 11
        },
        {
          "output_type": "display_data",
          "data": {
            "image/png": "[encoded data removed]",
            "text/plain": [
              "<Figure size 432x288 with 1 Axes>"
            ]
          },
          "metadata": {
            "tags": [],
            "needs_background": "light"
          }
        }
      ]
    },
    {
      "cell_type": "markdown",
      "metadata": {
        "id": "ppgOGJ-LoV4T"
      },
      "source": [
        "Conclusion :\n",
        "\n",
        "    We can observe linearity between features and target.\n",
        "    its good to go with linear regression."
      ]
    },
    {
      "cell_type": "code",
      "metadata": {
        "id": "x1RklUVloLsC"
      },
      "source": [
        "#we have to divide the dataset into two parts that is.....dependant variable and independant variable\n",
        "x=df.iloc[:,:-1].values           #independent variable\n",
        "y=df.iloc[:,-1].values            #dependent variable\n"
      ],
      "execution_count": null,
      "outputs": []
    },
    {
      "cell_type": "code",
      "metadata": {
        "id": "br9cH5ZYrv45"
      },
      "source": [
        "#now using sklearn train and test the data by dividing the data again in train and test data\n",
        "from sklearn.model_selection import train_test_split\n",
        "xtrain,xtest,ytrain,ytest=train_test_split(x,y,test_size=0.3,random_state=0)"
      ],
      "execution_count": null,
      "outputs": []
    },
    {
      "cell_type": "code",
      "metadata": {
        "id": "UtISOrzer0p9"
      },
      "source": [
        "model=LinearRegression()\n",
        "model.fit(xtrain,ytrain)\n",
        "ypred=model.predict(xtest)"
      ],
      "execution_count": null,
      "outputs": []
    },
    {
      "cell_type": "code",
      "metadata": {
        "colab": {
          "base_uri": "https://localhost:8080/"
        },
        "id": "8hPFgf2-sICD",
        "outputId": "4797e759-3792-4ae8-82f1-d4996064b445"
      },
      "source": [
        "#y intercept\n",
        "print(model.intercept_)\n",
        "#slope\n",
        "print(model.coef_)\n",
        "# r square\n",
        "print(\"Training accuracy : \",model.score(xtrain,ytrain))\n",
        "print(\"Testing accuracy : \",model.score(xtest,ytest))"
      ],
      "execution_count": null,
      "outputs": [
        {
          "output_type": "stream",
          "text": [
            "26777.391341197625\n",
            "[9360.26128619]\n",
            "Training accuracy :  0.9423777652193379\n",
            "Testing accuracy :  0.9740993407213511\n"
          ],
          "name": "stdout"
        }
      ]
    },
    {
      "cell_type": "code",
      "metadata": {
        "colab": {
          "base_uri": "https://localhost:8080/",
          "height": 295
        },
        "id": "Vxe5zx_XslQM",
        "outputId": "c92e5f4a-af48-4048-efec-c2c838afff5e"
      },
      "source": [
        "#while plotting the actual values in the data set i.e x_train and y_train\n",
        "plt.scatter(xtrain,ytrain,color='yellow', edgecolors='red')\n",
        "plt.plot(xtrain,model.predict(xtrain),color='m')\n",
        "plt.title(\"salary vs Experience\")\n",
        "plt.xlabel(\"exp\")\n",
        "plt.ylabel(\"salary\")\n",
        "plt.show()"
      ],
      "execution_count": null,
      "outputs": [
        {
          "output_type": "display_data",
          "data": {
            "image/png": "[encoded data removed]",
            "text/plain": [
              "<Figure size 432x288 with 1 Axes>"
            ]
          },
          "metadata": {
            "tags": [],
            "needs_background": "light"
          }
        }
      ]
    },
    {
      "cell_type": "code",
      "metadata": {
        "colab": {
          "base_uri": "https://localhost:8080/",
          "height": 295
        },
        "id": "zM_lxRkbswCT",
        "outputId": "57600339-182e-4173-a7e1-f12e75d7391a"
      },
      "source": [
        "#while plotting the predicted values in the data set i.e x_test and y_test\n",
        "plt.scatter(xtest,ytest,color='yellow', edgecolors='red')\n",
        "plt.plot(xtest,model.predict(xtest),color='m')            #trian line remains same while testing\n",
        "plt.title(\"salary vs Experience\")\n",
        "plt.xlabel(\"exp\")\n",
        "plt.ylabel(\"salary\")\n",
        "plt.show()"
      ],
      "execution_count": null,
      "outputs": [
        {
          "output_type": "display_data",
          "data": {
            "image/png": "[encoded data removed]",
            "text/plain": [
              "<Figure size 432x288 with 1 Axes>"
            ]
          },
          "metadata": {
            "tags": [],
            "needs_background": "light"
          }
        }
      ]
    },
    {
      "cell_type": "code",
      "metadata": {
        "colab": {
          "base_uri": "https://localhost:8080/"
        },
        "id": "JlV4YVIEtnmO",
        "outputId": "8e205ef2-e8cd-48c0-ef56-157f58e553ec"
      },
      "source": [
        "#demo prediction\n",
        "prediction=model.predict([[3.2]])\n",
        "print(prediction)"
      ],
      "execution_count": null,
      "outputs": [
        {
          "output_type": "stream",
          "text": [
            "[56730.22745702]\n"
          ],
          "name": "stdout"
        }
      ]
    },
    {
      "cell_type": "code",
      "metadata": {
        "colab": {
          "base_uri": "https://localhost:8080/",
          "height": 332
        },
        "id": "jYzWR6ZBt95j",
        "outputId": "47e86d19-94dd-473e-8eb9-7d9793049b28"
      },
      "source": [
        "result=pd.DataFrame({\"actual\":ytest,\"predicted\":ypred.round(2)})\n",
        "result"
      ],
      "execution_count": null,
      "outputs": [
        {
          "output_type": "execute_result",
          "data": {
            "text/html": [
              "<div>\n",
              "<style scoped>\n",
              "    .dataframe tbody tr th:only-of-type {\n",
              "        vertical-align: middle;\n",
              "    }\n",
              "\n",
              "    .dataframe tbody tr th {\n",
              "        vertical-align: top;\n",
              "    }\n",
              "\n",
              "    .dataframe thead th {\n",
              "        text-align: right;\n",
              "    }\n",
              "</style>\n",
              "<table border=\"1\" class=\"dataframe\">\n",
              "  <thead>\n",
              "    <tr style=\"text-align: right;\">\n",
              "      <th></th>\n",
              "      <th>actual</th>\n",
              "      <th>predicted</th>\n",
              "    </tr>\n",
              "  </thead>\n",
              "  <tbody>\n",
              "    <tr>\n",
              "      <th>0</th>\n",
              "      <td>37731</td>\n",
              "      <td>40817.78</td>\n",
              "    </tr>\n",
              "    <tr>\n",
              "      <th>1</th>\n",
              "      <td>122391</td>\n",
              "      <td>123188.08</td>\n",
              "    </tr>\n",
              "    <tr>\n",
              "      <th>2</th>\n",
              "      <td>57081</td>\n",
              "      <td>65154.46</td>\n",
              "    </tr>\n",
              "    <tr>\n",
              "      <th>3</th>\n",
              "      <td>63218</td>\n",
              "      <td>63282.41</td>\n",
              "    </tr>\n",
              "    <tr>\n",
              "      <th>4</th>\n",
              "      <td>116969</td>\n",
              "      <td>115699.87</td>\n",
              "    </tr>\n",
              "    <tr>\n",
              "      <th>5</th>\n",
              "      <td>109431</td>\n",
              "      <td>108211.66</td>\n",
              "    </tr>\n",
              "    <tr>\n",
              "      <th>6</th>\n",
              "      <td>112635</td>\n",
              "      <td>116635.90</td>\n",
              "    </tr>\n",
              "    <tr>\n",
              "      <th>7</th>\n",
              "      <td>55794</td>\n",
              "      <td>64218.44</td>\n",
              "    </tr>\n",
              "    <tr>\n",
              "      <th>8</th>\n",
              "      <td>83088</td>\n",
              "      <td>76386.78</td>\n",
              "    </tr>\n",
              "  </tbody>\n",
              "</table>\n",
              "</div>"
            ],
            "text/plain": [
              "   actual  predicted\n",
              "0   37731   40817.78\n",
              "1  122391  123188.08\n",
              "2   57081   65154.46\n",
              "3   63218   63282.41\n",
              "4  116969  115699.87\n",
              "5  109431  108211.66\n",
              "6  112635  116635.90\n",
              "7   55794   64218.44\n",
              "8   83088   76386.78"
            ]
          },
          "metadata": {
            "tags": []
          },
          "execution_count": 27
        }
      ]
    },
    {
      "cell_type": "markdown",
      "metadata": {
        "id": "2LGj6LQ0urh6"
      },
      "source": [
        "##Assumptions"
      ]
    },
    {
      "cell_type": "code",
      "metadata": {
        "colab": {
          "base_uri": "https://localhost:8080/"
        },
        "id": "-np7Gx7MuPvW",
        "outputId": "943b42ea-42d2-464b-f5fb-7e38ccd26f4f"
      },
      "source": [
        "# mean of residuals\n",
        "residuals = ytest-ypred\n",
        "mean_residuals = np.mean(residuals)\n",
        "print(\"Mean of Residuals {}\".format(mean_residuals))"
      ],
      "execution_count": null,
      "outputs": [
        {
          "output_type": "stream",
          "text": [
            "Mean of Residuals -1695.2654727997385\n"
          ],
          "name": "stdout"
        }
      ]
    },
    {
      "cell_type": "code",
      "metadata": {
        "colab": {
          "base_uri": "https://localhost:8080/",
          "height": 384
        },
        "id": "IkclJS5eu7zx",
        "outputId": "7cd82009-9e11-445c-c93d-40f1d678d914"
      },
      "source": [
        "# Check for homoscedasticity\n",
        "\n",
        "p = sns.scatterplot(ypred,residuals)\n",
        "plt.xlabel('ypred/predicted values')\n",
        "plt.ylabel('Residuals')\n",
        "\n",
        "p = sns.lineplot([20000,120000],[0,0],color='blue')\n",
        "p = plt.title('Residuals vs fitted values plot for homoscedasticity check')"
      ],
      "execution_count": null,
      "outputs": [
        {
          "output_type": "stream",
          "text": [
            "/usr/local/lib/python3.7/dist-packages/seaborn/_decorators.py:43: FutureWarning: Pass the following variables as keyword args: x, y. From version 0.12, the only valid positional argument will be `data`, and passing other arguments without an explicit keyword will result in an error or misinterpretation.\n",
            "  FutureWarning\n",
            "/usr/local/lib/python3.7/dist-packages/seaborn/_decorators.py:43: FutureWarning: Pass the following variables as keyword args: x, y. From version 0.12, the only valid positional argument will be `data`, and passing other arguments without an explicit keyword will result in an error or misinterpretation.\n",
            "  FutureWarning\n"
          ],
          "name": "stderr"
        },
        {
          "output_type": "display_data",
          "data": {
            "image/png": "[encoded data removed]",
            "text/plain": [
              "<Figure size 432x288 with 1 Axes>"
            ]
          },
          "metadata": {
            "tags": [],
            "needs_background": "light"
          }
        }
      ]
    },
    {
      "cell_type": "markdown",
      "metadata": {
        "id": "f8WWMRXUv3LJ"
      },
      "source": [
        "Conclusion :\n",
        "\n",
        "    We can't find any pattern "
      ]
    },
    {
      "cell_type": "code",
      "metadata": {
        "colab": {
          "base_uri": "https://localhost:8080/"
        },
        "id": "Nhq23M02vhJY",
        "outputId": "2cf01893-4f0e-4bb9-c10f-99e33b73c5b7"
      },
      "source": [
        "#Check homoscedasticity\n",
        "\n",
        "import statsmodels.stats.api as sms\n",
        "from statsmodels.compat import lzip\n",
        "name = ['F statistic', 'p-value']\n",
        "test = sms.het_goldfeldquandt(residuals, xtest)\n",
        "lzip(name, test)"
      ],
      "execution_count": null,
      "outputs": [
        {
          "output_type": "stream",
          "text": [
            "/usr/local/lib/python3.7/dist-packages/statsmodels/tools/_testing.py:19: FutureWarning: pandas.util.testing is deprecated. Use the functions in the public API at pandas.testing instead.\n",
            "  import pandas.util.testing as tm\n"
          ],
          "name": "stderr"
        },
        {
          "output_type": "execute_result",
          "data": {
            "text/plain": [
              "[('F statistic', 1.6751651246214285), ('p-value', 0.3082972607285002)]"
            ]
          },
          "metadata": {
            "tags": []
          },
          "execution_count": 36
        }
      ]
    },
    {
      "cell_type": "markdown",
      "metadata": {
        "id": "0YXZx58cw6-P"
      },
      "source": [
        "Conclusion : \n",
        "    \n",
        "    Since p value is more than 0.05 in Goldfeld Quandt Test, \n",
        "    we can't reject it's null hypothesis that error terms are homoscedastic Good."
      ]
    },
    {
      "cell_type": "code",
      "metadata": {
        "colab": {
          "base_uri": "https://localhost:8080/",
          "height": 336
        },
        "id": "kFpVKoRkwyuY",
        "outputId": "677b5e21-ca50-43e8-c13b-090a7663116b"
      },
      "source": [
        "# Normallity of error terms\n",
        "p = sns.distplot(residuals,kde=True)\n",
        "p = plt.title('Normality of error terms/residuals')"
      ],
      "execution_count": null,
      "outputs": [
        {
          "output_type": "stream",
          "text": [
            "/usr/local/lib/python3.7/dist-packages/seaborn/distributions.py:2557: FutureWarning: `distplot` is a deprecated function and will be removed in a future version. Please adapt your code to use either `displot` (a figure-level function with similar flexibility) or `histplot` (an axes-level function for histograms).\n",
            "  warnings.warn(msg, FutureWarning)\n"
          ],
          "name": "stderr"
        },
        {
          "output_type": "display_data",
          "data": {
            "image/png": "[encoded data removed]",
            "text/plain": [
              "<Figure size 432x288 with 1 Axes>"
            ]
          },
          "metadata": {
            "tags": [],
            "needs_background": "light"
          }
        }
      ]
    },
    {
      "cell_type": "markdown",
      "metadata": {
        "id": "EqMpwLFcxUa0"
      },
      "source": [
        "Conclusion :\n",
        "\n",
        "    We can find nearly normal distribution of residuals. "
      ]
    }
  ]
}
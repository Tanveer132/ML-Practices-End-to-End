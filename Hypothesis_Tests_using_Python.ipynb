{
  "nbformat": 4,
  "nbformat_minor": 0,
  "metadata": {
    "kernelspec": {
      "display_name": "Python 3",
      "language": "python",
      "name": "python3"
    },
    "language_info": {
      "codemirror_mode": {
        "name": "ipython",
        "version": 3
      },
      "file_extension": ".py",
      "mimetype": "text/x-python",
      "name": "python",
      "nbconvert_exporter": "python",
      "pygments_lexer": "ipython3",
      "version": "3.8.5"
    },
    "colab": {
      "name": "Hypothesis Tests using Python.ipynb",
      "provenance": [],
      "include_colab_link": true
    }
  },
  "cells": [
    {
      "cell_type": "markdown",
      "metadata": {
        "id": "view-in-github",
        "colab_type": "text"
      },
      "source": [
        "<a href=\"https://colab.research.google.com/github/Tanveer132/ML-Practices-End-to-End/blob/main/Hypothesis_Tests_using_Python.ipynb\" target=\"_parent\"><img src=\"https://colab.research.google.com/assets/colab-badge.svg\" alt=\"Open In Colab\"/></a>"
      ]
    },
    {
      "cell_type": "markdown",
      "metadata": {
        "id": "P7JpNsYyFZsa"
      },
      "source": [
        "## Hypothesis Tests in Python "
      ]
    },
    {
      "cell_type": "markdown",
      "metadata": {
        "id": "CifdS1TCFZsf"
      },
      "source": [
        "\n",
        "    Normality Tests\n",
        "        1.Shapiro-Wilk Test\n",
        "        2.D’Agostino’s K^2 Test\n",
        "        3.Anderson-Darling Test\n",
        "    Correlation Tests\n",
        "        1.Pearson’s Correlation Coefficient\n",
        "        2.Spearman’s Rank Correlation\n",
        "        3.Kendall’s Rank Correlation\n",
        "        4.Chi-Squared Test\n",
        "    Stationary Tests\n",
        "        1.Augmented Dickey-Fuller\n",
        "        2.Kwiatkowski-Phillips-Schmidt-Shin\n",
        "    Parametric Statistical Hypothesis Tests\n",
        "        1.Student’s t-test\n",
        "        2.Paired Student’s t-test\n",
        "        3.Analysis of Variance Test (ANOVA)\n",
        "        4.Repeated Measures ANOVA Test\n",
        "    Nonparametric Statistical Hypothesis Tests\n",
        "        1.Mann-Whitney U Test\n",
        "        2.Wilcoxon Signed-Rank Test\n",
        "        3.Kruskal-Wallis H Test\n",
        "        4.Friedman Test\n"
      ]
    },
    {
      "cell_type": "markdown",
      "metadata": {
        "id": "7bJXaDjPFZsh"
      },
      "source": [
        "## Normality Tests"
      ]
    },
    {
      "cell_type": "markdown",
      "metadata": {
        "id": "PHp7UEvzFZsj"
      },
      "source": [
        "#### Shapiro-Wilk Test\n",
        "\n",
        "Tests whether a data sample has a Gaussian distribution.\n",
        "\n",
        "Assumptions\n",
        "\n",
        "    Observations in each sample are independent and identically distributed (iid).\n",
        "\n",
        "Interpretation\n",
        "\n",
        "    H0: the sample has a Gaussian distribution.\n",
        "    H1: the sample does not have a Gaussian distribution.\n"
      ]
    },
    {
      "cell_type": "code",
      "metadata": {
        "id": "XuWjOhXwFZsk",
        "outputId": "b7e95df0-4705-47bd-b7e5-93cd52f56137"
      },
      "source": [
        "from scipy.stats import shapiro\n",
        "data = [0.873, 2.817, 0.121, -0.945, -0.055, -1.436, 0.360, -1.478, -1.637, -1.869]\n",
        "stat, p = shapiro(data)\n",
        "print('stat=%.3f, p=%.3f' % (stat, p))\n",
        "if p > 0.05:\n",
        "    print('Probably Gaussian')\n",
        "else:\n",
        "    print('Probably not Gaussian')"
      ],
      "execution_count": null,
      "outputs": [
        {
          "output_type": "stream",
          "text": [
            "stat=0.895, p=0.193\n",
            "Probably Gaussian\n"
          ],
          "name": "stdout"
        }
      ]
    },
    {
      "cell_type": "markdown",
      "metadata": {
        "id": "g-6TyUO5FZso"
      },
      "source": [
        "#### D’Agostino’s K^2 Test\n",
        "\n",
        "Tests whether a data sample has a Gaussian distribution.\n",
        "\n",
        "Assumptions\n",
        "\n",
        "    Observations in each sample are independent and identically distributed (iid).\n",
        "\n",
        "Interpretation\n",
        "\n",
        "    H0: the sample has a Gaussian distribution.\n",
        "    H1: the sample does not have a Gaussian distribution.\n"
      ]
    },
    {
      "cell_type": "code",
      "metadata": {
        "id": "5OeQv51OFZsp",
        "outputId": "f2252c07-c072-4b54-f423-e499220dd520"
      },
      "source": [
        "from scipy.stats import normaltest\n",
        "data = [0.873, 2.817, 0.121, -0.945, -0.055, -1.436, 0.360, -1.478, -1.637, -1.869]\n",
        "stat, p = normaltest(data)\n",
        "print('stat=%.3f, p=%.3f' % (stat, p))\n",
        "if p > 0.05:\n",
        "    print('Probably Gaussian')\n",
        "else:\n",
        "    print('Probably not Gaussian')"
      ],
      "execution_count": null,
      "outputs": [
        {
          "output_type": "stream",
          "text": [
            "stat=3.392, p=0.183\n",
            "Probably Gaussian\n"
          ],
          "name": "stdout"
        },
        {
          "output_type": "stream",
          "text": [
            "C:\\ProgramData\\Anaconda3\\lib\\site-packages\\scipy\\stats\\stats.py:1603: UserWarning: kurtosistest only valid for n>=20 ... continuing anyway, n=10\n",
            "  warnings.warn(\"kurtosistest only valid for n>=20 ... continuing \"\n"
          ],
          "name": "stderr"
        }
      ]
    },
    {
      "cell_type": "markdown",
      "metadata": {
        "id": "QNCSp7f0FZsr"
      },
      "source": [
        "#### Anderson-Darling Test\n",
        "\n",
        "Tests whether a data sample has a Gaussian distribution.\n",
        "\n",
        "Assumptions\n",
        "\n",
        "    Observations in each sample are independent and identically distributed (iid).\n",
        "\n",
        "Interpretation\n",
        "\n",
        "    H0: the sample has a Gaussian distribution.\n",
        "    H1: the sample does not have a Gaussian distribution.\n"
      ]
    },
    {
      "cell_type": "code",
      "metadata": {
        "id": "f8nH2q52FZss",
        "outputId": "f9fedd68-d481-47e0-8999-ac587c39e628"
      },
      "source": [
        "from scipy.stats import anderson\n",
        "data = [0.873, 2.817, 0.121, -0.945, -0.055, -1.436, 0.360, -1.478, -1.637, -1.869]\n",
        "result = anderson(data)\n",
        "print('stat=%.3f' % (result.statistic))\n",
        "for i in range(len(result.critical_values)):\n",
        "    sl, cv = result.significance_level[i], result.critical_values[i]\n",
        "    if result.statistic < cv:\n",
        "        print('Probably Gaussian at the %.1f%% level' % (sl))\n",
        "    else:\n",
        "        print('Probably not Gaussian at the %.1f%% level' % (sl))"
      ],
      "execution_count": null,
      "outputs": [
        {
          "output_type": "stream",
          "text": [
            "stat=0.424\n",
            "Probably Gaussian at the 15.0% level\n",
            "Probably Gaussian at the 10.0% level\n",
            "Probably Gaussian at the 5.0% level\n",
            "Probably Gaussian at the 2.5% level\n",
            "Probably Gaussian at the 1.0% level\n"
          ],
          "name": "stdout"
        }
      ]
    },
    {
      "cell_type": "markdown",
      "metadata": {
        "id": "Eb7f46p7FZsu"
      },
      "source": [
        "## 2. Correlation Tests"
      ]
    },
    {
      "cell_type": "markdown",
      "metadata": {
        "id": "m14CZWGDFZsv"
      },
      "source": [
        "#### Pearson’s Correlation Coefficient\n",
        "\n",
        "Tests whether two samples have a linear relationship.\n",
        "\n",
        "Assumptions\n",
        "\n",
        "    Observations in each sample are independent and identically distributed (iid).\n",
        "    Observations in each sample are normally distributed.\n",
        "    Observations in each sample have the same variance.\n",
        "\n",
        "Interpretation\n",
        "\n",
        "    H0: the two samples are independent.\n",
        "    H1: there is a dependency between the samples.\n"
      ]
    },
    {
      "cell_type": "code",
      "metadata": {
        "id": "VTLtcPJ-FZsw",
        "outputId": "909daceb-0079-4311-9327-665422e4eaff"
      },
      "source": [
        "from scipy.stats import pearsonr\n",
        "data1 = [0.873, 2.817, 0.121, -0.945, -0.055, -1.436, 0.360, -1.478, -1.637, -1.869]\n",
        "data2 = [0.353, 3.517, 0.125, -7.545, -0.555, -1.536, 3.350, -1.578, -3.537, -1.579]\n",
        "stat, p = pearsonr(data1, data2)\n",
        "print('stat=%.3f, p=%.3f' % (stat, p))\n",
        "if p > 0.05:\n",
        "    print('Probably independent')\n",
        "else:\n",
        "    print('Probably dependent')"
      ],
      "execution_count": null,
      "outputs": [
        {
          "output_type": "stream",
          "text": [
            "stat=0.688, p=0.028\n",
            "Probably dependent\n"
          ],
          "name": "stdout"
        }
      ]
    },
    {
      "cell_type": "markdown",
      "metadata": {
        "id": "dD_fLw_UFZsx"
      },
      "source": [
        "#### Spearman’s Rank Correlation\n",
        "\n",
        "Tests whether two samples have a monotonic relationship.\n",
        "\n",
        "Assumptions\n",
        "\n",
        "    Observations in each sample are independent and identically distributed (iid).\n",
        "    Observations in each sample can be ranked.\n",
        "\n",
        "Interpretation\n",
        "\n",
        "    H0: the two samples are independent.\n",
        "    H1: there is a dependency between the samples.\n"
      ]
    },
    {
      "cell_type": "code",
      "metadata": {
        "id": "f_vZNv1RFZsy",
        "outputId": "e41f2da1-6465-49a7-9a53-ec5fa6c91a87"
      },
      "source": [
        "from scipy.stats import spearmanr\n",
        "data1 = [0.873, 2.817, 0.121, -0.945, -0.055, -1.436, 0.360, -1.478, -1.637, -1.869]\n",
        "data2 = [0.353, 3.517, 0.125, -7.545, -0.555, -1.536, 3.350, -1.578, -3.537, -1.579]\n",
        "stat, p = spearmanr(data1, data2)\n",
        "print('stat=%.3f, p=%.3f' % (stat, p))\n",
        "if p > 0.05:\n",
        "    print('Probably independent')\n",
        "else:\n",
        "    print('Probably dependent')"
      ],
      "execution_count": null,
      "outputs": [
        {
          "output_type": "stream",
          "text": [
            "stat=0.855, p=0.002\n",
            "Probably dependent\n"
          ],
          "name": "stdout"
        }
      ]
    },
    {
      "cell_type": "markdown",
      "metadata": {
        "id": "c9g7fPUMFZsz"
      },
      "source": [
        "#### Kendall’s Rank Correlation\n",
        "\n",
        "Tests whether two samples have a monotonic relationship.\n",
        "\n",
        "Assumptions\n",
        "\n",
        "    Observations in each sample are independent and identically distributed (iid).\n",
        "    Observations in each sample can be ranked.\n",
        "\n",
        "Interpretation\n",
        "\n",
        "    H0: the two samples are independent.\n",
        "    H1: there is a dependency between the samples.\n"
      ]
    },
    {
      "cell_type": "code",
      "metadata": {
        "id": "y456LFtpFZsz",
        "outputId": "04086867-dc86-43a1-f0a8-dfe3d6900e6d"
      },
      "source": [
        "from scipy.stats import kendalltau\n",
        "data1 = [0.873, 2.817, 0.121, -0.945, -0.055, -1.436, 0.360, -1.478, -1.637, -1.869]\n",
        "data2 = [0.353, 3.517, 0.125, -7.545, -0.555, -1.536, 3.350, -1.578, -3.537, -1.579]\n",
        "stat, p = kendalltau(data1, data2)\n",
        "print('stat=%.3f, p=%.3f' % (stat, p))\n",
        "if p > 0.05:\n",
        "    print('Probably independent') \n",
        "else:\n",
        "    print('Probably dependent')"
      ],
      "execution_count": null,
      "outputs": [
        {
          "output_type": "stream",
          "text": [
            "stat=0.733, p=0.002\n",
            "Probably dependent\n"
          ],
          "name": "stdout"
        }
      ]
    },
    {
      "cell_type": "markdown",
      "metadata": {
        "id": "yK8E0nAyFZs0"
      },
      "source": [
        "#### Chi-Squared Test\n",
        "\n",
        "Tests whether two categorical variables are related or independent.\n",
        "\n",
        "Assumptions\n",
        "\n",
        "    Observations used in the calculation of the contingency table are independent.\n",
        "    25 or more examples in each cell of the contingency table.\n",
        "\n",
        "Interpretation\n",
        "\n",
        "    H0: the two samples are independent.\n",
        "    H1: there is a dependency between the samples.\n"
      ]
    },
    {
      "cell_type": "code",
      "metadata": {
        "id": "KYWzGIRYFZs1",
        "outputId": "f2ac070d-b8b1-47fa-a8eb-5f4a055c81f7"
      },
      "source": [
        "from scipy.stats import chi2_contingency\n",
        "table = [[10, 20, 30],[6,  9,  17]]\n",
        "stat, p, dof, expected = chi2_contingency(table)\n",
        "print('stat=%.3f, p=%.3f' % (stat, p))\n",
        "if p > 0.05:\n",
        "    print('Probably independent')\n",
        "else:\n",
        "    print('Probably dependent')"
      ],
      "execution_count": null,
      "outputs": [
        {
          "output_type": "stream",
          "text": [
            "stat=0.272, p=0.873\n",
            "Probably independent\n"
          ],
          "name": "stdout"
        }
      ]
    },
    {
      "cell_type": "markdown",
      "metadata": {
        "id": "BrhaumqqFZs1"
      },
      "source": [
        "## 3.Stationary Tests"
      ]
    },
    {
      "cell_type": "markdown",
      "metadata": {
        "id": "LvRxW9PhFZs2"
      },
      "source": [
        "#### Augmented Dickey-Fuller Unit Root Test\n",
        "\n",
        "Tests whether a time series has a unit root, e.g. has a trend or more generally is autoregressive.\n",
        "\n",
        "Assumptions\n",
        "\n",
        "    Observations in are temporally ordered.\n",
        "\n",
        "Interpretation\n",
        "\n",
        "    H0: a unit root is present (series is non-stationary).\n",
        "    H1: a unit root is not present (series is stationary).\n"
      ]
    },
    {
      "cell_type": "code",
      "metadata": {
        "id": "-myvuGVdFZs3",
        "outputId": "56bfbb1a-c602-4c74-ff07-0e2ab0f238da"
      },
      "source": [
        "from statsmodels.tsa.stattools import adfuller\n",
        "data = [0, 1, 2, 3, 4, 5, 6, 7, 8, 9]\n",
        "stat, p, lags, obs, crit, t = adfuller(data)\n",
        "print('stat=%.3f, p=%.3f' % (stat, p))\n",
        "if p > 0.05:\n",
        "    print('Probably not Stationary')\n",
        "else:\n",
        "    print('Probably Stationary')"
      ],
      "execution_count": null,
      "outputs": [
        {
          "output_type": "stream",
          "text": [
            "stat=0.992, p=0.994\n",
            "Probably not Stationary\n"
          ],
          "name": "stdout"
        }
      ]
    },
    {
      "cell_type": "markdown",
      "metadata": {
        "id": "D8W3TJ8LFZs3"
      },
      "source": [
        "#### Kwiatkowski-Phillips-Schmidt-Shin\n",
        "\n",
        "Tests whether a time series is trend stationary or not.\n",
        "\n",
        "Assumptions\n",
        "\n",
        "    Observations in are temporally ordered.\n",
        "\n",
        "Interpretation\n",
        "\n",
        "    H0: the time series is not trend-stationary.\n",
        "    H1: the time series is trend-stationary.\n"
      ]
    },
    {
      "cell_type": "code",
      "metadata": {
        "id": "uad5BEcvFZs4",
        "outputId": "28d9f8b4-ca6f-42a4-b5d3-ea08ffa3e90f"
      },
      "source": [
        "from statsmodels.tsa.stattools import kpss\n",
        "data = [0, 1, 2, 3, 4, 5, 6, 7, 8, 9]\n",
        "stat, p, lags, crit = kpss(data)\n",
        "print('stat=%.3f, p=%.3f' % (stat, p))\n",
        "if p > 0.05:\n",
        "    print('Probably not Stationary')\n",
        "else:\n",
        "    print('Probably Stationary')"
      ],
      "execution_count": null,
      "outputs": [
        {
          "output_type": "stream",
          "text": [
            "stat=0.410, p=0.073\n",
            "Probably not Stationary\n"
          ],
          "name": "stdout"
        },
        {
          "output_type": "stream",
          "text": [
            "C:\\ProgramData\\Anaconda3\\lib\\site-packages\\statsmodels\\tsa\\stattools.py:1843: FutureWarning: The behavior of using nlags=None will change in release 0.13.Currently nlags=None is the same as nlags=\"legacy\", and so a sample-size lag length is used. After the next release, the default will change to be the same as nlags=\"auto\" which uses an automatic lag length selection method. To silence this warning, either use \"auto\" or \"legacy\"\n",
            "  warnings.warn(msg, FutureWarning)\n"
          ],
          "name": "stderr"
        }
      ]
    },
    {
      "cell_type": "markdown",
      "metadata": {
        "id": "aBTwC8eMFZs5"
      },
      "source": [
        "## 4. Parametric Statistical Hypothesis Tests"
      ]
    },
    {
      "cell_type": "markdown",
      "metadata": {
        "id": "PFRISpS3FZs5"
      },
      "source": [
        "<a href=\"https://statisticsbyjim.com/hypothesis-testing/nonparametric-parametric-tests/\">Click Here for Parametric Statistical Hypothesis Tests </a>"
      ]
    },
    {
      "cell_type": "markdown",
      "metadata": {
        "id": "5XDmhvkAFZs6"
      },
      "source": [
        "#### Student’s t-test\n",
        "\n",
        "Tests whether the means of two independent samples are significantly different.\n",
        "\n",
        "Assumptions\n",
        "\n",
        "    Observations in each sample are independent and identically distributed (iid).\n",
        "    Observations in each sample are normally distributed.\n",
        "    Observations in each sample have the same variance.\n",
        "\n",
        "Interpretation\n",
        "\n",
        "    H0: the means of the samples are equal.\n",
        "    H1: the means of the samples are unequal.\n"
      ]
    },
    {
      "cell_type": "code",
      "metadata": {
        "id": "95Zpzf8gFZs6",
        "outputId": "c86e4678-d18f-44d5-db6a-3f447de092d6"
      },
      "source": [
        "from scipy.stats import ttest_ind\n",
        "data1 = [0.873, 2.817, 0.121, -0.945, -0.055, -1.436, 0.360, -1.478, -1.637, -1.869]\n",
        "data2 = [1.142, -0.432, -0.938, -0.729, -0.846, -0.157, 0.500, 1.183, -1.075, -0.169]\n",
        "stat, p = ttest_ind(data1, data2)\n",
        "print('stat=%.3f, p=%.3f' % (stat, p))\n",
        "if p > 0.05:\n",
        "    print('Probably the same distribution')\n",
        "else:\n",
        "    print('Probably different distributions')"
      ],
      "execution_count": null,
      "outputs": [
        {
          "output_type": "stream",
          "text": [
            "stat=-0.326, p=0.748\n",
            "Probably the same distribution\n"
          ],
          "name": "stdout"
        }
      ]
    },
    {
      "cell_type": "markdown",
      "metadata": {
        "id": "rJu-ixzcFZs6"
      },
      "source": [
        "#### Paired Student’s t-test\n",
        "\n",
        "Tests whether the means of two paired samples are significantly different.\n",
        "\n",
        "Assumptions\n",
        "\n",
        "    Observations in each sample are independent and identically distributed (iid).\n",
        "    Observations in each sample are normally distributed.\n",
        "    Observations in each sample have the same variance.\n",
        "    Observations across each sample are paired.\n",
        "    \n",
        "Interpretation\n",
        "\n",
        "    H0: the means of the samples are equal.\n",
        "    H1: the means of the samples are unequal.\n",
        "\n"
      ]
    },
    {
      "cell_type": "code",
      "metadata": {
        "id": "DOJrRS9CFZs6",
        "outputId": "90eaccc9-12dc-492c-9bb1-82a23f7282c0"
      },
      "source": [
        "from scipy.stats import ttest_rel\n",
        "data1 = [0.873, 2.817, 0.121, -0.945, -0.055, -1.436, 0.360, -1.478, -1.637, -1.869]\n",
        "data2 = [1.142, -0.432, -0.938, -0.729, -0.846, -0.157, 0.500, 1.183, -1.075, -0.169]\n",
        "stat, p = ttest_rel(data1, data2)\n",
        "print('stat=%.3f, p=%.3f' % (stat, p))\n",
        "if p > 0.05:\n",
        "    print('Probably the same distribution')\n",
        "else:\n",
        "    print('Probably different distributions')"
      ],
      "execution_count": null,
      "outputs": [
        {
          "output_type": "stream",
          "text": [
            "stat=-0.334, p=0.746\n",
            "Probably the same distribution\n"
          ],
          "name": "stdout"
        }
      ]
    },
    {
      "cell_type": "markdown",
      "metadata": {
        "id": "HLDbNSKuFZs7"
      },
      "source": [
        "#### Analysis of Variance Test (ANOVA)\n",
        "\n",
        "Tests whether the means of two or more independent samples are significantly different.\n",
        "\n",
        "Assumptions\n",
        "\n",
        "    Observations in each sample are independent and identically distributed (iid).\n",
        "    Observations in each sample are normally distributed.\n",
        "    Observations in each sample have the same variance.\n",
        "\n",
        "Interpretation\n",
        "\n",
        "    H0: the means of the samples are equal.\n",
        "    H1: one or more of the means of the samples are unequal.\n"
      ]
    },
    {
      "cell_type": "code",
      "metadata": {
        "id": "Z8L5pTIVFZs8",
        "outputId": "78fbfe6e-f2a2-4f99-8425-d9eceedbc548"
      },
      "source": [
        "from scipy.stats import f_oneway\n",
        "data1 = [0.873, 2.817, 0.121, -0.945, -0.055, -1.436, 0.360, -1.478, -1.637, -1.869]\n",
        "data2 = [1.142, -0.432, -0.938, -0.729, -0.846, -0.157, 0.500, 1.183, -1.075, -0.169]\n",
        "data3 = [-0.208, 0.696, 0.928, -1.148, -0.213, 0.229, 0.137, 0.269, -0.870, -1.204]\n",
        "stat, p = f_oneway(data1, data2, data3)\n",
        "print('stat=%.3f, p=%.3f' % (stat, p))\n",
        "if p > 0.05:\n",
        "    print('Probably the same distribution')\n",
        "else:\n",
        "    print('Probably different distributions')"
      ],
      "execution_count": null,
      "outputs": [
        {
          "output_type": "stream",
          "text": [
            "stat=0.096, p=0.908\n",
            "Probably the same distribution\n"
          ],
          "name": "stdout"
        }
      ]
    },
    {
      "cell_type": "markdown",
      "metadata": {
        "id": "TszQuEPqFZs9"
      },
      "source": [
        "#### Repeated Measures ANOVA Test\n",
        "\n",
        "Tests whether the means of two or more paired samples are significantly different.\n",
        "\n",
        "Assumptions\n",
        "\n",
        "    Observations in each sample are independent and identically distributed (iid).\n",
        "    Observations in each sample are normally distributed.\n",
        "    Observations in each sample have the same variance.\n",
        "    Observations across each sample are paired.\n",
        "\n",
        "Interpretation\n",
        "\n",
        "    H0: the means of the samples are equal.\n",
        "    H1: one or more of the means of the samples are unequal.\n"
      ]
    },
    {
      "cell_type": "markdown",
      "metadata": {
        "id": "U3JyX5NiFZs-"
      },
      "source": [
        "## 5.Nonparametric Statistical Hypothesis Tests\n",
        "#### Mann-Whitney U Test\n",
        "\n",
        "Tests whether the distributions of two independent samples are equal or not.\n",
        "\n",
        "Assumptions\n",
        "\n",
        "    Observations in each sample are independent and identically distributed (iid).\n",
        "    Observations in each sample can be ranked.\n",
        "\n",
        "Interpretation\n",
        "\n",
        "    H0: the distributions of both samples are equal.\n",
        "    H1: the distributions of both samples are not equal.\n"
      ]
    },
    {
      "cell_type": "code",
      "metadata": {
        "id": "nWi-rhsqFZs-",
        "outputId": "bf18e912-7b53-4ddd-b23c-8eeb3a362aa5"
      },
      "source": [
        "from scipy.stats import mannwhitneyu\n",
        "data1 = [0.873, 2.817, 0.121, -0.945, -0.055, -1.436, 0.360, -1.478, -1.637, -1.869]\n",
        "data2 = [1.142, -0.432, -0.938, -0.729, -0.846, -0.157, 0.500, 1.183, -1.075, -0.169]\n",
        "stat, p = mannwhitneyu(data1, data2)\n",
        "print('stat=%.3f, p=%.3f' % (stat, p))\n",
        "if p > 0.05:\n",
        "    print('Probably the same distribution')\n",
        "else:\n",
        "    print('Probably different distributions')"
      ],
      "execution_count": null,
      "outputs": [
        {
          "output_type": "stream",
          "text": [
            "stat=40.000, p=0.236\n",
            "Probably the same distribution\n"
          ],
          "name": "stdout"
        }
      ]
    },
    {
      "cell_type": "markdown",
      "metadata": {
        "id": "NJ5epvoPFZs_"
      },
      "source": [
        "#### Wilcoxon Signed-Rank Test\n",
        "\n",
        "Tests whether the distributions of two paired samples are equal or not.\n",
        "\n",
        "Assumptions\n",
        "\n",
        "    Observations in each sample are independent and identically distributed (iid).\n",
        "    Observations in each sample can be ranked.\n",
        "    Observations across each sample are paired.\n",
        "\n",
        "Interpretation\n",
        "\n",
        "    H0: the distributions of both samples are equal.\n",
        "    H1: the distributions of both samples are not equal.\n"
      ]
    },
    {
      "cell_type": "code",
      "metadata": {
        "id": "ZytfaUf1FZs_",
        "outputId": "7f6eed29-5420-4ac8-a1d4-e98f1dabbf82"
      },
      "source": [
        "from scipy.stats import wilcoxon\n",
        "data1 = [0.873, 2.817, 0.121, -0.945, -0.055, -1.436, 0.360, -1.478, -1.637, -1.869]\n",
        "data2 = [1.142, -0.432, -0.938, -0.729, -0.846, -0.157, 0.500, 1.183, -1.075, -0.169]\n",
        "stat, p = wilcoxon(data1, data2)\n",
        "print('stat=%.3f, p=%.3f' % (stat, p))\n",
        "if p > 0.05:\n",
        "    print('Probably the same distribution')\n",
        "else:\n",
        "    print('Probably different distributions')"
      ],
      "execution_count": null,
      "outputs": [
        {
          "output_type": "stream",
          "text": [
            "stat=21.000, p=0.557\n",
            "Probably the same distribution\n"
          ],
          "name": "stdout"
        }
      ]
    },
    {
      "cell_type": "markdown",
      "metadata": {
        "id": "T9j5MtuYFZtA"
      },
      "source": [
        "#### Kruskal-Wallis H Test\n",
        "\n",
        "Tests whether the distributions of two or more independent samples are equal or not.\n",
        "\n",
        "Assumptions\n",
        "\n",
        "    Observations in each sample are independent and identically distributed (iid).\n",
        "    Observations in each sample can be ranked.\n",
        "\n",
        "Interpretation\n",
        "\n",
        "    H0: the distributions of all samples are equal.\n",
        "    H1: the distributions of one or more samples are not equal.\n"
      ]
    },
    {
      "cell_type": "code",
      "metadata": {
        "id": "ZqYwLXszFZtA",
        "outputId": "12fc9c8d-818e-401b-dd0f-a67c809d48bd"
      },
      "source": [
        "from scipy.stats import kruskal\n",
        "data1 = [0.873, 2.817, 0.121, -0.945, -0.055, -1.436, 0.360, -1.478, -1.637, -1.869]\n",
        "data2 = [1.142, -0.432, -0.938, -0.729, -0.846, -0.157, 0.500, 1.183, -1.075, -0.169]\n",
        "stat, p = kruskal(data1, data2)\n",
        "print('stat=%.3f, p=%.3f' % (stat, p))\n",
        "if p > 0.05:\n",
        "    print('Probably the same distribution')\n",
        "else:\n",
        "    print('Probably different distributions')"
      ],
      "execution_count": null,
      "outputs": [
        {
          "output_type": "stream",
          "text": [
            "stat=0.571, p=0.450\n",
            "Probably the same distribution\n"
          ],
          "name": "stdout"
        }
      ]
    },
    {
      "cell_type": "markdown",
      "metadata": {
        "id": "8pXNrpp2FZtB"
      },
      "source": [
        "#### Friedman Test\n",
        "\n",
        "Tests whether the distributions of two or more paired samples are equal or not.\n",
        "\n",
        "Assumptions\n",
        "\n",
        "    Observations in each sample are independent and identically distributed (iid).\n",
        "    Observations in each sample can be ranked.\n",
        "    Observations across each sample are paired.\n",
        "\n",
        "Interpretation\n",
        "\n",
        "    H0: the distributions of all samples are equal.\n",
        "    H1: the distributions of one or more samples are not equal.\n"
      ]
    },
    {
      "cell_type": "code",
      "metadata": {
        "id": "93CBX2PlFZtB",
        "outputId": "a7df6825-42c2-401e-bb6f-6babaa6d667d"
      },
      "source": [
        "from scipy.stats import friedmanchisquare\n",
        "data1 = [0.873, 2.817, 0.121, -0.945, -0.055, -1.436, 0.360, -1.478, -1.637, -1.869]\n",
        "data2 = [1.142, -0.432, -0.938, -0.729, -0.846, -0.157, 0.500, 1.183, -1.075, -0.169]\n",
        "data3 = [-0.208, 0.696, 0.928, -1.148, -0.213, 0.229, 0.137, 0.269, -0.870, -1.204]\n",
        "stat, p = friedmanchisquare(data1, data2, data3)\n",
        "print('stat=%.3f, p=%.3f' % (stat, p))\n",
        "if p > 0.05:\n",
        "    print('Probably the same distribution')\n",
        "else:\n",
        "    print('Probably different distributions')"
      ],
      "execution_count": null,
      "outputs": [
        {
          "output_type": "stream",
          "text": [
            "stat=0.800, p=0.670\n",
            "Probably the same distribution\n"
          ],
          "name": "stdout"
        }
      ]
    },
    {
      "cell_type": "code",
      "metadata": {
        "id": "z9Vr7vRcFZtB"
      },
      "source": [
        ""
      ],
      "execution_count": null,
      "outputs": []
    }
  ]
}
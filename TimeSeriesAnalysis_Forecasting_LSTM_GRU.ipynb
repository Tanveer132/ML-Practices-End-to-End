{
  "nbformat": 4,
  "nbformat_minor": 0,
  "metadata": {
    "colab": {
      "name": "TimeSeriesAnalysis_Forecasting_LSTM_GRU.ipynb",
      "provenance": [],
      "include_colab_link": true
    },
    "kernelspec": {
      "display_name": "Python 3",
      "language": "python",
      "name": "python3"
    },
    "language_info": {
      "codemirror_mode": {
        "name": "ipython",
        "version": 3
      },
      "file_extension": ".py",
      "mimetype": "text/x-python",
      "name": "python",
      "nbconvert_exporter": "python",
      "pygments_lexer": "ipython3",
      "version": "3.6.9"
    }
  },
  "cells": [
    {
      "cell_type": "markdown",
      "metadata": {
        "id": "view-in-github",
        "colab_type": "text"
      },
      "source": [
        "<a href=\"https://colab.research.google.com/github/Tanveer132/ML-Practices-End-to-End/blob/main/TimeSeriesAnalysis_Forecasting_LSTM_GRU.ipynb\" target=\"_parent\"><img src=\"https://colab.research.google.com/assets/colab-badge.svg\" alt=\"Open In Colab\"/></a>"
      ]
    },
    {
      "cell_type": "markdown",
      "metadata": {
        "id": "X8ZoHAwBfoIQ"
      },
      "source": [
        "# Time Series Analysis - Forecasting with LSTM\n",
        "\n",
        "Long Short Term Memory"
      ]
    },
    {
      "cell_type": "code",
      "metadata": {
        "id": "z9QXgt3zlFbl"
      },
      "source": [
        "#import all necessary libraries\n",
        "import numpy as np\n",
        "import pandas as pd\n",
        "import matplotlib.pyplot as plt\n",
        "import seaborn as sns\n",
        "\n",
        "from sklearn.preprocessing import StandardScaler"
      ],
      "execution_count": null,
      "outputs": []
    },
    {
      "cell_type": "code",
      "metadata": {
        "colab": {
          "base_uri": "https://localhost:8080/",
          "height": 238
        },
        "id": "XWWxYnfZlsmM",
        "outputId": "07b44cf9-e73d-48fe-db3a-3aa5326e71d0"
      },
      "source": [
        "df=pd.read_csv('/content/Electric_Production.csv',parse_dates=True,index_col='DATE')\n",
        "df.head()"
      ],
      "execution_count": null,
      "outputs": [
        {
          "data": {
            "text/html": [
              "<div>\n",
              "<style scoped>\n",
              "    .dataframe tbody tr th:only-of-type {\n",
              "        vertical-align: middle;\n",
              "    }\n",
              "\n",
              "    .dataframe tbody tr th {\n",
              "        vertical-align: top;\n",
              "    }\n",
              "\n",
              "    .dataframe thead th {\n",
              "        text-align: right;\n",
              "    }\n",
              "</style>\n",
              "<table border=\"1\" class=\"dataframe\">\n",
              "  <thead>\n",
              "    <tr style=\"text-align: right;\">\n",
              "      <th></th>\n",
              "      <th>IPG2211A2N</th>\n",
              "    </tr>\n",
              "    <tr>\n",
              "      <th>DATE</th>\n",
              "      <th></th>\n",
              "    </tr>\n",
              "  </thead>\n",
              "  <tbody>\n",
              "    <tr>\n",
              "      <th>1985-01-01</th>\n",
              "      <td>72.5052</td>\n",
              "    </tr>\n",
              "    <tr>\n",
              "      <th>1985-02-01</th>\n",
              "      <td>70.6720</td>\n",
              "    </tr>\n",
              "    <tr>\n",
              "      <th>1985-03-01</th>\n",
              "      <td>62.4502</td>\n",
              "    </tr>\n",
              "    <tr>\n",
              "      <th>1985-04-01</th>\n",
              "      <td>57.4714</td>\n",
              "    </tr>\n",
              "    <tr>\n",
              "      <th>1985-05-01</th>\n",
              "      <td>55.3151</td>\n",
              "    </tr>\n",
              "  </tbody>\n",
              "</table>\n",
              "</div>"
            ],
            "text/plain": [
              "            IPG2211A2N\n",
              "DATE                  \n",
              "1985-01-01     72.5052\n",
              "1985-02-01     70.6720\n",
              "1985-03-01     62.4502\n",
              "1985-04-01     57.4714\n",
              "1985-05-01     55.3151"
            ]
          },
          "execution_count": 2,
          "metadata": {
            "tags": []
          },
          "output_type": "execute_result"
        }
      ]
    },
    {
      "cell_type": "code",
      "metadata": {
        "colab": {
          "base_uri": "https://localhost:8080/"
        },
        "id": "-qt6vGybl10N",
        "outputId": "47ac51d8-ca6b-4ab2-ad5e-9ba93ee79d43"
      },
      "source": [
        "df.info()"
      ],
      "execution_count": null,
      "outputs": [
        {
          "name": "stdout",
          "output_type": "stream",
          "text": [
            "<class 'pandas.core.frame.DataFrame'>\n",
            "DatetimeIndex: 397 entries, 1985-01-01 to 2018-01-01\n",
            "Data columns (total 1 columns):\n",
            " #   Column      Non-Null Count  Dtype  \n",
            "---  ------      --------------  -----  \n",
            " 0   IPG2211A2N  397 non-null    float64\n",
            "dtypes: float64(1)\n",
            "memory usage: 6.2 KB\n"
          ]
        }
      ]
    },
    {
      "cell_type": "code",
      "metadata": {
        "id": "xc6pxz0hmYuS"
      },
      "source": [
        "#Get train and Test data\n",
        "\n",
        "train=df.iloc[:250,:]\n",
        "test=df.iloc[250:,:]"
      ],
      "execution_count": null,
      "outputs": []
    },
    {
      "cell_type": "code",
      "metadata": {
        "id": "FSGgYwGBn9HA"
      },
      "source": [
        "#for better performance of sequential model and to reduce computing, scale data\n",
        "scaler=StandardScaler()\n",
        "sctrain=scaler.fit_transform(train)\n",
        "sctest=scaler.fit_transform(test)"
      ],
      "execution_count": null,
      "outputs": []
    },
    {
      "cell_type": "markdown",
      "metadata": {
        "id": "64BU7rqcnw8h"
      },
      "source": [
        "Define function to get training data\n",
        "\n",
        "    train.shape = (p,q)\n",
        "\n"
      ]
    },
    {
      "cell_type": "code",
      "metadata": {
        "id": "uIs5arG0mZwt"
      },
      "source": [
        "def featureTransform(n_steps,data):\n",
        "  x=[]\n",
        "  y=[]\n",
        "  for i in range(n_steps,len(data)):\n",
        "    x.append(data[i-n_steps:i,0])\n",
        "    y.append(data[i,0])\n",
        "  x,y=np.array(x),np.array(y)\n",
        "  return x,y"
      ],
      "execution_count": null,
      "outputs": []
    },
    {
      "cell_type": "code",
      "metadata": {
        "colab": {
          "base_uri": "https://localhost:8080/"
        },
        "id": "Jq2p6YEHoWSv",
        "outputId": "faf22034-d6fb-4af6-e6f8-8ef78214e589"
      },
      "source": [
        "n_steps=8\n",
        "\n",
        "xtrain,ytrain=featureTransform(n_steps,sctrain)\n",
        "\n",
        "xtrain.shape,ytrain.shape"
      ],
      "execution_count": null,
      "outputs": [
        {
          "data": {
            "text/plain": [
              "((242, 8), (242,))"
            ]
          },
          "execution_count": 7,
          "metadata": {
            "tags": []
          },
          "output_type": "execute_result"
        }
      ]
    },
    {
      "cell_type": "markdown",
      "metadata": {
        "id": "znAS8o77hbtZ"
      },
      "source": [
        "Reshape training data into 3D\n",
        "\n",
        "    train.reshape(p,q,1)"
      ]
    },
    {
      "cell_type": "code",
      "metadata": {
        "id": "SwPtLPHWohay"
      },
      "source": [
        "#Reshape training data in acceptable to LSTM model\n",
        "\n",
        "xtrain=xtrain.reshape(xtrain.shape[0],xtrain.shape[1],1)"
      ],
      "execution_count": null,
      "outputs": []
    },
    {
      "cell_type": "markdown",
      "metadata": {
        "id": "NKSKa-iJpFQO"
      },
      "source": [
        "Build model and fit"
      ]
    },
    {
      "cell_type": "code",
      "metadata": {
        "colab": {
          "base_uri": "https://localhost:8080/"
        },
        "id": "TZ4_5YXmo5Ej",
        "outputId": "9f9a3e81-1d2c-4885-f828-bc77023f51cd"
      },
      "source": [
        "from keras.layers import LSTM\n",
        "from keras.layers import Dense\n",
        "from keras import Sequential\n",
        "\n",
        "#build model\n",
        "model=Sequential()\n",
        "model.add(LSTM(200,activation='relu',input_shape=(n_steps,1)))\n",
        "model.add(Dense(1))\n",
        "model.compile(loss='mean_squared_error',optimizer='adam')\n",
        "\n",
        "model.summary()"
      ],
      "execution_count": null,
      "outputs": [
        {
          "name": "stdout",
          "output_type": "stream",
          "text": [
            "Model: \"sequential\"\n",
            "_________________________________________________________________\n",
            "Layer (type)                 Output Shape              Param #   \n",
            "=================================================================\n",
            "lstm (LSTM)                  (None, 200)               161600    \n",
            "_________________________________________________________________\n",
            "dense (Dense)                (None, 1)                 201       \n",
            "=================================================================\n",
            "Total params: 161,801\n",
            "Trainable params: 161,801\n",
            "Non-trainable params: 0\n",
            "_________________________________________________________________\n"
          ]
        }
      ]
    },
    {
      "cell_type": "code",
      "metadata": {
        "id": "swAHymSApMq6"
      },
      "source": [
        "history=model.fit(xtrain,ytrain,epochs=100,batch_size=20,verbose=0)"
      ],
      "execution_count": null,
      "outputs": []
    },
    {
      "cell_type": "code",
      "metadata": {
        "colab": {
          "base_uri": "https://localhost:8080/",
          "height": 282
        },
        "id": "AWBQzgy7pQ5W",
        "outputId": "e6afd012-642d-4e11-fe02-aa97f26a85d5"
      },
      "source": [
        "plt.plot(history.history['loss'])"
      ],
      "execution_count": null,
      "outputs": [
        {
          "data": {
            "text/plain": [
              "[<matplotlib.lines.Line2D at 0x7f8a0ddb1b10>]"
            ]
          },
          "execution_count": 11,
          "metadata": {
            "tags": []
          },
          "output_type": "execute_result"
        },
        {
          "data": {
            "image/png": "[encoded data removed]",
            "text/plain": [
              "<Figure size 432x288 with 1 Axes>"
            ]
          },
          "metadata": {
            "needs_background": "light",
            "tags": []
          },
          "output_type": "display_data"
        }
      ]
    },
    {
      "cell_type": "markdown",
      "metadata": {
        "id": "cufEY5earYyi"
      },
      "source": [
        "Get testing data and predictions"
      ]
    },
    {
      "cell_type": "code",
      "metadata": {
        "id": "6p_CeCYkphFf"
      },
      "source": [
        "xtest,ytest=featureTransform(12,sctest)\n",
        "xtest=xtest.reshape(xtest.shape[0],xtest.shape[1],1)"
      ],
      "execution_count": null,
      "outputs": []
    },
    {
      "cell_type": "code",
      "metadata": {
        "colab": {
          "base_uri": "https://localhost:8080/"
        },
        "id": "uKNGj_PergiS",
        "outputId": "611bf710-3da4-4372-e602-af16ee95861d"
      },
      "source": [
        "ypred=model.predict(xtest)\n",
        "predictions=scaler.inverse_transform(ypred)"
      ],
      "execution_count": null,
      "outputs": [
        {
          "name": "stdout",
          "output_type": "stream",
          "text": [
            "WARNING:tensorflow:Model was constructed with shape (None, 8, 1) for input KerasTensor(type_spec=TensorSpec(shape=(None, 8, 1), dtype=tf.float32, name='lstm_input'), name='lstm_input', description=\"created by layer 'lstm_input'\"), but it was called on an input with incompatible shape (None, 12, 1).\n"
          ]
        }
      ]
    },
    {
      "cell_type": "code",
      "metadata": {
        "id": "vhVJOZx-rjzi"
      },
      "source": [
        "actual=scaler.inverse_transform(ytest.reshape(-1,1))"
      ],
      "execution_count": null,
      "outputs": []
    },
    {
      "cell_type": "code",
      "metadata": {
        "colab": {
          "base_uri": "https://localhost:8080/"
        },
        "id": "VihQqfs-sK46",
        "outputId": "d1c979e0-8561-4f49-f71c-328fe947fd51"
      },
      "source": [
        "from sklearn.metrics import mean_squared_error\n",
        "mse=mean_squared_error(actual,predictions)\n",
        "rmse=np.sqrt(mse)\n",
        "print(mse)\n",
        "print(rmse)"
      ],
      "execution_count": null,
      "outputs": [
        {
          "name": "stdout",
          "output_type": "stream",
          "text": [
            "797.1410652247354\n",
            "28.233686709757468\n"
          ]
        }
      ]
    },
    {
      "cell_type": "markdown",
      "metadata": {
        "id": "NXOLhteAs9ow"
      },
      "source": [
        "#Time Series Analysis - Forecasting with GRU Neural Network\n",
        "\n",
        "data - electricity data"
      ]
    },
    {
      "cell_type": "code",
      "metadata": {
        "colab": {
          "base_uri": "https://localhost:8080/"
        },
        "id": "So8Z1vCgtEsY",
        "outputId": "dabe2862-907f-437c-a9f5-c23d9e13136a"
      },
      "source": [
        "from keras.layers import GRU\n",
        "from keras.layers import Dense\n",
        "from keras import Sequential\n",
        "\n",
        "#build model\n",
        "model=Sequential()\n",
        "model.add(GRU(200,activation='relu',input_shape=(n_steps,1)))\n",
        "model.add(Dense(1))\n",
        "model.compile(loss='mean_squared_error',optimizer='adam')\n",
        "\n",
        "model.summary()"
      ],
      "execution_count": null,
      "outputs": [
        {
          "name": "stdout",
          "output_type": "stream",
          "text": [
            "Model: \"sequential_1\"\n",
            "_________________________________________________________________\n",
            "Layer (type)                 Output Shape              Param #   \n",
            "=================================================================\n",
            "gru (GRU)                    (None, 200)               121800    \n",
            "_________________________________________________________________\n",
            "dense_1 (Dense)              (None, 1)                 201       \n",
            "=================================================================\n",
            "Total params: 122,001\n",
            "Trainable params: 122,001\n",
            "Non-trainable params: 0\n",
            "_________________________________________________________________\n"
          ]
        }
      ]
    },
    {
      "cell_type": "code",
      "metadata": {
        "id": "nCDkbAp9tJgh"
      },
      "source": [
        "history=model.fit(xtrain,ytrain,epochs=100,batch_size=30,verbose=0)"
      ],
      "execution_count": null,
      "outputs": []
    },
    {
      "cell_type": "code",
      "metadata": {
        "colab": {
          "base_uri": "https://localhost:8080/",
          "height": 282
        },
        "id": "BE7YhHGZtSkD",
        "outputId": "fd710d64-7435-4bf9-d48d-af39b39c5bbe"
      },
      "source": [
        "plt.plot(history.history['loss'])"
      ],
      "execution_count": null,
      "outputs": [
        {
          "data": {
            "text/plain": [
              "[<matplotlib.lines.Line2D at 0x7f8a0c7fff10>]"
            ]
          },
          "execution_count": 18,
          "metadata": {
            "tags": []
          },
          "output_type": "execute_result"
        },
        {
          "data": {
            "image/png": "[encoded data removed]",
            "text/plain": [
              "<Figure size 432x288 with 1 Axes>"
            ]
          },
          "metadata": {
            "needs_background": "light",
            "tags": []
          },
          "output_type": "display_data"
        }
      ]
    },
    {
      "cell_type": "code",
      "metadata": {
        "colab": {
          "base_uri": "https://localhost:8080/"
        },
        "id": "ROzgAaSItMbq",
        "outputId": "3f4b43e0-05ec-4898-80c9-fa37ea2f3a49"
      },
      "source": [
        "ypred=model.predict(xtest)\n",
        "predictions=scaler.inverse_transform(ypred)"
      ],
      "execution_count": null,
      "outputs": [
        {
          "name": "stdout",
          "output_type": "stream",
          "text": [
            "WARNING:tensorflow:Model was constructed with shape (None, 8, 1) for input KerasTensor(type_spec=TensorSpec(shape=(None, 8, 1), dtype=tf.float32, name='gru_input'), name='gru_input', description=\"created by layer 'gru_input'\"), but it was called on an input with incompatible shape (None, 12, 1).\n"
          ]
        }
      ]
    },
    {
      "cell_type": "code",
      "metadata": {
        "colab": {
          "base_uri": "https://localhost:8080/"
        },
        "id": "JAGaifIhtVDS",
        "outputId": "e2ea5802-8655-4199-e4e0-ceaa9b669ef8"
      },
      "source": [
        "from sklearn.metrics import mean_squared_error\n",
        "mse=mean_squared_error(actual,predictions)\n",
        "rmse=np.sqrt(mse)\n",
        "print(mse)\n",
        "print(rmse)"
      ],
      "execution_count": null,
      "outputs": [
        {
          "name": "stdout",
          "output_type": "stream",
          "text": [
            "35.87587712809831\n",
            "5.989647496146857\n"
          ]
        }
      ]
    },
    {
      "cell_type": "code",
      "metadata": {
        "id": "LcfFpx7ptZIC"
      },
      "source": [
        ""
      ],
      "execution_count": null,
      "outputs": []
    }
  ]
}
{
  "nbformat": 4,
  "nbformat_minor": 0,
  "metadata": {
    "colab": {
      "name": "ML and Data Science.ipynb",
      "provenance": [],
      "authorship_tag": "ABX9TyNoC7gTDDkfE634clHD1LaS",
      "include_colab_link": true
    },
    "kernelspec": {
      "name": "python3",
      "display_name": "Python 3"
    },
    "language_info": {
      "name": "python"
    }
  },
  "cells": [
    {
      "cell_type": "markdown",
      "metadata": {
        "id": "view-in-github",
        "colab_type": "text"
      },
      "source": [
        "<a href=\"https://colab.research.google.com/github/Tanveer132/ML-Practices-End-to-End/blob/main/ML_and_Data_Science.ipynb\" target=\"_parent\"><img src=\"https://colab.research.google.com/assets/colab-badge.svg\" alt=\"Open In Colab\"/></a>"
      ]
    },
    {
      "cell_type": "markdown",
      "metadata": {
        "id": "XvPQSFJt0gjl"
      },
      "source": [
        "#Data Science :\n",
        "\n",
        "    Field that uses scientific methods, processes, algorithms and systems to extract knowledge from structured and unstructured data.\n",
        "    And apply this knowledge across broad range of application domains.\n",
        "\n",
        "#Machine Learning :\n",
        "\n",
        "    Branch of artificial intelligence based on the idea that systems can learn from data, \n",
        "    identify patterns and make decisions with minimal human interventions.\n",
        "    Used in :\n",
        "      software applications to make predictive outcomes.\n",
        "      speech recognition\n",
        "      product recomendations\n",
        "\n",
        "#Deep Learning :\n",
        "\n",
        "    Branch of AI and type of ML which follows the working of human brain in processing data,\n",
        "    understanding patterns and making decisions.\n",
        "    Used in : \n",
        "      Self driving cars\n",
        "      Natural language processing\n",
        "      Healthcare\n",
        "      Froud detection\n",
        "      Visual recognition"
      ]
    },
    {
      "cell_type": "markdown",
      "metadata": {
        "id": "_RGSyq-8ktuy"
      },
      "source": [
        "#Data\n",
        "##Structured data :\n",
        "\n",
        "    -It is quantitative data consists in form of numbers and texts.\n",
        "    -Stored in tabular forms like excel, SQL databases, sheets.\n",
        "    -It has predefined data models.\n",
        "    -Stored in data warehouses.\n",
        "    -Requires less storage and highly scalable.\n",
        "    -Used in ML\n",
        "\n",
        "##Un-structured data :\n",
        "\n",
        "    -Qualitative data consists of videos, audio, sensors\n",
        "    -Stored as audio/video files, NOSQL databases.\n",
        "    -It does not have predefined data models.\n",
        "    -Stored in data lakes.\n",
        "    -Requires more storage space and difficult to scale.\n",
        "    -Used in Natural language processing.\n",
        "\n",
        "#Datatypes :\n",
        "\n",
        "##Qualitative data :\n",
        "Known as categorical data. Visualize using histplot, countplot\n",
        "\n",
        "    1.Nominal data- \n",
        "      categorised in \n",
        "      male/female, Yes/No, True/False\n",
        "    2.Ordinal data-\n",
        "      categorised in\n",
        "      low/mid/high, dates, strong/week\n",
        "\n",
        "##Quantitative data :\n",
        "Known as Numerical data. Visualize using histplot, scatterplot, Boxplot\n",
        "\n",
        "    1.Continuous data-\n",
        "      1.Interval continuous data- \n",
        "        Zero has value.\n",
        "        e.g. temperature in celcious, GDP, Ratings\n",
        "      2.Ratio continuous data-\n",
        "        Zero has no value.\n",
        "        e.g height,weight\n",
        "\n",
        "    2.Discrete data-\n",
        "      counting measurement.\n",
        "      e.g. No. of students, no. of tyres.\n"
      ]
    },
    {
      "cell_type": "markdown",
      "metadata": {
        "id": "IIWRXRQZktpK"
      },
      "source": [
        "#Supervised Learning :\n",
        "\n",
        "    -Supervised learning algorithms are trained using labeled data.\n",
        "    -Input data is given to training model along with outputs.\n",
        "    -Goal is to train model and predict output for new data. It is less AI.\n",
        "    -This learning is used when we know input along with corresponding output.\n",
        "    -Categorised in regression and classification\n",
        "    -algorithms such as->\n",
        "       Linear Regression, \n",
        "       Logistic Regression, \n",
        "       Support Vector Machine, \n",
        "       Multi-class Classification, \n",
        "       Decision tree, \n",
        "       Bayesian Logic. \n",
        "\n",
        "#Unsupervised Learning :\n",
        "    -Unsupervised learning algorithms are trained using unlabeled data.\n",
        "    -Only input data is given to model.\n",
        "    -Goal is to find the hidden patterns in data and gain knowledge like newborn baby. It is more likely AI.\n",
        "    -This learning is used when we only have input data and no corresponding output data.\n",
        "    -Classified in clustering and association problems.\n",
        "    -algorithms such as->\n",
        "      Clustering, \n",
        "      KNN,\n",
        "      Apriori algorithm,\n",
        "      Neural networks."
      ]
    },
    {
      "cell_type": "markdown",
      "metadata": {
        "id": "KRMZ8AxdUepI"
      },
      "source": [
        "#Read data "
      ]
    },
    {
      "cell_type": "code",
      "metadata": {
        "id": "8jK73VBV2qIa"
      },
      "source": [
        "# import the modules\n",
        "import pandas as pd\n",
        "import io\n"
      ],
      "execution_count": 9,
      "outputs": []
    },
    {
      "cell_type": "code",
      "metadata": {
        "colab": {
          "base_uri": "https://localhost:8080/",
          "height": 206
        },
        "id": "K7lEzjtNWKA3",
        "outputId": "373ba40b-6fdc-47d1-9793-2a8b468fb045"
      },
      "source": [
        "df=pd.read_csv('/content/Admission_Predict.csv')\n",
        "df.head()"
      ],
      "execution_count": 10,
      "outputs": [
        {
          "output_type": "execute_result",
          "data": {
            "text/html": [
              "<div>\n",
              "<style scoped>\n",
              "    .dataframe tbody tr th:only-of-type {\n",
              "        vertical-align: middle;\n",
              "    }\n",
              "\n",
              "    .dataframe tbody tr th {\n",
              "        vertical-align: top;\n",
              "    }\n",
              "\n",
              "    .dataframe thead th {\n",
              "        text-align: right;\n",
              "    }\n",
              "</style>\n",
              "<table border=\"1\" class=\"dataframe\">\n",
              "  <thead>\n",
              "    <tr style=\"text-align: right;\">\n",
              "      <th></th>\n",
              "      <th>Serial No.</th>\n",
              "      <th>GRE Score</th>\n",
              "      <th>TOEFL Score</th>\n",
              "      <th>University Rating</th>\n",
              "      <th>SOP</th>\n",
              "      <th>LOR</th>\n",
              "      <th>CGPA</th>\n",
              "      <th>Research</th>\n",
              "      <th>Chance of Admit</th>\n",
              "    </tr>\n",
              "  </thead>\n",
              "  <tbody>\n",
              "    <tr>\n",
              "      <th>0</th>\n",
              "      <td>1</td>\n",
              "      <td>337</td>\n",
              "      <td>118</td>\n",
              "      <td>4</td>\n",
              "      <td>4.5</td>\n",
              "      <td>4.5</td>\n",
              "      <td>9.65</td>\n",
              "      <td>1</td>\n",
              "      <td>0.92</td>\n",
              "    </tr>\n",
              "    <tr>\n",
              "      <th>1</th>\n",
              "      <td>2</td>\n",
              "      <td>324</td>\n",
              "      <td>107</td>\n",
              "      <td>4</td>\n",
              "      <td>4.0</td>\n",
              "      <td>4.5</td>\n",
              "      <td>8.87</td>\n",
              "      <td>1</td>\n",
              "      <td>0.76</td>\n",
              "    </tr>\n",
              "    <tr>\n",
              "      <th>2</th>\n",
              "      <td>3</td>\n",
              "      <td>316</td>\n",
              "      <td>104</td>\n",
              "      <td>3</td>\n",
              "      <td>3.0</td>\n",
              "      <td>3.5</td>\n",
              "      <td>8.00</td>\n",
              "      <td>1</td>\n",
              "      <td>0.72</td>\n",
              "    </tr>\n",
              "    <tr>\n",
              "      <th>3</th>\n",
              "      <td>4</td>\n",
              "      <td>322</td>\n",
              "      <td>110</td>\n",
              "      <td>3</td>\n",
              "      <td>3.5</td>\n",
              "      <td>2.5</td>\n",
              "      <td>8.67</td>\n",
              "      <td>1</td>\n",
              "      <td>0.80</td>\n",
              "    </tr>\n",
              "    <tr>\n",
              "      <th>4</th>\n",
              "      <td>5</td>\n",
              "      <td>314</td>\n",
              "      <td>103</td>\n",
              "      <td>2</td>\n",
              "      <td>2.0</td>\n",
              "      <td>3.0</td>\n",
              "      <td>8.21</td>\n",
              "      <td>0</td>\n",
              "      <td>0.65</td>\n",
              "    </tr>\n",
              "  </tbody>\n",
              "</table>\n",
              "</div>"
            ],
            "text/plain": [
              "   Serial No.  GRE Score  TOEFL Score  ...  CGPA  Research  Chance of Admit \n",
              "0           1        337          118  ...  9.65         1              0.92\n",
              "1           2        324          107  ...  8.87         1              0.76\n",
              "2           3        316          104  ...  8.00         1              0.72\n",
              "3           4        322          110  ...  8.67         1              0.80\n",
              "4           5        314          103  ...  8.21         0              0.65\n",
              "\n",
              "[5 rows x 9 columns]"
            ]
          },
          "metadata": {
            "tags": []
          },
          "execution_count": 10
        }
      ]
    },
    {
      "cell_type": "code",
      "metadata": {
        "id": "VrSDJH4ST-Aa"
      },
      "source": [
        ""
      ],
      "execution_count": 10,
      "outputs": []
    }
  ]
}
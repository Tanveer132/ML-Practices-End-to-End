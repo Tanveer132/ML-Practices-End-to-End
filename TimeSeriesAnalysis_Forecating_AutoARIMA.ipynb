{
  "nbformat": 4,
  "nbformat_minor": 0,
  "metadata": {
    "colab": {
      "name": "TimeSeriesAnalysis_Forecating_AutoARIMA.ipynb",
      "provenance": [],
      "authorship_tag": "ABX9TyO5GayDzAGRCtGqqi7Sx826",
      "include_colab_link": true
    },
    "kernelspec": {
      "name": "python3",
      "display_name": "Python 3"
    },
    "language_info": {
      "name": "python"
    }
  },
  "cells": [
    {
      "cell_type": "markdown",
      "metadata": {
        "id": "view-in-github",
        "colab_type": "text"
      },
      "source": [
        "<a href=\"https://colab.research.google.com/github/Tanveer132/ML-Practices-End-to-End/blob/main/TimeSeriesAnalysis_Forecating_AutoARIMA.ipynb\" target=\"_parent\"><img src=\"https://colab.research.google.com/assets/colab-badge.svg\" alt=\"Open In Colab\"/></a>"
      ]
    },
    {
      "cell_type": "markdown",
      "metadata": {
        "id": "Vh_Ga1OuKqEU"
      },
      "source": [
        "# TIme Series Analysis - Forecasting with Auto ARIMA and ARIMA\n",
        "\n",
        "\n",
        "    1. Load the data: The first step for model building is of course to load the dataset.\n",
        "\n",
        "    2. Preprocessing: Depending on the dataset, the steps of preprocessing will be defined. \n",
        "      This will include creating timestamps, converting the dtype of date/time column, making the series univariate, etc.  \n",
        "    3. Make series stationary: In order to satisfy the assumption, it is necessary to make the series stationary. \n",
        "      This would include checking the stationarity of the series and performing required transformations \n",
        "    4. Determine d value: For making the series stationary, the number of times the difference operation was performed \n",
        "      will be taken as the d value    \n",
        "    5. Create ACF and PACF plots: This is the most important step in ARIMA implementation. \n",
        "      ACF PACF plots are used to determine the input parameters for our ARIMA model\n",
        "    6. Determine the p and q values: Read the values of p and q from the plots in the previous step\n",
        "    7. Fit ARIMA model: Using the processed data and parameter values we calculated from the previous steps, fit the ARIMA model\n",
        "    8. Predict values on validation set: Predict the future values\n",
        "    9. Calculate RMSE: To check the performance of the model, \n",
        "      check the RMSE value using the predictions and actual values on the validation set\n"
      ]
    },
    {
      "cell_type": "code",
      "metadata": {
        "id": "uhpt50z-H3Zj"
      },
      "source": [
        "#import all necessary libraries\n",
        "import pandas as pd \n",
        "import numpy as np\n",
        "import matplotlib.pyplot as plt\n",
        "import seaborn as sns\n"
      ],
      "execution_count": 1,
      "outputs": []
    },
    {
      "cell_type": "code",
      "metadata": {
        "colab": {
          "base_uri": "https://localhost:8080/",
          "height": 238
        },
        "id": "APlMl5hnXPhE",
        "outputId": "a67281bf-27a7-4286-c100-c20f0ae66ae6"
      },
      "source": [
        "df=pd.read_csv(\"/content/DailyTemps.csv\",parse_dates=[\"DATE\"],index_col=\"DATE\")\n",
        "df.head()"
      ],
      "execution_count": 2,
      "outputs": [
        {
          "output_type": "execute_result",
          "data": {
            "text/html": [
              "<div>\n",
              "<style scoped>\n",
              "    .dataframe tbody tr th:only-of-type {\n",
              "        vertical-align: middle;\n",
              "    }\n",
              "\n",
              "    .dataframe tbody tr th {\n",
              "        vertical-align: top;\n",
              "    }\n",
              "\n",
              "    .dataframe thead th {\n",
              "        text-align: right;\n",
              "    }\n",
              "</style>\n",
              "<table border=\"1\" class=\"dataframe\">\n",
              "  <thead>\n",
              "    <tr style=\"text-align: right;\">\n",
              "      <th></th>\n",
              "      <th>MinTemp</th>\n",
              "      <th>MaxTemp</th>\n",
              "      <th>AvgTemp</th>\n",
              "      <th>Sunrise</th>\n",
              "      <th>Sunset</th>\n",
              "    </tr>\n",
              "    <tr>\n",
              "      <th>DATE</th>\n",
              "      <th></th>\n",
              "      <th></th>\n",
              "      <th></th>\n",
              "      <th></th>\n",
              "      <th></th>\n",
              "    </tr>\n",
              "  </thead>\n",
              "  <tbody>\n",
              "    <tr>\n",
              "      <th>2014-01-01</th>\n",
              "      <td>33.0</td>\n",
              "      <td>46.0</td>\n",
              "      <td>40.0</td>\n",
              "      <td>657</td>\n",
              "      <td>1756</td>\n",
              "    </tr>\n",
              "    <tr>\n",
              "      <th>2014-01-02</th>\n",
              "      <td>35.0</td>\n",
              "      <td>50.0</td>\n",
              "      <td>43.0</td>\n",
              "      <td>657</td>\n",
              "      <td>1756</td>\n",
              "    </tr>\n",
              "    <tr>\n",
              "      <th>2014-01-03</th>\n",
              "      <td>36.0</td>\n",
              "      <td>45.0</td>\n",
              "      <td>41.0</td>\n",
              "      <td>657</td>\n",
              "      <td>1757</td>\n",
              "    </tr>\n",
              "    <tr>\n",
              "      <th>2014-01-04</th>\n",
              "      <td>32.0</td>\n",
              "      <td>41.0</td>\n",
              "      <td>37.0</td>\n",
              "      <td>658</td>\n",
              "      <td>1757</td>\n",
              "    </tr>\n",
              "    <tr>\n",
              "      <th>2014-01-05</th>\n",
              "      <td>24.0</td>\n",
              "      <td>38.0</td>\n",
              "      <td>31.0</td>\n",
              "      <td>658</td>\n",
              "      <td>1758</td>\n",
              "    </tr>\n",
              "  </tbody>\n",
              "</table>\n",
              "</div>"
            ],
            "text/plain": [
              "            MinTemp  MaxTemp  AvgTemp  Sunrise  Sunset\n",
              "DATE                                                  \n",
              "2014-01-01     33.0     46.0     40.0      657    1756\n",
              "2014-01-02     35.0     50.0     43.0      657    1756\n",
              "2014-01-03     36.0     45.0     41.0      657    1757\n",
              "2014-01-04     32.0     41.0     37.0      658    1757\n",
              "2014-01-05     24.0     38.0     31.0      658    1758"
            ]
          },
          "metadata": {},
          "execution_count": 2
        }
      ]
    },
    {
      "cell_type": "code",
      "metadata": {
        "colab": {
          "base_uri": "https://localhost:8080/",
          "height": 297
        },
        "id": "_QQ4N8AEXeqj",
        "outputId": "794ca4ad-8540-4f77-fc4d-e38c8440d1da"
      },
      "source": [
        "df[\"AvgTemp\"].plot()"
      ],
      "execution_count": 3,
      "outputs": [
        {
          "output_type": "execute_result",
          "data": {
            "text/plain": [
              "<matplotlib.axes._subplots.AxesSubplot at 0x7f1df7dcf150>"
            ]
          },
          "metadata": {},
          "execution_count": 3
        },
        {
          "output_type": "display_data",
          "data": {
            "image/png": "[encoded data removed]",
            "text/plain": [
              "<Figure size 432x288 with 1 Axes>"
            ]
          },
          "metadata": {
            "needs_background": "light"
          }
        }
      ]
    },
    {
      "cell_type": "code",
      "metadata": {
        "colab": {
          "base_uri": "https://localhost:8080/"
        },
        "id": "inoBvE1sXhi-",
        "outputId": "ff8ba908-00c5-4b5f-fef8-03359482867b"
      },
      "source": [
        "df.isna().sum()"
      ],
      "execution_count": 4,
      "outputs": [
        {
          "output_type": "execute_result",
          "data": {
            "text/plain": [
              "MinTemp    4\n",
              "MaxTemp    4\n",
              "AvgTemp    4\n",
              "Sunrise    0\n",
              "Sunset     0\n",
              "dtype: int64"
            ]
          },
          "metadata": {},
          "execution_count": 4
        }
      ]
    },
    {
      "cell_type": "code",
      "metadata": {
        "id": "3ih3ukHSXkfT"
      },
      "source": [
        "df=df.dropna()"
      ],
      "execution_count": 5,
      "outputs": []
    },
    {
      "cell_type": "markdown",
      "metadata": {
        "id": "U8S7TMABXrNY"
      },
      "source": [
        "Check Stationarity"
      ]
    },
    {
      "cell_type": "code",
      "metadata": {
        "colab": {
          "base_uri": "https://localhost:8080/"
        },
        "id": "lSOpFO3_XoSk",
        "outputId": "f52c8577-d23b-442e-fc00-5eb9f53774fe"
      },
      "source": [
        "from statsmodels.tsa.stattools import adfuller\n",
        "res=adfuller(df.AvgTemp)\n",
        "pval=res[1]\n",
        "if pval>0.05:\n",
        "  print(\"Not Stationary\")\n",
        "else:\n",
        "  print(\"Stationary\")"
      ],
      "execution_count": 6,
      "outputs": [
        {
          "output_type": "stream",
          "name": "stdout",
          "text": [
            "Stationary\n"
          ]
        }
      ]
    },
    {
      "cell_type": "markdown",
      "metadata": {
        "id": "NTI8-Ix8Xyp3"
      },
      "source": [
        "Fit Auto ARIMA "
      ]
    },
    {
      "cell_type": "code",
      "metadata": {
        "colab": {
          "base_uri": "https://localhost:8080/"
        },
        "id": "UOiHSjjQYIWC",
        "outputId": "17cc907e-50c7-4f70-d7b9-11b312e7f8ef"
      },
      "source": [
        "!pip install pmdarima"
      ],
      "execution_count": 7,
      "outputs": [
        {
          "output_type": "stream",
          "name": "stdout",
          "text": [
            "Requirement already satisfied: pmdarima in /usr/local/lib/python3.7/dist-packages (1.8.2)\n",
            "Requirement already satisfied: scipy>=1.3.2 in /usr/local/lib/python3.7/dist-packages (from pmdarima) (1.4.1)\n",
            "Requirement already satisfied: pandas>=0.19 in /usr/local/lib/python3.7/dist-packages (from pmdarima) (1.1.5)\n",
            "Requirement already satisfied: joblib>=0.11 in /usr/local/lib/python3.7/dist-packages (from pmdarima) (1.0.1)\n",
            "Requirement already satisfied: urllib3 in /usr/local/lib/python3.7/dist-packages (from pmdarima) (1.24.3)\n",
            "Requirement already satisfied: setuptools!=50.0.0,>=38.6.0 in /usr/local/lib/python3.7/dist-packages (from pmdarima) (57.4.0)\n",
            "Requirement already satisfied: Cython!=0.29.18,>=0.29 in /usr/local/lib/python3.7/dist-packages (from pmdarima) (0.29.24)\n",
            "Requirement already satisfied: statsmodels!=0.12.0,>=0.11 in /usr/local/lib/python3.7/dist-packages (from pmdarima) (0.12.2)\n",
            "Requirement already satisfied: scikit-learn>=0.22 in /usr/local/lib/python3.7/dist-packages (from pmdarima) (0.22.2.post1)\n",
            "Requirement already satisfied: numpy~=1.19.0 in /usr/local/lib/python3.7/dist-packages (from pmdarima) (1.19.5)\n",
            "Requirement already satisfied: python-dateutil>=2.7.3 in /usr/local/lib/python3.7/dist-packages (from pandas>=0.19->pmdarima) (2.8.2)\n",
            "Requirement already satisfied: pytz>=2017.2 in /usr/local/lib/python3.7/dist-packages (from pandas>=0.19->pmdarima) (2018.9)\n",
            "Requirement already satisfied: six>=1.5 in /usr/local/lib/python3.7/dist-packages (from python-dateutil>=2.7.3->pandas>=0.19->pmdarima) (1.15.0)\n",
            "Requirement already satisfied: patsy>=0.5 in /usr/local/lib/python3.7/dist-packages (from statsmodels!=0.12.0,>=0.11->pmdarima) (0.5.1)\n"
          ]
        }
      ]
    },
    {
      "cell_type": "code",
      "metadata": {
        "colab": {
          "base_uri": "https://localhost:8080/"
        },
        "id": "m16vWZyqXt1e",
        "outputId": "960b6ba5-8128-4b38-d09f-79c106d4eda0"
      },
      "source": [
        "from pmdarima import auto_arima\n",
        "\n",
        "auto_model=auto_arima(df[\"AvgTemp\"],trace=True)"
      ],
      "execution_count": 8,
      "outputs": [
        {
          "output_type": "stream",
          "name": "stdout",
          "text": [
            "Performing stepwise search to minimize aic\n",
            " ARIMA(2,0,2)(0,0,0)[0] intercept   : AIC=8344.973, Time=3.44 sec\n",
            " ARIMA(0,0,0)(0,0,0)[0] intercept   : AIC=10347.755, Time=0.06 sec\n",
            " ARIMA(1,0,0)(0,0,0)[0] intercept   : AIC=8365.701, Time=0.22 sec\n",
            " ARIMA(0,0,1)(0,0,0)[0] intercept   : AIC=9136.225, Time=0.37 sec\n",
            " ARIMA(0,0,0)(0,0,0)[0]             : AIC=19192.139, Time=0.04 sec\n",
            " ARIMA(1,0,2)(0,0,0)[0] intercept   : AIC=8355.947, Time=2.75 sec\n",
            " ARIMA(2,0,1)(0,0,0)[0] intercept   : AIC=8356.308, Time=2.67 sec\n",
            " ARIMA(3,0,2)(0,0,0)[0] intercept   : AIC=8347.286, Time=3.92 sec\n",
            " ARIMA(2,0,3)(0,0,0)[0] intercept   : AIC=8317.061, Time=3.83 sec\n",
            " ARIMA(1,0,3)(0,0,0)[0] intercept   : AIC=8330.189, Time=3.61 sec\n",
            " ARIMA(3,0,3)(0,0,0)[0] intercept   : AIC=8312.274, Time=4.56 sec\n",
            " ARIMA(4,0,3)(0,0,0)[0] intercept   : AIC=8332.188, Time=4.87 sec\n",
            " ARIMA(3,0,4)(0,0,0)[0] intercept   : AIC=8317.476, Time=5.50 sec\n",
            " ARIMA(2,0,4)(0,0,0)[0] intercept   : AIC=8305.681, Time=5.35 sec\n",
            " ARIMA(1,0,4)(0,0,0)[0] intercept   : AIC=8296.942, Time=4.48 sec\n",
            " ARIMA(0,0,4)(0,0,0)[0] intercept   : AIC=8455.435, Time=1.33 sec\n",
            " ARIMA(1,0,5)(0,0,0)[0] intercept   : AIC=8294.960, Time=5.53 sec\n",
            " ARIMA(0,0,5)(0,0,0)[0] intercept   : AIC=8419.091, Time=1.57 sec\n",
            " ARIMA(2,0,5)(0,0,0)[0] intercept   : AIC=8302.434, Time=5.93 sec\n",
            " ARIMA(1,0,5)(0,0,0)[0]             : AIC=8304.533, Time=0.61 sec\n",
            "\n",
            "Best model:  ARIMA(1,0,5)(0,0,0)[0] intercept\n",
            "Total fit time: 60.675 seconds\n"
          ]
        }
      ]
    },
    {
      "cell_type": "code",
      "metadata": {
        "colab": {
          "base_uri": "https://localhost:8080/",
          "height": 537
        },
        "id": "Ih_nO37wX4La",
        "outputId": "91b3a207-371a-4784-8949-bf3c151c34e0"
      },
      "source": [
        "auto_model.summary()"
      ],
      "execution_count": 9,
      "outputs": [
        {
          "output_type": "execute_result",
          "data": {
            "text/html": [
              "<table class=\"simpletable\">\n",
              "<caption>SARIMAX Results</caption>\n",
              "<tr>\n",
              "  <th>Dep. Variable:</th>           <td>y</td>        <th>  No. Observations:  </th>   <td>1821</td>   \n",
              "</tr>\n",
              "<tr>\n",
              "  <th>Model:</th>           <td>SARIMAX(1, 0, 5)</td> <th>  Log Likelihood     </th> <td>-4139.480</td>\n",
              "</tr>\n",
              "<tr>\n",
              "  <th>Date:</th>            <td>Fri, 10 Sep 2021</td> <th>  AIC                </th> <td>8294.960</td> \n",
              "</tr>\n",
              "<tr>\n",
              "  <th>Time:</th>                <td>06:28:46</td>     <th>  BIC                </th> <td>8339.017</td> \n",
              "</tr>\n",
              "<tr>\n",
              "  <th>Sample:</th>                  <td>0</td>        <th>  HQIC               </th> <td>8311.213</td> \n",
              "</tr>\n",
              "<tr>\n",
              "  <th></th>                      <td> - 1821</td>     <th>                     </th>     <td> </td>    \n",
              "</tr>\n",
              "<tr>\n",
              "  <th>Covariance Type:</th>        <td>opg</td>       <th>                     </th>     <td> </td>    \n",
              "</tr>\n",
              "</table>\n",
              "<table class=\"simpletable\">\n",
              "<tr>\n",
              "      <td></td>         <th>coef</th>     <th>std err</th>      <th>z</th>      <th>P>|z|</th>  <th>[0.025</th>    <th>0.975]</th>  \n",
              "</tr>\n",
              "<tr>\n",
              "  <th>intercept</th> <td>    1.2633</td> <td>    0.374</td> <td>    3.377</td> <td> 0.001</td> <td>    0.530</td> <td>    1.996</td>\n",
              "</tr>\n",
              "<tr>\n",
              "  <th>ar.L1</th>     <td>    0.9729</td> <td>    0.008</td> <td>  120.958</td> <td> 0.000</td> <td>    0.957</td> <td>    0.989</td>\n",
              "</tr>\n",
              "<tr>\n",
              "  <th>ma.L1</th>     <td>   -0.1266</td> <td>    0.024</td> <td>   -5.344</td> <td> 0.000</td> <td>   -0.173</td> <td>   -0.080</td>\n",
              "</tr>\n",
              "<tr>\n",
              "  <th>ma.L2</th>     <td>   -0.2167</td> <td>    0.024</td> <td>   -8.987</td> <td> 0.000</td> <td>   -0.264</td> <td>   -0.169</td>\n",
              "</tr>\n",
              "<tr>\n",
              "  <th>ma.L3</th>     <td>   -0.2038</td> <td>    0.024</td> <td>   -8.546</td> <td> 0.000</td> <td>   -0.251</td> <td>   -0.157</td>\n",
              "</tr>\n",
              "<tr>\n",
              "  <th>ma.L4</th>     <td>   -0.1400</td> <td>    0.023</td> <td>   -6.164</td> <td> 0.000</td> <td>   -0.184</td> <td>   -0.095</td>\n",
              "</tr>\n",
              "<tr>\n",
              "  <th>ma.L5</th>     <td>   -0.0471</td> <td>    0.024</td> <td>   -1.937</td> <td> 0.053</td> <td>   -0.095</td> <td>    0.001</td>\n",
              "</tr>\n",
              "<tr>\n",
              "  <th>sigma2</th>    <td>    5.4837</td> <td>    0.171</td> <td>   32.032</td> <td> 0.000</td> <td>    5.148</td> <td>    5.819</td>\n",
              "</tr>\n",
              "</table>\n",
              "<table class=\"simpletable\">\n",
              "<tr>\n",
              "  <th>Ljung-Box (L1) (Q):</th>     <td>0.01</td> <th>  Jarque-Bera (JB):  </th> <td>20.67</td>\n",
              "</tr>\n",
              "<tr>\n",
              "  <th>Prob(Q):</th>                <td>0.94</td> <th>  Prob(JB):          </th> <td>0.00</td> \n",
              "</tr>\n",
              "<tr>\n",
              "  <th>Heteroskedasticity (H):</th> <td>0.81</td> <th>  Skew:              </th> <td>-0.17</td>\n",
              "</tr>\n",
              "<tr>\n",
              "  <th>Prob(H) (two-sided):</th>    <td>0.01</td> <th>  Kurtosis:          </th> <td>3.39</td> \n",
              "</tr>\n",
              "</table><br/><br/>Warnings:<br/>[1] Covariance matrix calculated using the outer product of gradients (complex-step)."
            ],
            "text/plain": [
              "<class 'statsmodels.iolib.summary.Summary'>\n",
              "\"\"\"\n",
              "                               SARIMAX Results                                \n",
              "==============================================================================\n",
              "Dep. Variable:                      y   No. Observations:                 1821\n",
              "Model:               SARIMAX(1, 0, 5)   Log Likelihood               -4139.480\n",
              "Date:                Fri, 10 Sep 2021   AIC                           8294.960\n",
              "Time:                        06:28:46   BIC                           8339.017\n",
              "Sample:                             0   HQIC                          8311.213\n",
              "                               - 1821                                         \n",
              "Covariance Type:                  opg                                         \n",
              "==============================================================================\n",
              "                 coef    std err          z      P>|z|      [0.025      0.975]\n",
              "------------------------------------------------------------------------------\n",
              "intercept      1.2633      0.374      3.377      0.001       0.530       1.996\n",
              "ar.L1          0.9729      0.008    120.958      0.000       0.957       0.989\n",
              "ma.L1         -0.1266      0.024     -5.344      0.000      -0.173      -0.080\n",
              "ma.L2         -0.2167      0.024     -8.987      0.000      -0.264      -0.169\n",
              "ma.L3         -0.2038      0.024     -8.546      0.000      -0.251      -0.157\n",
              "ma.L4         -0.1400      0.023     -6.164      0.000      -0.184      -0.095\n",
              "ma.L5         -0.0471      0.024     -1.937      0.053      -0.095       0.001\n",
              "sigma2         5.4837      0.171     32.032      0.000       5.148       5.819\n",
              "===================================================================================\n",
              "Ljung-Box (L1) (Q):                   0.01   Jarque-Bera (JB):                20.67\n",
              "Prob(Q):                              0.94   Prob(JB):                         0.00\n",
              "Heteroskedasticity (H):               0.81   Skew:                            -0.17\n",
              "Prob(H) (two-sided):                  0.01   Kurtosis:                         3.39\n",
              "===================================================================================\n",
              "\n",
              "Warnings:\n",
              "[1] Covariance matrix calculated using the outer product of gradients (complex-step).\n",
              "\"\"\""
            ]
          },
          "metadata": {},
          "execution_count": 9
        }
      ]
    },
    {
      "cell_type": "markdown",
      "metadata": {
        "id": "_RcBtbrEZjKL"
      },
      "source": [
        "Conclusion :\n",
        "\n",
        "    Best model:  ARIMA(1,0,5)(0,0,0)[0] intercept\n",
        "    p=1 , d=0 , q=5\n",
        "    Total fit time: 60.675 seconds"
      ]
    },
    {
      "cell_type": "code",
      "metadata": {
        "colab": {
          "base_uri": "https://localhost:8080/"
        },
        "id": "DpxGgxEJY4Gn",
        "outputId": "9eb5ba14-432a-4dd0-e95f-46a82ef6ccde"
      },
      "source": [
        "X=df[\"AvgTemp\"]\n",
        "len(X)\n",
        "\n",
        "train_len=int(0.8*len(X))\n",
        "train=X[:train_len]\n",
        "print(len(train))\n",
        "\n",
        "test=X[train_len:]\n",
        "print(len(test))"
      ],
      "execution_count": 10,
      "outputs": [
        {
          "output_type": "stream",
          "name": "stdout",
          "text": [
            "1456\n",
            "365\n"
          ]
        }
      ]
    },
    {
      "cell_type": "markdown",
      "metadata": {
        "id": "lXdZ1SCmZa0D"
      },
      "source": [
        "Fit ARIMA model"
      ]
    },
    {
      "cell_type": "code",
      "metadata": {
        "colab": {
          "base_uri": "https://localhost:8080/",
          "height": 916
        },
        "id": "zFnfou6XY3xH",
        "outputId": "39448c55-82e2-491d-fa0b-6b75f693b52f"
      },
      "source": [
        "from statsmodels.tsa.arima_model import ARIMA\n",
        "model=ARIMA(train,order=(1,0,5))\n",
        "model_fit=model.fit()\n",
        "model_fit.summary()"
      ],
      "execution_count": 11,
      "outputs": [
        {
          "output_type": "stream",
          "name": "stderr",
          "text": [
            "/usr/local/lib/python3.7/dist-packages/statsmodels/tsa/arima_model.py:472: FutureWarning: \n",
            "statsmodels.tsa.arima_model.ARMA and statsmodels.tsa.arima_model.ARIMA have\n",
            "been deprecated in favor of statsmodels.tsa.arima.model.ARIMA (note the .\n",
            "between arima and model) and\n",
            "statsmodels.tsa.SARIMAX. These will be removed after the 0.12 release.\n",
            "\n",
            "statsmodels.tsa.arima.model.ARIMA makes use of the statespace framework and\n",
            "is both well tested and maintained.\n",
            "\n",
            "To silence this warning and continue using ARMA and ARIMA until they are\n",
            "removed, use:\n",
            "\n",
            "import warnings\n",
            "warnings.filterwarnings('ignore', 'statsmodels.tsa.arima_model.ARMA',\n",
            "                        FutureWarning)\n",
            "warnings.filterwarnings('ignore', 'statsmodels.tsa.arima_model.ARIMA',\n",
            "                        FutureWarning)\n",
            "\n",
            "  warnings.warn(ARIMA_DEPRECATION_WARN, FutureWarning)\n",
            "/usr/local/lib/python3.7/dist-packages/statsmodels/tsa/base/tsa_model.py:583: ValueWarning: A date index has been provided, but it has no associated frequency information and so will be ignored when e.g. forecasting.\n",
            "  ' ignored when e.g. forecasting.', ValueWarning)\n"
          ]
        },
        {
          "output_type": "execute_result",
          "data": {
            "text/html": [
              "<table class=\"simpletable\">\n",
              "<caption>ARMA Model Results</caption>\n",
              "<tr>\n",
              "  <th>Dep. Variable:</th>      <td>AvgTemp</td>     <th>  No. Observations:  </th>   <td>1456</td>   \n",
              "</tr>\n",
              "<tr>\n",
              "  <th>Model:</th>            <td>ARMA(1, 5)</td>    <th>  Log Likelihood     </th> <td>-3334.671</td>\n",
              "</tr>\n",
              "<tr>\n",
              "  <th>Method:</th>             <td>css-mle</td>     <th>  S.D. of innovations</th>   <td>2.389</td>  \n",
              "</tr>\n",
              "<tr>\n",
              "  <th>Date:</th>          <td>Fri, 10 Sep 2021</td> <th>  AIC                </th> <td>6685.343</td> \n",
              "</tr>\n",
              "<tr>\n",
              "  <th>Time:</th>              <td>06:31:30</td>     <th>  BIC                </th> <td>6727.610</td> \n",
              "</tr>\n",
              "<tr>\n",
              "  <th>Sample:</th>                <td>0</td>        <th>  HQIC               </th> <td>6701.113</td> \n",
              "</tr>\n",
              "<tr>\n",
              "  <th></th>                       <td> </td>        <th>                     </th>     <td> </td>    \n",
              "</tr>\n",
              "</table>\n",
              "<table class=\"simpletable\">\n",
              "<tr>\n",
              "        <td></td>           <th>coef</th>     <th>std err</th>      <th>z</th>      <th>P>|z|</th>  <th>[0.025</th>    <th>0.975]</th>  \n",
              "</tr>\n",
              "<tr>\n",
              "  <th>const</th>         <td>   46.5293</td> <td>    0.860</td> <td>   54.102</td> <td> 0.000</td> <td>   44.844</td> <td>   48.215</td>\n",
              "</tr>\n",
              "<tr>\n",
              "  <th>ar.L1.AvgTemp</th> <td>    0.9844</td> <td>    0.009</td> <td>  112.836</td> <td> 0.000</td> <td>    0.967</td> <td>    1.002</td>\n",
              "</tr>\n",
              "<tr>\n",
              "  <th>ma.L1.AvgTemp</th> <td>   -0.1312</td> <td>    0.028</td> <td>   -4.704</td> <td> 0.000</td> <td>   -0.186</td> <td>   -0.077</td>\n",
              "</tr>\n",
              "<tr>\n",
              "  <th>ma.L2.AvgTemp</th> <td>   -0.2444</td> <td>    0.028</td> <td>   -8.852</td> <td> 0.000</td> <td>   -0.299</td> <td>   -0.190</td>\n",
              "</tr>\n",
              "<tr>\n",
              "  <th>ma.L3.AvgTemp</th> <td>   -0.2051</td> <td>    0.029</td> <td>   -7.029</td> <td> 0.000</td> <td>   -0.262</td> <td>   -0.148</td>\n",
              "</tr>\n",
              "<tr>\n",
              "  <th>ma.L4.AvgTemp</th> <td>   -0.1476</td> <td>    0.027</td> <td>   -5.486</td> <td> 0.000</td> <td>   -0.200</td> <td>   -0.095</td>\n",
              "</tr>\n",
              "<tr>\n",
              "  <th>ma.L5.AvgTemp</th> <td>   -0.0584</td> <td>    0.028</td> <td>   -2.082</td> <td> 0.037</td> <td>   -0.113</td> <td>   -0.003</td>\n",
              "</tr>\n",
              "</table>\n",
              "<table class=\"simpletable\">\n",
              "<caption>Roots</caption>\n",
              "<tr>\n",
              "    <td></td>   <th>            Real</th>  <th>         Imaginary</th> <th>         Modulus</th>  <th>        Frequency</th>\n",
              "</tr>\n",
              "<tr>\n",
              "  <th>AR.1</th> <td>           1.0158</td> <td>          +0.0000j</td> <td>           1.0158</td> <td>           0.0000</td>\n",
              "</tr>\n",
              "<tr>\n",
              "  <th>MA.1</th> <td>           1.0910</td> <td>          -0.0000j</td> <td>           1.0910</td> <td>          -0.0000</td>\n",
              "</tr>\n",
              "<tr>\n",
              "  <th>MA.2</th> <td>           0.0718</td> <td>          -1.8558j</td> <td>           1.8572</td> <td>          -0.2438</td>\n",
              "</tr>\n",
              "<tr>\n",
              "  <th>MA.3</th> <td>           0.0718</td> <td>          +1.8558j</td> <td>           1.8572</td> <td>           0.2438</td>\n",
              "</tr>\n",
              "<tr>\n",
              "  <th>MA.4</th> <td>          -1.8803</td> <td>          -1.0060j</td> <td>           2.1325</td> <td>          -0.4218</td>\n",
              "</tr>\n",
              "<tr>\n",
              "  <th>MA.5</th> <td>          -1.8803</td> <td>          +1.0060j</td> <td>           2.1325</td> <td>           0.4218</td>\n",
              "</tr>\n",
              "</table>"
            ],
            "text/plain": [
              "<class 'statsmodels.iolib.summary.Summary'>\n",
              "\"\"\"\n",
              "                              ARMA Model Results                              \n",
              "==============================================================================\n",
              "Dep. Variable:                AvgTemp   No. Observations:                 1456\n",
              "Model:                     ARMA(1, 5)   Log Likelihood               -3334.671\n",
              "Method:                       css-mle   S.D. of innovations              2.389\n",
              "Date:                Fri, 10 Sep 2021   AIC                           6685.343\n",
              "Time:                        06:31:30   BIC                           6727.610\n",
              "Sample:                             0   HQIC                          6701.113\n",
              "                                                                              \n",
              "=================================================================================\n",
              "                    coef    std err          z      P>|z|      [0.025      0.975]\n",
              "---------------------------------------------------------------------------------\n",
              "const            46.5293      0.860     54.102      0.000      44.844      48.215\n",
              "ar.L1.AvgTemp     0.9844      0.009    112.836      0.000       0.967       1.002\n",
              "ma.L1.AvgTemp    -0.1312      0.028     -4.704      0.000      -0.186      -0.077\n",
              "ma.L2.AvgTemp    -0.2444      0.028     -8.852      0.000      -0.299      -0.190\n",
              "ma.L3.AvgTemp    -0.2051      0.029     -7.029      0.000      -0.262      -0.148\n",
              "ma.L4.AvgTemp    -0.1476      0.027     -5.486      0.000      -0.200      -0.095\n",
              "ma.L5.AvgTemp    -0.0584      0.028     -2.082      0.037      -0.113      -0.003\n",
              "                                    Roots                                    \n",
              "=============================================================================\n",
              "                  Real          Imaginary           Modulus         Frequency\n",
              "-----------------------------------------------------------------------------\n",
              "AR.1            1.0158           +0.0000j            1.0158            0.0000\n",
              "MA.1            1.0910           -0.0000j            1.0910           -0.0000\n",
              "MA.2            0.0718           -1.8558j            1.8572           -0.2438\n",
              "MA.3            0.0718           +1.8558j            1.8572            0.2438\n",
              "MA.4           -1.8803           -1.0060j            2.1325           -0.4218\n",
              "MA.5           -1.8803           +1.0060j            2.1325            0.4218\n",
              "-----------------------------------------------------------------------------\n",
              "\"\"\""
            ]
          },
          "metadata": {},
          "execution_count": 11
        }
      ]
    },
    {
      "cell_type": "code",
      "metadata": {
        "colab": {
          "base_uri": "https://localhost:8080/",
          "height": 283
        },
        "id": "fObbCMDtY3nf",
        "outputId": "44b3535b-83f9-47f1-feb4-1936e9117159"
      },
      "source": [
        "plt.plot(train,label=\"Train\")\n",
        "plt.plot(test,label=\"Test\")\n",
        "plt.legend()"
      ],
      "execution_count": 12,
      "outputs": [
        {
          "output_type": "execute_result",
          "data": {
            "text/plain": [
              "<matplotlib.legend.Legend at 0x7f1dc3ada110>"
            ]
          },
          "metadata": {},
          "execution_count": 12
        },
        {
          "output_type": "display_data",
          "data": {
            "image/png": "[encoded data removed]",
            "text/plain": [
              "<Figure size 432x288 with 1 Axes>"
            ]
          },
          "metadata": {
            "needs_background": "light"
          }
        }
      ]
    },
    {
      "cell_type": "code",
      "metadata": {
        "colab": {
          "base_uri": "https://localhost:8080/"
        },
        "id": "atBkwnaFY3aH",
        "outputId": "df0b0b96-9522-48b3-cfaf-cceccd77887f"
      },
      "source": [
        "ypred_train=model_fit.predict()\n",
        "ypred_train"
      ],
      "execution_count": 13,
      "outputs": [
        {
          "output_type": "execute_result",
          "data": {
            "text/plain": [
              "DATE\n",
              "2014-01-01    46.529318\n",
              "2014-01-02    41.196917\n",
              "2014-01-03    43.977320\n",
              "2014-01-04    41.710022\n",
              "2014-01-05    38.275595\n",
              "                ...    \n",
              "2017-12-25    44.577266\n",
              "2017-12-26    41.599461\n",
              "2017-12-27    43.748000\n",
              "2017-12-28    44.505478\n",
              "2017-12-29    42.748242\n",
              "Length: 1456, dtype: float64"
            ]
          },
          "metadata": {},
          "execution_count": 13
        }
      ]
    },
    {
      "cell_type": "markdown",
      "metadata": {
        "id": "ys074K9DaJ7q"
      },
      "source": [
        "Prediction on test data\n",
        "\n",
        "    start->len(train) \n",
        "    end->len(train)+len(test)-1\n",
        "    end->len(X)-1"
      ]
    },
    {
      "cell_type": "code",
      "metadata": {
        "colab": {
          "base_uri": "https://localhost:8080/"
        },
        "id": "PNkUc-iSaIkE",
        "outputId": "7ad71a05-1cab-415b-c6e5-75a0266a16bc"
      },
      "source": [
        "ypred_test=model_fit.predict(start=len(train),end=len(train)+len(test)-1)"
      ],
      "execution_count": 14,
      "outputs": [
        {
          "output_type": "stream",
          "name": "stderr",
          "text": [
            "/usr/local/lib/python3.7/dist-packages/statsmodels/tsa/base/tsa_model.py:379: ValueWarning: No supported index is available. Prediction results will be given with an integer index beginning at `start`.\n",
            "  ValueWarning)\n"
          ]
        }
      ]
    },
    {
      "cell_type": "code",
      "metadata": {
        "colab": {
          "base_uri": "https://localhost:8080/"
        },
        "id": "5ZSIFKmCaZ0_",
        "outputId": "4b4e03eb-9bda-4d14-a2ec-7110e5a86326"
      },
      "source": [
        "ypred_test"
      ],
      "execution_count": 16,
      "outputs": [
        {
          "output_type": "execute_result",
          "data": {
            "text/plain": [
              "1456    42.929235\n",
              "1457    42.907454\n",
              "1458    43.061218\n",
              "1459    43.165987\n",
              "1460    43.203599\n",
              "          ...    \n",
              "1816    46.516796\n",
              "1817    46.516990\n",
              "1818    46.517182\n",
              "1819    46.517371\n",
              "1820    46.517557\n",
              "Length: 365, dtype: float64"
            ]
          },
          "metadata": {},
          "execution_count": 16
        }
      ]
    },
    {
      "cell_type": "code",
      "metadata": {
        "colab": {
          "base_uri": "https://localhost:8080/"
        },
        "id": "uvkJeYJuawud",
        "outputId": "3573d81d-5467-42bf-94d2-53123eb6efa2"
      },
      "source": [
        "#index of ypred_test should be change\n",
        "date_test=pd.date_range(start='2017-12-30',end=\"2018-12-29\")\n",
        "date_test"
      ],
      "execution_count": 17,
      "outputs": [
        {
          "output_type": "execute_result",
          "data": {
            "text/plain": [
              "DatetimeIndex(['2017-12-30', '2017-12-31', '2018-01-01', '2018-01-02',\n",
              "               '2018-01-03', '2018-01-04', '2018-01-05', '2018-01-06',\n",
              "               '2018-01-07', '2018-01-08',\n",
              "               ...\n",
              "               '2018-12-20', '2018-12-21', '2018-12-22', '2018-12-23',\n",
              "               '2018-12-24', '2018-12-25', '2018-12-26', '2018-12-27',\n",
              "               '2018-12-28', '2018-12-29'],\n",
              "              dtype='datetime64[ns]', length=365, freq='D')"
            ]
          },
          "metadata": {},
          "execution_count": 17
        }
      ]
    },
    {
      "cell_type": "code",
      "metadata": {
        "id": "qcnyVfL0a-IH"
      },
      "source": [
        "ypred_test.index=date_test"
      ],
      "execution_count": 18,
      "outputs": []
    },
    {
      "cell_type": "code",
      "metadata": {
        "colab": {
          "base_uri": "https://localhost:8080/",
          "height": 295
        },
        "id": "cIQfg965a_2X",
        "outputId": "1146306f-1475-4b42-e986-d510277e7712"
      },
      "source": [
        "test.plot()\n",
        "ypred_test.plot()"
      ],
      "execution_count": 19,
      "outputs": [
        {
          "output_type": "execute_result",
          "data": {
            "text/plain": [
              "<matplotlib.axes._subplots.AxesSubplot at 0x7f1dc3a59610>"
            ]
          },
          "metadata": {},
          "execution_count": 19
        },
        {
          "output_type": "display_data",
          "data": {
            "image/png": "[encoded data removed]",
            "text/plain": [
              "<Figure size 432x288 with 1 Axes>"
            ]
          },
          "metadata": {
            "needs_background": "light"
          }
        }
      ]
    },
    {
      "cell_type": "code",
      "metadata": {
        "colab": {
          "base_uri": "https://localhost:8080/",
          "height": 286
        },
        "id": "_tPjP9cebHiQ",
        "outputId": "9558e43e-6a0a-4f50-de8e-a5f04d6a753a"
      },
      "source": [
        "residuals=model_fit.resid\n",
        "residuals.plot(kind=\"kde\")"
      ],
      "execution_count": 20,
      "outputs": [
        {
          "data": {
            "text/plain": [
              "<matplotlib.axes._subplots.AxesSubplot at 0x7f1dc3a59850>"
            ]
          },
          "execution_count": null,
          "metadata": {},
          "output_type": "execute_result"
        },
        {
          "data": {
            "image/png": "[encoded data removed]",
            "text/plain": [
              "<Figure size 432x288 with 1 Axes>"
            ]
          },
          "metadata": {},
          "output_type": "display_data"
        }
      ]
    },
    {
      "cell_type": "code",
      "metadata": {
        "colab": {
          "base_uri": "https://localhost:8080/"
        },
        "id": "JP7bsR8BbZDV",
        "outputId": "8270b1be-85cf-41ce-aa8a-e2c9749cd160"
      },
      "source": [
        "from sklearn.metrics import mean_squared_error\n",
        "mse=mean_squared_error(test,ypred_test)\n",
        "print(\"MSE is :\",mse)\n",
        "print(\"RMSE is :\",np.sqrt(mse))"
      ],
      "execution_count": 21,
      "outputs": [
        {
          "output_type": "stream",
          "name": "stdout",
          "text": [
            "MSE is : 14.341748045487046\n",
            "RMSE is : 3.787050045284198\n"
          ]
        }
      ]
    },
    {
      "cell_type": "markdown",
      "metadata": {
        "id": "cWx3c9uMbPri"
      },
      "source": [
        "predict temperature for next month"
      ]
    },
    {
      "cell_type": "code",
      "metadata": {
        "colab": {
          "base_uri": "https://localhost:8080/"
        },
        "id": "NTqaLSqrbMUY",
        "outputId": "ddb39734-e551-46e6-b240-073a4a841052"
      },
      "source": [
        "model=ARIMA(X,order=(1,0,5))\n",
        "model_fit=model.fit()"
      ],
      "execution_count": 22,
      "outputs": [
        {
          "output_type": "stream",
          "name": "stderr",
          "text": [
            "/usr/local/lib/python3.7/dist-packages/statsmodels/tsa/arima_model.py:472: FutureWarning: \n",
            "statsmodels.tsa.arima_model.ARMA and statsmodels.tsa.arima_model.ARIMA have\n",
            "been deprecated in favor of statsmodels.tsa.arima.model.ARIMA (note the .\n",
            "between arima and model) and\n",
            "statsmodels.tsa.SARIMAX. These will be removed after the 0.12 release.\n",
            "\n",
            "statsmodels.tsa.arima.model.ARIMA makes use of the statespace framework and\n",
            "is both well tested and maintained.\n",
            "\n",
            "To silence this warning and continue using ARMA and ARIMA until they are\n",
            "removed, use:\n",
            "\n",
            "import warnings\n",
            "warnings.filterwarnings('ignore', 'statsmodels.tsa.arima_model.ARMA',\n",
            "                        FutureWarning)\n",
            "warnings.filterwarnings('ignore', 'statsmodels.tsa.arima_model.ARIMA',\n",
            "                        FutureWarning)\n",
            "\n",
            "  warnings.warn(ARIMA_DEPRECATION_WARN, FutureWarning)\n",
            "/usr/local/lib/python3.7/dist-packages/statsmodels/tsa/base/tsa_model.py:583: ValueWarning: A date index has been provided, but it has no associated frequency information and so will be ignored when e.g. forecasting.\n",
            "  ' ignored when e.g. forecasting.', ValueWarning)\n"
          ]
        }
      ]
    },
    {
      "cell_type": "code",
      "metadata": {
        "colab": {
          "base_uri": "https://localhost:8080/"
        },
        "id": "2OLzpEnpccMK",
        "outputId": "87dce44b-afd2-4dfe-820e-d148f58db080"
      },
      "source": [
        "forecast=model_fit.predict(start=len(X),end=len(X)+29)"
      ],
      "execution_count": 23,
      "outputs": [
        {
          "output_type": "stream",
          "name": "stderr",
          "text": [
            "/usr/local/lib/python3.7/dist-packages/statsmodels/tsa/base/tsa_model.py:379: ValueWarning: No supported index is available. Prediction results will be given with an integer index beginning at `start`.\n",
            "  ValueWarning)\n"
          ]
        }
      ]
    },
    {
      "cell_type": "code",
      "metadata": {
        "colab": {
          "base_uri": "https://localhost:8080/"
        },
        "id": "IMKPCWY5cgpe",
        "outputId": "045efe3d-a369-4d60-89cd-5dfce9eee56f"
      },
      "source": [
        "forecast[:5]"
      ],
      "execution_count": 24,
      "outputs": [
        {
          "output_type": "execute_result",
          "data": {
            "text/plain": [
              "1821    46.418064\n",
              "1822    46.113782\n",
              "1823    45.617771\n",
              "1824    45.249555\n",
              "1825    45.116984\n",
              "dtype: float64"
            ]
          },
          "metadata": {},
          "execution_count": 24
        }
      ]
    },
    {
      "cell_type": "code",
      "metadata": {
        "colab": {
          "base_uri": "https://localhost:8080/"
        },
        "id": "O3rukuVKclzN",
        "outputId": "5f6311b4-e6a0-472f-d226-949541b030da"
      },
      "source": [
        "forecast_date=pd.date_range(start=\"2019-01-01\",end=\"2019-01-30\")\n",
        "len(forecast_date),len(forecast)"
      ],
      "execution_count": 25,
      "outputs": [
        {
          "output_type": "execute_result",
          "data": {
            "text/plain": [
              "(30, 30)"
            ]
          },
          "metadata": {},
          "execution_count": 25
        }
      ]
    },
    {
      "cell_type": "code",
      "metadata": {
        "id": "Ir9WRIEecqYS"
      },
      "source": [
        "forecast.index=forecast_date"
      ],
      "execution_count": 26,
      "outputs": []
    },
    {
      "cell_type": "code",
      "metadata": {
        "colab": {
          "base_uri": "https://localhost:8080/",
          "height": 318
        },
        "id": "WreWsiTqcv5U",
        "outputId": "cfc67db4-f3a3-43d2-9bdb-75294c1e8373"
      },
      "source": [
        "forecast.plot()"
      ],
      "execution_count": 27,
      "outputs": [
        {
          "output_type": "execute_result",
          "data": {
            "text/plain": [
              "<matplotlib.axes._subplots.AxesSubplot at 0x7f1dbf096b10>"
            ]
          },
          "metadata": {},
          "execution_count": 27
        },
        {
          "output_type": "display_data",
          "data": {
            "image/png": "[encoded data removed]",
            "text/plain": [
              "<Figure size 432x288 with 1 Axes>"
            ]
          },
          "metadata": {
            "needs_background": "light"
          }
        }
      ]
    },
    {
      "cell_type": "code",
      "metadata": {
        "id": "3_I70Ywjcx3I"
      },
      "source": [
        ""
      ],
      "execution_count": null,
      "outputs": []
    }
  ]
}
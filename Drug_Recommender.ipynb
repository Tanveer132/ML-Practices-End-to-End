{
  "nbformat": 4,
  "nbformat_minor": 5,
  "metadata": {
    "kernelspec": {
      "display_name": "Python 3",
      "language": "python",
      "name": "python3"
    },
    "language_info": {
      "codemirror_mode": {
        "name": "ipython",
        "version": 3
      },
      "file_extension": ".py",
      "mimetype": "text/x-python",
      "name": "python",
      "nbconvert_exporter": "python",
      "pygments_lexer": "ipython3",
      "version": "3.8.8"
    },
    "colab": {
      "name": "Drug Recommender.ipynb",
      "provenance": [],
      "collapsed_sections": [],
      "include_colab_link": true
    }
  },
  "cells": [
    {
      "cell_type": "markdown",
      "metadata": {
        "id": "view-in-github",
        "colab_type": "text"
      },
      "source": [
        "<a href=\"https://colab.research.google.com/github/Tanveer132/ML-Practices-End-to-End/blob/main/Drug_Recommender.ipynb\" target=\"_parent\"><img src=\"https://colab.research.google.com/assets/colab-badge.svg\" alt=\"Open In Colab\"/></a>"
      ]
    },
    {
      "cell_type": "markdown",
      "metadata": {
        "id": "XWN2R_8gGZiD"
      },
      "source": [
        "# Drug Recommendation -\n",
        "\n",
        "**Aproach -** \n",
        "    \n",
        "    1.To use data of different medicines and their manufacturers.\n",
        "    2.Build rules to suggest different brands for single medicines."
      ],
      "id": "XWN2R_8gGZiD"
    },
    {
      "cell_type": "code",
      "metadata": {
        "id": "d7b6e03f"
      },
      "source": [
        "#Importing necessary libraries\n",
        "import numpy as np\n",
        "import pandas as pd\n",
        "from mlxtend.frequent_patterns import apriori, association_rules\n",
        "from mlxtend.preprocessing import TransactionEncoder"
      ],
      "id": "d7b6e03f",
      "execution_count": 1,
      "outputs": []
    },
    {
      "cell_type": "markdown",
      "metadata": {
        "id": "a4edb425"
      },
      "source": [
        "**dataset** - drugs main list\n",
        "\n",
        "This data provides information about different brands / manufacturers of medicine."
      ],
      "id": "a4edb425"
    },
    {
      "cell_type": "code",
      "metadata": {
        "colab": {
          "base_uri": "https://localhost:8080/",
          "height": 206
        },
        "id": "0d068ed8",
        "outputId": "fa6a8489-6fb8-4140-c635-eede3a0b750b"
      },
      "source": [
        "df1 = pd.read_csv(\"/content/Drugs-main list.csv\")\n",
        "df1.head()"
      ],
      "id": "0d068ed8",
      "execution_count": 2,
      "outputs": [
        {
          "output_type": "execute_result",
          "data": {
            "text/html": [
              "<div>\n",
              "<style scoped>\n",
              "    .dataframe tbody tr th:only-of-type {\n",
              "        vertical-align: middle;\n",
              "    }\n",
              "\n",
              "    .dataframe tbody tr th {\n",
              "        vertical-align: top;\n",
              "    }\n",
              "\n",
              "    .dataframe thead th {\n",
              "        text-align: right;\n",
              "    }\n",
              "</style>\n",
              "<table border=\"1\" class=\"dataframe\">\n",
              "  <thead>\n",
              "    <tr style=\"text-align: right;\">\n",
              "      <th></th>\n",
              "      <th>Drug_name</th>\n",
              "      <th>US_brands</th>\n",
              "    </tr>\n",
              "  </thead>\n",
              "  <tbody>\n",
              "    <tr>\n",
              "      <th>0</th>\n",
              "      <td>Antipyrine And Benzocaine (Otic Route)</td>\n",
              "      <td>['AB Otic', 'Aurodex', 'Auroto', 'Benzotic', '...</td>\n",
              "    </tr>\n",
              "    <tr>\n",
              "      <th>1</th>\n",
              "      <td>Erythromycin (Topical Route)</td>\n",
              "      <td>['ATS', 'Akne-Mycin', 'Emcin', 'Emgel', 'Ery',...</td>\n",
              "    </tr>\n",
              "    <tr>\n",
              "      <th>2</th>\n",
              "      <td>Pyrethrum Extract And Piperonyl Butoxide (Topi...</td>\n",
              "      <td>['A200 Maximum Strength', 'A200 Time-Tested Fo...</td>\n",
              "    </tr>\n",
              "    <tr>\n",
              "      <th>3</th>\n",
              "      <td>Pyrethrum Extract And Piperonyl Butoxide (Topi...</td>\n",
              "      <td>['A200 Maximum Strength', 'A200 Time-Tested Fo...</td>\n",
              "    </tr>\n",
              "    <tr>\n",
              "      <th>4</th>\n",
              "      <td>Laxative (Oral Route)</td>\n",
              "      <td>['A-3 Revised', 'Alocass', 'Amitiza', 'Benefib...</td>\n",
              "    </tr>\n",
              "  </tbody>\n",
              "</table>\n",
              "</div>"
            ],
            "text/plain": [
              "                                           Drug_name                                          US_brands\n",
              "0             Antipyrine And Benzocaine (Otic Route)  ['AB Otic', 'Aurodex', 'Auroto', 'Benzotic', '...\n",
              "1                       Erythromycin (Topical Route)  ['ATS', 'Akne-Mycin', 'Emcin', 'Emgel', 'Ery',...\n",
              "2  Pyrethrum Extract And Piperonyl Butoxide (Topi...  ['A200 Maximum Strength', 'A200 Time-Tested Fo...\n",
              "3  Pyrethrum Extract And Piperonyl Butoxide (Topi...  ['A200 Maximum Strength', 'A200 Time-Tested Fo...\n",
              "4                              Laxative (Oral Route)  ['A-3 Revised', 'Alocass', 'Amitiza', 'Benefib..."
            ]
          },
          "metadata": {},
          "execution_count": 2
        }
      ]
    },
    {
      "cell_type": "markdown",
      "metadata": {
        "id": "bmV6gyL8HG9a"
      },
      "source": [
        "Data Preprocessing and bringing to suitable format."
      ],
      "id": "bmV6gyL8HG9a"
    },
    {
      "cell_type": "code",
      "metadata": {
        "colab": {
          "base_uri": "https://localhost:8080/"
        },
        "id": "b047e2f7",
        "outputId": "9f7a20c6-f96b-4794-828c-7e8efa1dd81c"
      },
      "source": [
        "df1.info()"
      ],
      "id": "b047e2f7",
      "execution_count": 3,
      "outputs": [
        {
          "output_type": "stream",
          "name": "stdout",
          "text": [
            "<class 'pandas.core.frame.DataFrame'>\n",
            "RangeIndex: 5820 entries, 0 to 5819\n",
            "Data columns (total 2 columns):\n",
            " #   Column     Non-Null Count  Dtype \n",
            "---  ------     --------------  ----- \n",
            " 0   Drug_name  5820 non-null   object\n",
            " 1   US_brands  5795 non-null   object\n",
            "dtypes: object(2)\n",
            "memory usage: 91.1+ KB\n"
          ]
        }
      ]
    },
    {
      "cell_type": "code",
      "metadata": {
        "colab": {
          "base_uri": "https://localhost:8080/",
          "height": 206
        },
        "id": "5a1d4cd5",
        "outputId": "fa747363-96f5-44fe-88e5-e114f4c65f22"
      },
      "source": [
        "df1 = df1.dropna()\n",
        "df1 = df1.reset_index(drop=True)\n",
        "df1.head()"
      ],
      "id": "5a1d4cd5",
      "execution_count": 4,
      "outputs": [
        {
          "output_type": "execute_result",
          "data": {
            "text/html": [
              "<div>\n",
              "<style scoped>\n",
              "    .dataframe tbody tr th:only-of-type {\n",
              "        vertical-align: middle;\n",
              "    }\n",
              "\n",
              "    .dataframe tbody tr th {\n",
              "        vertical-align: top;\n",
              "    }\n",
              "\n",
              "    .dataframe thead th {\n",
              "        text-align: right;\n",
              "    }\n",
              "</style>\n",
              "<table border=\"1\" class=\"dataframe\">\n",
              "  <thead>\n",
              "    <tr style=\"text-align: right;\">\n",
              "      <th></th>\n",
              "      <th>Drug_name</th>\n",
              "      <th>US_brands</th>\n",
              "    </tr>\n",
              "  </thead>\n",
              "  <tbody>\n",
              "    <tr>\n",
              "      <th>0</th>\n",
              "      <td>Antipyrine And Benzocaine (Otic Route)</td>\n",
              "      <td>['AB Otic', 'Aurodex', 'Auroto', 'Benzotic', '...</td>\n",
              "    </tr>\n",
              "    <tr>\n",
              "      <th>1</th>\n",
              "      <td>Erythromycin (Topical Route)</td>\n",
              "      <td>['ATS', 'Akne-Mycin', 'Emcin', 'Emgel', 'Ery',...</td>\n",
              "    </tr>\n",
              "    <tr>\n",
              "      <th>2</th>\n",
              "      <td>Pyrethrum Extract And Piperonyl Butoxide (Topi...</td>\n",
              "      <td>['A200 Maximum Strength', 'A200 Time-Tested Fo...</td>\n",
              "    </tr>\n",
              "    <tr>\n",
              "      <th>3</th>\n",
              "      <td>Pyrethrum Extract And Piperonyl Butoxide (Topi...</td>\n",
              "      <td>['A200 Maximum Strength', 'A200 Time-Tested Fo...</td>\n",
              "    </tr>\n",
              "    <tr>\n",
              "      <th>4</th>\n",
              "      <td>Laxative (Oral Route)</td>\n",
              "      <td>['A-3 Revised', 'Alocass', 'Amitiza', 'Benefib...</td>\n",
              "    </tr>\n",
              "  </tbody>\n",
              "</table>\n",
              "</div>"
            ],
            "text/plain": [
              "                                           Drug_name                                          US_brands\n",
              "0             Antipyrine And Benzocaine (Otic Route)  ['AB Otic', 'Aurodex', 'Auroto', 'Benzotic', '...\n",
              "1                       Erythromycin (Topical Route)  ['ATS', 'Akne-Mycin', 'Emcin', 'Emgel', 'Ery',...\n",
              "2  Pyrethrum Extract And Piperonyl Butoxide (Topi...  ['A200 Maximum Strength', 'A200 Time-Tested Fo...\n",
              "3  Pyrethrum Extract And Piperonyl Butoxide (Topi...  ['A200 Maximum Strength', 'A200 Time-Tested Fo...\n",
              "4                              Laxative (Oral Route)  ['A-3 Revised', 'Alocass', 'Amitiza', 'Benefib..."
            ]
          },
          "metadata": {},
          "execution_count": 4
        }
      ]
    },
    {
      "cell_type": "code",
      "metadata": {
        "colab": {
          "base_uri": "https://localhost:8080/",
          "height": 36
        },
        "id": "0ce47bc7",
        "outputId": "94dd0f2e-e1b0-4938-a4eb-5e99b4008012"
      },
      "source": [
        "df1['US_brands'][0][0]\n",
        "#Here each row contains string which we need to convert in list of brands."
      ],
      "id": "0ce47bc7",
      "execution_count": 5,
      "outputs": [
        {
          "output_type": "execute_result",
          "data": {
            "application/vnd.google.colaboratory.intrinsic+json": {
              "type": "string"
            },
            "text/plain": [
              "'['"
            ]
          },
          "metadata": {},
          "execution_count": 5
        }
      ]
    },
    {
      "cell_type": "code",
      "metadata": {
        "colab": {
          "base_uri": "https://localhost:8080/"
        },
        "id": "3d8682cf",
        "outputId": "903475fd-f91e-45d8-f64f-58dd69290115"
      },
      "source": [
        "#we get list of brands for 1st medicine\n",
        "df1['US_brands'][0].replace(\"[\",\"\").replace(\"]\",\"\").replace(\"'\",\"\").split(\",\")"
      ],
      "id": "3d8682cf",
      "execution_count": 6,
      "outputs": [
        {
          "output_type": "execute_result",
          "data": {
            "text/plain": [
              "['AB Otic', ' Aurodex', ' Auroto', ' Benzotic', ' Dec-Agesic AB', ' Dolotic']"
            ]
          },
          "metadata": {},
          "execution_count": 6
        }
      ]
    },
    {
      "cell_type": "code",
      "metadata": {
        "colab": {
          "base_uri": "https://localhost:8080/"
        },
        "id": "643f541d",
        "outputId": "47b12780-7f5b-463b-bf02-e4f433ae59bf"
      },
      "source": [
        "type(df1['US_brands'][0])"
      ],
      "id": "643f541d",
      "execution_count": 7,
      "outputs": [
        {
          "output_type": "execute_result",
          "data": {
            "text/plain": [
              "str"
            ]
          },
          "metadata": {},
          "execution_count": 7
        }
      ]
    },
    {
      "cell_type": "code",
      "metadata": {
        "colab": {
          "base_uri": "https://localhost:8080/",
          "height": 206
        },
        "id": "448791ab",
        "outputId": "aa2027ac-339e-47d3-8173-d21b5bbf2706"
      },
      "source": [
        "for i in range(df1.shape[0]):\n",
        "    if type(df1['US_brands'][i])==str:\n",
        "        df1['US_brands'][i]=df1['US_brands'][i].replace(\"[\",\"\").replace(\"]\",\"\").strip().replace(\"'\",\"\").split(\",\")\n",
        "        \n",
        "df1.head()"
      ],
      "id": "448791ab",
      "execution_count": 8,
      "outputs": [
        {
          "output_type": "execute_result",
          "data": {
            "text/html": [
              "<div>\n",
              "<style scoped>\n",
              "    .dataframe tbody tr th:only-of-type {\n",
              "        vertical-align: middle;\n",
              "    }\n",
              "\n",
              "    .dataframe tbody tr th {\n",
              "        vertical-align: top;\n",
              "    }\n",
              "\n",
              "    .dataframe thead th {\n",
              "        text-align: right;\n",
              "    }\n",
              "</style>\n",
              "<table border=\"1\" class=\"dataframe\">\n",
              "  <thead>\n",
              "    <tr style=\"text-align: right;\">\n",
              "      <th></th>\n",
              "      <th>Drug_name</th>\n",
              "      <th>US_brands</th>\n",
              "    </tr>\n",
              "  </thead>\n",
              "  <tbody>\n",
              "    <tr>\n",
              "      <th>0</th>\n",
              "      <td>Antipyrine And Benzocaine (Otic Route)</td>\n",
              "      <td>[AB Otic,  Aurodex,  Auroto,  Benzotic,  Dec-A...</td>\n",
              "    </tr>\n",
              "    <tr>\n",
              "      <th>1</th>\n",
              "      <td>Erythromycin (Topical Route)</td>\n",
              "      <td>[ATS,  Akne-Mycin,  Emcin,  Emgel,  Ery,  Eryc...</td>\n",
              "    </tr>\n",
              "    <tr>\n",
              "      <th>2</th>\n",
              "      <td>Pyrethrum Extract And Piperonyl Butoxide (Topi...</td>\n",
              "      <td>[A200 Maximum Strength,  A200 Time-Tested Form...</td>\n",
              "    </tr>\n",
              "    <tr>\n",
              "      <th>3</th>\n",
              "      <td>Pyrethrum Extract And Piperonyl Butoxide (Topi...</td>\n",
              "      <td>[A200 Maximum Strength,  A200 Time-Tested Form...</td>\n",
              "    </tr>\n",
              "    <tr>\n",
              "      <th>4</th>\n",
              "      <td>Laxative (Oral Route)</td>\n",
              "      <td>[A-3 Revised,  Alocass,  Amitiza,  Benefiber, ...</td>\n",
              "    </tr>\n",
              "  </tbody>\n",
              "</table>\n",
              "</div>"
            ],
            "text/plain": [
              "                                           Drug_name                                          US_brands\n",
              "0             Antipyrine And Benzocaine (Otic Route)  [AB Otic,  Aurodex,  Auroto,  Benzotic,  Dec-A...\n",
              "1                       Erythromycin (Topical Route)  [ATS,  Akne-Mycin,  Emcin,  Emgel,  Ery,  Eryc...\n",
              "2  Pyrethrum Extract And Piperonyl Butoxide (Topi...  [A200 Maximum Strength,  A200 Time-Tested Form...\n",
              "3  Pyrethrum Extract And Piperonyl Butoxide (Topi...  [A200 Maximum Strength,  A200 Time-Tested Form...\n",
              "4                              Laxative (Oral Route)  [A-3 Revised,  Alocass,  Amitiza,  Benefiber, ..."
            ]
          },
          "metadata": {},
          "execution_count": 8
        }
      ]
    },
    {
      "cell_type": "code",
      "metadata": {
        "colab": {
          "base_uri": "https://localhost:8080/"
        },
        "id": "0e9ccf48",
        "outputId": "7fc1f48b-746f-4abb-9aaf-1f57101b9c11"
      },
      "source": [
        "df1=list(df1['US_brands'])\n",
        "df1[2]"
      ],
      "id": "0e9ccf48",
      "execution_count": 9,
      "outputs": [
        {
          "output_type": "execute_result",
          "data": {
            "text/plain": [
              "['A200 Maximum Strength',\n",
              " ' A200 Time-Tested Formula',\n",
              " ' Lice-X',\n",
              " ' Licide',\n",
              " ' Medi-Lice Maximum Strength',\n",
              " ' Pronto Maximum Strength',\n",
              " ' Pyrinex',\n",
              " ' Pyrinyl',\n",
              " ' Rid',\n",
              " ' Tisit']"
            ]
          },
          "metadata": {},
          "execution_count": 9
        }
      ]
    },
    {
      "cell_type": "code",
      "metadata": {
        "colab": {
          "base_uri": "https://localhost:8080/",
          "height": 308
        },
        "id": "a3cc600b",
        "outputId": "7afd101a-a46e-4f5b-948e-278e073767ae"
      },
      "source": [
        "# Creating pivot table acceptable to apriori algorithm\n",
        "te = TransactionEncoder()\n",
        "te_ary = te.fit(df1).transform(df1)\n",
        "df1 = pd.DataFrame(te_ary, columns=te.columns_)\n",
        "df1.head()"
      ],
      "id": "a3cc600b",
      "execution_count": 10,
      "outputs": [
        {
          "output_type": "execute_result",
          "data": {
            "text/html": [
              "<div>\n",
              "<style scoped>\n",
              "    .dataframe tbody tr th:only-of-type {\n",
              "        vertical-align: middle;\n",
              "    }\n",
              "\n",
              "    .dataframe tbody tr th {\n",
              "        vertical-align: top;\n",
              "    }\n",
              "\n",
              "    .dataframe thead th {\n",
              "        text-align: right;\n",
              "    }\n",
              "</style>\n",
              "<table border=\"1\" class=\"dataframe\">\n",
              "  <thead>\n",
              "    <tr style=\"text-align: right;\">\n",
              "      <th></th>\n",
              "      <th>A-G Profen</th>\n",
              "      <th>A200 Time-Tested Formula</th>\n",
              "      <th>Abilify Discmelt</th>\n",
              "      <th>Abilify Maintena</th>\n",
              "      <th>Accutane</th>\n",
              "      <th>Aciphex Sprinkle</th>\n",
              "      <th>Acne 10 Gel</th>\n",
              "      <th>Acne Wash</th>\n",
              "      <th>Actamin Maximum Strength</th>\n",
              "      <th>Actiq</th>\n",
              "      <th>Actoplus Met XR</th>\n",
              "      <th>Acular LS</th>\n",
              "      <th>Acular PF</th>\n",
              "      <th>Acuvail</th>\n",
              "      <th>Adderall XR</th>\n",
              "      <th>Adenoscan</th>\n",
              "      <th>Adipex-P</th>\n",
              "      <th>Adoxa CK</th>\n",
              "      <th>Adoxa Pak</th>\n",
              "      <th>Adoxa TT</th>\n",
              "      <th>Adrenalin</th>\n",
              "      <th>Adrenalin Chloride</th>\n",
              "      <th>Advair Diskus 10050</th>\n",
              "      <th>Advair Diskus 25050</th>\n",
              "      <th>Advair Diskus 50050</th>\n",
              "      <th>Advair HFA</th>\n",
              "      <th>Advair HFA 11521</th>\n",
              "      <th>Advair HFA 23021</th>\n",
              "      <th>Advair HFA 4521</th>\n",
              "      <th>Advil</th>\n",
              "      <th>Adynovate</th>\n",
              "      <th>Aerobid-M</th>\n",
              "      <th>Aerospan</th>\n",
              "      <th>Afeditab CR</th>\n",
              "      <th>Afinitor Disperz</th>\n",
              "      <th>Afrin</th>\n",
              "      <th>Aftate</th>\n",
              "      <th>Ak-Dilate</th>\n",
              "      <th>Akne-Mycin</th>\n",
              "      <th>Ala-Hist DHC</th>\n",
              "      <th>...</th>\n",
              "      <th>Zepatier</th>\n",
              "      <th>Zerbaxa</th>\n",
              "      <th>Zerit</th>\n",
              "      <th>Zerviate</th>\n",
              "      <th>Zetia</th>\n",
              "      <th>Zevalin In-111</th>\n",
              "      <th>Ziac</th>\n",
              "      <th>Ziagen</th>\n",
              "      <th>Zinacef</th>\n",
              "      <th>Zinbryta</th>\n",
              "      <th>Zingo</th>\n",
              "      <th>Zinplava</th>\n",
              "      <th>Zioptan</th>\n",
              "      <th>Zirabev</th>\n",
              "      <th>Zirgan</th>\n",
              "      <th>Zithromax</th>\n",
              "      <th>Zocor</th>\n",
              "      <th>Zofran</th>\n",
              "      <th>Zoladex</th>\n",
              "      <th>Zolgensma</th>\n",
              "      <th>Zolinza</th>\n",
              "      <th>Zoloft</th>\n",
              "      <th>Zomig</th>\n",
              "      <th>Zonegran</th>\n",
              "      <th>Zontivity</th>\n",
              "      <th>Zostavax</th>\n",
              "      <th>Zosyn</th>\n",
              "      <th>Zovirax</th>\n",
              "      <th>Zulresso</th>\n",
              "      <th>Zurampic</th>\n",
              "      <th>ZyPREXA</th>\n",
              "      <th>ZyPREXA IntraMuscular</th>\n",
              "      <th>Zydelig</th>\n",
              "      <th>Zyflo</th>\n",
              "      <th>Zykadia</th>\n",
              "      <th>Zylet</th>\n",
              "      <th>Zyloprim</th>\n",
              "      <th>Zymar</th>\n",
              "      <th>ZyrTEC-D</th>\n",
              "      <th>Zyvox</th>\n",
              "    </tr>\n",
              "  </thead>\n",
              "  <tbody>\n",
              "    <tr>\n",
              "      <th>0</th>\n",
              "      <td>False</td>\n",
              "      <td>False</td>\n",
              "      <td>False</td>\n",
              "      <td>False</td>\n",
              "      <td>False</td>\n",
              "      <td>False</td>\n",
              "      <td>False</td>\n",
              "      <td>False</td>\n",
              "      <td>False</td>\n",
              "      <td>False</td>\n",
              "      <td>False</td>\n",
              "      <td>False</td>\n",
              "      <td>False</td>\n",
              "      <td>False</td>\n",
              "      <td>False</td>\n",
              "      <td>False</td>\n",
              "      <td>False</td>\n",
              "      <td>False</td>\n",
              "      <td>False</td>\n",
              "      <td>False</td>\n",
              "      <td>False</td>\n",
              "      <td>False</td>\n",
              "      <td>False</td>\n",
              "      <td>False</td>\n",
              "      <td>False</td>\n",
              "      <td>False</td>\n",
              "      <td>False</td>\n",
              "      <td>False</td>\n",
              "      <td>False</td>\n",
              "      <td>False</td>\n",
              "      <td>False</td>\n",
              "      <td>False</td>\n",
              "      <td>False</td>\n",
              "      <td>False</td>\n",
              "      <td>False</td>\n",
              "      <td>False</td>\n",
              "      <td>False</td>\n",
              "      <td>False</td>\n",
              "      <td>False</td>\n",
              "      <td>False</td>\n",
              "      <td>...</td>\n",
              "      <td>False</td>\n",
              "      <td>False</td>\n",
              "      <td>False</td>\n",
              "      <td>False</td>\n",
              "      <td>False</td>\n",
              "      <td>False</td>\n",
              "      <td>False</td>\n",
              "      <td>False</td>\n",
              "      <td>False</td>\n",
              "      <td>False</td>\n",
              "      <td>False</td>\n",
              "      <td>False</td>\n",
              "      <td>False</td>\n",
              "      <td>False</td>\n",
              "      <td>False</td>\n",
              "      <td>False</td>\n",
              "      <td>False</td>\n",
              "      <td>False</td>\n",
              "      <td>False</td>\n",
              "      <td>False</td>\n",
              "      <td>False</td>\n",
              "      <td>False</td>\n",
              "      <td>False</td>\n",
              "      <td>False</td>\n",
              "      <td>False</td>\n",
              "      <td>False</td>\n",
              "      <td>False</td>\n",
              "      <td>False</td>\n",
              "      <td>False</td>\n",
              "      <td>False</td>\n",
              "      <td>False</td>\n",
              "      <td>False</td>\n",
              "      <td>False</td>\n",
              "      <td>False</td>\n",
              "      <td>False</td>\n",
              "      <td>False</td>\n",
              "      <td>False</td>\n",
              "      <td>False</td>\n",
              "      <td>False</td>\n",
              "      <td>False</td>\n",
              "    </tr>\n",
              "    <tr>\n",
              "      <th>1</th>\n",
              "      <td>False</td>\n",
              "      <td>False</td>\n",
              "      <td>False</td>\n",
              "      <td>False</td>\n",
              "      <td>False</td>\n",
              "      <td>False</td>\n",
              "      <td>False</td>\n",
              "      <td>False</td>\n",
              "      <td>False</td>\n",
              "      <td>False</td>\n",
              "      <td>False</td>\n",
              "      <td>False</td>\n",
              "      <td>False</td>\n",
              "      <td>False</td>\n",
              "      <td>False</td>\n",
              "      <td>False</td>\n",
              "      <td>False</td>\n",
              "      <td>False</td>\n",
              "      <td>False</td>\n",
              "      <td>False</td>\n",
              "      <td>False</td>\n",
              "      <td>False</td>\n",
              "      <td>False</td>\n",
              "      <td>False</td>\n",
              "      <td>False</td>\n",
              "      <td>False</td>\n",
              "      <td>False</td>\n",
              "      <td>False</td>\n",
              "      <td>False</td>\n",
              "      <td>False</td>\n",
              "      <td>False</td>\n",
              "      <td>False</td>\n",
              "      <td>False</td>\n",
              "      <td>False</td>\n",
              "      <td>False</td>\n",
              "      <td>False</td>\n",
              "      <td>False</td>\n",
              "      <td>False</td>\n",
              "      <td>True</td>\n",
              "      <td>False</td>\n",
              "      <td>...</td>\n",
              "      <td>False</td>\n",
              "      <td>False</td>\n",
              "      <td>False</td>\n",
              "      <td>False</td>\n",
              "      <td>False</td>\n",
              "      <td>False</td>\n",
              "      <td>False</td>\n",
              "      <td>False</td>\n",
              "      <td>False</td>\n",
              "      <td>False</td>\n",
              "      <td>False</td>\n",
              "      <td>False</td>\n",
              "      <td>False</td>\n",
              "      <td>False</td>\n",
              "      <td>False</td>\n",
              "      <td>False</td>\n",
              "      <td>False</td>\n",
              "      <td>False</td>\n",
              "      <td>False</td>\n",
              "      <td>False</td>\n",
              "      <td>False</td>\n",
              "      <td>False</td>\n",
              "      <td>False</td>\n",
              "      <td>False</td>\n",
              "      <td>False</td>\n",
              "      <td>False</td>\n",
              "      <td>False</td>\n",
              "      <td>False</td>\n",
              "      <td>False</td>\n",
              "      <td>False</td>\n",
              "      <td>False</td>\n",
              "      <td>False</td>\n",
              "      <td>False</td>\n",
              "      <td>False</td>\n",
              "      <td>False</td>\n",
              "      <td>False</td>\n",
              "      <td>False</td>\n",
              "      <td>False</td>\n",
              "      <td>False</td>\n",
              "      <td>False</td>\n",
              "    </tr>\n",
              "    <tr>\n",
              "      <th>2</th>\n",
              "      <td>False</td>\n",
              "      <td>True</td>\n",
              "      <td>False</td>\n",
              "      <td>False</td>\n",
              "      <td>False</td>\n",
              "      <td>False</td>\n",
              "      <td>False</td>\n",
              "      <td>False</td>\n",
              "      <td>False</td>\n",
              "      <td>False</td>\n",
              "      <td>False</td>\n",
              "      <td>False</td>\n",
              "      <td>False</td>\n",
              "      <td>False</td>\n",
              "      <td>False</td>\n",
              "      <td>False</td>\n",
              "      <td>False</td>\n",
              "      <td>False</td>\n",
              "      <td>False</td>\n",
              "      <td>False</td>\n",
              "      <td>False</td>\n",
              "      <td>False</td>\n",
              "      <td>False</td>\n",
              "      <td>False</td>\n",
              "      <td>False</td>\n",
              "      <td>False</td>\n",
              "      <td>False</td>\n",
              "      <td>False</td>\n",
              "      <td>False</td>\n",
              "      <td>False</td>\n",
              "      <td>False</td>\n",
              "      <td>False</td>\n",
              "      <td>False</td>\n",
              "      <td>False</td>\n",
              "      <td>False</td>\n",
              "      <td>False</td>\n",
              "      <td>False</td>\n",
              "      <td>False</td>\n",
              "      <td>False</td>\n",
              "      <td>False</td>\n",
              "      <td>...</td>\n",
              "      <td>False</td>\n",
              "      <td>False</td>\n",
              "      <td>False</td>\n",
              "      <td>False</td>\n",
              "      <td>False</td>\n",
              "      <td>False</td>\n",
              "      <td>False</td>\n",
              "      <td>False</td>\n",
              "      <td>False</td>\n",
              "      <td>False</td>\n",
              "      <td>False</td>\n",
              "      <td>False</td>\n",
              "      <td>False</td>\n",
              "      <td>False</td>\n",
              "      <td>False</td>\n",
              "      <td>False</td>\n",
              "      <td>False</td>\n",
              "      <td>False</td>\n",
              "      <td>False</td>\n",
              "      <td>False</td>\n",
              "      <td>False</td>\n",
              "      <td>False</td>\n",
              "      <td>False</td>\n",
              "      <td>False</td>\n",
              "      <td>False</td>\n",
              "      <td>False</td>\n",
              "      <td>False</td>\n",
              "      <td>False</td>\n",
              "      <td>False</td>\n",
              "      <td>False</td>\n",
              "      <td>False</td>\n",
              "      <td>False</td>\n",
              "      <td>False</td>\n",
              "      <td>False</td>\n",
              "      <td>False</td>\n",
              "      <td>False</td>\n",
              "      <td>False</td>\n",
              "      <td>False</td>\n",
              "      <td>False</td>\n",
              "      <td>False</td>\n",
              "    </tr>\n",
              "    <tr>\n",
              "      <th>3</th>\n",
              "      <td>False</td>\n",
              "      <td>True</td>\n",
              "      <td>False</td>\n",
              "      <td>False</td>\n",
              "      <td>False</td>\n",
              "      <td>False</td>\n",
              "      <td>False</td>\n",
              "      <td>False</td>\n",
              "      <td>False</td>\n",
              "      <td>False</td>\n",
              "      <td>False</td>\n",
              "      <td>False</td>\n",
              "      <td>False</td>\n",
              "      <td>False</td>\n",
              "      <td>False</td>\n",
              "      <td>False</td>\n",
              "      <td>False</td>\n",
              "      <td>False</td>\n",
              "      <td>False</td>\n",
              "      <td>False</td>\n",
              "      <td>False</td>\n",
              "      <td>False</td>\n",
              "      <td>False</td>\n",
              "      <td>False</td>\n",
              "      <td>False</td>\n",
              "      <td>False</td>\n",
              "      <td>False</td>\n",
              "      <td>False</td>\n",
              "      <td>False</td>\n",
              "      <td>False</td>\n",
              "      <td>False</td>\n",
              "      <td>False</td>\n",
              "      <td>False</td>\n",
              "      <td>False</td>\n",
              "      <td>False</td>\n",
              "      <td>False</td>\n",
              "      <td>False</td>\n",
              "      <td>False</td>\n",
              "      <td>False</td>\n",
              "      <td>False</td>\n",
              "      <td>...</td>\n",
              "      <td>False</td>\n",
              "      <td>False</td>\n",
              "      <td>False</td>\n",
              "      <td>False</td>\n",
              "      <td>False</td>\n",
              "      <td>False</td>\n",
              "      <td>False</td>\n",
              "      <td>False</td>\n",
              "      <td>False</td>\n",
              "      <td>False</td>\n",
              "      <td>False</td>\n",
              "      <td>False</td>\n",
              "      <td>False</td>\n",
              "      <td>False</td>\n",
              "      <td>False</td>\n",
              "      <td>False</td>\n",
              "      <td>False</td>\n",
              "      <td>False</td>\n",
              "      <td>False</td>\n",
              "      <td>False</td>\n",
              "      <td>False</td>\n",
              "      <td>False</td>\n",
              "      <td>False</td>\n",
              "      <td>False</td>\n",
              "      <td>False</td>\n",
              "      <td>False</td>\n",
              "      <td>False</td>\n",
              "      <td>False</td>\n",
              "      <td>False</td>\n",
              "      <td>False</td>\n",
              "      <td>False</td>\n",
              "      <td>False</td>\n",
              "      <td>False</td>\n",
              "      <td>False</td>\n",
              "      <td>False</td>\n",
              "      <td>False</td>\n",
              "      <td>False</td>\n",
              "      <td>False</td>\n",
              "      <td>False</td>\n",
              "      <td>False</td>\n",
              "    </tr>\n",
              "    <tr>\n",
              "      <th>4</th>\n",
              "      <td>False</td>\n",
              "      <td>False</td>\n",
              "      <td>False</td>\n",
              "      <td>False</td>\n",
              "      <td>False</td>\n",
              "      <td>False</td>\n",
              "      <td>False</td>\n",
              "      <td>False</td>\n",
              "      <td>False</td>\n",
              "      <td>False</td>\n",
              "      <td>False</td>\n",
              "      <td>False</td>\n",
              "      <td>False</td>\n",
              "      <td>False</td>\n",
              "      <td>False</td>\n",
              "      <td>False</td>\n",
              "      <td>False</td>\n",
              "      <td>False</td>\n",
              "      <td>False</td>\n",
              "      <td>False</td>\n",
              "      <td>False</td>\n",
              "      <td>False</td>\n",
              "      <td>False</td>\n",
              "      <td>False</td>\n",
              "      <td>False</td>\n",
              "      <td>False</td>\n",
              "      <td>False</td>\n",
              "      <td>False</td>\n",
              "      <td>False</td>\n",
              "      <td>False</td>\n",
              "      <td>False</td>\n",
              "      <td>False</td>\n",
              "      <td>False</td>\n",
              "      <td>False</td>\n",
              "      <td>False</td>\n",
              "      <td>False</td>\n",
              "      <td>False</td>\n",
              "      <td>False</td>\n",
              "      <td>False</td>\n",
              "      <td>False</td>\n",
              "      <td>...</td>\n",
              "      <td>False</td>\n",
              "      <td>False</td>\n",
              "      <td>False</td>\n",
              "      <td>False</td>\n",
              "      <td>False</td>\n",
              "      <td>False</td>\n",
              "      <td>False</td>\n",
              "      <td>False</td>\n",
              "      <td>False</td>\n",
              "      <td>False</td>\n",
              "      <td>False</td>\n",
              "      <td>False</td>\n",
              "      <td>False</td>\n",
              "      <td>False</td>\n",
              "      <td>False</td>\n",
              "      <td>False</td>\n",
              "      <td>False</td>\n",
              "      <td>False</td>\n",
              "      <td>False</td>\n",
              "      <td>False</td>\n",
              "      <td>False</td>\n",
              "      <td>False</td>\n",
              "      <td>False</td>\n",
              "      <td>False</td>\n",
              "      <td>False</td>\n",
              "      <td>False</td>\n",
              "      <td>False</td>\n",
              "      <td>False</td>\n",
              "      <td>False</td>\n",
              "      <td>False</td>\n",
              "      <td>False</td>\n",
              "      <td>False</td>\n",
              "      <td>False</td>\n",
              "      <td>False</td>\n",
              "      <td>False</td>\n",
              "      <td>False</td>\n",
              "      <td>False</td>\n",
              "      <td>False</td>\n",
              "      <td>False</td>\n",
              "      <td>False</td>\n",
              "    </tr>\n",
              "  </tbody>\n",
              "</table>\n",
              "<p>5 rows × 4562 columns</p>\n",
              "</div>"
            ],
            "text/plain": [
              "    A-G Profen   A200 Time-Tested Formula  ...  ZyrTEC-D  Zyvox\n",
              "0        False                      False  ...     False  False\n",
              "1        False                      False  ...     False  False\n",
              "2        False                       True  ...     False  False\n",
              "3        False                       True  ...     False  False\n",
              "4        False                      False  ...     False  False\n",
              "\n",
              "[5 rows x 4562 columns]"
            ]
          },
          "metadata": {},
          "execution_count": 10
        }
      ]
    },
    {
      "cell_type": "code",
      "metadata": {
        "id": "dc862e61"
      },
      "source": [
        "def convert_into_binary(x):\n",
        "    if x > 0:\n",
        "        return 1\n",
        "    else:\n",
        "        return 0\n",
        "    \n",
        "df1 = df1.applymap(convert_into_binary)"
      ],
      "id": "dc862e61",
      "execution_count": 11,
      "outputs": []
    },
    {
      "cell_type": "markdown",
      "metadata": {
        "id": "s1RqK8JxHgEv"
      },
      "source": [
        "Providing data to apriori algorithm and getting itemsets i.e. manufacturers"
      ],
      "id": "s1RqK8JxHgEv"
    },
    {
      "cell_type": "code",
      "metadata": {
        "id": "1ca7554c"
      },
      "source": [
        "frequent_itemsets = apriori(df1, min_support=0.02, use_colnames=True)"
      ],
      "id": "1ca7554c",
      "execution_count": 12,
      "outputs": []
    },
    {
      "cell_type": "code",
      "metadata": {
        "colab": {
          "base_uri": "https://localhost:8080/",
          "height": 424
        },
        "id": "939b8d7e",
        "outputId": "39fa43d1-ffe5-43ef-c9a3-d54db6549262"
      },
      "source": [
        "frequent_itemsets"
      ],
      "id": "939b8d7e",
      "execution_count": 13,
      "outputs": [
        {
          "output_type": "execute_result",
          "data": {
            "text/html": [
              "<div>\n",
              "<style scoped>\n",
              "    .dataframe tbody tr th:only-of-type {\n",
              "        vertical-align: middle;\n",
              "    }\n",
              "\n",
              "    .dataframe tbody tr th {\n",
              "        vertical-align: top;\n",
              "    }\n",
              "\n",
              "    .dataframe thead th {\n",
              "        text-align: right;\n",
              "    }\n",
              "</style>\n",
              "<table border=\"1\" class=\"dataframe\">\n",
              "  <thead>\n",
              "    <tr style=\"text-align: right;\">\n",
              "      <th></th>\n",
              "      <th>support</th>\n",
              "      <th>itemsets</th>\n",
              "    </tr>\n",
              "  </thead>\n",
              "  <tbody>\n",
              "    <tr>\n",
              "      <th>0</th>\n",
              "      <td>0.022433</td>\n",
              "      <td>( Aldex D)</td>\n",
              "    </tr>\n",
              "    <tr>\n",
              "      <th>1</th>\n",
              "      <td>0.026057</td>\n",
              "      <td>( Alka-Seltzer Plus Cold and Sinus)</td>\n",
              "    </tr>\n",
              "    <tr>\n",
              "      <th>2</th>\n",
              "      <td>0.022433</td>\n",
              "      <td>( AllanVan-S)</td>\n",
              "    </tr>\n",
              "    <tr>\n",
              "      <th>3</th>\n",
              "      <td>0.022433</td>\n",
              "      <td>( Allegra-D)</td>\n",
              "    </tr>\n",
              "    <tr>\n",
              "      <th>4</th>\n",
              "      <td>0.028645</td>\n",
              "      <td>( Aller-Chlor)</td>\n",
              "    </tr>\n",
              "    <tr>\n",
              "      <th>...</th>\n",
              "      <td>...</td>\n",
              "      <td>...</td>\n",
              "    </tr>\n",
              "    <tr>\n",
              "      <th>131118</th>\n",
              "      <td>0.022433</td>\n",
              "      <td>( Pediatex 12D,  ZyrTEC-D,  Deconamine SR,  Se...</td>\n",
              "    </tr>\n",
              "    <tr>\n",
              "      <th>131119</th>\n",
              "      <td>0.022433</td>\n",
              "      <td>( Pediatex 12D,  ZyrTEC-D,  Deconamine SR,  Se...</td>\n",
              "    </tr>\n",
              "    <tr>\n",
              "      <th>131120</th>\n",
              "      <td>0.022433</td>\n",
              "      <td>( Pediatex 12D,  ZyrTEC-D,  Deconamine SR,  Se...</td>\n",
              "    </tr>\n",
              "    <tr>\n",
              "      <th>131121</th>\n",
              "      <td>0.022433</td>\n",
              "      <td>( Pediatex 12D,  ZyrTEC-D,  Deconamine SR,  Se...</td>\n",
              "    </tr>\n",
              "    <tr>\n",
              "      <th>131122</th>\n",
              "      <td>0.022433</td>\n",
              "      <td>( Pediatex 12D,  ZyrTEC-D,  Deconamine SR,  Se...</td>\n",
              "    </tr>\n",
              "  </tbody>\n",
              "</table>\n",
              "<p>131123 rows × 2 columns</p>\n",
              "</div>"
            ],
            "text/plain": [
              "         support                                           itemsets\n",
              "0       0.022433                                         ( Aldex D)\n",
              "1       0.026057                ( Alka-Seltzer Plus Cold and Sinus)\n",
              "2       0.022433                                      ( AllanVan-S)\n",
              "3       0.022433                                       ( Allegra-D)\n",
              "4       0.028645                                     ( Aller-Chlor)\n",
              "...          ...                                                ...\n",
              "131118  0.022433  ( Pediatex 12D,  ZyrTEC-D,  Deconamine SR,  Se...\n",
              "131119  0.022433  ( Pediatex 12D,  ZyrTEC-D,  Deconamine SR,  Se...\n",
              "131120  0.022433  ( Pediatex 12D,  ZyrTEC-D,  Deconamine SR,  Se...\n",
              "131121  0.022433  ( Pediatex 12D,  ZyrTEC-D,  Deconamine SR,  Se...\n",
              "131122  0.022433  ( Pediatex 12D,  ZyrTEC-D,  Deconamine SR,  Se...\n",
              "\n",
              "[131123 rows x 2 columns]"
            ]
          },
          "metadata": {},
          "execution_count": 13
        }
      ]
    },
    {
      "cell_type": "code",
      "metadata": {
        "colab": {
          "base_uri": "https://localhost:8080/",
          "height": 206
        },
        "id": "e92f75f9",
        "outputId": "a23d8bc5-7427-4e54-b32b-485fcdbda309"
      },
      "source": [
        "# We have association rules which need to put on frequent itemset\n",
        "# setting threshold with lift \n",
        "rules_mlxtend = association_rules(frequent_itemsets, metric = 'support', min_threshold=0.025)\n",
        "rules_mlxtend.head()"
      ],
      "id": "e92f75f9",
      "execution_count": 15,
      "outputs": [
        {
          "output_type": "execute_result",
          "data": {
            "text/html": [
              "<div>\n",
              "<style scoped>\n",
              "    .dataframe tbody tr th:only-of-type {\n",
              "        vertical-align: middle;\n",
              "    }\n",
              "\n",
              "    .dataframe tbody tr th {\n",
              "        vertical-align: top;\n",
              "    }\n",
              "\n",
              "    .dataframe thead th {\n",
              "        text-align: right;\n",
              "    }\n",
              "</style>\n",
              "<table border=\"1\" class=\"dataframe\">\n",
              "  <thead>\n",
              "    <tr style=\"text-align: right;\">\n",
              "      <th></th>\n",
              "      <th>antecedents</th>\n",
              "      <th>consequents</th>\n",
              "      <th>antecedent support</th>\n",
              "      <th>consequent support</th>\n",
              "      <th>support</th>\n",
              "      <th>confidence</th>\n",
              "      <th>lift</th>\n",
              "      <th>leverage</th>\n",
              "      <th>conviction</th>\n",
              "    </tr>\n",
              "  </thead>\n",
              "  <tbody>\n",
              "    <tr>\n",
              "      <th>0</th>\n",
              "      <td>( Genapap Sinus)</td>\n",
              "      <td>( Alka-Seltzer Plus Cold and Sinus)</td>\n",
              "      <td>0.028818</td>\n",
              "      <td>0.026057</td>\n",
              "      <td>0.026057</td>\n",
              "      <td>0.904192</td>\n",
              "      <td>34.700599</td>\n",
              "      <td>0.025306</td>\n",
              "      <td>10.165531</td>\n",
              "    </tr>\n",
              "    <tr>\n",
              "      <th>1</th>\n",
              "      <td>( Alka-Seltzer Plus Cold and Sinus)</td>\n",
              "      <td>( Genapap Sinus)</td>\n",
              "      <td>0.026057</td>\n",
              "      <td>0.028818</td>\n",
              "      <td>0.026057</td>\n",
              "      <td>1.000000</td>\n",
              "      <td>34.700599</td>\n",
              "      <td>0.025306</td>\n",
              "      <td>inf</td>\n",
              "    </tr>\n",
              "    <tr>\n",
              "      <th>2</th>\n",
              "      <td>( Tylenol)</td>\n",
              "      <td>( Alka-Seltzer Plus Cold and Sinus)</td>\n",
              "      <td>0.032097</td>\n",
              "      <td>0.026057</td>\n",
              "      <td>0.026057</td>\n",
              "      <td>0.811828</td>\n",
              "      <td>31.155914</td>\n",
              "      <td>0.025221</td>\n",
              "      <td>5.175812</td>\n",
              "    </tr>\n",
              "    <tr>\n",
              "      <th>3</th>\n",
              "      <td>( Alka-Seltzer Plus Cold and Sinus)</td>\n",
              "      <td>( Tylenol)</td>\n",
              "      <td>0.026057</td>\n",
              "      <td>0.032097</td>\n",
              "      <td>0.026057</td>\n",
              "      <td>1.000000</td>\n",
              "      <td>31.155914</td>\n",
              "      <td>0.025221</td>\n",
              "      <td>inf</td>\n",
              "    </tr>\n",
              "    <tr>\n",
              "      <th>4</th>\n",
              "      <td>( Aller-Chlor)</td>\n",
              "      <td>( Benadryl)</td>\n",
              "      <td>0.028645</td>\n",
              "      <td>0.028645</td>\n",
              "      <td>0.028645</td>\n",
              "      <td>1.000000</td>\n",
              "      <td>34.909639</td>\n",
              "      <td>0.027825</td>\n",
              "      <td>inf</td>\n",
              "    </tr>\n",
              "  </tbody>\n",
              "</table>\n",
              "</div>"
            ],
            "text/plain": [
              "                           antecedents  ... conviction\n",
              "0                     ( Genapap Sinus)  ...  10.165531\n",
              "1  ( Alka-Seltzer Plus Cold and Sinus)  ...        inf\n",
              "2                           ( Tylenol)  ...   5.175812\n",
              "3  ( Alka-Seltzer Plus Cold and Sinus)  ...        inf\n",
              "4                       ( Aller-Chlor)  ...        inf\n",
              "\n",
              "[5 rows x 9 columns]"
            ]
          },
          "metadata": {},
          "execution_count": 15
        }
      ]
    },
    {
      "cell_type": "code",
      "metadata": {
        "id": "c5df72df",
        "colab": {
          "base_uri": "https://localhost:8080/"
        },
        "outputId": "8a15ca1c-d7e4-4e6f-b51c-7ffc7c4d4756"
      },
      "source": [
        "# Get maximum confidence and lift\n",
        "print(rules_mlxtend['confidence'][rules_mlxtend['confidence']==max(rules_mlxtend['confidence'])])\n",
        "\n",
        "print(rules_mlxtend['lift'][rules_mlxtend['lift']==max(rules_mlxtend['lift'])])"
      ],
      "id": "c5df72df",
      "execution_count": 17,
      "outputs": [
        {
          "output_type": "stream",
          "name": "stdout",
          "text": [
            "1      1.0\n",
            "3      1.0\n",
            "4      1.0\n",
            "5      1.0\n",
            "7      1.0\n",
            "      ... \n",
            "185    1.0\n",
            "186    1.0\n",
            "188    1.0\n",
            "189    1.0\n",
            "190    1.0\n",
            "Name: confidence, Length: 156, dtype: float64\n",
            "26    38.377483\n",
            "31    38.377483\n",
            "Name: lift, dtype: float64\n"
          ]
        }
      ]
    },
    {
      "cell_type": "code",
      "metadata": {
        "id": "dd4307e0"
      },
      "source": [
        "#Convert frozenset objects into string\n",
        "rules_mlxtend[\"antecedents\"] = rules_mlxtend[\"antecedents\"].apply(lambda x: ', '.join(list(x))).astype(\"unicode\")\n",
        "rules_mlxtend[\"consequents\"] = rules_mlxtend[\"consequents\"].apply(lambda x: ', '.join(list(x))).astype(\"unicode\")"
      ],
      "id": "dd4307e0",
      "execution_count": 18,
      "outputs": []
    },
    {
      "cell_type": "code",
      "metadata": {
        "colab": {
          "base_uri": "https://localhost:8080/"
        },
        "id": "UXYFHctZBQ2S",
        "outputId": "8f3fe98f-8f1f-4bee-a92a-77df4ab48d43"
      },
      "source": [
        "df1.columns"
      ],
      "id": "UXYFHctZBQ2S",
      "execution_count": 19,
      "outputs": [
        {
          "output_type": "execute_result",
          "data": {
            "text/plain": [
              "Index([' A-G Profen', ' A200 Time-Tested Formula', ' Abilify Discmelt',\n",
              "       ' Abilify Maintena', ' Accutane', ' Aciphex Sprinkle', ' Acne 10 Gel',\n",
              "       ' Acne Wash', ' Actamin Maximum Strength', ' Actiq',\n",
              "       ...\n",
              "       'ZyPREXA', 'ZyPREXA IntraMuscular', 'Zydelig', 'Zyflo', 'Zykadia',\n",
              "       'Zylet', 'Zyloprim', 'Zymar', 'ZyrTEC-D', 'Zyvox'],\n",
              "      dtype='object', length=4562)"
            ]
          },
          "metadata": {},
          "execution_count": 19
        }
      ]
    },
    {
      "cell_type": "code",
      "metadata": {
        "id": "Jqzx26IjBZ3X"
      },
      "source": [
        "medicines = [' A-G Profen', ' A200 Time-Tested Formula', ' Abilify Discmelt',\n",
        "       ' Abilify Maintena', ' Accutane', ' Aciphex Sprinkle', ' Acne 10 Gel',\n",
        "       ' Acne Wash', ' Actamin Maximum Strength', ' Actiq',\n",
        "       'ZyPREXA', 'ZyPREXA IntraMuscular', 'Zydelig', 'Zyflo', 'Zykadia',\n",
        "       'Zylet', 'Zyloprim', 'Zymar', 'ZyrTEC-D', 'Zyvox']"
      ],
      "id": "Jqzx26IjBZ3X",
      "execution_count": 21,
      "outputs": []
    },
    {
      "cell_type": "code",
      "metadata": {
        "colab": {
          "base_uri": "https://localhost:8080/"
        },
        "id": "S5T3DPBjBgri",
        "outputId": "fef6c4d0-6ade-49af-f83d-ae1cd04764ba"
      },
      "source": [
        "prescribed_item = \" Genapap Sinus\"\n",
        "\n",
        "\n",
        "recommended_item = rules_mlxtend['consequents'].loc[(rules_mlxtend[\"antecedents\"] == prescribed_item) & rules_mlxtend['lift'] >=1]\n",
        "recommended_item = str(recommended_item).split(\"Name\")[0].replace(\" \",\"\").replace(\"\\n\",\"\")[1:]\n",
        "\n",
        "print(\"You Have prescribed\",bought_item,\"\\nYou can suggest some more -> \",recommended_item,\" !!!\")"
      ],
      "id": "S5T3DPBjBgri",
      "execution_count": 29,
      "outputs": [
        {
          "output_type": "stream",
          "name": "stdout",
          "text": [
            "You Have prescribed  Genapap Sinus \n",
            "You can suggest some more ->  Alka-SeltzerPlusColdandSinus19Tylenol30Tylenol,Alka-SeltzerPlusColdandSinus  !!!\n"
          ]
        }
      ]
    },
    {
      "cell_type": "markdown",
      "metadata": {
        "id": "1FiQhsZ6IFXe"
      },
      "source": [
        "Conclusion : Doctors abraod can get help from this to suggest different manufacturers  (brands of medicines) available for precribed medicine."
      ],
      "id": "1FiQhsZ6IFXe"
    },
    {
      "cell_type": "code",
      "metadata": {
        "id": "eCZJnDxzB5Jf"
      },
      "source": [
        ""
      ],
      "id": "eCZJnDxzB5Jf",
      "execution_count": null,
      "outputs": []
    }
  ]
}
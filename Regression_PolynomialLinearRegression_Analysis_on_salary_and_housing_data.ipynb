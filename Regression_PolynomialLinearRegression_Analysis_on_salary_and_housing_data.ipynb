{
  "nbformat": 4,
  "nbformat_minor": 0,
  "metadata": {
    "colab": {
      "name": "Regression_PolynomialLinearRegression_Analysis on salary and housing data.ipynb",
      "provenance": [],
      "collapsed_sections": [],
      "authorship_tag": "ABX9TyMh6rtOcQOsMpoJ2V4KFxP0",
      "include_colab_link": true
    },
    "kernelspec": {
      "name": "python3",
      "display_name": "Python 3"
    },
    "language_info": {
      "name": "python"
    }
  },
  "cells": [
    {
      "cell_type": "markdown",
      "metadata": {
        "id": "view-in-github",
        "colab_type": "text"
      },
      "source": [
        "<a href=\"https://colab.research.google.com/github/Tanveer132/ML-Practices-End-to-End/blob/main/Regression_PolynomialLinearRegression_Analysis_on_salary_and_housing_data.ipynb\" target=\"_parent\"><img src=\"https://colab.research.google.com/assets/colab-badge.svg\" alt=\"Open In Colab\"/></a>"
      ]
    },
    {
      "cell_type": "markdown",
      "metadata": {
        "id": "Fu62a66Odya3"
      },
      "source": [
        "#polynomial Linear Regression\n",
        "\n",
        "    This linear equation can be used to represent a linear relationship. But, in polynomial regression, \n",
        "    we have a polynomial equation of degree n represented as:\n",
        "\n",
        "    Y = B0 + B1x + B2x^2 + B3x^3 + Bn x^n\n",
        "\n",
        "    𝜃0 is the bias,\n",
        "    𝜃1, 𝜃2, …, 𝜃n are the weights in the equation of the polynomial regression,\n",
        "    n is the degree of the polynomial"
      ]
    },
    {
      "cell_type": "code",
      "metadata": {
        "id": "nnYVEh8Ldh9C"
      },
      "source": [
        "#import necessary libraries\n",
        "import numpy as np\n",
        "import matplotlib.pyplot as plt\n",
        "import pandas as pd\n",
        "import seaborn as sns\n",
        "\n",
        "from sklearn.model_selection import train_test_split\n",
        "from sklearn.pipeline import Pipeline\n",
        "\n",
        "#import models\n",
        "from sklearn.linear_model import LinearRegression\n",
        "from sklearn.preprocessing import PolynomialFeatures\n",
        "\n",
        "from sklearn.metrics import mean_squared_error,r2_score\n",
        "import statsmodels.api as sm"
      ],
      "execution_count": 34,
      "outputs": []
    },
    {
      "cell_type": "markdown",
      "metadata": {
        "id": "goGNWiPPePQs"
      },
      "source": [
        "##Polynomial Regression for single independent variable"
      ]
    },
    {
      "cell_type": "code",
      "metadata": {
        "colab": {
          "base_uri": "https://localhost:8080/",
          "height": 206
        },
        "id": "8AhQzJZGd0ev",
        "outputId": "b57cbbe3-e378-424c-f122-2c7deb21ee61"
      },
      "source": [
        "df=pd.read_csv('/content/salaries.csv')\n",
        "df.head()"
      ],
      "execution_count": 2,
      "outputs": [
        {
          "output_type": "execute_result",
          "data": {
            "text/html": [
              "<div>\n",
              "<style scoped>\n",
              "    .dataframe tbody tr th:only-of-type {\n",
              "        vertical-align: middle;\n",
              "    }\n",
              "\n",
              "    .dataframe tbody tr th {\n",
              "        vertical-align: top;\n",
              "    }\n",
              "\n",
              "    .dataframe thead th {\n",
              "        text-align: right;\n",
              "    }\n",
              "</style>\n",
              "<table border=\"1\" class=\"dataframe\">\n",
              "  <thead>\n",
              "    <tr style=\"text-align: right;\">\n",
              "      <th></th>\n",
              "      <th>Position</th>\n",
              "      <th>Level</th>\n",
              "      <th>Salary</th>\n",
              "    </tr>\n",
              "  </thead>\n",
              "  <tbody>\n",
              "    <tr>\n",
              "      <th>0</th>\n",
              "      <td>Business Analyst</td>\n",
              "      <td>1</td>\n",
              "      <td>45000</td>\n",
              "    </tr>\n",
              "    <tr>\n",
              "      <th>1</th>\n",
              "      <td>Junior Consultant</td>\n",
              "      <td>2</td>\n",
              "      <td>50000</td>\n",
              "    </tr>\n",
              "    <tr>\n",
              "      <th>2</th>\n",
              "      <td>Senior Consultant</td>\n",
              "      <td>3</td>\n",
              "      <td>60000</td>\n",
              "    </tr>\n",
              "    <tr>\n",
              "      <th>3</th>\n",
              "      <td>Manager</td>\n",
              "      <td>4</td>\n",
              "      <td>80000</td>\n",
              "    </tr>\n",
              "    <tr>\n",
              "      <th>4</th>\n",
              "      <td>Country Manager</td>\n",
              "      <td>5</td>\n",
              "      <td>110000</td>\n",
              "    </tr>\n",
              "  </tbody>\n",
              "</table>\n",
              "</div>"
            ],
            "text/plain": [
              "            Position  Level  Salary\n",
              "0   Business Analyst      1   45000\n",
              "1  Junior Consultant      2   50000\n",
              "2  Senior Consultant      3   60000\n",
              "3            Manager      4   80000\n",
              "4    Country Manager      5  110000"
            ]
          },
          "metadata": {
            "tags": []
          },
          "execution_count": 2
        }
      ]
    },
    {
      "cell_type": "code",
      "metadata": {
        "id": "3LmAu1vEeJJ1"
      },
      "source": [
        "x=df[['Level']]       #in linear regression x is always 2D array\n",
        "y=df['Salary']\n",
        "\n",
        "#split data\n",
        "xtrain,xtest,ytrain,ytest=train_test_split(x,y,test_size=0.3,random_state=0)"
      ],
      "execution_count": 3,
      "outputs": []
    },
    {
      "cell_type": "code",
      "metadata": {
        "colab": {
          "base_uri": "https://localhost:8080/",
          "height": 312
        },
        "id": "5rNUlhMcfOGO",
        "outputId": "7d16b919-088b-4401-f6ce-933061e0c099"
      },
      "source": [
        "plt.scatter(x, y, color='red')\n",
        "plt.title('Truth or Bluff (Linear Regression)')\n",
        "plt.xlabel('Position level')\n",
        "plt.ylabel('Salary')"
      ],
      "execution_count": 4,
      "outputs": [
        {
          "output_type": "execute_result",
          "data": {
            "text/plain": [
              "Text(0, 0.5, 'Salary')"
            ]
          },
          "metadata": {
            "tags": []
          },
          "execution_count": 4
        },
        {
          "output_type": "display_data",
          "data": {
            "image/png": "[encoded data removed]",
            "text/plain": [
              "<Figure size 432x288 with 1 Axes>"
            ]
          },
          "metadata": {
            "tags": [],
            "needs_background": "light"
          }
        }
      ]
    },
    {
      "cell_type": "markdown",
      "metadata": {
        "id": "Z-aHKRJQZ9z-"
      },
      "source": [
        "Conclusion :\n",
        "\n",
        "    We can observe curvilinear distribution of data points."
      ]
    },
    {
      "cell_type": "code",
      "metadata": {
        "colab": {
          "base_uri": "https://localhost:8080/",
          "height": 312
        },
        "id": "jHiq972VfTRX",
        "outputId": "f1233290-cb80-4d7e-dd43-2297c2d3bf48"
      },
      "source": [
        "#linear Regression\n",
        "from sklearn.linear_model import LinearRegression\n",
        "lin_reg = LinearRegression()\n",
        "lin_reg.fit(x, y)\n",
        "\n",
        "#Visualize Regression line\n",
        "plt.scatter(x, y, color='red')\n",
        "plt.plot(x, lin_reg.predict(x), color='blue')\n",
        "plt.title('Linear Regression')\n",
        "plt.xlabel('Position level')\n",
        "plt.ylabel('Salary')"
      ],
      "execution_count": 5,
      "outputs": [
        {
          "output_type": "execute_result",
          "data": {
            "text/plain": [
              "Text(0, 0.5, 'Salary')"
            ]
          },
          "metadata": {
            "tags": []
          },
          "execution_count": 5
        },
        {
          "output_type": "display_data",
          "data": {
            "image/png": "[encoded data removed]",
            "text/plain": [
              "<Figure size 432x288 with 1 Axes>"
            ]
          },
          "metadata": {
            "tags": [],
            "needs_background": "light"
          }
        }
      ]
    },
    {
      "cell_type": "code",
      "metadata": {
        "colab": {
          "base_uri": "https://localhost:8080/"
        },
        "id": "z03gm5BLhQP8",
        "outputId": "acf4370e-646f-4ad7-8684-c59272e061fd"
      },
      "source": [
        "#Applyning polynomial features on independent variables\n",
        "#degree increases gradually \n",
        "poly = PolynomialFeatures(degree=2)\n",
        "x_poly = poly.fit_transform(x)\n",
        "model = LinearRegression()\n",
        "model.fit(x_poly, y)"
      ],
      "execution_count": 6,
      "outputs": [
        {
          "output_type": "execute_result",
          "data": {
            "text/plain": [
              "LinearRegression(copy_X=True, fit_intercept=True, n_jobs=None, normalize=False)"
            ]
          },
          "metadata": {
            "tags": []
          },
          "execution_count": 6
        }
      ]
    },
    {
      "cell_type": "code",
      "metadata": {
        "id": "xqnQlQOZmXhY"
      },
      "source": [
        "#Checking performence of degree\n",
        "prediction_acc={}\n",
        "error={}\n",
        "pred={}\n",
        "for i in range(1,6):\n",
        "  pipeline_lr=Pipeline([('transform',PolynomialFeatures(degree=i)),('model',LinearRegression())])\n",
        "  model = pipeline_lr.fit(x, y)\n",
        "  ypred = model.predict(x)\n",
        "  pred[\"ypred\"+str(i)]=ypred\n",
        "  prediction_acc[\"degree\"+str(i)]=model.score(xtrain,ytrain)\n",
        "  error[\"degree\"+str(i)]=mean_squared_error(y,ypred)"
      ],
      "execution_count": 7,
      "outputs": []
    },
    {
      "cell_type": "code",
      "metadata": {
        "colab": {
          "base_uri": "https://localhost:8080/",
          "height": 353
        },
        "id": "mnBOP5z-o-y_",
        "outputId": "56625f6f-1010-47af-cd8e-0f1558a04ee0"
      },
      "source": [
        "prediction_acc=pd.DataFrame(prediction_acc,index=(0,1,2,3))\n",
        "error=pd.DataFrame(error,index=(0,1,2,3))\n",
        "plt.figure(figsize=(13,5))\n",
        "plt.subplot(1,2,1)\n",
        "sns.barplot(data=prediction_acc )\n",
        "plt.title(\"Accuracy of model for different degrees\")\n",
        "plt.subplot(1,2,2)\n",
        "sns.barplot(data=error )\n",
        "plt.title(\"MSE of model for different degrees\")\n",
        "\n"
      ],
      "execution_count": 11,
      "outputs": [
        {
          "output_type": "execute_result",
          "data": {
            "text/plain": [
              "Text(0.5, 1.0, 'MSE of model for different degrees')"
            ]
          },
          "metadata": {
            "tags": []
          },
          "execution_count": 11
        },
        {
          "output_type": "display_data",
          "data": {
            "image/png": "[encoded data removed]",
            "text/plain": [
              "<Figure size 936x360 with 2 Axes>"
            ]
          },
          "metadata": {
            "tags": [],
            "needs_background": "light"
          }
        }
      ]
    },
    {
      "cell_type": "code",
      "metadata": {
        "colab": {
          "base_uri": "https://localhost:8080/",
          "height": 293
        },
        "id": "mkwCM8mennl_",
        "outputId": "99b2c26d-a6b8-4279-c4f9-a72d66554b65"
      },
      "source": [
        "plt.scatter(x,y,label=\"data points\")\n",
        "plt.plot(x,pred['ypred1'], color='r',label=\"Degree 1\")\n",
        "plt.plot(x,pred['ypred2'], color='g',label=\"Degree 2\")\n",
        "plt.plot(x,pred['ypred3'], color='m',label=\"Degree 3\")\n",
        "plt.plot(x,pred['ypred4'], color='k',label=\"Degree 4\")\n",
        "plt.plot(x,pred['ypred5'], color='k',label=\"Degree 5\")\n",
        "\n",
        "plt.legend()"
      ],
      "execution_count": 37,
      "outputs": [
        {
          "output_type": "execute_result",
          "data": {
            "text/plain": [
              "<matplotlib.legend.Legend at 0x7f3baf4c2c90>"
            ]
          },
          "metadata": {
            "tags": []
          },
          "execution_count": 37
        },
        {
          "output_type": "display_data",
          "data": {
            "image/png": "[encoded data removed]",
            "text/plain": [
              "<Figure size 432x288 with 1 Axes>"
            ]
          },
          "metadata": {
            "tags": [],
            "needs_background": "light"
          }
        }
      ]
    },
    {
      "cell_type": "markdown",
      "metadata": {
        "id": "0ewHSjl3dCrJ"
      },
      "source": [
        "##Polynomial Regression for multiple independent variables"
      ]
    },
    {
      "cell_type": "code",
      "metadata": {
        "colab": {
          "base_uri": "https://localhost:8080/",
          "height": 206
        },
        "id": "DkVRapMnoQNr",
        "outputId": "258328b6-4cab-47cc-931c-745aaa50ef63"
      },
      "source": [
        "df=pd.read_csv('/content/housing.csv')\n",
        "df.head()"
      ],
      "execution_count": 12,
      "outputs": [
        {
          "output_type": "execute_result",
          "data": {
            "text/html": [
              "<div>\n",
              "<style scoped>\n",
              "    .dataframe tbody tr th:only-of-type {\n",
              "        vertical-align: middle;\n",
              "    }\n",
              "\n",
              "    .dataframe tbody tr th {\n",
              "        vertical-align: top;\n",
              "    }\n",
              "\n",
              "    .dataframe thead th {\n",
              "        text-align: right;\n",
              "    }\n",
              "</style>\n",
              "<table border=\"1\" class=\"dataframe\">\n",
              "  <thead>\n",
              "    <tr style=\"text-align: right;\">\n",
              "      <th></th>\n",
              "      <th>RM</th>\n",
              "      <th>LSTAT</th>\n",
              "      <th>PTRATIO</th>\n",
              "      <th>MEDV</th>\n",
              "    </tr>\n",
              "  </thead>\n",
              "  <tbody>\n",
              "    <tr>\n",
              "      <th>0</th>\n",
              "      <td>6.575</td>\n",
              "      <td>4.98</td>\n",
              "      <td>15.3</td>\n",
              "      <td>504000</td>\n",
              "    </tr>\n",
              "    <tr>\n",
              "      <th>1</th>\n",
              "      <td>6.421</td>\n",
              "      <td>9.14</td>\n",
              "      <td>17.8</td>\n",
              "      <td>453600</td>\n",
              "    </tr>\n",
              "    <tr>\n",
              "      <th>2</th>\n",
              "      <td>7.185</td>\n",
              "      <td>4.03</td>\n",
              "      <td>17.8</td>\n",
              "      <td>728700</td>\n",
              "    </tr>\n",
              "    <tr>\n",
              "      <th>3</th>\n",
              "      <td>6.998</td>\n",
              "      <td>2.94</td>\n",
              "      <td>18.7</td>\n",
              "      <td>701400</td>\n",
              "    </tr>\n",
              "    <tr>\n",
              "      <th>4</th>\n",
              "      <td>7.147</td>\n",
              "      <td>5.33</td>\n",
              "      <td>18.7</td>\n",
              "      <td>760200</td>\n",
              "    </tr>\n",
              "  </tbody>\n",
              "</table>\n",
              "</div>"
            ],
            "text/plain": [
              "      RM  LSTAT  PTRATIO    MEDV\n",
              "0  6.575   4.98     15.3  504000\n",
              "1  6.421   9.14     17.8  453600\n",
              "2  7.185   4.03     17.8  728700\n",
              "3  6.998   2.94     18.7  701400\n",
              "4  7.147   5.33     18.7  760200"
            ]
          },
          "metadata": {
            "tags": []
          },
          "execution_count": 12
        }
      ]
    },
    {
      "cell_type": "code",
      "metadata": {
        "colab": {
          "base_uri": "https://localhost:8080/",
          "height": 214
        },
        "id": "7OBX54FmdRRW",
        "outputId": "493864a4-0c4a-4a8b-af9b-3956cf7910fd"
      },
      "source": [
        "\n",
        "sns.pairplot(data=df,x_vars=['RM','LSTAT','PTRATIO'],y_vars=['MEDV'])"
      ],
      "execution_count": 18,
      "outputs": [
        {
          "output_type": "execute_result",
          "data": {
            "text/plain": [
              "<seaborn.axisgrid.PairGrid at 0x7ff73fbed4d0>"
            ]
          },
          "metadata": {
            "tags": []
          },
          "execution_count": 18
        },
        {
          "output_type": "display_data",
          "data": {
            "image/png": "[encoded data removed]",
            "text/plain": [
              "<Figure size 540x180 with 3 Axes>"
            ]
          },
          "metadata": {
            "tags": [],
            "needs_background": "light"
          }
        }
      ]
    },
    {
      "cell_type": "markdown",
      "metadata": {
        "id": "PxZnPftqeETO"
      },
      "source": [
        "Conclusion :\n",
        "\n",
        "    We can observe curvilinear distribution of data points."
      ]
    },
    {
      "cell_type": "code",
      "metadata": {
        "id": "KDuWm3CZdsTD"
      },
      "source": [
        "x=df.drop(columns=['MEDV'])       #in linear regression x is always 2D array\n",
        "y=df['MEDV']\n",
        "\n",
        "#split data\n",
        "xtrain,xtest,ytrain,ytest=train_test_split(x,y,test_size=0.3,random_state=0)"
      ],
      "execution_count": 19,
      "outputs": []
    },
    {
      "cell_type": "code",
      "metadata": {
        "colab": {
          "base_uri": "https://localhost:8080/",
          "height": 312
        },
        "id": "19L7H6fue8C0",
        "outputId": "8e3ac32f-cb09-4390-dc40-dab7a30c9358"
      },
      "source": [
        "#linear Regression\n",
        "from sklearn.linear_model import LinearRegression\n",
        "lin_reg = LinearRegression()\n",
        "lin_reg.fit(x, y)\n",
        "\n",
        "#Visualize Regression line\n",
        "plt.scatter(x['RM'], y, color='red')\n",
        "plt.plot(x['RM'],lin_reg.predict(x), color='blue')\n",
        "plt.title('Linear Regression')\n",
        "plt.xlabel('Rooms')\n",
        "plt.ylabel('House Price')"
      ],
      "execution_count": 24,
      "outputs": [
        {
          "output_type": "execute_result",
          "data": {
            "text/plain": [
              "Text(0, 0.5, 'House Price')"
            ]
          },
          "metadata": {
            "tags": []
          },
          "execution_count": 24
        },
        {
          "output_type": "display_data",
          "data": {
            "image/png": "[encoded data removed]",
            "text/plain": [
              "<Figure size 432x288 with 1 Axes>"
            ]
          },
          "metadata": {
            "tags": [],
            "needs_background": "light"
          }
        }
      ]
    },
    {
      "cell_type": "code",
      "metadata": {
        "colab": {
          "base_uri": "https://localhost:8080/"
        },
        "id": "6uN_j_jDfHmN",
        "outputId": "497f3d57-0784-44d8-e611-6d6dc9c0cd89"
      },
      "source": [
        "#Applyning polynomial features on independent variables\n",
        "#degree increases gradually \n",
        "poly = PolynomialFeatures(degree=2)\n",
        "x_poly = poly.fit_transform(x)\n",
        "model = LinearRegression()\n",
        "model.fit(x_poly, y)"
      ],
      "execution_count": 25,
      "outputs": [
        {
          "output_type": "execute_result",
          "data": {
            "text/plain": [
              "LinearRegression(copy_X=True, fit_intercept=True, n_jobs=None, normalize=False)"
            ]
          },
          "metadata": {
            "tags": []
          },
          "execution_count": 25
        }
      ]
    },
    {
      "cell_type": "code",
      "metadata": {
        "id": "m8Ehp4FVicBn"
      },
      "source": [
        "#Checking performence of degree\n",
        "prediction_acc={}\n",
        "error={}\n",
        "pred={}\n",
        "for i in range(1,6):\n",
        "  pipeline_lr=Pipeline([('transform',PolynomialFeatures(degree=i)),('model',LinearRegression())])\n",
        "  model = pipeline_lr.fit(x, y)\n",
        "  ypred = model.predict(x)\n",
        "  pred[\"ypred\"+str(i)]=ypred\n",
        "  prediction_acc[\"degree\"+str(i)]=model.score(xtrain,ytrain)\n",
        "  error[\"degree\"+str(i)]=mean_squared_error(y,ypred)"
      ],
      "execution_count": 26,
      "outputs": []
    },
    {
      "cell_type": "code",
      "metadata": {
        "colab": {
          "base_uri": "https://localhost:8080/",
          "height": 353
        },
        "id": "fw6k6olkiiJ0",
        "outputId": "3a43a02c-ae73-403d-eb7b-1e928c4e4a1d"
      },
      "source": [
        "prediction_acc=pd.DataFrame(prediction_acc,index=(0,1,2,3))\n",
        "error=pd.DataFrame(error,index=(0,1,2,3))\n",
        "plt.figure(figsize=(13,5))\n",
        "plt.subplot(1,2,1)\n",
        "sns.barplot(data=prediction_acc )\n",
        "plt.title(\"Accuracy of model for different degrees\")\n",
        "plt.subplot(1,2,2)\n",
        "sns.barplot(data=error )\n",
        "plt.title(\"MSE of model for different degrees\")"
      ],
      "execution_count": 27,
      "outputs": [
        {
          "output_type": "execute_result",
          "data": {
            "text/plain": [
              "Text(0.5, 1.0, 'MSE of model for different degrees')"
            ]
          },
          "metadata": {
            "tags": []
          },
          "execution_count": 27
        },
        {
          "output_type": "display_data",
          "data": {
            "image/png": "[encoded data removed]",
            "text/plain": [
              "<Figure size 936x360 with 2 Axes>"
            ]
          },
          "metadata": {
            "tags": [],
            "needs_background": "light"
          }
        }
      ]
    },
    {
      "cell_type": "markdown",
      "metadata": {
        "id": "WEy-a4jNisqB"
      },
      "source": [
        "Conclusion :\n",
        "\n",
        "    We can observe sudden decrease in accaracy and sudden increase in loss, after degree 4. So can take degree 4 as best fitting parameter."
      ]
    },
    {
      "cell_type": "markdown",
      "metadata": {
        "id": "FucolUrRmA2j"
      },
      "source": [
        "Best Fitting degree "
      ]
    },
    {
      "cell_type": "code",
      "metadata": {
        "colab": {
          "base_uri": "https://localhost:8080/"
        },
        "id": "vDgjoF1tjcTC",
        "outputId": "5a0522cf-1f69-473a-d57a-1fa30b73a353"
      },
      "source": [
        "poly = PolynomialFeatures(degree=4)\n",
        "x_poly = poly.fit_transform(x)\n",
        "model = LinearRegression()\n",
        "model.fit(x_poly, y)"
      ],
      "execution_count": 30,
      "outputs": [
        {
          "output_type": "execute_result",
          "data": {
            "text/plain": [
              "LinearRegression(copy_X=True, fit_intercept=True, n_jobs=None, normalize=False)"
            ]
          },
          "metadata": {
            "tags": []
          },
          "execution_count": 30
        }
      ]
    },
    {
      "cell_type": "code",
      "metadata": {
        "colab": {
          "base_uri": "https://localhost:8080/"
        },
        "id": "QiyOIHQ6kimS",
        "outputId": "5617fcd0-cc17-41cd-cf2b-2a3dbcfc6a89"
      },
      "source": [
        "ypred=model.predict(x_poly)\n",
        "print(model.score(x_poly,y))\n",
        "print(mean_squared_error(y,ypred))\n"
      ],
      "execution_count": 39,
      "outputs": [
        {
          "output_type": "stream",
          "text": [
            "0.8612239920129637\n",
            "3786018035.98609\n"
          ],
          "name": "stdout"
        }
      ]
    },
    {
      "cell_type": "code",
      "metadata": {
        "colab": {
          "base_uri": "https://localhost:8080/"
        },
        "id": "KucMee9XmqiX",
        "outputId": "493d43ea-0d0a-46f3-e52e-22c7e725f766"
      },
      "source": [
        "# Predicting a new result with Polymonial Regression\n",
        "model.predict(poly.fit_transform([[6.575 ,4.98 ,\t15.3]]))    #504000 is the real price for these features"
      ],
      "execution_count": 41,
      "outputs": [
        {
          "output_type": "execute_result",
          "data": {
            "text/plain": [
              "array([590592.08740827])"
            ]
          },
          "metadata": {
            "tags": []
          },
          "execution_count": 41
        }
      ]
    },
    {
      "cell_type": "code",
      "metadata": {
        "id": "e7eZLTaboapO"
      },
      "source": [
        ""
      ],
      "execution_count": null,
      "outputs": []
    }
  ]
}
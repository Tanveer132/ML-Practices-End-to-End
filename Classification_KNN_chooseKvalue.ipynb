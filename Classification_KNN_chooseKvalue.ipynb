{
  "nbformat": 4,
  "nbformat_minor": 5,
  "metadata": {
    "kernelspec": {
      "display_name": "Python 3",
      "language": "python",
      "name": "python3"
    },
    "language_info": {
      "codemirror_mode": {
        "name": "ipython",
        "version": 3
      },
      "file_extension": ".py",
      "mimetype": "text/x-python",
      "name": "python",
      "nbconvert_exporter": "python",
      "pygments_lexer": "ipython3",
      "version": "3.8.8"
    },
    "colab": {
      "name": "Classification_KNN_chooseKvalue.ipynb",
      "provenance": [],
      "include_colab_link": true
    }
  },
  "cells": [
    {
      "cell_type": "markdown",
      "metadata": {
        "id": "view-in-github",
        "colab_type": "text"
      },
      "source": [
        "<a href=\"https://colab.research.google.com/github/Tanveer132/ML-Practices-End-to-End/blob/main/Classification_KNN_chooseKvalue.ipynb\" target=\"_parent\"><img src=\"https://colab.research.google.com/assets/colab-badge.svg\" alt=\"Open In Colab\"/></a>"
      ]
    },
    {
      "cell_type": "markdown",
      "metadata": {
        "id": "aed15989"
      },
      "source": [
        "# K Nearest Neighbors Classifier\n",
        "\n",
        "\n",
        "    1.Load the training data.\n",
        "    2.Prepare data by scaling, missing value treatment, and dimensionality reduction as required.\n",
        "    3.Find the optimal value for K:\n",
        "    4.Predict a class value for new data:\n",
        "        1.Calculate distance(X, Xi) from i=1,2,3,….,n.\n",
        "        where X= new data point, Xi= training data, distance as per your chosen distance metric.\n",
        "        2.Sort these distances in increasing order with corresponding train data.\n",
        "        3.From this sorted list, select the top ‘K’ rows.\n",
        "        4.Find the most frequent class from these chosen ‘K’ rows. This will be your predicted class.\n"
      ],
      "id": "aed15989"
    },
    {
      "cell_type": "code",
      "metadata": {
        "id": "5a14450e"
      },
      "source": [
        "# Import all necessary libraries\n",
        "import pandas as pd\n",
        "import numpy as np\n",
        "import matplotlib.pyplot as plt\n",
        "import seaborn as sns\n",
        "from sklearn.model_selection import train_test_split\n",
        "from sklearn.preprocessing import StandardScaler\n",
        "from sklearn.neighbors import KNeighborsClassifier \n",
        "from sklearn.metrics import accuracy_score, classification_report,confusion_matrix\n",
        "from sklearn.model_selection import RepeatedStratifiedKFold,GridSearchCV"
      ],
      "id": "5a14450e",
      "execution_count": null,
      "outputs": []
    },
    {
      "cell_type": "markdown",
      "metadata": {
        "id": "a96d2b19"
      },
      "source": [
        "## Analyse data and get best 'k' value"
      ],
      "id": "a96d2b19"
    },
    {
      "cell_type": "code",
      "metadata": {
        "id": "92f249c1",
        "outputId": "c5108f96-0e1b-45ea-c75f-dae2b73c4d55"
      },
      "source": [
        "df = pd.read_csv('datasets/iris.csv')\n",
        "df.head()"
      ],
      "id": "92f249c1",
      "execution_count": null,
      "outputs": [
        {
          "output_type": "execute_result",
          "data": {
            "text/html": [
              "<div>\n",
              "<style scoped>\n",
              "    .dataframe tbody tr th:only-of-type {\n",
              "        vertical-align: middle;\n",
              "    }\n",
              "\n",
              "    .dataframe tbody tr th {\n",
              "        vertical-align: top;\n",
              "    }\n",
              "\n",
              "    .dataframe thead th {\n",
              "        text-align: right;\n",
              "    }\n",
              "</style>\n",
              "<table border=\"1\" class=\"dataframe\">\n",
              "  <thead>\n",
              "    <tr style=\"text-align: right;\">\n",
              "      <th></th>\n",
              "      <th>sepal_length</th>\n",
              "      <th>sepal_width</th>\n",
              "      <th>petal_length</th>\n",
              "      <th>petal_width</th>\n",
              "      <th>species</th>\n",
              "    </tr>\n",
              "  </thead>\n",
              "  <tbody>\n",
              "    <tr>\n",
              "      <th>0</th>\n",
              "      <td>5.1</td>\n",
              "      <td>3.5</td>\n",
              "      <td>1.4</td>\n",
              "      <td>0.2</td>\n",
              "      <td>setosa</td>\n",
              "    </tr>\n",
              "    <tr>\n",
              "      <th>1</th>\n",
              "      <td>4.9</td>\n",
              "      <td>3.0</td>\n",
              "      <td>1.4</td>\n",
              "      <td>0.2</td>\n",
              "      <td>setosa</td>\n",
              "    </tr>\n",
              "    <tr>\n",
              "      <th>2</th>\n",
              "      <td>4.7</td>\n",
              "      <td>3.2</td>\n",
              "      <td>1.3</td>\n",
              "      <td>0.2</td>\n",
              "      <td>setosa</td>\n",
              "    </tr>\n",
              "    <tr>\n",
              "      <th>3</th>\n",
              "      <td>4.6</td>\n",
              "      <td>3.1</td>\n",
              "      <td>1.5</td>\n",
              "      <td>0.2</td>\n",
              "      <td>setosa</td>\n",
              "    </tr>\n",
              "    <tr>\n",
              "      <th>4</th>\n",
              "      <td>5.0</td>\n",
              "      <td>3.6</td>\n",
              "      <td>1.4</td>\n",
              "      <td>0.2</td>\n",
              "      <td>setosa</td>\n",
              "    </tr>\n",
              "  </tbody>\n",
              "</table>\n",
              "</div>"
            ],
            "text/plain": [
              "   sepal_length  sepal_width  petal_length  petal_width species\n",
              "0           5.1          3.5           1.4          0.2  setosa\n",
              "1           4.9          3.0           1.4          0.2  setosa\n",
              "2           4.7          3.2           1.3          0.2  setosa\n",
              "3           4.6          3.1           1.5          0.2  setosa\n",
              "4           5.0          3.6           1.4          0.2  setosa"
            ]
          },
          "metadata": {
            "tags": []
          },
          "execution_count": 2
        }
      ]
    },
    {
      "cell_type": "code",
      "metadata": {
        "id": "f7f4004e",
        "outputId": "ac4ec2e4-9e09-4f5f-cb7b-3294c84ccf0f"
      },
      "source": [
        "sns.countplot(data=df, x='species')"
      ],
      "id": "f7f4004e",
      "execution_count": null,
      "outputs": [
        {
          "output_type": "execute_result",
          "data": {
            "text/plain": [
              "<AxesSubplot:xlabel='species', ylabel='count'>"
            ]
          },
          "metadata": {
            "tags": []
          },
          "execution_count": 3
        },
        {
          "output_type": "display_data",
          "data": {
            "image/png": "[encoded data removed]",
            "text/plain": [
              "<Figure size 432x288 with 1 Axes>"
            ]
          },
          "metadata": {
            "tags": [],
            "needs_background": "light"
          }
        }
      ]
    },
    {
      "cell_type": "code",
      "metadata": {
        "id": "e6d17a51",
        "outputId": "ce1c41cd-d888-4a91-b026-25306829d9c0"
      },
      "source": [
        "sns.scatterplot(data=df, x='sepal_length',y=df.index,hue= 'species')"
      ],
      "id": "e6d17a51",
      "execution_count": null,
      "outputs": [
        {
          "output_type": "execute_result",
          "data": {
            "text/plain": [
              "<AxesSubplot:xlabel='sepal_length'>"
            ]
          },
          "metadata": {
            "tags": []
          },
          "execution_count": 6
        },
        {
          "output_type": "display_data",
          "data": {
            "image/png": "[encoded data removed]",
            "text/plain": [
              "<Figure size 432x288 with 1 Axes>"
            ]
          },
          "metadata": {
            "tags": [],
            "needs_background": "light"
          }
        }
      ]
    },
    {
      "cell_type": "code",
      "metadata": {
        "id": "f22cb1ab"
      },
      "source": [
        "x=df.drop(columns=['species'])\n",
        "y=df[\"species\"]\n",
        "xtrain,xtest,ytrain,ytest=train_test_split(x,y,test_size=0.2,random_state=0)"
      ],
      "id": "f22cb1ab",
      "execution_count": null,
      "outputs": []
    },
    {
      "cell_type": "code",
      "metadata": {
        "id": "da531e18",
        "outputId": "fb41aa3f-d038-464e-97f4-65cf3422feb8"
      },
      "source": [
        "error1= []\n",
        "error2= []\n",
        "for k in range(1,15):\n",
        "    knn= KNeighborsClassifier(n_neighbors=k)\n",
        "    knn.fit(xtrain,ytrain)\n",
        "    y_pred1= knn.predict(xtrain)\n",
        "    error1.append(np.mean(ytrain!= y_pred1))\n",
        "    y_pred2= knn.predict(xtest)\n",
        "    error2.append(np.mean(ytest!= y_pred2))\n",
        "# plt.figure(figsize(10,5))\n",
        "plt.plot(range(1,15),error1,label=\"train\")\n",
        "plt.plot(range(1,15),error2,label=\"test\")\n",
        "plt.xlabel('k Value')\n",
        "plt.ylabel('Error')\n",
        "plt.legend()"
      ],
      "id": "da531e18",
      "execution_count": null,
      "outputs": [
        {
          "output_type": "execute_result",
          "data": {
            "text/plain": [
              "<matplotlib.legend.Legend at 0x15825758c40>"
            ]
          },
          "metadata": {
            "tags": []
          },
          "execution_count": 10
        },
        {
          "output_type": "display_data",
          "data": {
            "image/png": "[encoded data removed]",
            "text/plain": [
              "<Figure size 432x288 with 1 Axes>"
            ]
          },
          "metadata": {
            "tags": [],
            "needs_background": "light"
          }
        }
      ]
    },
    {
      "cell_type": "markdown",
      "metadata": {
        "id": "8a14e1bd"
      },
      "source": [
        "Conclusion :\n",
        "\n",
        "        The K value when test error stabilizes and is low is considered as optimal value for K. \n",
        "        From the above error curve we can choose K=6 for our KNN algorithm implementation."
      ],
      "id": "8a14e1bd"
    },
    {
      "cell_type": "markdown",
      "metadata": {
        "id": "0fbb84ee"
      },
      "source": [
        "## Fit model and predict classes"
      ],
      "id": "0fbb84ee"
    },
    {
      "cell_type": "code",
      "metadata": {
        "id": "6d338cee"
      },
      "source": [
        "model=KNeighborsClassifier(n_neighbors=6)\n",
        "model.fit(xtrain,ytrain)\n",
        "ypred=model.predict(xtest)"
      ],
      "id": "6d338cee",
      "execution_count": null,
      "outputs": []
    },
    {
      "cell_type": "code",
      "metadata": {
        "id": "82aa56c5",
        "outputId": "424152e9-3935-4901-a2da-0e725c68aa7f"
      },
      "source": [
        "print(\"Accuracy Score :\",accuracy_score(ytest,ypred))\n",
        "print(\"Classification Report :\",classification_report(ytest,ypred))\n",
        "cm=confusion_matrix(ytest,ypred)\n",
        "sns.heatmap(cm,annot=True)"
      ],
      "id": "82aa56c5",
      "execution_count": null,
      "outputs": [
        {
          "output_type": "stream",
          "text": [
            "Accuracy Score : 1.0\n",
            "Classification Report :               precision    recall  f1-score   support\n",
            "\n",
            "      setosa       1.00      1.00      1.00        11\n",
            "  versicolor       1.00      1.00      1.00        13\n",
            "   virginica       1.00      1.00      1.00         6\n",
            "\n",
            "    accuracy                           1.00        30\n",
            "   macro avg       1.00      1.00      1.00        30\n",
            "weighted avg       1.00      1.00      1.00        30\n",
            "\n"
          ],
          "name": "stdout"
        },
        {
          "output_type": "execute_result",
          "data": {
            "text/plain": [
              "<AxesSubplot:>"
            ]
          },
          "metadata": {
            "tags": []
          },
          "execution_count": 17
        },
        {
          "output_type": "display_data",
          "data": {
            "image/png": "[encoded data removed]",
            "text/plain": [
              "<Figure size 432x288 with 2 Axes>"
            ]
          },
          "metadata": {
            "tags": [],
            "needs_background": "light"
          }
        }
      ]
    },
    {
      "cell_type": "code",
      "metadata": {
        "id": "fcf63af1",
        "outputId": "aacc8f8c-4dcf-4b32-95d2-e084fac60430"
      },
      "source": [
        "sns.scatterplot(data=xtest, x=xtest['sepal_length'],y=ytest.index,hue= ypred)"
      ],
      "id": "fcf63af1",
      "execution_count": null,
      "outputs": [
        {
          "output_type": "execute_result",
          "data": {
            "text/plain": [
              "<AxesSubplot:xlabel='sepal_length'>"
            ]
          },
          "metadata": {
            "tags": []
          },
          "execution_count": 18
        },
        {
          "output_type": "display_data",
          "data": {
            "image/png": "[encoded data removed]",
            "text/plain": [
              "<Figure size 432x288 with 1 Axes>"
            ]
          },
          "metadata": {
            "tags": [],
            "needs_background": "light"
          }
        }
      ]
    },
    {
      "cell_type": "markdown",
      "metadata": {
        "id": "363af1af"
      },
      "source": [
        "## Tunning Hyperparameters"
      ],
      "id": "363af1af"
    },
    {
      "cell_type": "code",
      "metadata": {
        "id": "1e3248b5"
      },
      "source": [
        "#Parameter grid-->n_neighbors , metric , weights\n",
        "n_neighbors=range(1,15)\n",
        "metric=[\"euclidean\",\"manhattan\",\"minkowski\"]\n",
        "weights=['uniform','distance']\n",
        "grid={\"n_neighbors\":n_neighbors,\"metric\":metric,\"weights\":weights}\n",
        "\n",
        "kfold=RepeatedStratifiedKFold(n_splits=5,n_repeats=3,random_state=1)"
      ],
      "id": "1e3248b5",
      "execution_count": null,
      "outputs": []
    },
    {
      "cell_type": "code",
      "metadata": {
        "id": "e6ee517e",
        "outputId": "39a74aa3-426c-4ad2-bd19-bd24b745c150"
      },
      "source": [
        "grid_cv=GridSearchCV(estimator=model,param_grid=grid,cv=kfold,scoring=\"accuracy\",n_jobs=1)\n",
        "res=grid_cv.fit(xtrain,ytrain)\n",
        "print(res.best_score_)\n",
        "print(res.best_params_)"
      ],
      "id": "e6ee517e",
      "execution_count": null,
      "outputs": [
        {
          "output_type": "stream",
          "text": [
            "0.9638888888888889\n",
            "{'metric': 'euclidean', 'n_neighbors': 8, 'weights': 'uniform'}\n"
          ],
          "name": "stdout"
        }
      ]
    },
    {
      "cell_type": "code",
      "metadata": {
        "id": "84330206"
      },
      "source": [
        "model=KNeighborsClassifier(n_neighbors=8, metric='euclidean', weights='uniform')\n",
        "model.fit(xtrain,ytrain)\n",
        "ypred=model.predict(xtest)"
      ],
      "id": "84330206",
      "execution_count": null,
      "outputs": []
    },
    {
      "cell_type": "code",
      "metadata": {
        "id": "c76be97b",
        "outputId": "15d8e341-78fa-406e-a2eb-111a717d94ab"
      },
      "source": [
        "print(\"Accuracy Score :\",accuracy_score(ytest,ypred))\n",
        "print(\"Classification Report :\",classification_report(ytest,ypred))\n",
        "cm=confusion_matrix(ytest,ypred)\n",
        "sns.heatmap(cm,annot=True)"
      ],
      "id": "c76be97b",
      "execution_count": null,
      "outputs": [
        {
          "output_type": "stream",
          "text": [
            "Accuracy Score : 1.0\n",
            "Classification Report :               precision    recall  f1-score   support\n",
            "\n",
            "      setosa       1.00      1.00      1.00        11\n",
            "  versicolor       1.00      1.00      1.00        13\n",
            "   virginica       1.00      1.00      1.00         6\n",
            "\n",
            "    accuracy                           1.00        30\n",
            "   macro avg       1.00      1.00      1.00        30\n",
            "weighted avg       1.00      1.00      1.00        30\n",
            "\n"
          ],
          "name": "stdout"
        },
        {
          "output_type": "execute_result",
          "data": {
            "text/plain": [
              "<AxesSubplot:>"
            ]
          },
          "metadata": {
            "tags": []
          },
          "execution_count": 24
        },
        {
          "output_type": "display_data",
          "data": {
            "image/png": "[encoded data removed]",
            "text/plain": [
              "<Figure size 432x288 with 2 Axes>"
            ]
          },
          "metadata": {
            "tags": [],
            "needs_background": "light"
          }
        }
      ]
    },
    {
      "cell_type": "code",
      "metadata": {
        "id": "ac459ed8",
        "outputId": "021f17bb-4e48-4aac-d7e0-dc53e619fd1d"
      },
      "source": [
        "sns.scatterplot(data=xtest, x=xtest['petal_width'],y=ytest.index,hue= ypred)"
      ],
      "id": "ac459ed8",
      "execution_count": null,
      "outputs": [
        {
          "output_type": "execute_result",
          "data": {
            "text/plain": [
              "<AxesSubplot:xlabel='petal_width'>"
            ]
          },
          "metadata": {
            "tags": []
          },
          "execution_count": 27
        },
        {
          "output_type": "display_data",
          "data": {
            "image/png": "[encoded data removed]",
            "text/plain": [
              "<Figure size 432x288 with 1 Axes>"
            ]
          },
          "metadata": {
            "tags": [],
            "needs_background": "light"
          }
        }
      ]
    },
    {
      "cell_type": "markdown",
      "metadata": {
        "id": "3f4a8c7f"
      },
      "source": [
        "Conclusion :\n",
        "        \n",
        "        KNN-classifier can be used when your data set is small enough, so that KNN-Classifier completes running in a shorter time. The complexity for applying a Naive bayes model is o(1) So, even though KNN works best for your data, when you know your data size will keep increasing its wise to choose Naive Bayes."
      ],
      "id": "3f4a8c7f"
    },
    {
      "cell_type": "code",
      "metadata": {
        "id": "a58e4422"
      },
      "source": [
        ""
      ],
      "id": "a58e4422",
      "execution_count": null,
      "outputs": []
    }
  ]
}
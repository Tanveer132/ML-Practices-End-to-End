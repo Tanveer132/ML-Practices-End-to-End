{
  "nbformat": 4,
  "nbformat_minor": 0,
  "metadata": {
    "colab": {
      "name": "Discriptive statistics notes.ipynb",
      "provenance": [],
      "authorship_tag": "ABX9TyPtDBz/Gi7qMuGhZbiae750",
      "include_colab_link": true
    },
    "kernelspec": {
      "name": "python3",
      "display_name": "Python 3"
    },
    "language_info": {
      "name": "python"
    }
  },
  "cells": [
    {
      "cell_type": "markdown",
      "metadata": {
        "id": "view-in-github",
        "colab_type": "text"
      },
      "source": [
        "<a href=\"https://colab.research.google.com/github/Tanveer132/ML-Practices-End-to-End/blob/main/Discriptive_statistics_notes.ipynb\" target=\"_parent\"><img src=\"https://colab.research.google.com/assets/colab-badge.svg\" alt=\"Open In Colab\"/></a>"
      ]
    },
    {
      "cell_type": "markdown",
      "metadata": {
        "id": "Pt4EMCDpG-O0"
      },
      "source": [
        "#Discriptive statistics\n",
        "\n",
        "1. data and datatypes\n",
        "\n",
        "2. measure of central tendency\n",
        "\n",
        "3. measure of dispersion\n",
        "\n",
        "4. Quartiles\n",
        "\n",
        "5. measure of skewness and kurtosis\n"
      ]
    },
    {
      "cell_type": "code",
      "metadata": {
        "id": "S0ysHCVjHruD"
      },
      "source": [
        "import numpy as np\n",
        "import pandas as pd\n",
        "from scipy import stats"
      ],
      "execution_count": null,
      "outputs": []
    },
    {
      "cell_type": "code",
      "metadata": {
        "colab": {
          "base_uri": "https://localhost:8080/"
        },
        "id": "3rHVnwWbF3hZ",
        "outputId": "bff412e5-0aa8-4ac7-9625-0b23076f7de8"
      },
      "source": [
        "data=np.arange(20)\n",
        "data"
      ],
      "execution_count": null,
      "outputs": [
        {
          "output_type": "execute_result",
          "data": {
            "text/plain": [
              "array([ 0,  1,  2,  3,  4,  5,  6,  7,  8,  9, 10, 11, 12, 13, 14, 15, 16,\n",
              "       17, 18, 19])"
            ]
          },
          "metadata": {
            "tags": []
          },
          "execution_count": 2
        }
      ]
    },
    {
      "cell_type": "markdown",
      "metadata": {
        "id": "wLEbL5p4I-dR"
      },
      "source": [
        "##Measure of central tendency"
      ]
    },
    {
      "cell_type": "code",
      "metadata": {
        "colab": {
          "base_uri": "https://localhost:8080/"
        },
        "id": "S6niXxanHpSK",
        "outputId": "b3b797fe-4bf3-47d7-e41d-55a9b795e9aa"
      },
      "source": [
        "print(\"mean of the data : \",np.mean(data))\n",
        "print(\"median of the data : \",np.median(data))\n",
        "print(\"mode of the data : \",stats.mode(data))"
      ],
      "execution_count": null,
      "outputs": [
        {
          "output_type": "stream",
          "text": [
            "mean of the data :  9.5\n",
            "median of the data :  9.5\n",
            "mode of the data :  ModeResult(mode=array([0]), count=array([1]))\n"
          ],
          "name": "stdout"
        }
      ]
    },
    {
      "cell_type": "markdown",
      "metadata": {
        "id": "wofWmy3KKfA3"
      },
      "source": [
        "##Measure of dispersion"
      ]
    },
    {
      "cell_type": "code",
      "metadata": {
        "colab": {
          "base_uri": "https://localhost:8080/"
        },
        "id": "iu6qQbzBJbwt",
        "outputId": "bea20041-8226-4b8d-9b60-1e7c15278202"
      },
      "source": [
        "print(\"variance : \",data.var())\n",
        "print(\"standard deviation : \",data.std())\n",
        "\n",
        "import statistics as stat\n",
        "print(\"variance : \",stat.variance(data))\n",
        "print(\"standard deviation : \",stat.stdev(data))"
      ],
      "execution_count": null,
      "outputs": [
        {
          "output_type": "stream",
          "text": [
            "variance :  33.25\n",
            "standard deviation :  5.766281297335398\n",
            "variance :  35\n",
            "standard deviation :  5.916079783099616\n"
          ],
          "name": "stdout"
        }
      ]
    },
    {
      "cell_type": "markdown",
      "metadata": {
        "id": "6SwqYf-XPaut"
      },
      "source": [
        "##Quartile"
      ]
    },
    {
      "cell_type": "code",
      "metadata": {
        "id": "vqqwkyYsJ1je"
      },
      "source": [
        "import seaborn as sns"
      ],
      "execution_count": null,
      "outputs": []
    },
    {
      "cell_type": "code",
      "metadata": {
        "colab": {
          "base_uri": "https://localhost:8080/",
          "height": 282
        },
        "id": "WtClUD6uPgy_",
        "outputId": "7ecb143e-6270-4e44-ace7-31fe9609ef6f"
      },
      "source": [
        "sns.boxplot(data=data)\n",
        "\n",
        "# max-- maximum value in data\n",
        "\n",
        "# q3-- 75% quartile\n",
        "# q2-- 50% quartile\n",
        "# q1-- 25% quartile\n",
        "\n",
        "# min-- minimum value in data"
      ],
      "execution_count": null,
      "outputs": [
        {
          "output_type": "execute_result",
          "data": {
            "text/plain": [
              "<matplotlib.axes._subplots.AxesSubplot at 0x7f705852c990>"
            ]
          },
          "metadata": {
            "tags": []
          },
          "execution_count": 6
        },
        {
          "output_type": "display_data",
          "data": {
            "image/png": "[encoded data removed]",
            "text/plain": [
              "<Figure size 432x288 with 1 Axes>"
            ]
          },
          "metadata": {
            "tags": [],
            "needs_background": "light"
          }
        }
      ]
    },
    {
      "cell_type": "code",
      "metadata": {
        "colab": {
          "base_uri": "https://localhost:8080/",
          "height": 206
        },
        "id": "Ms8nY7DGPj4l",
        "outputId": "80513b35-148c-4c38-c2a8-b9eddc278ffc"
      },
      "source": [
        "df=pd.read_csv('/content/insurance.csv')\n",
        "df.head()"
      ],
      "execution_count": null,
      "outputs": [
        {
          "output_type": "execute_result",
          "data": {
            "text/html": [
              "<div>\n",
              "<style scoped>\n",
              "    .dataframe tbody tr th:only-of-type {\n",
              "        vertical-align: middle;\n",
              "    }\n",
              "\n",
              "    .dataframe tbody tr th {\n",
              "        vertical-align: top;\n",
              "    }\n",
              "\n",
              "    .dataframe thead th {\n",
              "        text-align: right;\n",
              "    }\n",
              "</style>\n",
              "<table border=\"1\" class=\"dataframe\">\n",
              "  <thead>\n",
              "    <tr style=\"text-align: right;\">\n",
              "      <th></th>\n",
              "      <th>age</th>\n",
              "      <th>sex</th>\n",
              "      <th>bmi</th>\n",
              "      <th>children</th>\n",
              "      <th>smoker</th>\n",
              "      <th>region</th>\n",
              "      <th>charges</th>\n",
              "    </tr>\n",
              "  </thead>\n",
              "  <tbody>\n",
              "    <tr>\n",
              "      <th>0</th>\n",
              "      <td>19</td>\n",
              "      <td>female</td>\n",
              "      <td>27.900</td>\n",
              "      <td>0</td>\n",
              "      <td>yes</td>\n",
              "      <td>southwest</td>\n",
              "      <td>16884.92400</td>\n",
              "    </tr>\n",
              "    <tr>\n",
              "      <th>1</th>\n",
              "      <td>18</td>\n",
              "      <td>male</td>\n",
              "      <td>33.770</td>\n",
              "      <td>1</td>\n",
              "      <td>no</td>\n",
              "      <td>southeast</td>\n",
              "      <td>1725.55230</td>\n",
              "    </tr>\n",
              "    <tr>\n",
              "      <th>2</th>\n",
              "      <td>28</td>\n",
              "      <td>male</td>\n",
              "      <td>33.000</td>\n",
              "      <td>3</td>\n",
              "      <td>no</td>\n",
              "      <td>southeast</td>\n",
              "      <td>4449.46200</td>\n",
              "    </tr>\n",
              "    <tr>\n",
              "      <th>3</th>\n",
              "      <td>33</td>\n",
              "      <td>male</td>\n",
              "      <td>22.705</td>\n",
              "      <td>0</td>\n",
              "      <td>no</td>\n",
              "      <td>northwest</td>\n",
              "      <td>21984.47061</td>\n",
              "    </tr>\n",
              "    <tr>\n",
              "      <th>4</th>\n",
              "      <td>32</td>\n",
              "      <td>male</td>\n",
              "      <td>28.880</td>\n",
              "      <td>0</td>\n",
              "      <td>no</td>\n",
              "      <td>northwest</td>\n",
              "      <td>3866.85520</td>\n",
              "    </tr>\n",
              "  </tbody>\n",
              "</table>\n",
              "</div>"
            ],
            "text/plain": [
              "   age     sex     bmi  children smoker     region      charges\n",
              "0   19  female  27.900         0    yes  southwest  16884.92400\n",
              "1   18    male  33.770         1     no  southeast   1725.55230\n",
              "2   28    male  33.000         3     no  southeast   4449.46200\n",
              "3   33    male  22.705         0     no  northwest  21984.47061\n",
              "4   32    male  28.880         0     no  northwest   3866.85520"
            ]
          },
          "metadata": {
            "tags": []
          },
          "execution_count": 8
        }
      ]
    },
    {
      "cell_type": "code",
      "metadata": {
        "colab": {
          "base_uri": "https://localhost:8080/",
          "height": 282
        },
        "id": "nDWy5fv_TIOA",
        "outputId": "57c498e3-67c8-4e4d-fd45-822bdf73ca6b"
      },
      "source": [
        "sns.boxplot(data=df['bmi'])"
      ],
      "execution_count": null,
      "outputs": [
        {
          "output_type": "execute_result",
          "data": {
            "text/plain": [
              "<matplotlib.axes._subplots.AxesSubplot at 0x7f70577f9450>"
            ]
          },
          "metadata": {
            "tags": []
          },
          "execution_count": 9
        },
        {
          "output_type": "display_data",
          "data": {
            "image/png": "[encoded data removed]",
            "text/plain": [
              "<Figure size 432x288 with 1 Axes>"
            ]
          },
          "metadata": {
            "tags": [],
            "needs_background": "light"
          }
        }
      ]
    },
    {
      "cell_type": "code",
      "metadata": {
        "colab": {
          "base_uri": "https://localhost:8080/"
        },
        "id": "o868DwGTU7Ku",
        "outputId": "89d042ea-61e8-49e1-bf65-b75259c99bde"
      },
      "source": [
        "print(\"min : \",df['bmi'].quantile(0))        #min\n",
        "print(\"Q1 : \",df['bmi'].quantile(0.25))     #25 % values below Q1\n",
        "print(\"Q2 : \",df['bmi'].quantile(0.50))     #50 % values below Q2-- median\n",
        "print(\"Q3 : \",df['bmi'].quantile(0.75))     #75% values below Q3\n",
        "print(\"max : \",df['bmi'].quantile(1))       #max\n"
      ],
      "execution_count": null,
      "outputs": [
        {
          "output_type": "stream",
          "text": [
            "min :  15.96\n",
            "Q1 :  26.29625\n",
            "Q2 :  30.4\n",
            "Q3 :  34.69375\n",
            "max :  53.13\n"
          ],
          "name": "stdout"
        }
      ]
    },
    {
      "cell_type": "code",
      "metadata": {
        "id": "Tm-SFhiZV71e"
      },
      "source": [
        "Q1=df['bmi'].quantile(0.25)\n",
        "Q3=df['bmi'].quantile(0.75)\n",
        "IQR=Q3-Q1\n",
        "\n",
        "upper_limit=Q3-1.5*IQR\n",
        "lower_limit=Q1-1.5*IQR"
      ],
      "execution_count": null,
      "outputs": []
    },
    {
      "cell_type": "code",
      "metadata": {
        "colab": {
          "base_uri": "https://localhost:8080/",
          "height": 206
        },
        "id": "oGPPUP3WZAwI",
        "outputId": "b83347c8-2271-4e20-b41d-310c87d22eaf"
      },
      "source": [
        "df=df[(df['bmi']<upper_limit)&(df['bmi']>lower_limit)]\n",
        "df.head()"
      ],
      "execution_count": null,
      "outputs": [
        {
          "output_type": "execute_result",
          "data": {
            "text/html": [
              "<div>\n",
              "<style scoped>\n",
              "    .dataframe tbody tr th:only-of-type {\n",
              "        vertical-align: middle;\n",
              "    }\n",
              "\n",
              "    .dataframe tbody tr th {\n",
              "        vertical-align: top;\n",
              "    }\n",
              "\n",
              "    .dataframe thead th {\n",
              "        text-align: right;\n",
              "    }\n",
              "</style>\n",
              "<table border=\"1\" class=\"dataframe\">\n",
              "  <thead>\n",
              "    <tr style=\"text-align: right;\">\n",
              "      <th></th>\n",
              "      <th>age</th>\n",
              "      <th>sex</th>\n",
              "      <th>bmi</th>\n",
              "      <th>children</th>\n",
              "      <th>smoker</th>\n",
              "      <th>region</th>\n",
              "      <th>charges</th>\n",
              "    </tr>\n",
              "  </thead>\n",
              "  <tbody>\n",
              "    <tr>\n",
              "      <th>28</th>\n",
              "      <td>23</td>\n",
              "      <td>male</td>\n",
              "      <td>17.385</td>\n",
              "      <td>1</td>\n",
              "      <td>no</td>\n",
              "      <td>northwest</td>\n",
              "      <td>2775.19215</td>\n",
              "    </tr>\n",
              "    <tr>\n",
              "      <th>35</th>\n",
              "      <td>19</td>\n",
              "      <td>male</td>\n",
              "      <td>20.425</td>\n",
              "      <td>0</td>\n",
              "      <td>no</td>\n",
              "      <td>northwest</td>\n",
              "      <td>1625.43375</td>\n",
              "    </tr>\n",
              "    <tr>\n",
              "      <th>37</th>\n",
              "      <td>26</td>\n",
              "      <td>male</td>\n",
              "      <td>20.800</td>\n",
              "      <td>0</td>\n",
              "      <td>no</td>\n",
              "      <td>southwest</td>\n",
              "      <td>2302.30000</td>\n",
              "    </tr>\n",
              "    <tr>\n",
              "      <th>42</th>\n",
              "      <td>41</td>\n",
              "      <td>male</td>\n",
              "      <td>21.780</td>\n",
              "      <td>1</td>\n",
              "      <td>no</td>\n",
              "      <td>southeast</td>\n",
              "      <td>6272.47720</td>\n",
              "    </tr>\n",
              "    <tr>\n",
              "      <th>98</th>\n",
              "      <td>56</td>\n",
              "      <td>male</td>\n",
              "      <td>19.950</td>\n",
              "      <td>0</td>\n",
              "      <td>yes</td>\n",
              "      <td>northeast</td>\n",
              "      <td>22412.64850</td>\n",
              "    </tr>\n",
              "  </tbody>\n",
              "</table>\n",
              "</div>"
            ],
            "text/plain": [
              "    age   sex     bmi  children smoker     region      charges\n",
              "28   23  male  17.385         1     no  northwest   2775.19215\n",
              "35   19  male  20.425         0     no  northwest   1625.43375\n",
              "37   26  male  20.800         0     no  southwest   2302.30000\n",
              "42   41  male  21.780         1     no  southeast   6272.47720\n",
              "98   56  male  19.950         0    yes  northeast  22412.64850"
            ]
          },
          "metadata": {
            "tags": []
          },
          "execution_count": 12
        }
      ]
    },
    {
      "cell_type": "markdown",
      "metadata": {
        "id": "QttySRfXzjaI"
      },
      "source": [
        "##Skewness and kurtosis"
      ]
    },
    {
      "cell_type": "markdown",
      "metadata": {
        "id": "VqBZrrWQxaa5"
      },
      "source": [
        "\n",
        "skewness is measure of symmetry or asymmentry of data distribution.\n",
        "\n",
        "    symmetrical distribution :\n",
        "      tail on both sides are similer to curve.\n",
        "      mean = median = mode\n",
        "      skewness is zero.\n",
        "    \n",
        "    positive or right skewness :\n",
        "      tail on the right side of the curve is bigger than left tail.\n",
        "      mean > median > mode\n",
        "      skewness is positive\n",
        "\n",
        "    negative or left skewness :\n",
        "      tail on the left side of the curve is  bigger than right tail.\n",
        "      mean < median < mode\n",
        "      skewness is negative\n",
        "\n",
        "skewness = 3(mean-median)/std\n",
        "\n",
        "skewness = df.skew()"
      ]
    },
    {
      "cell_type": "code",
      "metadata": {
        "colab": {
          "base_uri": "https://localhost:8080/"
        },
        "id": "cIHTwRb24hgT",
        "outputId": "c7fe97ad-f05c-4f41-a85b-685c0a350140"
      },
      "source": [
        "print(df.skew())"
      ],
      "execution_count": null,
      "outputs": [
        {
          "output_type": "stream",
          "text": [
            "age         0.523305\n",
            "bmi        -0.676137\n",
            "children    0.963695\n",
            "charges     0.885057\n",
            "dtype: float64\n"
          ],
          "name": "stdout"
        }
      ]
    },
    {
      "cell_type": "markdown",
      "metadata": {
        "id": "ftXDc3Ir0I27"
      },
      "source": [
        "kurtosis is the measure of the normally distributed data to check whether heavily tailed or lightly tailed\n",
        "\n",
        "    ku = Q / (P90-P10)\n",
        "    Q = quartile division\n",
        "    P90 = 90th percentile\n",
        "    P10 = 10th percentile\n",
        "\n",
        "Types of kurtosis :\n",
        "\n",
        "    mesokurtic : \n",
        "      normally distributed data.\n",
        "      kurtosis = 0\n",
        "      no outliers\n",
        "    leptokurtic : \n",
        "      heavy tailed data\n",
        "      kurtosis > 0\n",
        "      presence of outliers\n",
        "    platykurtic :\n",
        "      lightly tailed data\n",
        "      kurtosis < 0\n",
        "      no outliers as maximum points are present in high proximity with mean \n",
        "\n"
      ]
    },
    {
      "cell_type": "code",
      "metadata": {
        "colab": {
          "base_uri": "https://localhost:8080/"
        },
        "id": "al727KqW38fS",
        "outputId": "37ab1e9a-4623-48ae-9f6d-8a9ab2f279c3"
      },
      "source": [
        "print(df.kurtosis())\n",
        "print(df.kurt())"
      ],
      "execution_count": null,
      "outputs": [
        {
          "output_type": "stream",
          "text": [
            "age        -0.929773\n",
            "bmi        -0.573289\n",
            "children    0.430597\n",
            "charges     0.700597\n",
            "dtype: float64\n",
            "age        -0.929773\n",
            "bmi        -0.573289\n",
            "children    0.430597\n",
            "charges     0.700597\n",
            "dtype: float64\n"
          ],
          "name": "stdout"
        }
      ]
    },
    {
      "cell_type": "code",
      "metadata": {
        "colab": {
          "base_uri": "https://localhost:8080/"
        },
        "id": "7vLzC00O5Lvv",
        "outputId": "febdce30-c906-4f20-c69c-2c991e8f3341"
      },
      "source": [
        "mean=np.mean(df['bmi'])\n",
        "median=np.median(df['bmi'])\n",
        "mode=stats.mode(df['bmi'])\n",
        "\n",
        "\n",
        "Skewness_Coefficient = 3 * (mean - median) / stat.stdev(df['bmi'])\n",
        "\n",
        "if Skewness_Coefficient == 0 :\n",
        "  print(\"Mesocurtic\")\n",
        "elif Skewness_Coefficient > 0:\n",
        "  print(\"Leptocurtic\")\n",
        "else:\n",
        "  print(\"Platycurtic\")"
      ],
      "execution_count": null,
      "outputs": [
        {
          "output_type": "stream",
          "text": [
            "Platycurtic\n"
          ],
          "name": "stdout"
        }
      ]
    }
  ]
}
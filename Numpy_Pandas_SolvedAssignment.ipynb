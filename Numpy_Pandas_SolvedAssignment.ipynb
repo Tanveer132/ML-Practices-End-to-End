{
  "nbformat": 4,
  "nbformat_minor": 0,
  "metadata": {
    "colab": {
      "name": "Numpy_Pandas_SolvedAssignment.ipynb",
      "provenance": [],
      "collapsed_sections": [],
      "include_colab_link": true
    },
    "kernelspec": {
      "display_name": "Python 3",
      "language": "python",
      "name": "python3"
    },
    "language_info": {
      "codemirror_mode": {
        "name": "ipython",
        "version": 3
      },
      "file_extension": ".py",
      "mimetype": "text/x-python",
      "name": "python",
      "nbconvert_exporter": "python",
      "pygments_lexer": "ipython3",
      "version": "3.8.5"
    }
  },
  "cells": [
    {
      "cell_type": "markdown",
      "metadata": {
        "id": "view-in-github",
        "colab_type": "text"
      },
      "source": [
        "<a href=\"https://colab.research.google.com/github/Tanveer132/ML-Practices-End-to-End/blob/main/Numpy_Pandas_SolvedAssignment.ipynb\" target=\"_parent\"><img src=\"https://colab.research.google.com/assets/colab-badge.svg\" alt=\"Open In Colab\"/></a>"
      ]
    },
    {
      "cell_type": "markdown",
      "metadata": {
        "id": "TTWlkYTKNzGf"
      },
      "source": [
        "# Numpy and Pandas - Assignment\n",
        "\n",
        "\n",
        "First, set up imports by running the cell below."
      ]
    },
    {
      "cell_type": "code",
      "metadata": {
        "id": "NjQJWvJ-NzGq"
      },
      "source": [
        "import math\n",
        "import pandas as pd\n",
        "import matplotlib.pyplot as plt\n",
        "import seaborn as sns"
      ],
      "execution_count": null,
      "outputs": []
    },
    {
      "cell_type": "markdown",
      "metadata": {
        "id": "grEaXm-zNzGr"
      },
      "source": [
        "# 1. Arrays\n",
        "\n",
        "As data scientists, we'll often be working with millions or even billions of numbers. For this, we need something faster than a `list`. Instead of lists, we will use *arrays*. \n",
        "\n",
        "Arrays are provided by a package called [NumPy](http://www.numpy.org/) .  The package is called `numpy`, but it's standard to rename it `np` for brevity.  You can do that with:\n",
        "\n",
        "    import numpy as np\n"
      ]
    },
    {
      "cell_type": "code",
      "metadata": {
        "id": "9XlAl75sNzGt"
      },
      "source": [
        "import numpy as np"
      ],
      "execution_count": null,
      "outputs": []
    },
    {
      "cell_type": "markdown",
      "metadata": {
        "id": "CGZTSk0nNzGt"
      },
      "source": [
        "**Question 1.1** Use `np.arange` to create an array with the multiples of 99 from 0 up to (**and including**) 9999.  (So its elements are 0, 99, 198, 297, etc.)"
      ]
    },
    {
      "cell_type": "code",
      "metadata": {
        "colab": {
          "base_uri": "https://localhost:8080/"
        },
        "id": "2IgNZXpCNzGu",
        "outputId": "4a1af60d-9018-40d3-d9e8-22b33ea6c93e"
      },
      "source": [
        "#0 to 9999 with step of 99\n",
        " \n",
        "output=np.arange(0,10000,99)\n",
        "print(output)"
      ],
      "execution_count": null,
      "outputs": [
        {
          "output_type": "stream",
          "text": [
            "[   0   99  198  297  396  495  594  693  792  891  990 1089 1188 1287\n",
            " 1386 1485 1584 1683 1782 1881 1980 2079 2178 2277 2376 2475 2574 2673\n",
            " 2772 2871 2970 3069 3168 3267 3366 3465 3564 3663 3762 3861 3960 4059\n",
            " 4158 4257 4356 4455 4554 4653 4752 4851 4950 5049 5148 5247 5346 5445\n",
            " 5544 5643 5742 5841 5940 6039 6138 6237 6336 6435 6534 6633 6732 6831\n",
            " 6930 7029 7128 7227 7326 7425 7524 7623 7722 7821 7920 8019 8118 8217\n",
            " 8316 8415 8514 8613 8712 8811 8910 9009 9108 9207 9306 9405 9504 9603\n",
            " 9702 9801 9900 9999]\n"
          ],
          "name": "stdout"
        }
      ]
    },
    {
      "cell_type": "markdown",
      "metadata": {
        "id": "8n0Y3VUENzGw"
      },
      "source": [
        "**Question 1.2.** Create an array of the time, in seconds, since the start of the month at which each hourly reading was taken. Name it collection_times.\n",
        "\n",
        "Hint 1: There were 31 days in December, which is equivalent to (31×24\n",
        ") hours or (31×24×60×60) seconds. So your array should have 31×24\n",
        "\n",
        "elements in it.\n",
        "\n",
        "Hint 2: The len function works on arrays, too. check its length and make sure it has 31×24\n",
        "elements."
      ]
    },
    {
      "cell_type": "code",
      "metadata": {
        "colab": {
          "base_uri": "https://localhost:8080/"
        },
        "id": "RhABc1mHNzGx",
        "outputId": "24d1db35-24ba-4de9-b1ff-ddad19922649"
      },
      "source": [
        "#no of hrs in a day.\n",
        "last_day=(31*24*60*60)\n",
        "# no of seconds in a hr.\n",
        "per_hr=60*60\n",
        "collection_times=np.arange(0,last_day,per_hr)\n",
        "print(collection_times)\n",
        "print(len(collection_times)==(31*24))\n"
      ],
      "execution_count": null,
      "outputs": [
        {
          "output_type": "stream",
          "text": [
            "[      0    3600    7200   10800   14400   18000   21600   25200   28800\n",
            "   32400   36000   39600   43200   46800   50400   54000   57600   61200\n",
            "   64800   68400   72000   75600   79200   82800   86400   90000   93600\n",
            "   97200  100800  104400  108000  111600  115200  118800  122400  126000\n",
            "  129600  133200  136800  140400  144000  147600  151200  154800  158400\n",
            "  162000  165600  169200  172800  176400  180000  183600  187200  190800\n",
            "  194400  198000  201600  205200  208800  212400  216000  219600  223200\n",
            "  226800  230400  234000  237600  241200  244800  248400  252000  255600\n",
            "  259200  262800  266400  270000  273600  277200  280800  284400  288000\n",
            "  291600  295200  298800  302400  306000  309600  313200  316800  320400\n",
            "  324000  327600  331200  334800  338400  342000  345600  349200  352800\n",
            "  356400  360000  363600  367200  370800  374400  378000  381600  385200\n",
            "  388800  392400  396000  399600  403200  406800  410400  414000  417600\n",
            "  421200  424800  428400  432000  435600  439200  442800  446400  450000\n",
            "  453600  457200  460800  464400  468000  471600  475200  478800  482400\n",
            "  486000  489600  493200  496800  500400  504000  507600  511200  514800\n",
            "  518400  522000  525600  529200  532800  536400  540000  543600  547200\n",
            "  550800  554400  558000  561600  565200  568800  572400  576000  579600\n",
            "  583200  586800  590400  594000  597600  601200  604800  608400  612000\n",
            "  615600  619200  622800  626400  630000  633600  637200  640800  644400\n",
            "  648000  651600  655200  658800  662400  666000  669600  673200  676800\n",
            "  680400  684000  687600  691200  694800  698400  702000  705600  709200\n",
            "  712800  716400  720000  723600  727200  730800  734400  738000  741600\n",
            "  745200  748800  752400  756000  759600  763200  766800  770400  774000\n",
            "  777600  781200  784800  788400  792000  795600  799200  802800  806400\n",
            "  810000  813600  817200  820800  824400  828000  831600  835200  838800\n",
            "  842400  846000  849600  853200  856800  860400  864000  867600  871200\n",
            "  874800  878400  882000  885600  889200  892800  896400  900000  903600\n",
            "  907200  910800  914400  918000  921600  925200  928800  932400  936000\n",
            "  939600  943200  946800  950400  954000  957600  961200  964800  968400\n",
            "  972000  975600  979200  982800  986400  990000  993600  997200 1000800\n",
            " 1004400 1008000 1011600 1015200 1018800 1022400 1026000 1029600 1033200\n",
            " 1036800 1040400 1044000 1047600 1051200 1054800 1058400 1062000 1065600\n",
            " 1069200 1072800 1076400 1080000 1083600 1087200 1090800 1094400 1098000\n",
            " 1101600 1105200 1108800 1112400 1116000 1119600 1123200 1126800 1130400\n",
            " 1134000 1137600 1141200 1144800 1148400 1152000 1155600 1159200 1162800\n",
            " 1166400 1170000 1173600 1177200 1180800 1184400 1188000 1191600 1195200\n",
            " 1198800 1202400 1206000 1209600 1213200 1216800 1220400 1224000 1227600\n",
            " 1231200 1234800 1238400 1242000 1245600 1249200 1252800 1256400 1260000\n",
            " 1263600 1267200 1270800 1274400 1278000 1281600 1285200 1288800 1292400\n",
            " 1296000 1299600 1303200 1306800 1310400 1314000 1317600 1321200 1324800\n",
            " 1328400 1332000 1335600 1339200 1342800 1346400 1350000 1353600 1357200\n",
            " 1360800 1364400 1368000 1371600 1375200 1378800 1382400 1386000 1389600\n",
            " 1393200 1396800 1400400 1404000 1407600 1411200 1414800 1418400 1422000\n",
            " 1425600 1429200 1432800 1436400 1440000 1443600 1447200 1450800 1454400\n",
            " 1458000 1461600 1465200 1468800 1472400 1476000 1479600 1483200 1486800\n",
            " 1490400 1494000 1497600 1501200 1504800 1508400 1512000 1515600 1519200\n",
            " 1522800 1526400 1530000 1533600 1537200 1540800 1544400 1548000 1551600\n",
            " 1555200 1558800 1562400 1566000 1569600 1573200 1576800 1580400 1584000\n",
            " 1587600 1591200 1594800 1598400 1602000 1605600 1609200 1612800 1616400\n",
            " 1620000 1623600 1627200 1630800 1634400 1638000 1641600 1645200 1648800\n",
            " 1652400 1656000 1659600 1663200 1666800 1670400 1674000 1677600 1681200\n",
            " 1684800 1688400 1692000 1695600 1699200 1702800 1706400 1710000 1713600\n",
            " 1717200 1720800 1724400 1728000 1731600 1735200 1738800 1742400 1746000\n",
            " 1749600 1753200 1756800 1760400 1764000 1767600 1771200 1774800 1778400\n",
            " 1782000 1785600 1789200 1792800 1796400 1800000 1803600 1807200 1810800\n",
            " 1814400 1818000 1821600 1825200 1828800 1832400 1836000 1839600 1843200\n",
            " 1846800 1850400 1854000 1857600 1861200 1864800 1868400 1872000 1875600\n",
            " 1879200 1882800 1886400 1890000 1893600 1897200 1900800 1904400 1908000\n",
            " 1911600 1915200 1918800 1922400 1926000 1929600 1933200 1936800 1940400\n",
            " 1944000 1947600 1951200 1954800 1958400 1962000 1965600 1969200 1972800\n",
            " 1976400 1980000 1983600 1987200 1990800 1994400 1998000 2001600 2005200\n",
            " 2008800 2012400 2016000 2019600 2023200 2026800 2030400 2034000 2037600\n",
            " 2041200 2044800 2048400 2052000 2055600 2059200 2062800 2066400 2070000\n",
            " 2073600 2077200 2080800 2084400 2088000 2091600 2095200 2098800 2102400\n",
            " 2106000 2109600 2113200 2116800 2120400 2124000 2127600 2131200 2134800\n",
            " 2138400 2142000 2145600 2149200 2152800 2156400 2160000 2163600 2167200\n",
            " 2170800 2174400 2178000 2181600 2185200 2188800 2192400 2196000 2199600\n",
            " 2203200 2206800 2210400 2214000 2217600 2221200 2224800 2228400 2232000\n",
            " 2235600 2239200 2242800 2246400 2250000 2253600 2257200 2260800 2264400\n",
            " 2268000 2271600 2275200 2278800 2282400 2286000 2289600 2293200 2296800\n",
            " 2300400 2304000 2307600 2311200 2314800 2318400 2322000 2325600 2329200\n",
            " 2332800 2336400 2340000 2343600 2347200 2350800 2354400 2358000 2361600\n",
            " 2365200 2368800 2372400 2376000 2379600 2383200 2386800 2390400 2394000\n",
            " 2397600 2401200 2404800 2408400 2412000 2415600 2419200 2422800 2426400\n",
            " 2430000 2433600 2437200 2440800 2444400 2448000 2451600 2455200 2458800\n",
            " 2462400 2466000 2469600 2473200 2476800 2480400 2484000 2487600 2491200\n",
            " 2494800 2498400 2502000 2505600 2509200 2512800 2516400 2520000 2523600\n",
            " 2527200 2530800 2534400 2538000 2541600 2545200 2548800 2552400 2556000\n",
            " 2559600 2563200 2566800 2570400 2574000 2577600 2581200 2584800 2588400\n",
            " 2592000 2595600 2599200 2602800 2606400 2610000 2613600 2617200 2620800\n",
            " 2624400 2628000 2631600 2635200 2638800 2642400 2646000 2649600 2653200\n",
            " 2656800 2660400 2664000 2667600 2671200 2674800]\n",
            "True\n"
          ],
          "name": "stdout"
        }
      ]
    },
    {
      "cell_type": "markdown",
      "metadata": {
        "id": "ad3RTgfXNzGy"
      },
      "source": [
        "**Question 1.3** The powers of 2 ($2^0 = 1$, $2^1 = 2$, $2^2 = 4$, etc) arise frequently in computer science.  (For example, you may have noticed that storage on smartphones or USBs come in powers of 2, like 16 GB, 32 GB, or 64 GB.)  Use `np.arange` and the exponentiation operator `**` to compute the first 30 powers of 2, starting from `2^0`.\n",
        "\n",
        "*Hint*: Did your kernel \"die\" when you ran your solution? There is a common incorrect response to this problem that tries to create an array with so many entries that Python gives up. If this happens to you, double-check your answer!\n",
        "\n",
        "**Expected Output**\n",
        "![image.png](attachment:image.png)"
      ]
    },
    {
      "cell_type": "code",
      "metadata": {
        "colab": {
          "base_uri": "https://localhost:8080/"
        },
        "id": "otr1Qm_lNzGy",
        "outputId": "eae34162-b0a4-4406-841f-2a38b585cf55"
      },
      "source": [
        "#first create array of \n",
        "exp=np.arange(30)\n",
        "powers=np.power(2,exp)\n",
        "print(powers)\n"
      ],
      "execution_count": null,
      "outputs": [
        {
          "output_type": "stream",
          "text": [
            "[        1         2         4         8        16        32        64\n",
            "       128       256       512      1024      2048      4096      8192\n",
            "     16384     32768     65536    131072    262144    524288   1048576\n",
            "   2097152   4194304   8388608  16777216  33554432  67108864 134217728\n",
            " 268435456 536870912]\n"
          ],
          "name": "stdout"
        }
      ]
    },
    {
      "cell_type": "markdown",
      "metadata": {
        "id": "rowIIk5ZNzG0"
      },
      "source": [
        "**Question 1.4** Get all items between 5 and 10 from a.\n",
        "\n",
        "Input:\n",
        "\n",
        "a = np.array([2, 6, 1, 9, 10, 3, 27])\n",
        "<br>\n",
        "<br>\n",
        "Desired Output:\n",
        "\n",
        "(array([6, 9, 10]),)"
      ]
    },
    {
      "cell_type": "code",
      "metadata": {
        "colab": {
          "base_uri": "https://localhost:8080/"
        },
        "id": "_KykJzuUNzG4",
        "outputId": "72e3137f-06ea-40fb-8ee9-97fe2f6104ff"
      },
      "source": [
        "a = np.array([2, 6, 1, 9, 10, 3, 27])\n",
        "#sort array\n",
        "a.sort(axis=0)\n",
        "#apply condition\n",
        "b=a[(a > 5) & (a < 20)]\n",
        "print(b)"
      ],
      "execution_count": null,
      "outputs": [
        {
          "output_type": "stream",
          "text": [
            "[ 6  9 10]\n"
          ],
          "name": "stdout"
        }
      ]
    },
    {
      "cell_type": "markdown",
      "metadata": {
        "id": "ywR6rOnnNzG4"
      },
      "source": [
        "**Question 1.5** Create the following pattern without hardcoding. Use only numpy functions and the below input array a.\n",
        "\n",
        "Input:\n",
        "\n",
        "a = np.array([1,2,3])`\n",
        "\n",
        "Desired Output:\n",
        "\n",
        "array([1, 1, 1, 2, 2, 2, 3, 3, 3, 1, 2, 3, 1, 2, 3, 1, 2, 3])\n",
        "<br>\n",
        "<br>\n",
        "Hint:You may use numpy repeat,tile\n"
      ]
    },
    {
      "cell_type": "code",
      "metadata": {
        "colab": {
          "base_uri": "https://localhost:8080/"
        },
        "id": "YLQIEyDkNzG4",
        "outputId": "1c5658b0-b98e-43d1-f66d-bd271f4e5a5e"
      },
      "source": [
        "#create array\n",
        "a = np.array([1,2,3])\n",
        "b=a.repeat(3)\n",
        "c=np.tile(a,3)\n",
        "# concatenate both the arrays\n",
        "arr=np.concatenate((b,c))\n",
        "arr"
      ],
      "execution_count": null,
      "outputs": [
        {
          "output_type": "execute_result",
          "data": {
            "text/plain": [
              "array([1, 1, 1, 2, 2, 2, 3, 3, 3, 1, 2, 3, 1, 2, 3, 1, 2, 3])"
            ]
          },
          "metadata": {
            "tags": []
          },
          "execution_count": 7
        }
      ]
    },
    {
      "cell_type": "markdown",
      "metadata": {
        "id": "js3CxXDDNzG4"
      },
      "source": [
        "# 2. Pandas DataFrames"
      ]
    },
    {
      "cell_type": "markdown",
      "metadata": {
        "id": "CjPdP0nKNzG5"
      },
      "source": [
        "For a collection of things in the world, an array is useful for describing a single attribute of each thing. For example, among the collection of Indian States, an array could describe the land area of each. Dataframes extend this idea by describing multiple attributes for each element of a collection.\n",
        "\n",
        "In most data science applications, we have data about many entities, but we also have several kinds of data about each entity."
      ]
    },
    {
      "cell_type": "markdown",
      "metadata": {
        "id": "NxqyZoIWNzG6"
      },
      "source": [
        "**Question 2.1** In the cell below, we've created 2 arrays. Using the steps above, assign `top_10_movies` to a DataFrame that has two columns called \"Rating\" and \"Name\", which hold `top_10_movie_ratings` and `top_10_movie_names` respectively.\n",
        "\n",
        "**Expected Output**\n",
        "![image.png](attachment:image.png)"
      ]
    },
    {
      "cell_type": "code",
      "metadata": {
        "id": "DVUULeSgNzG6"
      },
      "source": [
        "top_10_movie_ratings = np.array([9.2, 9.2, 9., 8.9, 8.9, 8.9, 8.9, 8.9, 8.9, 8.8])\n",
        "top_10_movie_names = np.array([\n",
        "        'The Shawshank Redemption (1994)',\n",
        "        'The Godfather (1972)',\n",
        "        'The Godfather: Part II (1974)',\n",
        "        'Pulp Fiction (1994)',\n",
        "        \"Schindler's List (1993)\",\n",
        "        'The Lord of the Rings: The Return of the King (2003)',\n",
        "        '12 Angry Men (1957)',\n",
        "        'The Dark Knight (2008)',\n",
        "        'Il buono, il brutto, il cattivo (1966)',\n",
        "        'The Lord of the Rings: The Fellowship of the Ring (2001)'\n",
        "])"
      ],
      "execution_count": null,
      "outputs": []
    },
    {
      "cell_type": "code",
      "metadata": {
        "colab": {
          "base_uri": "https://localhost:8080/",
          "height": 363
        },
        "id": "v2LE4mlkNzG7",
        "outputId": "940d8ace-6213-444e-c703-a1b94dc36d05"
      },
      "source": [
        "#create dataframe and use above arrays as value\n",
        "\n",
        "data={\"Rating\":top_10_movie_ratings,\"Name\":top_10_movie_names}\n",
        "df=pd.DataFrame(data)\n",
        "df"
      ],
      "execution_count": null,
      "outputs": [
        {
          "output_type": "execute_result",
          "data": {
            "text/html": [
              "<div>\n",
              "<style scoped>\n",
              "    .dataframe tbody tr th:only-of-type {\n",
              "        vertical-align: middle;\n",
              "    }\n",
              "\n",
              "    .dataframe tbody tr th {\n",
              "        vertical-align: top;\n",
              "    }\n",
              "\n",
              "    .dataframe thead th {\n",
              "        text-align: right;\n",
              "    }\n",
              "</style>\n",
              "<table border=\"1\" class=\"dataframe\">\n",
              "  <thead>\n",
              "    <tr style=\"text-align: right;\">\n",
              "      <th></th>\n",
              "      <th>Rating</th>\n",
              "      <th>Name</th>\n",
              "    </tr>\n",
              "  </thead>\n",
              "  <tbody>\n",
              "    <tr>\n",
              "      <th>0</th>\n",
              "      <td>9.2</td>\n",
              "      <td>The Shawshank Redemption (1994)</td>\n",
              "    </tr>\n",
              "    <tr>\n",
              "      <th>1</th>\n",
              "      <td>9.2</td>\n",
              "      <td>The Godfather (1972)</td>\n",
              "    </tr>\n",
              "    <tr>\n",
              "      <th>2</th>\n",
              "      <td>9.0</td>\n",
              "      <td>The Godfather: Part II (1974)</td>\n",
              "    </tr>\n",
              "    <tr>\n",
              "      <th>3</th>\n",
              "      <td>8.9</td>\n",
              "      <td>Pulp Fiction (1994)</td>\n",
              "    </tr>\n",
              "    <tr>\n",
              "      <th>4</th>\n",
              "      <td>8.9</td>\n",
              "      <td>Schindler's List (1993)</td>\n",
              "    </tr>\n",
              "    <tr>\n",
              "      <th>5</th>\n",
              "      <td>8.9</td>\n",
              "      <td>The Lord of the Rings: The Return of the King ...</td>\n",
              "    </tr>\n",
              "    <tr>\n",
              "      <th>6</th>\n",
              "      <td>8.9</td>\n",
              "      <td>12 Angry Men (1957)</td>\n",
              "    </tr>\n",
              "    <tr>\n",
              "      <th>7</th>\n",
              "      <td>8.9</td>\n",
              "      <td>The Dark Knight (2008)</td>\n",
              "    </tr>\n",
              "    <tr>\n",
              "      <th>8</th>\n",
              "      <td>8.9</td>\n",
              "      <td>Il buono, il brutto, il cattivo (1966)</td>\n",
              "    </tr>\n",
              "    <tr>\n",
              "      <th>9</th>\n",
              "      <td>8.8</td>\n",
              "      <td>The Lord of the Rings: The Fellowship of the R...</td>\n",
              "    </tr>\n",
              "  </tbody>\n",
              "</table>\n",
              "</div>"
            ],
            "text/plain": [
              "   Rating                                               Name\n",
              "0     9.2                    The Shawshank Redemption (1994)\n",
              "1     9.2                               The Godfather (1972)\n",
              "2     9.0                      The Godfather: Part II (1974)\n",
              "3     8.9                                Pulp Fiction (1994)\n",
              "4     8.9                            Schindler's List (1993)\n",
              "5     8.9  The Lord of the Rings: The Return of the King ...\n",
              "6     8.9                                12 Angry Men (1957)\n",
              "7     8.9                             The Dark Knight (2008)\n",
              "8     8.9             Il buono, il brutto, il cattivo (1966)\n",
              "9     8.8  The Lord of the Rings: The Fellowship of the R..."
            ]
          },
          "metadata": {
            "tags": []
          },
          "execution_count": 9
        }
      ]
    },
    {
      "cell_type": "code",
      "metadata": {
        "id": "yAVfFesVNzG7"
      },
      "source": [
        "my_ranking = [8, 2, 1, 9, 7, 10, 6, 4, 3, 5]"
      ],
      "execution_count": null,
      "outputs": []
    },
    {
      "cell_type": "markdown",
      "metadata": {
        "id": "uxNzI6XfNzG7"
      },
      "source": [
        "**Question 2.2**  Create a new DataFrame called `with_ranking` by adding a column named \"Ranking\" to the table in `top_10_movies`."
      ]
    },
    {
      "cell_type": "code",
      "metadata": {
        "colab": {
          "base_uri": "https://localhost:8080/",
          "height": 363
        },
        "id": "D4oDLgy9NzG8",
        "outputId": "6117abba-cd1e-4a88-984c-c28c3148a085"
      },
      "source": [
        "#create new df and add column\n",
        "with_ranking=pd.DataFrame(df)\n",
        "with_ranking[\"top_10_movies\"]= my_ranking\n",
        "with_ranking"
      ],
      "execution_count": null,
      "outputs": [
        {
          "output_type": "execute_result",
          "data": {
            "text/html": [
              "<div>\n",
              "<style scoped>\n",
              "    .dataframe tbody tr th:only-of-type {\n",
              "        vertical-align: middle;\n",
              "    }\n",
              "\n",
              "    .dataframe tbody tr th {\n",
              "        vertical-align: top;\n",
              "    }\n",
              "\n",
              "    .dataframe thead th {\n",
              "        text-align: right;\n",
              "    }\n",
              "</style>\n",
              "<table border=\"1\" class=\"dataframe\">\n",
              "  <thead>\n",
              "    <tr style=\"text-align: right;\">\n",
              "      <th></th>\n",
              "      <th>Rating</th>\n",
              "      <th>Name</th>\n",
              "      <th>top_10_movies</th>\n",
              "    </tr>\n",
              "  </thead>\n",
              "  <tbody>\n",
              "    <tr>\n",
              "      <th>0</th>\n",
              "      <td>9.2</td>\n",
              "      <td>The Shawshank Redemption (1994)</td>\n",
              "      <td>8</td>\n",
              "    </tr>\n",
              "    <tr>\n",
              "      <th>1</th>\n",
              "      <td>9.2</td>\n",
              "      <td>The Godfather (1972)</td>\n",
              "      <td>2</td>\n",
              "    </tr>\n",
              "    <tr>\n",
              "      <th>2</th>\n",
              "      <td>9.0</td>\n",
              "      <td>The Godfather: Part II (1974)</td>\n",
              "      <td>1</td>\n",
              "    </tr>\n",
              "    <tr>\n",
              "      <th>3</th>\n",
              "      <td>8.9</td>\n",
              "      <td>Pulp Fiction (1994)</td>\n",
              "      <td>9</td>\n",
              "    </tr>\n",
              "    <tr>\n",
              "      <th>4</th>\n",
              "      <td>8.9</td>\n",
              "      <td>Schindler's List (1993)</td>\n",
              "      <td>7</td>\n",
              "    </tr>\n",
              "    <tr>\n",
              "      <th>5</th>\n",
              "      <td>8.9</td>\n",
              "      <td>The Lord of the Rings: The Return of the King ...</td>\n",
              "      <td>10</td>\n",
              "    </tr>\n",
              "    <tr>\n",
              "      <th>6</th>\n",
              "      <td>8.9</td>\n",
              "      <td>12 Angry Men (1957)</td>\n",
              "      <td>6</td>\n",
              "    </tr>\n",
              "    <tr>\n",
              "      <th>7</th>\n",
              "      <td>8.9</td>\n",
              "      <td>The Dark Knight (2008)</td>\n",
              "      <td>4</td>\n",
              "    </tr>\n",
              "    <tr>\n",
              "      <th>8</th>\n",
              "      <td>8.9</td>\n",
              "      <td>Il buono, il brutto, il cattivo (1966)</td>\n",
              "      <td>3</td>\n",
              "    </tr>\n",
              "    <tr>\n",
              "      <th>9</th>\n",
              "      <td>8.8</td>\n",
              "      <td>The Lord of the Rings: The Fellowship of the R...</td>\n",
              "      <td>5</td>\n",
              "    </tr>\n",
              "  </tbody>\n",
              "</table>\n",
              "</div>"
            ],
            "text/plain": [
              "   Rating                                               Name  top_10_movies\n",
              "0     9.2                    The Shawshank Redemption (1994)              8\n",
              "1     9.2                               The Godfather (1972)              2\n",
              "2     9.0                      The Godfather: Part II (1974)              1\n",
              "3     8.9                                Pulp Fiction (1994)              9\n",
              "4     8.9                            Schindler's List (1993)              7\n",
              "5     8.9  The Lord of the Rings: The Return of the King ...             10\n",
              "6     8.9                                12 Angry Men (1957)              6\n",
              "7     8.9                             The Dark Knight (2008)              4\n",
              "8     8.9             Il buono, il brutto, il cattivo (1966)              3\n",
              "9     8.8  The Lord of the Rings: The Fellowship of the R...              5"
            ]
          },
          "metadata": {
            "tags": []
          },
          "execution_count": 11
        }
      ]
    },
    {
      "cell_type": "markdown",
      "metadata": {
        "id": "--5v5okQNzG8"
      },
      "source": [
        "##  Functions and CEO Incomes\n",
        "\n",
        "Let's start with a real data analysis task.  We'll look at the 2015 compensation of CEOs at the 100 largest companies in California.  The data were compiled for a Los Angeles Times analysis [here](http://spreadsheets.latimes.com/california-ceo-compensation/), and ultimately came from [filings](https://www.sec.gov/answers/proxyhtf.htm) mandated by the SEC from all publicly-traded companies.  Two companies have two CEOs, so there are 102 CEOs in the dataset.\n"
      ]
    },
    {
      "cell_type": "code",
      "metadata": {
        "colab": {
          "base_uri": "https://localhost:8080/",
          "height": 507
        },
        "id": "jVAwhWg0NzG8",
        "outputId": "c5b134b0-47c9-432b-d124-d2f0d1e4c301"
      },
      "source": [
        "raw_compensation = pd.read_csv('/content/raw_compensation.csv').set_index('Rank')\n",
        "raw_compensation"
      ],
      "execution_count": null,
      "outputs": [
        {
          "output_type": "execute_result",
          "data": {
            "text/html": [
              "<div>\n",
              "<style scoped>\n",
              "    .dataframe tbody tr th:only-of-type {\n",
              "        vertical-align: middle;\n",
              "    }\n",
              "\n",
              "    .dataframe tbody tr th {\n",
              "        vertical-align: top;\n",
              "    }\n",
              "\n",
              "    .dataframe thead th {\n",
              "        text-align: right;\n",
              "    }\n",
              "</style>\n",
              "<table border=\"1\" class=\"dataframe\">\n",
              "  <thead>\n",
              "    <tr style=\"text-align: right;\">\n",
              "      <th></th>\n",
              "      <th>Name</th>\n",
              "      <th>Company (Headquarters)</th>\n",
              "      <th>Total Pay</th>\n",
              "      <th>% Change</th>\n",
              "      <th>Cash Pay</th>\n",
              "      <th>Equity Pay</th>\n",
              "      <th>Other Pay</th>\n",
              "      <th>Ratio of CEO pay to average industry worker pay</th>\n",
              "    </tr>\n",
              "    <tr>\n",
              "      <th>Rank</th>\n",
              "      <th></th>\n",
              "      <th></th>\n",
              "      <th></th>\n",
              "      <th></th>\n",
              "      <th></th>\n",
              "      <th></th>\n",
              "      <th></th>\n",
              "      <th></th>\n",
              "    </tr>\n",
              "  </thead>\n",
              "  <tbody>\n",
              "    <tr>\n",
              "      <th>1</th>\n",
              "      <td>Mark V. Hurd*</td>\n",
              "      <td>Oracle (Redwood City)</td>\n",
              "      <td>$53.25</td>\n",
              "      <td>NaN</td>\n",
              "      <td>$0.95</td>\n",
              "      <td>$52.27</td>\n",
              "      <td>$0.02</td>\n",
              "      <td>362.00000</td>\n",
              "    </tr>\n",
              "    <tr>\n",
              "      <th>2</th>\n",
              "      <td>Safra A. Catz*</td>\n",
              "      <td>Oracle (Redwood City)</td>\n",
              "      <td>$53.24</td>\n",
              "      <td>NaN</td>\n",
              "      <td>$0.95</td>\n",
              "      <td>$52.27</td>\n",
              "      <td>$0.02</td>\n",
              "      <td>362.00000</td>\n",
              "    </tr>\n",
              "    <tr>\n",
              "      <th>3</th>\n",
              "      <td>Robert A. Iger</td>\n",
              "      <td>Walt Disney (Burbank)</td>\n",
              "      <td>$44.91</td>\n",
              "      <td>-3%</td>\n",
              "      <td>$24.89</td>\n",
              "      <td>$17.28</td>\n",
              "      <td>$2.74</td>\n",
              "      <td>477.00000</td>\n",
              "    </tr>\n",
              "    <tr>\n",
              "      <th>4</th>\n",
              "      <td>Marissa A. Mayer</td>\n",
              "      <td>Yahoo! (Sunnyvale)</td>\n",
              "      <td>$35.98</td>\n",
              "      <td>-15%</td>\n",
              "      <td>$1.00</td>\n",
              "      <td>$34.43</td>\n",
              "      <td>$0.55</td>\n",
              "      <td>342.00000</td>\n",
              "    </tr>\n",
              "    <tr>\n",
              "      <th>5</th>\n",
              "      <td>Marc Benioff</td>\n",
              "      <td>salesforce.com (San Francisco)</td>\n",
              "      <td>$33.36</td>\n",
              "      <td>-16%</td>\n",
              "      <td>$4.65</td>\n",
              "      <td>$27.26</td>\n",
              "      <td>$1.45</td>\n",
              "      <td>338.00000</td>\n",
              "    </tr>\n",
              "    <tr>\n",
              "      <th>...</th>\n",
              "      <td>...</td>\n",
              "      <td>...</td>\n",
              "      <td>...</td>\n",
              "      <td>...</td>\n",
              "      <td>...</td>\n",
              "      <td>...</td>\n",
              "      <td>...</td>\n",
              "      <td>...</td>\n",
              "    </tr>\n",
              "    <tr>\n",
              "      <th>98</th>\n",
              "      <td>Gregory N. Roberts</td>\n",
              "      <td>A-Mark Precious Metals (Santa Monica)</td>\n",
              "      <td>$0.94</td>\n",
              "      <td>-11%</td>\n",
              "      <td>$0.93</td>\n",
              "      <td>$0.00</td>\n",
              "      <td>$0.02</td>\n",
              "      <td>17.00000</td>\n",
              "    </tr>\n",
              "    <tr>\n",
              "      <th>99</th>\n",
              "      <td>Jose L. Laparte</td>\n",
              "      <td>PriceSmart (San Diego)</td>\n",
              "      <td>$0.81</td>\n",
              "      <td>-7%</td>\n",
              "      <td>$0.71</td>\n",
              "      <td>$0.00</td>\n",
              "      <td>$0.10</td>\n",
              "      <td>32.00000</td>\n",
              "    </tr>\n",
              "    <tr>\n",
              "      <th>100</th>\n",
              "      <td>Jack Dorsey</td>\n",
              "      <td>Twitter (San Francisco)</td>\n",
              "      <td>$0.07</td>\n",
              "      <td>NaN</td>\n",
              "      <td>$0.00</td>\n",
              "      <td>$0.00</td>\n",
              "      <td>$0.07</td>\n",
              "      <td>0.63000</td>\n",
              "    </tr>\n",
              "    <tr>\n",
              "      <th>101</th>\n",
              "      <td>Elon R. Musk</td>\n",
              "      <td>Tesla Motors (Palo Alto)</td>\n",
              "      <td>$0.04</td>\n",
              "      <td>6%</td>\n",
              "      <td>$0.04</td>\n",
              "      <td>$0.00</td>\n",
              "      <td>$0.00</td>\n",
              "      <td>0.46000</td>\n",
              "    </tr>\n",
              "    <tr>\n",
              "      <th>102</th>\n",
              "      <td>Lawrence Page***</td>\n",
              "      <td>Alphabet (Mountain View)</td>\n",
              "      <td>$0.00</td>\n",
              "      <td>0%</td>\n",
              "      <td>$0.00</td>\n",
              "      <td>$0.00</td>\n",
              "      <td>$0.00</td>\n",
              "      <td>0.00001</td>\n",
              "    </tr>\n",
              "  </tbody>\n",
              "</table>\n",
              "<p>102 rows × 8 columns</p>\n",
              "</div>"
            ],
            "text/plain": [
              "                    Name  ... Ratio of CEO pay to average industry worker pay\n",
              "Rank                      ...                                                \n",
              "1          Mark V. Hurd*  ...                                       362.00000\n",
              "2         Safra A. Catz*  ...                                       362.00000\n",
              "3         Robert A. Iger  ...                                       477.00000\n",
              "4       Marissa A. Mayer  ...                                       342.00000\n",
              "5           Marc Benioff  ...                                       338.00000\n",
              "...                  ...  ...                                             ...\n",
              "98    Gregory N. Roberts  ...                                        17.00000\n",
              "99       Jose L. Laparte  ...                                        32.00000\n",
              "100          Jack Dorsey  ...                                         0.63000\n",
              "101         Elon R. Musk  ...                                         0.46000\n",
              "102     Lawrence Page***  ...                                         0.00001\n",
              "\n",
              "[102 rows x 8 columns]"
            ]
          },
          "metadata": {
            "tags": []
          },
          "execution_count": 12
        }
      ]
    },
    {
      "cell_type": "markdown",
      "metadata": {
        "id": "iAEV0NBzNzG8"
      },
      "source": [
        "**Question 2.3** You should have found that the values in \"Total Pay\" column are strings (text). It doesn't make sense to take the average of the text values, so we need to convert them to numbers if we want to do this. Extract the first value in the \"Total Pay\" column.  It's Mark Hurd's pay in 2015, in *millions* of dollars.  Call it `mark_hurd_pay_string`."
      ]
    },
    {
      "cell_type": "code",
      "metadata": {
        "colab": {
          "base_uri": "https://localhost:8080/"
        },
        "id": "OzigZrcZNzG9",
        "outputId": "dafee8f7-d157-4677-8e32-0a25a7dddf2f"
      },
      "source": [
        "#accessing the first element in the Total pay column\n",
        "mark_hurd_pay_string=raw_compensation['Total Pay'].iloc[1]\n",
        "print(mark_hurd_pay_string)"
      ],
      "execution_count": null,
      "outputs": [
        {
          "output_type": "stream",
          "text": [
            "$53.24\n"
          ],
          "name": "stdout"
        }
      ]
    },
    {
      "cell_type": "markdown",
      "metadata": {
        "id": "uzlYh_uYNzG-"
      },
      "source": [
        "**Question 2.3.1** Using code, `mark_hurd_pay_string` to a number of *dollars*. \n",
        "<br>Hint: you can use split method."
      ]
    },
    {
      "cell_type": "code",
      "metadata": {
        "colab": {
          "base_uri": "https://localhost:8080/"
        },
        "id": "vrXlVszbclwK",
        "outputId": "630e559f-009e-4b60-e1a9-12eb88abb055"
      },
      "source": [
        "#access first element--split string--access 2nd index\n",
        "mark_hurd_pay_string=raw_compensation['Total Pay'][1].split(\"$\")[1]\n",
        "\n",
        "#convert in to float and convert in to millions\n",
        "mark_hurd_pay_string=float(mark_hurd_pay_string)\n",
        "print(mark_hurd_pay_string*10000000)"
      ],
      "execution_count": null,
      "outputs": [
        {
          "output_type": "stream",
          "text": [
            "532500000.0\n"
          ],
          "name": "stdout"
        }
      ]
    },
    {
      "cell_type": "markdown",
      "metadata": {
        "id": "HiSYdvnsNzG-"
      },
      "source": [
        "To compute the average pay, we need to do this for every CEO. But that looks like it would involve copying this code 102 times.\n",
        "<br>**Question 2.3.2.** Copy the expression you used to compute `mark_hurd_pay` as the `return` expression of the function below, but replace the specific `mark_hurd_pay_string` with the generic `pay_string` name specified in the first line of the `def` statement."
      ]
    },
    {
      "cell_type": "code",
      "metadata": {
        "colab": {
          "base_uri": "https://localhost:8080/"
        },
        "id": "KY-9-ZD9NzG-",
        "outputId": "a63491e4-3ad3-4ead-f6ba-1cf48e6ebddd"
      },
      "source": [
        "#create function to convert string to float value\n",
        "def convert_pay_string_to_number(st):\n",
        "  st=st.split(\"$\")[1]\n",
        "  st=float(st)\n",
        "  return st*10000000\n",
        "\n",
        "  #apply the function to Total pay column\n",
        "print(raw_compensation['Total Pay'].apply(convert_pay_string_to_number))"
      ],
      "execution_count": null,
      "outputs": [
        {
          "output_type": "stream",
          "text": [
            "Rank\n",
            "1      532500000.0\n",
            "2      532400000.0\n",
            "3      449100000.0\n",
            "4      359800000.0\n",
            "5      333600000.0\n",
            "          ...     \n",
            "98       9400000.0\n",
            "99       8100000.0\n",
            "100       700000.0\n",
            "101       400000.0\n",
            "102            0.0\n",
            "Name: Total Pay, Length: 102, dtype: float64\n"
          ],
          "name": "stdout"
        }
      ]
    },
    {
      "cell_type": "code",
      "metadata": {
        "colab": {
          "base_uri": "https://localhost:8080/"
        },
        "id": "CFyghrzkNzG_",
        "outputId": "115b8494-1f7e-475b-da99-d10b6010da63"
      },
      "source": [
        "#run this cell to check if your code is correct\n",
        "raw_compensation['Total Pay']"
      ],
      "execution_count": null,
      "outputs": [
        {
          "output_type": "execute_result",
          "data": {
            "text/plain": [
              "Rank\n",
              "1      $53.25\n",
              "2      $53.24\n",
              "3      $44.91\n",
              "4      $35.98\n",
              "5      $33.36\n",
              "        ...  \n",
              "98      $0.94\n",
              "99      $0.81\n",
              "100     $0.07\n",
              "101     $0.04\n",
              "102     $0.00\n",
              "Name: Total Pay, Length: 102, dtype: object"
            ]
          },
          "metadata": {
            "tags": []
          },
          "execution_count": 16
        }
      ]
    },
    {
      "cell_type": "code",
      "metadata": {
        "colab": {
          "base_uri": "https://localhost:8080/"
        },
        "id": "2yaq3FzxNzG_",
        "outputId": "9730397d-3856-445c-ab70-84c4f954be7d"
      },
      "source": [
        "#test the above function\n",
        "convert_pay_string_to_number('$42')"
      ],
      "execution_count": null,
      "outputs": [
        {
          "output_type": "execute_result",
          "data": {
            "text/plain": [
              "420000000.0"
            ]
          },
          "metadata": {
            "tags": []
          },
          "execution_count": 17
        }
      ]
    },
    {
      "cell_type": "markdown",
      "metadata": {
        "id": "KpXp4lzfNzG_"
      },
      "source": [
        "**Question 2.3.3** Using apply, make a Daatframe that's a copy of raw_compensation with one more column called \"Total_Pay_Dollars\". It should be the result of applying convert_pay_string_to_number to the \"Total Pay\" column, as we did above. Call the new df compensation."
      ]
    },
    {
      "cell_type": "code",
      "metadata": {
        "colab": {
          "base_uri": "https://localhost:8080/",
          "height": 525
        },
        "id": "FVMM11Okkurl",
        "outputId": "fdafbb62-903b-4abd-abbc-9e5e427f1a56"
      },
      "source": [
        "#create new column with updated float values in the Total pay column\n",
        "raw_compensation['Total Pay_Dollars']=raw_compensation['Total Pay'].apply(convert_pay_string_to_number)\n",
        "raw_compensation"
      ],
      "execution_count": null,
      "outputs": [
        {
          "output_type": "execute_result",
          "data": {
            "text/html": [
              "<div>\n",
              "<style scoped>\n",
              "    .dataframe tbody tr th:only-of-type {\n",
              "        vertical-align: middle;\n",
              "    }\n",
              "\n",
              "    .dataframe tbody tr th {\n",
              "        vertical-align: top;\n",
              "    }\n",
              "\n",
              "    .dataframe thead th {\n",
              "        text-align: right;\n",
              "    }\n",
              "</style>\n",
              "<table border=\"1\" class=\"dataframe\">\n",
              "  <thead>\n",
              "    <tr style=\"text-align: right;\">\n",
              "      <th></th>\n",
              "      <th>Name</th>\n",
              "      <th>Company (Headquarters)</th>\n",
              "      <th>Total Pay</th>\n",
              "      <th>% Change</th>\n",
              "      <th>Cash Pay</th>\n",
              "      <th>Equity Pay</th>\n",
              "      <th>Other Pay</th>\n",
              "      <th>Ratio of CEO pay to average industry worker pay</th>\n",
              "      <th>Total Pay_Dollars</th>\n",
              "    </tr>\n",
              "    <tr>\n",
              "      <th>Rank</th>\n",
              "      <th></th>\n",
              "      <th></th>\n",
              "      <th></th>\n",
              "      <th></th>\n",
              "      <th></th>\n",
              "      <th></th>\n",
              "      <th></th>\n",
              "      <th></th>\n",
              "      <th></th>\n",
              "    </tr>\n",
              "  </thead>\n",
              "  <tbody>\n",
              "    <tr>\n",
              "      <th>1</th>\n",
              "      <td>Mark V. Hurd*</td>\n",
              "      <td>Oracle (Redwood City)</td>\n",
              "      <td>$53.25</td>\n",
              "      <td>NaN</td>\n",
              "      <td>$0.95</td>\n",
              "      <td>$52.27</td>\n",
              "      <td>$0.02</td>\n",
              "      <td>362.00000</td>\n",
              "      <td>532500000.0</td>\n",
              "    </tr>\n",
              "    <tr>\n",
              "      <th>2</th>\n",
              "      <td>Safra A. Catz*</td>\n",
              "      <td>Oracle (Redwood City)</td>\n",
              "      <td>$53.24</td>\n",
              "      <td>NaN</td>\n",
              "      <td>$0.95</td>\n",
              "      <td>$52.27</td>\n",
              "      <td>$0.02</td>\n",
              "      <td>362.00000</td>\n",
              "      <td>532400000.0</td>\n",
              "    </tr>\n",
              "    <tr>\n",
              "      <th>3</th>\n",
              "      <td>Robert A. Iger</td>\n",
              "      <td>Walt Disney (Burbank)</td>\n",
              "      <td>$44.91</td>\n",
              "      <td>-3%</td>\n",
              "      <td>$24.89</td>\n",
              "      <td>$17.28</td>\n",
              "      <td>$2.74</td>\n",
              "      <td>477.00000</td>\n",
              "      <td>449100000.0</td>\n",
              "    </tr>\n",
              "    <tr>\n",
              "      <th>4</th>\n",
              "      <td>Marissa A. Mayer</td>\n",
              "      <td>Yahoo! (Sunnyvale)</td>\n",
              "      <td>$35.98</td>\n",
              "      <td>-15%</td>\n",
              "      <td>$1.00</td>\n",
              "      <td>$34.43</td>\n",
              "      <td>$0.55</td>\n",
              "      <td>342.00000</td>\n",
              "      <td>359800000.0</td>\n",
              "    </tr>\n",
              "    <tr>\n",
              "      <th>5</th>\n",
              "      <td>Marc Benioff</td>\n",
              "      <td>salesforce.com (San Francisco)</td>\n",
              "      <td>$33.36</td>\n",
              "      <td>-16%</td>\n",
              "      <td>$4.65</td>\n",
              "      <td>$27.26</td>\n",
              "      <td>$1.45</td>\n",
              "      <td>338.00000</td>\n",
              "      <td>333600000.0</td>\n",
              "    </tr>\n",
              "    <tr>\n",
              "      <th>...</th>\n",
              "      <td>...</td>\n",
              "      <td>...</td>\n",
              "      <td>...</td>\n",
              "      <td>...</td>\n",
              "      <td>...</td>\n",
              "      <td>...</td>\n",
              "      <td>...</td>\n",
              "      <td>...</td>\n",
              "      <td>...</td>\n",
              "    </tr>\n",
              "    <tr>\n",
              "      <th>98</th>\n",
              "      <td>Gregory N. Roberts</td>\n",
              "      <td>A-Mark Precious Metals (Santa Monica)</td>\n",
              "      <td>$0.94</td>\n",
              "      <td>-11%</td>\n",
              "      <td>$0.93</td>\n",
              "      <td>$0.00</td>\n",
              "      <td>$0.02</td>\n",
              "      <td>17.00000</td>\n",
              "      <td>9400000.0</td>\n",
              "    </tr>\n",
              "    <tr>\n",
              "      <th>99</th>\n",
              "      <td>Jose L. Laparte</td>\n",
              "      <td>PriceSmart (San Diego)</td>\n",
              "      <td>$0.81</td>\n",
              "      <td>-7%</td>\n",
              "      <td>$0.71</td>\n",
              "      <td>$0.00</td>\n",
              "      <td>$0.10</td>\n",
              "      <td>32.00000</td>\n",
              "      <td>8100000.0</td>\n",
              "    </tr>\n",
              "    <tr>\n",
              "      <th>100</th>\n",
              "      <td>Jack Dorsey</td>\n",
              "      <td>Twitter (San Francisco)</td>\n",
              "      <td>$0.07</td>\n",
              "      <td>NaN</td>\n",
              "      <td>$0.00</td>\n",
              "      <td>$0.00</td>\n",
              "      <td>$0.07</td>\n",
              "      <td>0.63000</td>\n",
              "      <td>700000.0</td>\n",
              "    </tr>\n",
              "    <tr>\n",
              "      <th>101</th>\n",
              "      <td>Elon R. Musk</td>\n",
              "      <td>Tesla Motors (Palo Alto)</td>\n",
              "      <td>$0.04</td>\n",
              "      <td>6%</td>\n",
              "      <td>$0.04</td>\n",
              "      <td>$0.00</td>\n",
              "      <td>$0.00</td>\n",
              "      <td>0.46000</td>\n",
              "      <td>400000.0</td>\n",
              "    </tr>\n",
              "    <tr>\n",
              "      <th>102</th>\n",
              "      <td>Lawrence Page***</td>\n",
              "      <td>Alphabet (Mountain View)</td>\n",
              "      <td>$0.00</td>\n",
              "      <td>0%</td>\n",
              "      <td>$0.00</td>\n",
              "      <td>$0.00</td>\n",
              "      <td>$0.00</td>\n",
              "      <td>0.00001</td>\n",
              "      <td>0.0</td>\n",
              "    </tr>\n",
              "  </tbody>\n",
              "</table>\n",
              "<p>102 rows × 9 columns</p>\n",
              "</div>"
            ],
            "text/plain": [
              "                    Name  ... Total Pay_Dollars\n",
              "Rank                      ...                  \n",
              "1          Mark V. Hurd*  ...       532500000.0\n",
              "2         Safra A. Catz*  ...       532400000.0\n",
              "3         Robert A. Iger  ...       449100000.0\n",
              "4       Marissa A. Mayer  ...       359800000.0\n",
              "5           Marc Benioff  ...       333600000.0\n",
              "...                  ...  ...               ...\n",
              "98    Gregory N. Roberts  ...         9400000.0\n",
              "99       Jose L. Laparte  ...         8100000.0\n",
              "100          Jack Dorsey  ...          700000.0\n",
              "101         Elon R. Musk  ...          400000.0\n",
              "102     Lawrence Page***  ...               0.0\n",
              "\n",
              "[102 rows x 9 columns]"
            ]
          },
          "metadata": {
            "tags": []
          },
          "execution_count": 18
        }
      ]
    },
    {
      "cell_type": "markdown",
      "metadata": {
        "id": "_SGwCMMdNzHA"
      },
      "source": [
        "**Question 2.4.** Companies pay executives in a variety of ways: directly in cash; by granting stock or other \"equity\" in the company; or with ancillary benefits (like private jets).  Compute the proportion of each CEO's pay that was cash.  (Your answer should be an array of numbers, one for each CEO in the dataset.)"
      ]
    },
    {
      "cell_type": "code",
      "metadata": {
        "colab": {
          "base_uri": "https://localhost:8080/"
        },
        "id": "Xy_hL-LKNzHA",
        "outputId": "c6ab9631-253f-48b9-d55b-75b6b1393280"
      },
      "source": [
        "#apply function to cash pay column and print in form of array\n",
        "array=np.array(raw_compensation['Cash Pay'].apply(convert_pay_string_to_number))\n",
        "array"
      ],
      "execution_count": null,
      "outputs": [
        {
          "output_type": "execute_result",
          "data": {
            "text/plain": [
              "array([9.500e+06, 9.500e+06, 2.489e+08, 1.000e+07, 4.650e+07, 1.210e+08,\n",
              "       4.310e+07, 2.470e+07, 5.100e+07, 6.800e+07, 5.770e+07, 4.120e+07,\n",
              "       2.410e+07, 3.090e+07, 3.950e+07, 1.120e+07, 2.130e+07, 4.520e+07,\n",
              "       5.350e+07, 2.460e+07, 4.430e+07, 3.270e+07, 4.550e+07, 3.640e+07,\n",
              "       3.320e+07, 2.440e+07, 4.550e+07, 3.690e+07, 3.970e+07, 2.140e+07,\n",
              "       4.710e+07, 3.530e+07, 2.480e+07, 5.780e+07, 5.500e+07, 4.310e+07,\n",
              "       2.550e+07, 2.880e+07, 4.750e+07, 2.900e+07, 2.040e+07, 1.550e+07,\n",
              "       3.500e+07, 1.130e+07, 2.170e+07, 1.000e+08, 2.360e+07, 2.320e+07,\n",
              "       3.850e+07, 2.510e+07, 7.360e+07, 3.650e+07, 2.350e+07, 2.010e+07,\n",
              "       1.930e+07, 2.150e+07, 3.050e+07, 3.500e+07, 4.970e+07, 1.030e+07,\n",
              "       3.020e+07, 2.050e+07, 2.090e+07, 1.980e+07, 3.570e+07, 2.470e+07,\n",
              "       3.570e+07, 2.470e+07, 1.860e+07, 7.140e+07, 1.960e+07, 6.850e+07,\n",
              "       2.190e+07, 5.550e+07, 1.580e+07, 1.150e+07, 1.300e+07, 2.200e+07,\n",
              "       1.610e+07, 1.590e+07, 3.160e+07, 1.950e+07, 0.000e+00, 2.320e+07,\n",
              "       2.320e+07, 1.330e+07, 6.900e+06, 1.980e+07, 1.840e+07, 1.210e+07,\n",
              "       2.850e+07, 1.730e+07, 1.890e+07, 1.850e+07, 9.100e+06, 1.660e+07,\n",
              "       1.500e+07, 9.300e+06, 7.100e+06, 0.000e+00, 4.000e+05, 0.000e+00])"
            ]
          },
          "metadata": {
            "tags": []
          },
          "execution_count": 19
        }
      ]
    },
    {
      "cell_type": "markdown",
      "metadata": {
        "id": "dCYnNmtRNzHA"
      },
      "source": [
        "##### Alright, back to our CEOs.  Check out the \"% Change\" column in `compensation`.  It shows the percentage increase in the CEO's pay from the previous year.  For CEOs with no previous year on record, it instead says \"(No previous year)\".  The values in this column are *strings*, not numbers, so like the \"Total Pay\" column, it's not usable without a bit of extra work.\n",
        "\n",
        "Given your current pay and the percentage increase from the previous year, you can compute your previous year's pay.  For example, if your pay is \\\\$100 this year, and that's an increase of 50% from the previous year, then your previous year's pay was $\\frac{\\$100}{1 + \\frac{50}{100}}$, or around \\$66.66.\n",
        "\n",
        "**Question 2.5.** Create a new table called `with_previous_compensation`.  It should be a copy of `compensation`, but with the \"(No previous year)\" CEOs filtered out, and with an extra column called \"Previous_Total_Pay\".  That column should have each CEO's pay in 2014.\n",
        "\n",
        "*Hint:* This question takes several steps, but each one is still something you've seen before.  Take it one step at a time, using as many lines as you need.  You can print out your results after each step to make sure you're on the right track.\n",
        "\n",
        "*Hint 2:* You'll need to define a function to convert percentage strings, like `-15%`, to numbers.  You can do that just above your other code.\n",
        "\n",
        "*Hint 3:* If you see an error saying \"unsupported operand type(s) for +: 'int' and 'Series'\", try switching the order of your operation. Instead of writing something like `1 + series`, write `series + 1`."
      ]
    },
    {
      "cell_type": "code",
      "metadata": {
        "colab": {
          "base_uri": "https://localhost:8080/",
          "height": 1000
        },
        "id": "jwZM_iwINzHA",
        "outputId": "baf996b3-531c-4030-feb3-5f5dc9b64497"
      },
      "source": [
        "#step 1- made a copy of the table\n",
        "with_previous_compensation=raw_compensation\n",
        "#check for the isna values\n",
        "print(with_previous_compensation.isna())\n",
        "#drop isna values in all columns \n",
        "with_previous_compensation=with_previous_compensation.dropna()\n",
        "print(with_previous_compensation['% Change'].isna())\n",
        "with_previous_compensation"
      ],
      "execution_count": null,
      "outputs": [
        {
          "output_type": "stream",
          "text": [
            "       Name  ...  Total Pay_Dollars\n",
            "Rank         ...                   \n",
            "1     False  ...              False\n",
            "2     False  ...              False\n",
            "3     False  ...              False\n",
            "4     False  ...              False\n",
            "5     False  ...              False\n",
            "...     ...  ...                ...\n",
            "98    False  ...              False\n",
            "99    False  ...              False\n",
            "100   False  ...              False\n",
            "101   False  ...              False\n",
            "102   False  ...              False\n",
            "\n",
            "[102 rows x 9 columns]\n",
            "Rank\n",
            "3      False\n",
            "4      False\n",
            "5      False\n",
            "6      False\n",
            "7      False\n",
            "       ...  \n",
            "97     False\n",
            "98     False\n",
            "99     False\n",
            "101    False\n",
            "102    False\n",
            "Name: % Change, Length: 81, dtype: bool\n"
          ],
          "name": "stdout"
        },
        {
          "output_type": "execute_result",
          "data": {
            "text/html": [
              "<div>\n",
              "<style scoped>\n",
              "    .dataframe tbody tr th:only-of-type {\n",
              "        vertical-align: middle;\n",
              "    }\n",
              "\n",
              "    .dataframe tbody tr th {\n",
              "        vertical-align: top;\n",
              "    }\n",
              "\n",
              "    .dataframe thead th {\n",
              "        text-align: right;\n",
              "    }\n",
              "</style>\n",
              "<table border=\"1\" class=\"dataframe\">\n",
              "  <thead>\n",
              "    <tr style=\"text-align: right;\">\n",
              "      <th></th>\n",
              "      <th>Name</th>\n",
              "      <th>Company (Headquarters)</th>\n",
              "      <th>Total Pay</th>\n",
              "      <th>% Change</th>\n",
              "      <th>Cash Pay</th>\n",
              "      <th>Equity Pay</th>\n",
              "      <th>Other Pay</th>\n",
              "      <th>Ratio of CEO pay to average industry worker pay</th>\n",
              "      <th>Total Pay_Dollars</th>\n",
              "    </tr>\n",
              "    <tr>\n",
              "      <th>Rank</th>\n",
              "      <th></th>\n",
              "      <th></th>\n",
              "      <th></th>\n",
              "      <th></th>\n",
              "      <th></th>\n",
              "      <th></th>\n",
              "      <th></th>\n",
              "      <th></th>\n",
              "      <th></th>\n",
              "    </tr>\n",
              "  </thead>\n",
              "  <tbody>\n",
              "    <tr>\n",
              "      <th>3</th>\n",
              "      <td>Robert A. Iger</td>\n",
              "      <td>Walt Disney (Burbank)</td>\n",
              "      <td>$44.91</td>\n",
              "      <td>-3%</td>\n",
              "      <td>$24.89</td>\n",
              "      <td>$17.28</td>\n",
              "      <td>$2.74</td>\n",
              "      <td>477.00000</td>\n",
              "      <td>449100000.0</td>\n",
              "    </tr>\n",
              "    <tr>\n",
              "      <th>4</th>\n",
              "      <td>Marissa A. Mayer</td>\n",
              "      <td>Yahoo! (Sunnyvale)</td>\n",
              "      <td>$35.98</td>\n",
              "      <td>-15%</td>\n",
              "      <td>$1.00</td>\n",
              "      <td>$34.43</td>\n",
              "      <td>$0.55</td>\n",
              "      <td>342.00000</td>\n",
              "      <td>359800000.0</td>\n",
              "    </tr>\n",
              "    <tr>\n",
              "      <th>5</th>\n",
              "      <td>Marc Benioff</td>\n",
              "      <td>salesforce.com (San Francisco)</td>\n",
              "      <td>$33.36</td>\n",
              "      <td>-16%</td>\n",
              "      <td>$4.65</td>\n",
              "      <td>$27.26</td>\n",
              "      <td>$1.45</td>\n",
              "      <td>338.00000</td>\n",
              "      <td>333600000.0</td>\n",
              "    </tr>\n",
              "    <tr>\n",
              "      <th>6</th>\n",
              "      <td>John H. Hammergren</td>\n",
              "      <td>McKesson (San Francisco)</td>\n",
              "      <td>$24.84</td>\n",
              "      <td>-4%</td>\n",
              "      <td>$12.10</td>\n",
              "      <td>$12.37</td>\n",
              "      <td>$0.37</td>\n",
              "      <td>222.00000</td>\n",
              "      <td>248400000.0</td>\n",
              "    </tr>\n",
              "    <tr>\n",
              "      <th>7</th>\n",
              "      <td>John S. Watson</td>\n",
              "      <td>Chevron (San Ramon)</td>\n",
              "      <td>$22.04</td>\n",
              "      <td>-15%</td>\n",
              "      <td>$4.31</td>\n",
              "      <td>$14.68</td>\n",
              "      <td>$3.05</td>\n",
              "      <td>183.00000</td>\n",
              "      <td>220400000.0</td>\n",
              "    </tr>\n",
              "    <tr>\n",
              "      <th>...</th>\n",
              "      <td>...</td>\n",
              "      <td>...</td>\n",
              "      <td>...</td>\n",
              "      <td>...</td>\n",
              "      <td>...</td>\n",
              "      <td>...</td>\n",
              "      <td>...</td>\n",
              "      <td>...</td>\n",
              "      <td>...</td>\n",
              "    </tr>\n",
              "    <tr>\n",
              "      <th>97</th>\n",
              "      <td>David G. Hirz</td>\n",
              "      <td>Smartæ&amp; Final Stores (Commerce)</td>\n",
              "      <td>$1.53</td>\n",
              "      <td>-66%</td>\n",
              "      <td>$1.50</td>\n",
              "      <td>$0.00</td>\n",
              "      <td>$0.04</td>\n",
              "      <td>26.00000</td>\n",
              "      <td>15300000.0</td>\n",
              "    </tr>\n",
              "    <tr>\n",
              "      <th>98</th>\n",
              "      <td>Gregory N. Roberts</td>\n",
              "      <td>A-Mark Precious Metals (Santa Monica)</td>\n",
              "      <td>$0.94</td>\n",
              "      <td>-11%</td>\n",
              "      <td>$0.93</td>\n",
              "      <td>$0.00</td>\n",
              "      <td>$0.02</td>\n",
              "      <td>17.00000</td>\n",
              "      <td>9400000.0</td>\n",
              "    </tr>\n",
              "    <tr>\n",
              "      <th>99</th>\n",
              "      <td>Jose L. Laparte</td>\n",
              "      <td>PriceSmart (San Diego)</td>\n",
              "      <td>$0.81</td>\n",
              "      <td>-7%</td>\n",
              "      <td>$0.71</td>\n",
              "      <td>$0.00</td>\n",
              "      <td>$0.10</td>\n",
              "      <td>32.00000</td>\n",
              "      <td>8100000.0</td>\n",
              "    </tr>\n",
              "    <tr>\n",
              "      <th>101</th>\n",
              "      <td>Elon R. Musk</td>\n",
              "      <td>Tesla Motors (Palo Alto)</td>\n",
              "      <td>$0.04</td>\n",
              "      <td>6%</td>\n",
              "      <td>$0.04</td>\n",
              "      <td>$0.00</td>\n",
              "      <td>$0.00</td>\n",
              "      <td>0.46000</td>\n",
              "      <td>400000.0</td>\n",
              "    </tr>\n",
              "    <tr>\n",
              "      <th>102</th>\n",
              "      <td>Lawrence Page***</td>\n",
              "      <td>Alphabet (Mountain View)</td>\n",
              "      <td>$0.00</td>\n",
              "      <td>0%</td>\n",
              "      <td>$0.00</td>\n",
              "      <td>$0.00</td>\n",
              "      <td>$0.00</td>\n",
              "      <td>0.00001</td>\n",
              "      <td>0.0</td>\n",
              "    </tr>\n",
              "  </tbody>\n",
              "</table>\n",
              "<p>81 rows × 9 columns</p>\n",
              "</div>"
            ],
            "text/plain": [
              "                    Name  ... Total Pay_Dollars\n",
              "Rank                      ...                  \n",
              "3         Robert A. Iger  ...       449100000.0\n",
              "4       Marissa A. Mayer  ...       359800000.0\n",
              "5           Marc Benioff  ...       333600000.0\n",
              "6     John H. Hammergren  ...       248400000.0\n",
              "7         John S. Watson  ...       220400000.0\n",
              "...                  ...  ...               ...\n",
              "97         David G. Hirz  ...        15300000.0\n",
              "98    Gregory N. Roberts  ...         9400000.0\n",
              "99       Jose L. Laparte  ...         8100000.0\n",
              "101         Elon R. Musk  ...          400000.0\n",
              "102     Lawrence Page***  ...               0.0\n",
              "\n",
              "[81 rows x 9 columns]"
            ]
          },
          "metadata": {
            "tags": []
          },
          "execution_count": 20
        }
      ]
    },
    {
      "cell_type": "code",
      "metadata": {
        "colab": {
          "base_uri": "https://localhost:8080/",
          "height": 646
        },
        "id": "6gl4uIjIMF-a",
        "outputId": "12e8e25c-0754-4239-df78-0abe4c8dcf97"
      },
      "source": [
        "#function convert percentage into int\n",
        "def convert_perc_string_to_number(st):\n",
        "  st=st.split(\"%\")[0]\n",
        "  st=float(st)\n",
        "  return st\n",
        "#apply above function for the change% column\n",
        "with_previous_compensation['% Change']=with_previous_compensation['% Change'].apply(convert_perc_string_to_number)\n",
        "with_previous_compensation"
      ],
      "execution_count": null,
      "outputs": [
        {
          "output_type": "stream",
          "text": [
            "/usr/local/lib/python3.7/dist-packages/ipykernel_launcher.py:7: SettingWithCopyWarning: \n",
            "A value is trying to be set on a copy of a slice from a DataFrame.\n",
            "Try using .loc[row_indexer,col_indexer] = value instead\n",
            "\n",
            "See the caveats in the documentation: https://pandas.pydata.org/pandas-docs/stable/user_guide/indexing.html#returning-a-view-versus-a-copy\n",
            "  import sys\n"
          ],
          "name": "stderr"
        },
        {
          "output_type": "execute_result",
          "data": {
            "text/html": [
              "<div>\n",
              "<style scoped>\n",
              "    .dataframe tbody tr th:only-of-type {\n",
              "        vertical-align: middle;\n",
              "    }\n",
              "\n",
              "    .dataframe tbody tr th {\n",
              "        vertical-align: top;\n",
              "    }\n",
              "\n",
              "    .dataframe thead th {\n",
              "        text-align: right;\n",
              "    }\n",
              "</style>\n",
              "<table border=\"1\" class=\"dataframe\">\n",
              "  <thead>\n",
              "    <tr style=\"text-align: right;\">\n",
              "      <th></th>\n",
              "      <th>Name</th>\n",
              "      <th>Company (Headquarters)</th>\n",
              "      <th>Total Pay</th>\n",
              "      <th>% Change</th>\n",
              "      <th>Cash Pay</th>\n",
              "      <th>Equity Pay</th>\n",
              "      <th>Other Pay</th>\n",
              "      <th>Ratio of CEO pay to average industry worker pay</th>\n",
              "      <th>Total Pay_Dollars</th>\n",
              "    </tr>\n",
              "    <tr>\n",
              "      <th>Rank</th>\n",
              "      <th></th>\n",
              "      <th></th>\n",
              "      <th></th>\n",
              "      <th></th>\n",
              "      <th></th>\n",
              "      <th></th>\n",
              "      <th></th>\n",
              "      <th></th>\n",
              "      <th></th>\n",
              "    </tr>\n",
              "  </thead>\n",
              "  <tbody>\n",
              "    <tr>\n",
              "      <th>3</th>\n",
              "      <td>Robert A. Iger</td>\n",
              "      <td>Walt Disney (Burbank)</td>\n",
              "      <td>$44.91</td>\n",
              "      <td>-3.0</td>\n",
              "      <td>$24.89</td>\n",
              "      <td>$17.28</td>\n",
              "      <td>$2.74</td>\n",
              "      <td>477.00000</td>\n",
              "      <td>449100000.0</td>\n",
              "    </tr>\n",
              "    <tr>\n",
              "      <th>4</th>\n",
              "      <td>Marissa A. Mayer</td>\n",
              "      <td>Yahoo! (Sunnyvale)</td>\n",
              "      <td>$35.98</td>\n",
              "      <td>-15.0</td>\n",
              "      <td>$1.00</td>\n",
              "      <td>$34.43</td>\n",
              "      <td>$0.55</td>\n",
              "      <td>342.00000</td>\n",
              "      <td>359800000.0</td>\n",
              "    </tr>\n",
              "    <tr>\n",
              "      <th>5</th>\n",
              "      <td>Marc Benioff</td>\n",
              "      <td>salesforce.com (San Francisco)</td>\n",
              "      <td>$33.36</td>\n",
              "      <td>-16.0</td>\n",
              "      <td>$4.65</td>\n",
              "      <td>$27.26</td>\n",
              "      <td>$1.45</td>\n",
              "      <td>338.00000</td>\n",
              "      <td>333600000.0</td>\n",
              "    </tr>\n",
              "    <tr>\n",
              "      <th>6</th>\n",
              "      <td>John H. Hammergren</td>\n",
              "      <td>McKesson (San Francisco)</td>\n",
              "      <td>$24.84</td>\n",
              "      <td>-4.0</td>\n",
              "      <td>$12.10</td>\n",
              "      <td>$12.37</td>\n",
              "      <td>$0.37</td>\n",
              "      <td>222.00000</td>\n",
              "      <td>248400000.0</td>\n",
              "    </tr>\n",
              "    <tr>\n",
              "      <th>7</th>\n",
              "      <td>John S. Watson</td>\n",
              "      <td>Chevron (San Ramon)</td>\n",
              "      <td>$22.04</td>\n",
              "      <td>-15.0</td>\n",
              "      <td>$4.31</td>\n",
              "      <td>$14.68</td>\n",
              "      <td>$3.05</td>\n",
              "      <td>183.00000</td>\n",
              "      <td>220400000.0</td>\n",
              "    </tr>\n",
              "    <tr>\n",
              "      <th>...</th>\n",
              "      <td>...</td>\n",
              "      <td>...</td>\n",
              "      <td>...</td>\n",
              "      <td>...</td>\n",
              "      <td>...</td>\n",
              "      <td>...</td>\n",
              "      <td>...</td>\n",
              "      <td>...</td>\n",
              "      <td>...</td>\n",
              "    </tr>\n",
              "    <tr>\n",
              "      <th>97</th>\n",
              "      <td>David G. Hirz</td>\n",
              "      <td>Smartæ&amp; Final Stores (Commerce)</td>\n",
              "      <td>$1.53</td>\n",
              "      <td>-66.0</td>\n",
              "      <td>$1.50</td>\n",
              "      <td>$0.00</td>\n",
              "      <td>$0.04</td>\n",
              "      <td>26.00000</td>\n",
              "      <td>15300000.0</td>\n",
              "    </tr>\n",
              "    <tr>\n",
              "      <th>98</th>\n",
              "      <td>Gregory N. Roberts</td>\n",
              "      <td>A-Mark Precious Metals (Santa Monica)</td>\n",
              "      <td>$0.94</td>\n",
              "      <td>-11.0</td>\n",
              "      <td>$0.93</td>\n",
              "      <td>$0.00</td>\n",
              "      <td>$0.02</td>\n",
              "      <td>17.00000</td>\n",
              "      <td>9400000.0</td>\n",
              "    </tr>\n",
              "    <tr>\n",
              "      <th>99</th>\n",
              "      <td>Jose L. Laparte</td>\n",
              "      <td>PriceSmart (San Diego)</td>\n",
              "      <td>$0.81</td>\n",
              "      <td>-7.0</td>\n",
              "      <td>$0.71</td>\n",
              "      <td>$0.00</td>\n",
              "      <td>$0.10</td>\n",
              "      <td>32.00000</td>\n",
              "      <td>8100000.0</td>\n",
              "    </tr>\n",
              "    <tr>\n",
              "      <th>101</th>\n",
              "      <td>Elon R. Musk</td>\n",
              "      <td>Tesla Motors (Palo Alto)</td>\n",
              "      <td>$0.04</td>\n",
              "      <td>6.0</td>\n",
              "      <td>$0.04</td>\n",
              "      <td>$0.00</td>\n",
              "      <td>$0.00</td>\n",
              "      <td>0.46000</td>\n",
              "      <td>400000.0</td>\n",
              "    </tr>\n",
              "    <tr>\n",
              "      <th>102</th>\n",
              "      <td>Lawrence Page***</td>\n",
              "      <td>Alphabet (Mountain View)</td>\n",
              "      <td>$0.00</td>\n",
              "      <td>0.0</td>\n",
              "      <td>$0.00</td>\n",
              "      <td>$0.00</td>\n",
              "      <td>$0.00</td>\n",
              "      <td>0.00001</td>\n",
              "      <td>0.0</td>\n",
              "    </tr>\n",
              "  </tbody>\n",
              "</table>\n",
              "<p>81 rows × 9 columns</p>\n",
              "</div>"
            ],
            "text/plain": [
              "                    Name  ... Total Pay_Dollars\n",
              "Rank                      ...                  \n",
              "3         Robert A. Iger  ...       449100000.0\n",
              "4       Marissa A. Mayer  ...       359800000.0\n",
              "5           Marc Benioff  ...       333600000.0\n",
              "6     John H. Hammergren  ...       248400000.0\n",
              "7         John S. Watson  ...       220400000.0\n",
              "...                  ...  ...               ...\n",
              "97         David G. Hirz  ...        15300000.0\n",
              "98    Gregory N. Roberts  ...         9400000.0\n",
              "99       Jose L. Laparte  ...         8100000.0\n",
              "101         Elon R. Musk  ...          400000.0\n",
              "102     Lawrence Page***  ...               0.0\n",
              "\n",
              "[81 rows x 9 columns]"
            ]
          },
          "metadata": {
            "tags": []
          },
          "execution_count": 21
        }
      ]
    },
    {
      "cell_type": "code",
      "metadata": {
        "colab": {
          "base_uri": "https://localhost:8080/"
        },
        "id": "HF2eR4L2NuwY",
        "outputId": "fe3e9501-43ac-47dc-c2b5-a6577bff93b9"
      },
      "source": [
        "# #function to calculate previous year pay\n",
        " \n",
        "with_previous_compensation[\"Previous_Total_Pay\"]=with_previous_compensation['Total Pay_Dollars']/(1+(with_previous_compensation['% Change']/100))\n",
        " \n",
        "with_previous_compensation[\"Previous_Total_Pay\"]"
      ],
      "execution_count": null,
      "outputs": [
        {
          "output_type": "stream",
          "text": [
            "/usr/local/lib/python3.7/dist-packages/ipykernel_launcher.py:3: SettingWithCopyWarning: \n",
            "A value is trying to be set on a copy of a slice from a DataFrame.\n",
            "Try using .loc[row_indexer,col_indexer] = value instead\n",
            "\n",
            "See the caveats in the documentation: https://pandas.pydata.org/pandas-docs/stable/user_guide/indexing.html#returning-a-view-versus-a-copy\n",
            "  This is separate from the ipykernel package so we can avoid doing imports until\n"
          ],
          "name": "stderr"
        },
        {
          "output_type": "execute_result",
          "data": {
            "text/plain": [
              "Rank\n",
              "3      4.629897e+08\n",
              "4      4.232941e+08\n",
              "5      3.971429e+08\n",
              "6      2.587500e+08\n",
              "7      2.592941e+08\n",
              "           ...     \n",
              "97     4.500000e+07\n",
              "98     1.056180e+07\n",
              "99     8.709677e+06\n",
              "101    3.773585e+05\n",
              "102    0.000000e+00\n",
              "Name: Previous_Total_Pay, Length: 81, dtype: float64"
            ]
          },
          "metadata": {
            "tags": []
          },
          "execution_count": 22
        }
      ]
    },
    {
      "cell_type": "markdown",
      "metadata": {
        "id": "DLwZWsDDNzHA"
      },
      "source": [
        "## 3. Data Cleaning"
      ]
    },
    {
      "cell_type": "code",
      "metadata": {
        "colab": {
          "base_uri": "https://localhost:8080/"
        },
        "id": "6HYiLGMuNzHB",
        "outputId": "b93c218e-c439-4da4-da2c-35a2409555a0"
      },
      "source": [
        "gfm_data = pd.read_csv('/content/gfm_data.csv')\n",
        "gfm_data"
      ],
      "execution_count": null,
      "outputs": [
        {
          "output_type": "execute_result",
          "data": {
            "text/html": [
              "<div>\n",
              "<style scoped>\n",
              "    .dataframe tbody tr th:only-of-type {\n",
              "        vertical-align: middle;\n",
              "    }\n",
              "\n",
              "    .dataframe tbody tr th {\n",
              "        vertical-align: top;\n",
              "    }\n",
              "\n",
              "    .dataframe thead th {\n",
              "        text-align: right;\n",
              "    }\n",
              "</style>\n",
              "<table border=\"1\" class=\"dataframe\">\n",
              "  <thead>\n",
              "    <tr style=\"text-align: right;\">\n",
              "      <th></th>\n",
              "      <th>Category</th>\n",
              "      <th>Title</th>\n",
              "      <th>Location</th>\n",
              "      <th>Amount_Raised</th>\n",
              "      <th>Goal</th>\n",
              "      <th>Days_of_Fundraising</th>\n",
              "      <th>Number_of_Donors</th>\n",
              "      <th>FB_Shares</th>\n",
              "      <th>Text</th>\n",
              "    </tr>\n",
              "  </thead>\n",
              "  <tbody>\n",
              "    <tr>\n",
              "      <th>0</th>\n",
              "      <td>Medical</td>\n",
              "      <td>Justice for Jacob Blake</td>\n",
              "      <td>Kenosha, WI</td>\n",
              "      <td>2297930.0</td>\n",
              "      <td>3000000.0</td>\n",
              "      <td>93</td>\n",
              "      <td>72.5K</td>\n",
              "      <td>118K</td>\n",
              "      <td>On August 23rd my son was shot multiple times ...</td>\n",
              "    </tr>\n",
              "    <tr>\n",
              "      <th>1</th>\n",
              "      <td>Medical</td>\n",
              "      <td>Official Navajo Nation COVID-19 Relief Fund</td>\n",
              "      <td>Window Rock, AZ</td>\n",
              "      <td>1862040.0</td>\n",
              "      <td>1000000.0</td>\n",
              "      <td>205</td>\n",
              "      <td>21.9K</td>\n",
              "      <td>71.7K</td>\n",
              "      <td>The Navajo Nation COVID-19 Fund has been estab...</td>\n",
              "    </tr>\n",
              "    <tr>\n",
              "      <th>2</th>\n",
              "      <td>Medical</td>\n",
              "      <td>Help a front line nurse and baby get proper care</td>\n",
              "      <td>Randolph, NJ</td>\n",
              "      <td>954793.0</td>\n",
              "      <td>1200000.0</td>\n",
              "      <td>215</td>\n",
              "      <td>18.3K</td>\n",
              "      <td>16.4K</td>\n",
              "      <td>On Sunday, April 12, Sylvia Leroy, a pregnant ...</td>\n",
              "    </tr>\n",
              "    <tr>\n",
              "      <th>3</th>\n",
              "      <td>Medical</td>\n",
              "      <td>Rest up, Tommy, we'll see you soon</td>\n",
              "      <td>Scottsdale, AZ</td>\n",
              "      <td>673179.0</td>\n",
              "      <td>1000000.0</td>\n",
              "      <td>131</td>\n",
              "      <td>10.3K</td>\n",
              "      <td>21.3K</td>\n",
              "      <td>First, thank you for being here. Tommy Rivers ...</td>\n",
              "    </tr>\n",
              "    <tr>\n",
              "      <th>4</th>\n",
              "      <td>Medical</td>\n",
              "      <td>OFFICIAL BRANDON SAENZ MEDICAL FUND</td>\n",
              "      <td>Tyler, TX</td>\n",
              "      <td>570529.0</td>\n",
              "      <td>750000.0</td>\n",
              "      <td>175</td>\n",
              "      <td>24.3K</td>\n",
              "      <td>5.5K</td>\n",
              "      <td>My name is Melissa Green and I am the mother o...</td>\n",
              "    </tr>\n",
              "    <tr>\n",
              "      <th>...</th>\n",
              "      <td>...</td>\n",
              "      <td>...</td>\n",
              "      <td>...</td>\n",
              "      <td>...</td>\n",
              "      <td>...</td>\n",
              "      <td>...</td>\n",
              "      <td>...</td>\n",
              "      <td>...</td>\n",
              "      <td>...</td>\n",
              "    </tr>\n",
              "    <tr>\n",
              "      <th>833</th>\n",
              "      <td>Wishes</td>\n",
              "      <td>Juneteenth Women of Color Scholarship Fund</td>\n",
              "      <td>Brooklyn, NY</td>\n",
              "      <td>17348.0</td>\n",
              "      <td>20000.0</td>\n",
              "      <td>160</td>\n",
              "      <td>366</td>\n",
              "      <td>214</td>\n",
              "      <td>The need for community and collective healing ...</td>\n",
              "    </tr>\n",
              "    <tr>\n",
              "      <th>834</th>\n",
              "      <td>Wishes</td>\n",
              "      <td>All-Terrain Wheelchair for Benjamin Wimett</td>\n",
              "      <td>Brandon, VT</td>\n",
              "      <td>19300.0</td>\n",
              "      <td>17000.0</td>\n",
              "      <td>200</td>\n",
              "      <td>279</td>\n",
              "      <td>2.5K</td>\n",
              "      <td>I am 35 years old and was born with cerebral p...</td>\n",
              "    </tr>\n",
              "    <tr>\n",
              "      <th>835</th>\n",
              "      <td>Wishes</td>\n",
              "      <td>Martha's Daughter</td>\n",
              "      <td>Amherst, MA</td>\n",
              "      <td>21435.0</td>\n",
              "      <td>300000.0</td>\n",
              "      <td>110</td>\n",
              "      <td>318</td>\n",
              "      <td>868</td>\n",
              "      <td>Greetings,My name is Nyanyika Banda. I am a ch...</td>\n",
              "    </tr>\n",
              "    <tr>\n",
              "      <th>836</th>\n",
              "      <td>Wishes</td>\n",
              "      <td>Financial Difficulties</td>\n",
              "      <td>Johnson City, TN</td>\n",
              "      <td>16405.0</td>\n",
              "      <td>70000.0</td>\n",
              "      <td>173</td>\n",
              "      <td>148</td>\n",
              "      <td>379</td>\n",
              "      <td>My wife, Roni, and I have faced many  health c...</td>\n",
              "    </tr>\n",
              "    <tr>\n",
              "      <th>837</th>\n",
              "      <td>Wishes</td>\n",
              "      <td>Our Roots - Yahchouche</td>\n",
              "      <td>Santa Ana, CA</td>\n",
              "      <td>17905.0</td>\n",
              "      <td>50000.0</td>\n",
              "      <td>147</td>\n",
              "      <td>45</td>\n",
              "      <td>242</td>\n",
              "      <td>No matter where life has lead us, our past for...</td>\n",
              "    </tr>\n",
              "  </tbody>\n",
              "</table>\n",
              "<p>838 rows × 9 columns</p>\n",
              "</div>"
            ],
            "text/plain": [
              "    Category  ...                                               Text\n",
              "0    Medical  ...  On August 23rd my son was shot multiple times ...\n",
              "1    Medical  ...  The Navajo Nation COVID-19 Fund has been estab...\n",
              "2    Medical  ...  On Sunday, April 12, Sylvia Leroy, a pregnant ...\n",
              "3    Medical  ...  First, thank you for being here. Tommy Rivers ...\n",
              "4    Medical  ...  My name is Melissa Green and I am the mother o...\n",
              "..       ...  ...                                                ...\n",
              "833   Wishes  ...  The need for community and collective healing ...\n",
              "834   Wishes  ...  I am 35 years old and was born with cerebral p...\n",
              "835   Wishes  ...  Greetings,My name is Nyanyika Banda. I am a ch...\n",
              "836   Wishes  ...  My wife, Roni, and I have faced many  health c...\n",
              "837   Wishes  ...  No matter where life has lead us, our past for...\n",
              "\n",
              "[838 rows x 9 columns]"
            ]
          },
          "metadata": {
            "tags": []
          },
          "execution_count": 23
        }
      ]
    },
    {
      "cell_type": "markdown",
      "metadata": {
        "id": "pOXVUMTnNzHB"
      },
      "source": [
        "Here, each row represents a different fundraiser, also called a campaign. \n",
        "\n",
        "There are nine columns of data, reading from left to right:\n",
        "\n",
        "1. `Category`: Describes the type of fundraiser. There are 14 different categories of fundraiser represented in our dataset: 'Animals', 'Business', 'Community', 'Competition', 'Creative', 'Emergency', 'Event', 'Faith', 'Family', 'Medical', 'Memorial', 'Newlywed', 'Sports', and 'Wishes'.\n",
        "\n",
        "2. `Title`: The title of the fundraiser, which describes the fundraiser in a few words.\n",
        "\n",
        "3. `Location`: The location where the fundraiser takes place, stored as \"city, state\", e.g. \"San Diego, CA\".\n",
        "\n",
        "4. `Amount_Raised`: The total amount of money donated, measured in dollars.\n",
        "\n",
        "5. `Goal`: The total amount of money that the fundraiser originally hopes to receive (measured in dollars).\n",
        "\n",
        "6. `Days_of_Fundraising`: The number of days for which the fundraiser has been actively soliciting donations.\n",
        "\n",
        "7. `Number_of_Donors`: The number of people who donated to the fundraiser. \n",
        "\n",
        "8. `FB_Shares`: The number of times the fundraiser has been shared through Facebook. \n",
        "\n",
        "9. `Text`: The text description that accompanies the fundraiser, usually describing why funds are being raised.\n",
        "\n",
        "In the `Number_of_Donors` column and the `FB_Shares` column, entries are stored as strings, and large numbers are abbreviated by using \"K\" to indicate thousands. For example, an entry `3K` would correspond to 3 * 1000 = 3000.\n",
        "\n",
        "Note that much of the data for each fundraiser is determined by the user who creates the campaign. When creating a campaign, the user selects an appropriate category and title, chooses the location, sets the fundraising goal, and adds the text description. "
      ]
    },
    {
      "cell_type": "markdown",
      "metadata": {
        "id": "S8Uzb7RPNzHC"
      },
      "source": [
        "As a data scientist, data cleaning is where you will spend a significant portion of your time. This project is no different!\n",
        "\n",
        "Let's start by examining the `Number_of_Donors` and `FB_Shares` columns. The values in these columns are strings, not integers, so we can't actually do things like compare values numerically. Moreover, some values are in thousands, such as '72.5K', and others are fewer than 1000, such as '366'. Let's get this data in a more usable format.\n",
        "\n",
        "**Question 3.1.1** Define a function named `convert_units` which converts a string representation of a number to an integer. This function should work whether or not the string representation has a ‘K’ in it (representing thousands).\n",
        "\n",
        "*Hint*: Use a [string method](https://docs.python.org/3/library/stdtypes.html#string-methods) to deal with the 'K'."
      ]
    },
    {
      "cell_type": "code",
      "metadata": {
        "id": "1H_ubpNtNzHD"
      },
      "source": [
        "#function to convert (value K -->value 000)\n",
        "def convert_units(string_rep):\n",
        "  string_rep=string_rep.split(\"K\")[0]\n",
        "  string_rep=float(string_rep)\n",
        "  return string_rep*1000"
      ],
      "execution_count": null,
      "outputs": []
    },
    {
      "cell_type": "markdown",
      "metadata": {
        "id": "Eyw3PLaMNzHD"
      },
      "source": [
        "**Question 3.1.2.** Overwrite the columns for `Number_of_Donors` and `FB_Shares` with columns of the same name, but containing integers instead of strings. The dataframe should still be named `gfm_data`.\n",
        "\n",
        "*Note*: The names of all the columns **must** stay the same and the order of the columns **must** stay the same."
      ]
    },
    {
      "cell_type": "code",
      "metadata": {
        "id": "mRxiQSBDU9QV"
      },
      "source": [
        "gfm_data['Number_of_Donors']=gfm_data['Number_of_Donors'].apply(convert_units)\n",
        "gfm_data['FB_Shares']=gfm_data['FB_Shares'].apply(convert_units)"
      ],
      "execution_count": null,
      "outputs": []
    },
    {
      "cell_type": "code",
      "metadata": {
        "colab": {
          "base_uri": "https://localhost:8080/"
        },
        "id": "s7DiYdEotfDM",
        "outputId": "b3765b80-79ec-4f73-d8d8-3ec05fa2b1d3"
      },
      "source": [
        "gfm_data.loc[:,['FB_Shares','Number_of_Donors']]"
      ],
      "execution_count": null,
      "outputs": [
        {
          "output_type": "execute_result",
          "data": {
            "text/html": [
              "<div>\n",
              "<style scoped>\n",
              "    .dataframe tbody tr th:only-of-type {\n",
              "        vertical-align: middle;\n",
              "    }\n",
              "\n",
              "    .dataframe tbody tr th {\n",
              "        vertical-align: top;\n",
              "    }\n",
              "\n",
              "    .dataframe thead th {\n",
              "        text-align: right;\n",
              "    }\n",
              "</style>\n",
              "<table border=\"1\" class=\"dataframe\">\n",
              "  <thead>\n",
              "    <tr style=\"text-align: right;\">\n",
              "      <th></th>\n",
              "      <th>FB_Shares</th>\n",
              "      <th>Number_of_Donors</th>\n",
              "    </tr>\n",
              "  </thead>\n",
              "  <tbody>\n",
              "    <tr>\n",
              "      <th>0</th>\n",
              "      <td>118000.0</td>\n",
              "      <td>72500.0</td>\n",
              "    </tr>\n",
              "    <tr>\n",
              "      <th>1</th>\n",
              "      <td>71700.0</td>\n",
              "      <td>21900.0</td>\n",
              "    </tr>\n",
              "    <tr>\n",
              "      <th>2</th>\n",
              "      <td>16400.0</td>\n",
              "      <td>18300.0</td>\n",
              "    </tr>\n",
              "    <tr>\n",
              "      <th>3</th>\n",
              "      <td>21300.0</td>\n",
              "      <td>10300.0</td>\n",
              "    </tr>\n",
              "    <tr>\n",
              "      <th>4</th>\n",
              "      <td>5500.0</td>\n",
              "      <td>24300.0</td>\n",
              "    </tr>\n",
              "    <tr>\n",
              "      <th>...</th>\n",
              "      <td>...</td>\n",
              "      <td>...</td>\n",
              "    </tr>\n",
              "    <tr>\n",
              "      <th>833</th>\n",
              "      <td>214000.0</td>\n",
              "      <td>366000.0</td>\n",
              "    </tr>\n",
              "    <tr>\n",
              "      <th>834</th>\n",
              "      <td>2500.0</td>\n",
              "      <td>279000.0</td>\n",
              "    </tr>\n",
              "    <tr>\n",
              "      <th>835</th>\n",
              "      <td>868000.0</td>\n",
              "      <td>318000.0</td>\n",
              "    </tr>\n",
              "    <tr>\n",
              "      <th>836</th>\n",
              "      <td>379000.0</td>\n",
              "      <td>148000.0</td>\n",
              "    </tr>\n",
              "    <tr>\n",
              "      <th>837</th>\n",
              "      <td>242000.0</td>\n",
              "      <td>45000.0</td>\n",
              "    </tr>\n",
              "  </tbody>\n",
              "</table>\n",
              "<p>838 rows × 2 columns</p>\n",
              "</div>"
            ],
            "text/plain": [
              "     FB_Shares  Number_of_Donors\n",
              "0     118000.0           72500.0\n",
              "1      71700.0           21900.0\n",
              "2      16400.0           18300.0\n",
              "3      21300.0           10300.0\n",
              "4       5500.0           24300.0\n",
              "..         ...               ...\n",
              "833   214000.0          366000.0\n",
              "834     2500.0          279000.0\n",
              "835   868000.0          318000.0\n",
              "836   379000.0          148000.0\n",
              "837   242000.0           45000.0\n",
              "\n",
              "[838 rows x 2 columns]"
            ]
          },
          "metadata": {
            "tags": []
          },
          "execution_count": 26
        }
      ]
    },
    {
      "cell_type": "markdown",
      "metadata": {
        "id": "nqjAX2weNzHE"
      },
      "source": [
        "Next, let's add some columns derived from existing columns. \n",
        "\n",
        "**Question 3.2.** Create a new dataframe called `gfm_campaigns` that has the same columns as `gfm`, plus two more:\n",
        "\n",
        "1. `Proportion_Raised`, which has the proportion of the overall goal that the campaign raised. This proportion should be rounded (not truncated) to **3** decimal places. \n",
        "2. `Average_Donation_Amount`, which has the average donation amount per donor. Since this is a dollar amount, it should be rounded (not truncated) to **2** decimal places."
      ]
    },
    {
      "cell_type": "code",
      "metadata": {
        "colab": {
          "base_uri": "https://localhost:8080/"
        },
        "id": "DVtOv05cNzHE",
        "outputId": "7a534398-0e5c-4bdf-d85f-e450fbd60dd1"
      },
      "source": [
        "#your code Here\n",
        "gfm_campaigns = gfm_data\n",
        "#to calculate proportion raised\n",
        "gfm_campaigns['Proportion_Raised']=(gfm_campaigns['Amount_Raised']/gfm_campaigns['Goal']).round(3)\n",
        "#to calculate avg donation amount\n",
        "gfm_campaigns['Average_Donation_Amount']=(gfm_campaigns['Amount_Raised']/gfm_campaigns['Number_of_Donors']).round(2)\n",
        " \n",
        "gfm_campaigns"
      ],
      "execution_count": null,
      "outputs": [
        {
          "output_type": "execute_result",
          "data": {
            "text/html": [
              "<div>\n",
              "<style scoped>\n",
              "    .dataframe tbody tr th:only-of-type {\n",
              "        vertical-align: middle;\n",
              "    }\n",
              "\n",
              "    .dataframe tbody tr th {\n",
              "        vertical-align: top;\n",
              "    }\n",
              "\n",
              "    .dataframe thead th {\n",
              "        text-align: right;\n",
              "    }\n",
              "</style>\n",
              "<table border=\"1\" class=\"dataframe\">\n",
              "  <thead>\n",
              "    <tr style=\"text-align: right;\">\n",
              "      <th></th>\n",
              "      <th>Category</th>\n",
              "      <th>Title</th>\n",
              "      <th>Location</th>\n",
              "      <th>Amount_Raised</th>\n",
              "      <th>Goal</th>\n",
              "      <th>Days_of_Fundraising</th>\n",
              "      <th>Number_of_Donors</th>\n",
              "      <th>FB_Shares</th>\n",
              "      <th>Text</th>\n",
              "      <th>Proportion_Raised</th>\n",
              "      <th>Average_Donation_Amount</th>\n",
              "    </tr>\n",
              "  </thead>\n",
              "  <tbody>\n",
              "    <tr>\n",
              "      <th>0</th>\n",
              "      <td>Medical</td>\n",
              "      <td>Justice for Jacob Blake</td>\n",
              "      <td>Kenosha, WI</td>\n",
              "      <td>2297930.0</td>\n",
              "      <td>3000000.0</td>\n",
              "      <td>93</td>\n",
              "      <td>72500.0</td>\n",
              "      <td>118000.0</td>\n",
              "      <td>On August 23rd my son was shot multiple times ...</td>\n",
              "      <td>0.766</td>\n",
              "      <td>31.70</td>\n",
              "    </tr>\n",
              "    <tr>\n",
              "      <th>1</th>\n",
              "      <td>Medical</td>\n",
              "      <td>Official Navajo Nation COVID-19 Relief Fund</td>\n",
              "      <td>Window Rock, AZ</td>\n",
              "      <td>1862040.0</td>\n",
              "      <td>1000000.0</td>\n",
              "      <td>205</td>\n",
              "      <td>21900.0</td>\n",
              "      <td>71700.0</td>\n",
              "      <td>The Navajo Nation COVID-19 Fund has been estab...</td>\n",
              "      <td>1.862</td>\n",
              "      <td>85.02</td>\n",
              "    </tr>\n",
              "    <tr>\n",
              "      <th>2</th>\n",
              "      <td>Medical</td>\n",
              "      <td>Help a front line nurse and baby get proper care</td>\n",
              "      <td>Randolph, NJ</td>\n",
              "      <td>954793.0</td>\n",
              "      <td>1200000.0</td>\n",
              "      <td>215</td>\n",
              "      <td>18300.0</td>\n",
              "      <td>16400.0</td>\n",
              "      <td>On Sunday, April 12, Sylvia Leroy, a pregnant ...</td>\n",
              "      <td>0.796</td>\n",
              "      <td>52.17</td>\n",
              "    </tr>\n",
              "    <tr>\n",
              "      <th>3</th>\n",
              "      <td>Medical</td>\n",
              "      <td>Rest up, Tommy, we'll see you soon</td>\n",
              "      <td>Scottsdale, AZ</td>\n",
              "      <td>673179.0</td>\n",
              "      <td>1000000.0</td>\n",
              "      <td>131</td>\n",
              "      <td>10300.0</td>\n",
              "      <td>21300.0</td>\n",
              "      <td>First, thank you for being here. Tommy Rivers ...</td>\n",
              "      <td>0.673</td>\n",
              "      <td>65.36</td>\n",
              "    </tr>\n",
              "    <tr>\n",
              "      <th>4</th>\n",
              "      <td>Medical</td>\n",
              "      <td>OFFICIAL BRANDON SAENZ MEDICAL FUND</td>\n",
              "      <td>Tyler, TX</td>\n",
              "      <td>570529.0</td>\n",
              "      <td>750000.0</td>\n",
              "      <td>175</td>\n",
              "      <td>24300.0</td>\n",
              "      <td>5500.0</td>\n",
              "      <td>My name is Melissa Green and I am the mother o...</td>\n",
              "      <td>0.761</td>\n",
              "      <td>23.48</td>\n",
              "    </tr>\n",
              "    <tr>\n",
              "      <th>...</th>\n",
              "      <td>...</td>\n",
              "      <td>...</td>\n",
              "      <td>...</td>\n",
              "      <td>...</td>\n",
              "      <td>...</td>\n",
              "      <td>...</td>\n",
              "      <td>...</td>\n",
              "      <td>...</td>\n",
              "      <td>...</td>\n",
              "      <td>...</td>\n",
              "      <td>...</td>\n",
              "    </tr>\n",
              "    <tr>\n",
              "      <th>833</th>\n",
              "      <td>Wishes</td>\n",
              "      <td>Juneteenth Women of Color Scholarship Fund</td>\n",
              "      <td>Brooklyn, NY</td>\n",
              "      <td>17348.0</td>\n",
              "      <td>20000.0</td>\n",
              "      <td>160</td>\n",
              "      <td>366000.0</td>\n",
              "      <td>214000.0</td>\n",
              "      <td>The need for community and collective healing ...</td>\n",
              "      <td>0.867</td>\n",
              "      <td>0.05</td>\n",
              "    </tr>\n",
              "    <tr>\n",
              "      <th>834</th>\n",
              "      <td>Wishes</td>\n",
              "      <td>All-Terrain Wheelchair for Benjamin Wimett</td>\n",
              "      <td>Brandon, VT</td>\n",
              "      <td>19300.0</td>\n",
              "      <td>17000.0</td>\n",
              "      <td>200</td>\n",
              "      <td>279000.0</td>\n",
              "      <td>2500.0</td>\n",
              "      <td>I am 35 years old and was born with cerebral p...</td>\n",
              "      <td>1.135</td>\n",
              "      <td>0.07</td>\n",
              "    </tr>\n",
              "    <tr>\n",
              "      <th>835</th>\n",
              "      <td>Wishes</td>\n",
              "      <td>Martha's Daughter</td>\n",
              "      <td>Amherst, MA</td>\n",
              "      <td>21435.0</td>\n",
              "      <td>300000.0</td>\n",
              "      <td>110</td>\n",
              "      <td>318000.0</td>\n",
              "      <td>868000.0</td>\n",
              "      <td>Greetings,My name is Nyanyika Banda. I am a ch...</td>\n",
              "      <td>0.071</td>\n",
              "      <td>0.07</td>\n",
              "    </tr>\n",
              "    <tr>\n",
              "      <th>836</th>\n",
              "      <td>Wishes</td>\n",
              "      <td>Financial Difficulties</td>\n",
              "      <td>Johnson City, TN</td>\n",
              "      <td>16405.0</td>\n",
              "      <td>70000.0</td>\n",
              "      <td>173</td>\n",
              "      <td>148000.0</td>\n",
              "      <td>379000.0</td>\n",
              "      <td>My wife, Roni, and I have faced many  health c...</td>\n",
              "      <td>0.234</td>\n",
              "      <td>0.11</td>\n",
              "    </tr>\n",
              "    <tr>\n",
              "      <th>837</th>\n",
              "      <td>Wishes</td>\n",
              "      <td>Our Roots - Yahchouche</td>\n",
              "      <td>Santa Ana, CA</td>\n",
              "      <td>17905.0</td>\n",
              "      <td>50000.0</td>\n",
              "      <td>147</td>\n",
              "      <td>45000.0</td>\n",
              "      <td>242000.0</td>\n",
              "      <td>No matter where life has lead us, our past for...</td>\n",
              "      <td>0.358</td>\n",
              "      <td>0.40</td>\n",
              "    </tr>\n",
              "  </tbody>\n",
              "</table>\n",
              "<p>838 rows × 11 columns</p>\n",
              "</div>"
            ],
            "text/plain": [
              "    Category  ... Average_Donation_Amount\n",
              "0    Medical  ...                   31.70\n",
              "1    Medical  ...                   85.02\n",
              "2    Medical  ...                   52.17\n",
              "3    Medical  ...                   65.36\n",
              "4    Medical  ...                   23.48\n",
              "..       ...  ...                     ...\n",
              "833   Wishes  ...                    0.05\n",
              "834   Wishes  ...                    0.07\n",
              "835   Wishes  ...                    0.07\n",
              "836   Wishes  ...                    0.11\n",
              "837   Wishes  ...                    0.40\n",
              "\n",
              "[838 rows x 11 columns]"
            ]
          },
          "metadata": {
            "tags": []
          },
          "execution_count": 27
        }
      ]
    },
    {
      "cell_type": "markdown",
      "metadata": {
        "id": "raWdj_K-NzHE"
      },
      "source": [
        "**Question 3.3** Create a new dataframe called `gfm_success`, which has all the information from the `gfm_campaigns` dataframe plus a new column titled `How_Successful` that indicates how successful a campaign was, depending on its `Proportion_Raised`. If x is the proportion raised, we use the table below to define how successful a campaign is.\n",
        "\n",
        "| Range             | How_Successful |\n",
        "| ----------------- | ------------------ |\n",
        "| 0.0 $\\leq$ x $\\leq$ 0.20 | 'highly unsuccessful' |\n",
        "| 0.20 $<$ x $\\leq$ 0.50 | 'moderately unsuccessful' |\n",
        "| 0.50 $<$ x $\\leq$ 0.80 | 'moderately successful' |\n",
        "| 0.80 $<$ x $<$ 1.0 | 'highly successful' |\n",
        "| x $\\geq$ 1.0 | 'extremely successful' |"
      ]
    },
    {
      "cell_type": "code",
      "metadata": {
        "colab": {
          "base_uri": "https://localhost:8080/"
        },
        "id": "1DRYb2e7NzHE",
        "outputId": "9e098649-7c62-4852-a9c7-52042cea9882"
      },
      "source": [
        "#your code Here\n",
        " \n",
        "gfm_success=gfm_campaigns\n",
        "gfm_success=pd.DataFrame(gfm_success)\n",
        "gfm_success"
      ],
      "execution_count": null,
      "outputs": [
        {
          "output_type": "execute_result",
          "data": {
            "text/html": [
              "<div>\n",
              "<style scoped>\n",
              "    .dataframe tbody tr th:only-of-type {\n",
              "        vertical-align: middle;\n",
              "    }\n",
              "\n",
              "    .dataframe tbody tr th {\n",
              "        vertical-align: top;\n",
              "    }\n",
              "\n",
              "    .dataframe thead th {\n",
              "        text-align: right;\n",
              "    }\n",
              "</style>\n",
              "<table border=\"1\" class=\"dataframe\">\n",
              "  <thead>\n",
              "    <tr style=\"text-align: right;\">\n",
              "      <th></th>\n",
              "      <th>Category</th>\n",
              "      <th>Title</th>\n",
              "      <th>Location</th>\n",
              "      <th>Amount_Raised</th>\n",
              "      <th>Goal</th>\n",
              "      <th>Days_of_Fundraising</th>\n",
              "      <th>Number_of_Donors</th>\n",
              "      <th>FB_Shares</th>\n",
              "      <th>Text</th>\n",
              "      <th>Proportion_Raised</th>\n",
              "      <th>Average_Donation_Amount</th>\n",
              "    </tr>\n",
              "  </thead>\n",
              "  <tbody>\n",
              "    <tr>\n",
              "      <th>0</th>\n",
              "      <td>Medical</td>\n",
              "      <td>Justice for Jacob Blake</td>\n",
              "      <td>Kenosha, WI</td>\n",
              "      <td>2297930.0</td>\n",
              "      <td>3000000.0</td>\n",
              "      <td>93</td>\n",
              "      <td>72500.0</td>\n",
              "      <td>118000.0</td>\n",
              "      <td>On August 23rd my son was shot multiple times ...</td>\n",
              "      <td>0.766</td>\n",
              "      <td>31.70</td>\n",
              "    </tr>\n",
              "    <tr>\n",
              "      <th>1</th>\n",
              "      <td>Medical</td>\n",
              "      <td>Official Navajo Nation COVID-19 Relief Fund</td>\n",
              "      <td>Window Rock, AZ</td>\n",
              "      <td>1862040.0</td>\n",
              "      <td>1000000.0</td>\n",
              "      <td>205</td>\n",
              "      <td>21900.0</td>\n",
              "      <td>71700.0</td>\n",
              "      <td>The Navajo Nation COVID-19 Fund has been estab...</td>\n",
              "      <td>1.862</td>\n",
              "      <td>85.02</td>\n",
              "    </tr>\n",
              "    <tr>\n",
              "      <th>2</th>\n",
              "      <td>Medical</td>\n",
              "      <td>Help a front line nurse and baby get proper care</td>\n",
              "      <td>Randolph, NJ</td>\n",
              "      <td>954793.0</td>\n",
              "      <td>1200000.0</td>\n",
              "      <td>215</td>\n",
              "      <td>18300.0</td>\n",
              "      <td>16400.0</td>\n",
              "      <td>On Sunday, April 12, Sylvia Leroy, a pregnant ...</td>\n",
              "      <td>0.796</td>\n",
              "      <td>52.17</td>\n",
              "    </tr>\n",
              "    <tr>\n",
              "      <th>3</th>\n",
              "      <td>Medical</td>\n",
              "      <td>Rest up, Tommy, we'll see you soon</td>\n",
              "      <td>Scottsdale, AZ</td>\n",
              "      <td>673179.0</td>\n",
              "      <td>1000000.0</td>\n",
              "      <td>131</td>\n",
              "      <td>10300.0</td>\n",
              "      <td>21300.0</td>\n",
              "      <td>First, thank you for being here. Tommy Rivers ...</td>\n",
              "      <td>0.673</td>\n",
              "      <td>65.36</td>\n",
              "    </tr>\n",
              "    <tr>\n",
              "      <th>4</th>\n",
              "      <td>Medical</td>\n",
              "      <td>OFFICIAL BRANDON SAENZ MEDICAL FUND</td>\n",
              "      <td>Tyler, TX</td>\n",
              "      <td>570529.0</td>\n",
              "      <td>750000.0</td>\n",
              "      <td>175</td>\n",
              "      <td>24300.0</td>\n",
              "      <td>5500.0</td>\n",
              "      <td>My name is Melissa Green and I am the mother o...</td>\n",
              "      <td>0.761</td>\n",
              "      <td>23.48</td>\n",
              "    </tr>\n",
              "    <tr>\n",
              "      <th>...</th>\n",
              "      <td>...</td>\n",
              "      <td>...</td>\n",
              "      <td>...</td>\n",
              "      <td>...</td>\n",
              "      <td>...</td>\n",
              "      <td>...</td>\n",
              "      <td>...</td>\n",
              "      <td>...</td>\n",
              "      <td>...</td>\n",
              "      <td>...</td>\n",
              "      <td>...</td>\n",
              "    </tr>\n",
              "    <tr>\n",
              "      <th>833</th>\n",
              "      <td>Wishes</td>\n",
              "      <td>Juneteenth Women of Color Scholarship Fund</td>\n",
              "      <td>Brooklyn, NY</td>\n",
              "      <td>17348.0</td>\n",
              "      <td>20000.0</td>\n",
              "      <td>160</td>\n",
              "      <td>366000.0</td>\n",
              "      <td>214000.0</td>\n",
              "      <td>The need for community and collective healing ...</td>\n",
              "      <td>0.867</td>\n",
              "      <td>0.05</td>\n",
              "    </tr>\n",
              "    <tr>\n",
              "      <th>834</th>\n",
              "      <td>Wishes</td>\n",
              "      <td>All-Terrain Wheelchair for Benjamin Wimett</td>\n",
              "      <td>Brandon, VT</td>\n",
              "      <td>19300.0</td>\n",
              "      <td>17000.0</td>\n",
              "      <td>200</td>\n",
              "      <td>279000.0</td>\n",
              "      <td>2500.0</td>\n",
              "      <td>I am 35 years old and was born with cerebral p...</td>\n",
              "      <td>1.135</td>\n",
              "      <td>0.07</td>\n",
              "    </tr>\n",
              "    <tr>\n",
              "      <th>835</th>\n",
              "      <td>Wishes</td>\n",
              "      <td>Martha's Daughter</td>\n",
              "      <td>Amherst, MA</td>\n",
              "      <td>21435.0</td>\n",
              "      <td>300000.0</td>\n",
              "      <td>110</td>\n",
              "      <td>318000.0</td>\n",
              "      <td>868000.0</td>\n",
              "      <td>Greetings,My name is Nyanyika Banda. I am a ch...</td>\n",
              "      <td>0.071</td>\n",
              "      <td>0.07</td>\n",
              "    </tr>\n",
              "    <tr>\n",
              "      <th>836</th>\n",
              "      <td>Wishes</td>\n",
              "      <td>Financial Difficulties</td>\n",
              "      <td>Johnson City, TN</td>\n",
              "      <td>16405.0</td>\n",
              "      <td>70000.0</td>\n",
              "      <td>173</td>\n",
              "      <td>148000.0</td>\n",
              "      <td>379000.0</td>\n",
              "      <td>My wife, Roni, and I have faced many  health c...</td>\n",
              "      <td>0.234</td>\n",
              "      <td>0.11</td>\n",
              "    </tr>\n",
              "    <tr>\n",
              "      <th>837</th>\n",
              "      <td>Wishes</td>\n",
              "      <td>Our Roots - Yahchouche</td>\n",
              "      <td>Santa Ana, CA</td>\n",
              "      <td>17905.0</td>\n",
              "      <td>50000.0</td>\n",
              "      <td>147</td>\n",
              "      <td>45000.0</td>\n",
              "      <td>242000.0</td>\n",
              "      <td>No matter where life has lead us, our past for...</td>\n",
              "      <td>0.358</td>\n",
              "      <td>0.40</td>\n",
              "    </tr>\n",
              "  </tbody>\n",
              "</table>\n",
              "<p>838 rows × 11 columns</p>\n",
              "</div>"
            ],
            "text/plain": [
              "    Category  ... Average_Donation_Amount\n",
              "0    Medical  ...                   31.70\n",
              "1    Medical  ...                   85.02\n",
              "2    Medical  ...                   52.17\n",
              "3    Medical  ...                   65.36\n",
              "4    Medical  ...                   23.48\n",
              "..       ...  ...                     ...\n",
              "833   Wishes  ...                    0.05\n",
              "834   Wishes  ...                    0.07\n",
              "835   Wishes  ...                    0.07\n",
              "836   Wishes  ...                    0.11\n",
              "837   Wishes  ...                    0.40\n",
              "\n",
              "[838 rows x 11 columns]"
            ]
          },
          "metadata": {
            "tags": []
          },
          "execution_count": 28
        }
      ]
    },
    {
      "cell_type": "code",
      "metadata": {
        "colab": {
          "base_uri": "https://localhost:8080/"
        },
        "id": "ygElujihu4mF",
        "outputId": "34d2ffce-ab4b-40d0-84fb-0e52a9fbc5e4"
      },
      "source": [
        "#your code Here\n",
        " \n",
        "def how_success(x):\n",
        "  if (0.0 <= x <= 0.20):\n",
        "    return 'highly unsuccessful'\n",
        "  elif (0.20 < x <= 0.50):\n",
        "    return 'moderately unsuccessful'\n",
        "  elif (0.50 < x <= 0.80):\n",
        "    return 'moderately successful'\n",
        "  elif (0.80 < x < 1.0):\n",
        "    return 'highly successful'\n",
        "  elif (x >= 1.0):\n",
        "    return 'extremely successful'\n",
        " \n",
        "gfm_success[\"How_Successful\"] = gfm_success['Proportion_Raised'].apply(how_success)\n",
        "gfm_success"
      ],
      "execution_count": null,
      "outputs": [
        {
          "output_type": "execute_result",
          "data": {
            "text/html": [
              "<div>\n",
              "<style scoped>\n",
              "    .dataframe tbody tr th:only-of-type {\n",
              "        vertical-align: middle;\n",
              "    }\n",
              "\n",
              "    .dataframe tbody tr th {\n",
              "        vertical-align: top;\n",
              "    }\n",
              "\n",
              "    .dataframe thead th {\n",
              "        text-align: right;\n",
              "    }\n",
              "</style>\n",
              "<table border=\"1\" class=\"dataframe\">\n",
              "  <thead>\n",
              "    <tr style=\"text-align: right;\">\n",
              "      <th></th>\n",
              "      <th>Category</th>\n",
              "      <th>Title</th>\n",
              "      <th>Location</th>\n",
              "      <th>Amount_Raised</th>\n",
              "      <th>Goal</th>\n",
              "      <th>Days_of_Fundraising</th>\n",
              "      <th>Number_of_Donors</th>\n",
              "      <th>FB_Shares</th>\n",
              "      <th>Text</th>\n",
              "      <th>Proportion_Raised</th>\n",
              "      <th>Average_Donation_Amount</th>\n",
              "      <th>How_Successful</th>\n",
              "    </tr>\n",
              "  </thead>\n",
              "  <tbody>\n",
              "    <tr>\n",
              "      <th>0</th>\n",
              "      <td>Medical</td>\n",
              "      <td>Justice for Jacob Blake</td>\n",
              "      <td>Kenosha, WI</td>\n",
              "      <td>2297930.0</td>\n",
              "      <td>3000000.0</td>\n",
              "      <td>93</td>\n",
              "      <td>72500.0</td>\n",
              "      <td>118000.0</td>\n",
              "      <td>On August 23rd my son was shot multiple times ...</td>\n",
              "      <td>0.766</td>\n",
              "      <td>31.70</td>\n",
              "      <td>moderately successful</td>\n",
              "    </tr>\n",
              "    <tr>\n",
              "      <th>1</th>\n",
              "      <td>Medical</td>\n",
              "      <td>Official Navajo Nation COVID-19 Relief Fund</td>\n",
              "      <td>Window Rock, AZ</td>\n",
              "      <td>1862040.0</td>\n",
              "      <td>1000000.0</td>\n",
              "      <td>205</td>\n",
              "      <td>21900.0</td>\n",
              "      <td>71700.0</td>\n",
              "      <td>The Navajo Nation COVID-19 Fund has been estab...</td>\n",
              "      <td>1.862</td>\n",
              "      <td>85.02</td>\n",
              "      <td>extremely successful</td>\n",
              "    </tr>\n",
              "    <tr>\n",
              "      <th>2</th>\n",
              "      <td>Medical</td>\n",
              "      <td>Help a front line nurse and baby get proper care</td>\n",
              "      <td>Randolph, NJ</td>\n",
              "      <td>954793.0</td>\n",
              "      <td>1200000.0</td>\n",
              "      <td>215</td>\n",
              "      <td>18300.0</td>\n",
              "      <td>16400.0</td>\n",
              "      <td>On Sunday, April 12, Sylvia Leroy, a pregnant ...</td>\n",
              "      <td>0.796</td>\n",
              "      <td>52.17</td>\n",
              "      <td>moderately successful</td>\n",
              "    </tr>\n",
              "    <tr>\n",
              "      <th>3</th>\n",
              "      <td>Medical</td>\n",
              "      <td>Rest up, Tommy, we'll see you soon</td>\n",
              "      <td>Scottsdale, AZ</td>\n",
              "      <td>673179.0</td>\n",
              "      <td>1000000.0</td>\n",
              "      <td>131</td>\n",
              "      <td>10300.0</td>\n",
              "      <td>21300.0</td>\n",
              "      <td>First, thank you for being here. Tommy Rivers ...</td>\n",
              "      <td>0.673</td>\n",
              "      <td>65.36</td>\n",
              "      <td>moderately successful</td>\n",
              "    </tr>\n",
              "    <tr>\n",
              "      <th>4</th>\n",
              "      <td>Medical</td>\n",
              "      <td>OFFICIAL BRANDON SAENZ MEDICAL FUND</td>\n",
              "      <td>Tyler, TX</td>\n",
              "      <td>570529.0</td>\n",
              "      <td>750000.0</td>\n",
              "      <td>175</td>\n",
              "      <td>24300.0</td>\n",
              "      <td>5500.0</td>\n",
              "      <td>My name is Melissa Green and I am the mother o...</td>\n",
              "      <td>0.761</td>\n",
              "      <td>23.48</td>\n",
              "      <td>moderately successful</td>\n",
              "    </tr>\n",
              "    <tr>\n",
              "      <th>...</th>\n",
              "      <td>...</td>\n",
              "      <td>...</td>\n",
              "      <td>...</td>\n",
              "      <td>...</td>\n",
              "      <td>...</td>\n",
              "      <td>...</td>\n",
              "      <td>...</td>\n",
              "      <td>...</td>\n",
              "      <td>...</td>\n",
              "      <td>...</td>\n",
              "      <td>...</td>\n",
              "      <td>...</td>\n",
              "    </tr>\n",
              "    <tr>\n",
              "      <th>833</th>\n",
              "      <td>Wishes</td>\n",
              "      <td>Juneteenth Women of Color Scholarship Fund</td>\n",
              "      <td>Brooklyn, NY</td>\n",
              "      <td>17348.0</td>\n",
              "      <td>20000.0</td>\n",
              "      <td>160</td>\n",
              "      <td>366000.0</td>\n",
              "      <td>214000.0</td>\n",
              "      <td>The need for community and collective healing ...</td>\n",
              "      <td>0.867</td>\n",
              "      <td>0.05</td>\n",
              "      <td>highly successful</td>\n",
              "    </tr>\n",
              "    <tr>\n",
              "      <th>834</th>\n",
              "      <td>Wishes</td>\n",
              "      <td>All-Terrain Wheelchair for Benjamin Wimett</td>\n",
              "      <td>Brandon, VT</td>\n",
              "      <td>19300.0</td>\n",
              "      <td>17000.0</td>\n",
              "      <td>200</td>\n",
              "      <td>279000.0</td>\n",
              "      <td>2500.0</td>\n",
              "      <td>I am 35 years old and was born with cerebral p...</td>\n",
              "      <td>1.135</td>\n",
              "      <td>0.07</td>\n",
              "      <td>extremely successful</td>\n",
              "    </tr>\n",
              "    <tr>\n",
              "      <th>835</th>\n",
              "      <td>Wishes</td>\n",
              "      <td>Martha's Daughter</td>\n",
              "      <td>Amherst, MA</td>\n",
              "      <td>21435.0</td>\n",
              "      <td>300000.0</td>\n",
              "      <td>110</td>\n",
              "      <td>318000.0</td>\n",
              "      <td>868000.0</td>\n",
              "      <td>Greetings,My name is Nyanyika Banda. I am a ch...</td>\n",
              "      <td>0.071</td>\n",
              "      <td>0.07</td>\n",
              "      <td>highly unsuccessful</td>\n",
              "    </tr>\n",
              "    <tr>\n",
              "      <th>836</th>\n",
              "      <td>Wishes</td>\n",
              "      <td>Financial Difficulties</td>\n",
              "      <td>Johnson City, TN</td>\n",
              "      <td>16405.0</td>\n",
              "      <td>70000.0</td>\n",
              "      <td>173</td>\n",
              "      <td>148000.0</td>\n",
              "      <td>379000.0</td>\n",
              "      <td>My wife, Roni, and I have faced many  health c...</td>\n",
              "      <td>0.234</td>\n",
              "      <td>0.11</td>\n",
              "      <td>moderately unsuccessful</td>\n",
              "    </tr>\n",
              "    <tr>\n",
              "      <th>837</th>\n",
              "      <td>Wishes</td>\n",
              "      <td>Our Roots - Yahchouche</td>\n",
              "      <td>Santa Ana, CA</td>\n",
              "      <td>17905.0</td>\n",
              "      <td>50000.0</td>\n",
              "      <td>147</td>\n",
              "      <td>45000.0</td>\n",
              "      <td>242000.0</td>\n",
              "      <td>No matter where life has lead us, our past for...</td>\n",
              "      <td>0.358</td>\n",
              "      <td>0.40</td>\n",
              "      <td>moderately unsuccessful</td>\n",
              "    </tr>\n",
              "  </tbody>\n",
              "</table>\n",
              "<p>838 rows × 12 columns</p>\n",
              "</div>"
            ],
            "text/plain": [
              "    Category  ...           How_Successful\n",
              "0    Medical  ...    moderately successful\n",
              "1    Medical  ...     extremely successful\n",
              "2    Medical  ...    moderately successful\n",
              "3    Medical  ...    moderately successful\n",
              "4    Medical  ...    moderately successful\n",
              "..       ...  ...                      ...\n",
              "833   Wishes  ...        highly successful\n",
              "834   Wishes  ...     extremely successful\n",
              "835   Wishes  ...      highly unsuccessful\n",
              "836   Wishes  ...  moderately unsuccessful\n",
              "837   Wishes  ...  moderately unsuccessful\n",
              "\n",
              "[838 rows x 12 columns]"
            ]
          },
          "metadata": {
            "tags": []
          },
          "execution_count": 29
        }
      ]
    },
    {
      "cell_type": "markdown",
      "metadata": {
        "id": "9Tx5iLqTNzHF"
      },
      "source": [
        "Notice that the `Text` column contains the description of the campaign, which visitors to the campaign page will see. As part of this project, we'd like to explore what makes a description successful in raising money. For example, do longer descriptions raise more money or is better to keep things brief? Are there certain keywords like \"mother\" or \"father\" associated with better fundraising outcomes? To answer these types of questions, we'll need to look inside the `Text` column. The data cleaning below will help us extract the information we need more easily.\n",
        "\n",
        "**Question 3.4.** Create a new dataframe called `gfm`, which has all the information from the `gfm_success` dataframe plus a new column called `Num_Chars` with the length of the text description for each campaign, as an int."
      ]
    },
    {
      "cell_type": "code",
      "metadata": {
        "colab": {
          "base_uri": "https://localhost:8080/"
        },
        "id": "7T0otz8uNzHF",
        "outputId": "700f3bd0-db0c-4721-9a0b-80df404d12ea"
      },
      "source": [
        "gfm = gfm_success\n",
        "gfm"
      ],
      "execution_count": null,
      "outputs": [
        {
          "output_type": "execute_result",
          "data": {
            "text/html": [
              "<div>\n",
              "<style scoped>\n",
              "    .dataframe tbody tr th:only-of-type {\n",
              "        vertical-align: middle;\n",
              "    }\n",
              "\n",
              "    .dataframe tbody tr th {\n",
              "        vertical-align: top;\n",
              "    }\n",
              "\n",
              "    .dataframe thead th {\n",
              "        text-align: right;\n",
              "    }\n",
              "</style>\n",
              "<table border=\"1\" class=\"dataframe\">\n",
              "  <thead>\n",
              "    <tr style=\"text-align: right;\">\n",
              "      <th></th>\n",
              "      <th>Category</th>\n",
              "      <th>Title</th>\n",
              "      <th>Location</th>\n",
              "      <th>Amount_Raised</th>\n",
              "      <th>Goal</th>\n",
              "      <th>Days_of_Fundraising</th>\n",
              "      <th>Number_of_Donors</th>\n",
              "      <th>FB_Shares</th>\n",
              "      <th>Text</th>\n",
              "      <th>Proportion_Raised</th>\n",
              "      <th>Average_Donation_Amount</th>\n",
              "      <th>How_Successful</th>\n",
              "    </tr>\n",
              "  </thead>\n",
              "  <tbody>\n",
              "    <tr>\n",
              "      <th>0</th>\n",
              "      <td>Medical</td>\n",
              "      <td>Justice for Jacob Blake</td>\n",
              "      <td>Kenosha, WI</td>\n",
              "      <td>2297930.0</td>\n",
              "      <td>3000000.0</td>\n",
              "      <td>93</td>\n",
              "      <td>72500.0</td>\n",
              "      <td>118000.0</td>\n",
              "      <td>On August 23rd my son was shot multiple times ...</td>\n",
              "      <td>0.766</td>\n",
              "      <td>31.70</td>\n",
              "      <td>moderately successful</td>\n",
              "    </tr>\n",
              "    <tr>\n",
              "      <th>1</th>\n",
              "      <td>Medical</td>\n",
              "      <td>Official Navajo Nation COVID-19 Relief Fund</td>\n",
              "      <td>Window Rock, AZ</td>\n",
              "      <td>1862040.0</td>\n",
              "      <td>1000000.0</td>\n",
              "      <td>205</td>\n",
              "      <td>21900.0</td>\n",
              "      <td>71700.0</td>\n",
              "      <td>The Navajo Nation COVID-19 Fund has been estab...</td>\n",
              "      <td>1.862</td>\n",
              "      <td>85.02</td>\n",
              "      <td>extremely successful</td>\n",
              "    </tr>\n",
              "    <tr>\n",
              "      <th>2</th>\n",
              "      <td>Medical</td>\n",
              "      <td>Help a front line nurse and baby get proper care</td>\n",
              "      <td>Randolph, NJ</td>\n",
              "      <td>954793.0</td>\n",
              "      <td>1200000.0</td>\n",
              "      <td>215</td>\n",
              "      <td>18300.0</td>\n",
              "      <td>16400.0</td>\n",
              "      <td>On Sunday, April 12, Sylvia Leroy, a pregnant ...</td>\n",
              "      <td>0.796</td>\n",
              "      <td>52.17</td>\n",
              "      <td>moderately successful</td>\n",
              "    </tr>\n",
              "    <tr>\n",
              "      <th>3</th>\n",
              "      <td>Medical</td>\n",
              "      <td>Rest up, Tommy, we'll see you soon</td>\n",
              "      <td>Scottsdale, AZ</td>\n",
              "      <td>673179.0</td>\n",
              "      <td>1000000.0</td>\n",
              "      <td>131</td>\n",
              "      <td>10300.0</td>\n",
              "      <td>21300.0</td>\n",
              "      <td>First, thank you for being here. Tommy Rivers ...</td>\n",
              "      <td>0.673</td>\n",
              "      <td>65.36</td>\n",
              "      <td>moderately successful</td>\n",
              "    </tr>\n",
              "    <tr>\n",
              "      <th>4</th>\n",
              "      <td>Medical</td>\n",
              "      <td>OFFICIAL BRANDON SAENZ MEDICAL FUND</td>\n",
              "      <td>Tyler, TX</td>\n",
              "      <td>570529.0</td>\n",
              "      <td>750000.0</td>\n",
              "      <td>175</td>\n",
              "      <td>24300.0</td>\n",
              "      <td>5500.0</td>\n",
              "      <td>My name is Melissa Green and I am the mother o...</td>\n",
              "      <td>0.761</td>\n",
              "      <td>23.48</td>\n",
              "      <td>moderately successful</td>\n",
              "    </tr>\n",
              "    <tr>\n",
              "      <th>...</th>\n",
              "      <td>...</td>\n",
              "      <td>...</td>\n",
              "      <td>...</td>\n",
              "      <td>...</td>\n",
              "      <td>...</td>\n",
              "      <td>...</td>\n",
              "      <td>...</td>\n",
              "      <td>...</td>\n",
              "      <td>...</td>\n",
              "      <td>...</td>\n",
              "      <td>...</td>\n",
              "      <td>...</td>\n",
              "    </tr>\n",
              "    <tr>\n",
              "      <th>833</th>\n",
              "      <td>Wishes</td>\n",
              "      <td>Juneteenth Women of Color Scholarship Fund</td>\n",
              "      <td>Brooklyn, NY</td>\n",
              "      <td>17348.0</td>\n",
              "      <td>20000.0</td>\n",
              "      <td>160</td>\n",
              "      <td>366000.0</td>\n",
              "      <td>214000.0</td>\n",
              "      <td>The need for community and collective healing ...</td>\n",
              "      <td>0.867</td>\n",
              "      <td>0.05</td>\n",
              "      <td>highly successful</td>\n",
              "    </tr>\n",
              "    <tr>\n",
              "      <th>834</th>\n",
              "      <td>Wishes</td>\n",
              "      <td>All-Terrain Wheelchair for Benjamin Wimett</td>\n",
              "      <td>Brandon, VT</td>\n",
              "      <td>19300.0</td>\n",
              "      <td>17000.0</td>\n",
              "      <td>200</td>\n",
              "      <td>279000.0</td>\n",
              "      <td>2500.0</td>\n",
              "      <td>I am 35 years old and was born with cerebral p...</td>\n",
              "      <td>1.135</td>\n",
              "      <td>0.07</td>\n",
              "      <td>extremely successful</td>\n",
              "    </tr>\n",
              "    <tr>\n",
              "      <th>835</th>\n",
              "      <td>Wishes</td>\n",
              "      <td>Martha's Daughter</td>\n",
              "      <td>Amherst, MA</td>\n",
              "      <td>21435.0</td>\n",
              "      <td>300000.0</td>\n",
              "      <td>110</td>\n",
              "      <td>318000.0</td>\n",
              "      <td>868000.0</td>\n",
              "      <td>Greetings,My name is Nyanyika Banda. I am a ch...</td>\n",
              "      <td>0.071</td>\n",
              "      <td>0.07</td>\n",
              "      <td>highly unsuccessful</td>\n",
              "    </tr>\n",
              "    <tr>\n",
              "      <th>836</th>\n",
              "      <td>Wishes</td>\n",
              "      <td>Financial Difficulties</td>\n",
              "      <td>Johnson City, TN</td>\n",
              "      <td>16405.0</td>\n",
              "      <td>70000.0</td>\n",
              "      <td>173</td>\n",
              "      <td>148000.0</td>\n",
              "      <td>379000.0</td>\n",
              "      <td>My wife, Roni, and I have faced many  health c...</td>\n",
              "      <td>0.234</td>\n",
              "      <td>0.11</td>\n",
              "      <td>moderately unsuccessful</td>\n",
              "    </tr>\n",
              "    <tr>\n",
              "      <th>837</th>\n",
              "      <td>Wishes</td>\n",
              "      <td>Our Roots - Yahchouche</td>\n",
              "      <td>Santa Ana, CA</td>\n",
              "      <td>17905.0</td>\n",
              "      <td>50000.0</td>\n",
              "      <td>147</td>\n",
              "      <td>45000.0</td>\n",
              "      <td>242000.0</td>\n",
              "      <td>No matter where life has lead us, our past for...</td>\n",
              "      <td>0.358</td>\n",
              "      <td>0.40</td>\n",
              "      <td>moderately unsuccessful</td>\n",
              "    </tr>\n",
              "  </tbody>\n",
              "</table>\n",
              "<p>838 rows × 12 columns</p>\n",
              "</div>"
            ],
            "text/plain": [
              "    Category  ...           How_Successful\n",
              "0    Medical  ...    moderately successful\n",
              "1    Medical  ...     extremely successful\n",
              "2    Medical  ...    moderately successful\n",
              "3    Medical  ...    moderately successful\n",
              "4    Medical  ...    moderately successful\n",
              "..       ...  ...                      ...\n",
              "833   Wishes  ...        highly successful\n",
              "834   Wishes  ...     extremely successful\n",
              "835   Wishes  ...      highly unsuccessful\n",
              "836   Wishes  ...  moderately unsuccessful\n",
              "837   Wishes  ...  moderately unsuccessful\n",
              "\n",
              "[838 rows x 12 columns]"
            ]
          },
          "metadata": {
            "tags": []
          },
          "execution_count": 30
        }
      ]
    },
    {
      "cell_type": "code",
      "metadata": {
        "colab": {
          "base_uri": "https://localhost:8080/"
        },
        "id": "woVyOv9VxTkq",
        "outputId": "8191600c-7f16-459f-d6af-c2096906b161"
      },
      "source": [
        "#function to count char in string\n",
        "def char(st):\n",
        "  num=len(st)-st.count(' ')\n",
        "  return num\n",
        "#add column which counts the characters in the text\n",
        "gfm[\"Num_Chars\"] = gfm_data['Text'].apply(char)\n",
        " \n",
        "#print gfm\n",
        "gfm"
      ],
      "execution_count": null,
      "outputs": [
        {
          "output_type": "execute_result",
          "data": {
            "text/html": [
              "<div>\n",
              "<style scoped>\n",
              "    .dataframe tbody tr th:only-of-type {\n",
              "        vertical-align: middle;\n",
              "    }\n",
              "\n",
              "    .dataframe tbody tr th {\n",
              "        vertical-align: top;\n",
              "    }\n",
              "\n",
              "    .dataframe thead th {\n",
              "        text-align: right;\n",
              "    }\n",
              "</style>\n",
              "<table border=\"1\" class=\"dataframe\">\n",
              "  <thead>\n",
              "    <tr style=\"text-align: right;\">\n",
              "      <th></th>\n",
              "      <th>Category</th>\n",
              "      <th>Title</th>\n",
              "      <th>Location</th>\n",
              "      <th>Amount_Raised</th>\n",
              "      <th>Goal</th>\n",
              "      <th>Days_of_Fundraising</th>\n",
              "      <th>Number_of_Donors</th>\n",
              "      <th>FB_Shares</th>\n",
              "      <th>Text</th>\n",
              "      <th>Proportion_Raised</th>\n",
              "      <th>Average_Donation_Amount</th>\n",
              "      <th>How_Successful</th>\n",
              "      <th>Num_Chars</th>\n",
              "    </tr>\n",
              "  </thead>\n",
              "  <tbody>\n",
              "    <tr>\n",
              "      <th>0</th>\n",
              "      <td>Medical</td>\n",
              "      <td>Justice for Jacob Blake</td>\n",
              "      <td>Kenosha, WI</td>\n",
              "      <td>2297930.0</td>\n",
              "      <td>3000000.0</td>\n",
              "      <td>93</td>\n",
              "      <td>72500.0</td>\n",
              "      <td>118000.0</td>\n",
              "      <td>On August 23rd my son was shot multiple times ...</td>\n",
              "      <td>0.766</td>\n",
              "      <td>31.70</td>\n",
              "      <td>moderately successful</td>\n",
              "      <td>798</td>\n",
              "    </tr>\n",
              "    <tr>\n",
              "      <th>1</th>\n",
              "      <td>Medical</td>\n",
              "      <td>Official Navajo Nation COVID-19 Relief Fund</td>\n",
              "      <td>Window Rock, AZ</td>\n",
              "      <td>1862040.0</td>\n",
              "      <td>1000000.0</td>\n",
              "      <td>205</td>\n",
              "      <td>21900.0</td>\n",
              "      <td>71700.0</td>\n",
              "      <td>The Navajo Nation COVID-19 Fund has been estab...</td>\n",
              "      <td>1.862</td>\n",
              "      <td>85.02</td>\n",
              "      <td>extremely successful</td>\n",
              "      <td>719</td>\n",
              "    </tr>\n",
              "    <tr>\n",
              "      <th>2</th>\n",
              "      <td>Medical</td>\n",
              "      <td>Help a front line nurse and baby get proper care</td>\n",
              "      <td>Randolph, NJ</td>\n",
              "      <td>954793.0</td>\n",
              "      <td>1200000.0</td>\n",
              "      <td>215</td>\n",
              "      <td>18300.0</td>\n",
              "      <td>16400.0</td>\n",
              "      <td>On Sunday, April 12, Sylvia Leroy, a pregnant ...</td>\n",
              "      <td>0.796</td>\n",
              "      <td>52.17</td>\n",
              "      <td>moderately successful</td>\n",
              "      <td>1372</td>\n",
              "    </tr>\n",
              "    <tr>\n",
              "      <th>3</th>\n",
              "      <td>Medical</td>\n",
              "      <td>Rest up, Tommy, we'll see you soon</td>\n",
              "      <td>Scottsdale, AZ</td>\n",
              "      <td>673179.0</td>\n",
              "      <td>1000000.0</td>\n",
              "      <td>131</td>\n",
              "      <td>10300.0</td>\n",
              "      <td>21300.0</td>\n",
              "      <td>First, thank you for being here. Tommy Rivers ...</td>\n",
              "      <td>0.673</td>\n",
              "      <td>65.36</td>\n",
              "      <td>moderately successful</td>\n",
              "      <td>1219</td>\n",
              "    </tr>\n",
              "    <tr>\n",
              "      <th>4</th>\n",
              "      <td>Medical</td>\n",
              "      <td>OFFICIAL BRANDON SAENZ MEDICAL FUND</td>\n",
              "      <td>Tyler, TX</td>\n",
              "      <td>570529.0</td>\n",
              "      <td>750000.0</td>\n",
              "      <td>175</td>\n",
              "      <td>24300.0</td>\n",
              "      <td>5500.0</td>\n",
              "      <td>My name is Melissa Green and I am the mother o...</td>\n",
              "      <td>0.761</td>\n",
              "      <td>23.48</td>\n",
              "      <td>moderately successful</td>\n",
              "      <td>1033</td>\n",
              "    </tr>\n",
              "    <tr>\n",
              "      <th>...</th>\n",
              "      <td>...</td>\n",
              "      <td>...</td>\n",
              "      <td>...</td>\n",
              "      <td>...</td>\n",
              "      <td>...</td>\n",
              "      <td>...</td>\n",
              "      <td>...</td>\n",
              "      <td>...</td>\n",
              "      <td>...</td>\n",
              "      <td>...</td>\n",
              "      <td>...</td>\n",
              "      <td>...</td>\n",
              "      <td>...</td>\n",
              "    </tr>\n",
              "    <tr>\n",
              "      <th>833</th>\n",
              "      <td>Wishes</td>\n",
              "      <td>Juneteenth Women of Color Scholarship Fund</td>\n",
              "      <td>Brooklyn, NY</td>\n",
              "      <td>17348.0</td>\n",
              "      <td>20000.0</td>\n",
              "      <td>160</td>\n",
              "      <td>366000.0</td>\n",
              "      <td>214000.0</td>\n",
              "      <td>The need for community and collective healing ...</td>\n",
              "      <td>0.867</td>\n",
              "      <td>0.05</td>\n",
              "      <td>highly successful</td>\n",
              "      <td>3553</td>\n",
              "    </tr>\n",
              "    <tr>\n",
              "      <th>834</th>\n",
              "      <td>Wishes</td>\n",
              "      <td>All-Terrain Wheelchair for Benjamin Wimett</td>\n",
              "      <td>Brandon, VT</td>\n",
              "      <td>19300.0</td>\n",
              "      <td>17000.0</td>\n",
              "      <td>200</td>\n",
              "      <td>279000.0</td>\n",
              "      <td>2500.0</td>\n",
              "      <td>I am 35 years old and was born with cerebral p...</td>\n",
              "      <td>1.135</td>\n",
              "      <td>0.07</td>\n",
              "      <td>extremely successful</td>\n",
              "      <td>2442</td>\n",
              "    </tr>\n",
              "    <tr>\n",
              "      <th>835</th>\n",
              "      <td>Wishes</td>\n",
              "      <td>Martha's Daughter</td>\n",
              "      <td>Amherst, MA</td>\n",
              "      <td>21435.0</td>\n",
              "      <td>300000.0</td>\n",
              "      <td>110</td>\n",
              "      <td>318000.0</td>\n",
              "      <td>868000.0</td>\n",
              "      <td>Greetings,My name is Nyanyika Banda. I am a ch...</td>\n",
              "      <td>0.071</td>\n",
              "      <td>0.07</td>\n",
              "      <td>highly unsuccessful</td>\n",
              "      <td>4828</td>\n",
              "    </tr>\n",
              "    <tr>\n",
              "      <th>836</th>\n",
              "      <td>Wishes</td>\n",
              "      <td>Financial Difficulties</td>\n",
              "      <td>Johnson City, TN</td>\n",
              "      <td>16405.0</td>\n",
              "      <td>70000.0</td>\n",
              "      <td>173</td>\n",
              "      <td>148000.0</td>\n",
              "      <td>379000.0</td>\n",
              "      <td>My wife, Roni, and I have faced many  health c...</td>\n",
              "      <td>0.234</td>\n",
              "      <td>0.11</td>\n",
              "      <td>moderately unsuccessful</td>\n",
              "      <td>5687</td>\n",
              "    </tr>\n",
              "    <tr>\n",
              "      <th>837</th>\n",
              "      <td>Wishes</td>\n",
              "      <td>Our Roots - Yahchouche</td>\n",
              "      <td>Santa Ana, CA</td>\n",
              "      <td>17905.0</td>\n",
              "      <td>50000.0</td>\n",
              "      <td>147</td>\n",
              "      <td>45000.0</td>\n",
              "      <td>242000.0</td>\n",
              "      <td>No matter where life has lead us, our past for...</td>\n",
              "      <td>0.358</td>\n",
              "      <td>0.40</td>\n",
              "      <td>moderately unsuccessful</td>\n",
              "      <td>96</td>\n",
              "    </tr>\n",
              "  </tbody>\n",
              "</table>\n",
              "<p>838 rows × 13 columns</p>\n",
              "</div>"
            ],
            "text/plain": [
              "    Category  ... Num_Chars\n",
              "0    Medical  ...       798\n",
              "1    Medical  ...       719\n",
              "2    Medical  ...      1372\n",
              "3    Medical  ...      1219\n",
              "4    Medical  ...      1033\n",
              "..       ...  ...       ...\n",
              "833   Wishes  ...      3553\n",
              "834   Wishes  ...      2442\n",
              "835   Wishes  ...      4828\n",
              "836   Wishes  ...      5687\n",
              "837   Wishes  ...        96\n",
              "\n",
              "[838 rows x 13 columns]"
            ]
          },
          "metadata": {
            "tags": []
          },
          "execution_count": 31
        }
      ]
    },
    {
      "cell_type": "markdown",
      "metadata": {
        "id": "CBfVE2aXNzHG"
      },
      "source": [
        "**Question 3.5** Overwrite the `Text` column in the `gfm` dataframe so that all the descriptions appear in lowercase.\n",
        "\n",
        "*Hint:* Check out Python's built-in [string methods](https://docs.python.org/3/library/stdtypes.html#string-methods)."
      ]
    },
    {
      "cell_type": "code",
      "metadata": {
        "colab": {
          "base_uri": "https://localhost:8080/"
        },
        "id": "FVJSJ0XINzHG",
        "outputId": "c4ef9838-5236-426d-a3eb-c4d893c645bc"
      },
      "source": [
        " \n",
        "#function to lower the char in text\n",
        "def lowercase(st):\n",
        "  st=st.lower()\n",
        "  return st\n",
        "#add column which counts the characters in the text\n",
        "gfm[\"Text\"] = gfm_data['Text'].apply(lowercase)\n",
        " \n",
        "#print gfm\n",
        "gfm"
      ],
      "execution_count": null,
      "outputs": [
        {
          "output_type": "execute_result",
          "data": {
            "text/html": [
              "<div>\n",
              "<style scoped>\n",
              "    .dataframe tbody tr th:only-of-type {\n",
              "        vertical-align: middle;\n",
              "    }\n",
              "\n",
              "    .dataframe tbody tr th {\n",
              "        vertical-align: top;\n",
              "    }\n",
              "\n",
              "    .dataframe thead th {\n",
              "        text-align: right;\n",
              "    }\n",
              "</style>\n",
              "<table border=\"1\" class=\"dataframe\">\n",
              "  <thead>\n",
              "    <tr style=\"text-align: right;\">\n",
              "      <th></th>\n",
              "      <th>Category</th>\n",
              "      <th>Title</th>\n",
              "      <th>Location</th>\n",
              "      <th>Amount_Raised</th>\n",
              "      <th>Goal</th>\n",
              "      <th>Days_of_Fundraising</th>\n",
              "      <th>Number_of_Donors</th>\n",
              "      <th>FB_Shares</th>\n",
              "      <th>Text</th>\n",
              "      <th>Proportion_Raised</th>\n",
              "      <th>Average_Donation_Amount</th>\n",
              "      <th>How_Successful</th>\n",
              "      <th>Num_Chars</th>\n",
              "    </tr>\n",
              "  </thead>\n",
              "  <tbody>\n",
              "    <tr>\n",
              "      <th>0</th>\n",
              "      <td>Medical</td>\n",
              "      <td>Justice for Jacob Blake</td>\n",
              "      <td>Kenosha, WI</td>\n",
              "      <td>2297930.0</td>\n",
              "      <td>3000000.0</td>\n",
              "      <td>93</td>\n",
              "      <td>72500.0</td>\n",
              "      <td>118000.0</td>\n",
              "      <td>on august 23rd my son was shot multiple times ...</td>\n",
              "      <td>0.766</td>\n",
              "      <td>31.70</td>\n",
              "      <td>moderately successful</td>\n",
              "      <td>798</td>\n",
              "    </tr>\n",
              "    <tr>\n",
              "      <th>1</th>\n",
              "      <td>Medical</td>\n",
              "      <td>Official Navajo Nation COVID-19 Relief Fund</td>\n",
              "      <td>Window Rock, AZ</td>\n",
              "      <td>1862040.0</td>\n",
              "      <td>1000000.0</td>\n",
              "      <td>205</td>\n",
              "      <td>21900.0</td>\n",
              "      <td>71700.0</td>\n",
              "      <td>the navajo nation covid-19 fund has been estab...</td>\n",
              "      <td>1.862</td>\n",
              "      <td>85.02</td>\n",
              "      <td>extremely successful</td>\n",
              "      <td>719</td>\n",
              "    </tr>\n",
              "    <tr>\n",
              "      <th>2</th>\n",
              "      <td>Medical</td>\n",
              "      <td>Help a front line nurse and baby get proper care</td>\n",
              "      <td>Randolph, NJ</td>\n",
              "      <td>954793.0</td>\n",
              "      <td>1200000.0</td>\n",
              "      <td>215</td>\n",
              "      <td>18300.0</td>\n",
              "      <td>16400.0</td>\n",
              "      <td>on sunday, april 12, sylvia leroy, a pregnant ...</td>\n",
              "      <td>0.796</td>\n",
              "      <td>52.17</td>\n",
              "      <td>moderately successful</td>\n",
              "      <td>1372</td>\n",
              "    </tr>\n",
              "    <tr>\n",
              "      <th>3</th>\n",
              "      <td>Medical</td>\n",
              "      <td>Rest up, Tommy, we'll see you soon</td>\n",
              "      <td>Scottsdale, AZ</td>\n",
              "      <td>673179.0</td>\n",
              "      <td>1000000.0</td>\n",
              "      <td>131</td>\n",
              "      <td>10300.0</td>\n",
              "      <td>21300.0</td>\n",
              "      <td>first, thank you for being here. tommy rivers ...</td>\n",
              "      <td>0.673</td>\n",
              "      <td>65.36</td>\n",
              "      <td>moderately successful</td>\n",
              "      <td>1219</td>\n",
              "    </tr>\n",
              "    <tr>\n",
              "      <th>4</th>\n",
              "      <td>Medical</td>\n",
              "      <td>OFFICIAL BRANDON SAENZ MEDICAL FUND</td>\n",
              "      <td>Tyler, TX</td>\n",
              "      <td>570529.0</td>\n",
              "      <td>750000.0</td>\n",
              "      <td>175</td>\n",
              "      <td>24300.0</td>\n",
              "      <td>5500.0</td>\n",
              "      <td>my name is melissa green and i am the mother o...</td>\n",
              "      <td>0.761</td>\n",
              "      <td>23.48</td>\n",
              "      <td>moderately successful</td>\n",
              "      <td>1033</td>\n",
              "    </tr>\n",
              "    <tr>\n",
              "      <th>...</th>\n",
              "      <td>...</td>\n",
              "      <td>...</td>\n",
              "      <td>...</td>\n",
              "      <td>...</td>\n",
              "      <td>...</td>\n",
              "      <td>...</td>\n",
              "      <td>...</td>\n",
              "      <td>...</td>\n",
              "      <td>...</td>\n",
              "      <td>...</td>\n",
              "      <td>...</td>\n",
              "      <td>...</td>\n",
              "      <td>...</td>\n",
              "    </tr>\n",
              "    <tr>\n",
              "      <th>833</th>\n",
              "      <td>Wishes</td>\n",
              "      <td>Juneteenth Women of Color Scholarship Fund</td>\n",
              "      <td>Brooklyn, NY</td>\n",
              "      <td>17348.0</td>\n",
              "      <td>20000.0</td>\n",
              "      <td>160</td>\n",
              "      <td>366000.0</td>\n",
              "      <td>214000.0</td>\n",
              "      <td>the need for community and collective healing ...</td>\n",
              "      <td>0.867</td>\n",
              "      <td>0.05</td>\n",
              "      <td>highly successful</td>\n",
              "      <td>3553</td>\n",
              "    </tr>\n",
              "    <tr>\n",
              "      <th>834</th>\n",
              "      <td>Wishes</td>\n",
              "      <td>All-Terrain Wheelchair for Benjamin Wimett</td>\n",
              "      <td>Brandon, VT</td>\n",
              "      <td>19300.0</td>\n",
              "      <td>17000.0</td>\n",
              "      <td>200</td>\n",
              "      <td>279000.0</td>\n",
              "      <td>2500.0</td>\n",
              "      <td>i am 35 years old and was born with cerebral p...</td>\n",
              "      <td>1.135</td>\n",
              "      <td>0.07</td>\n",
              "      <td>extremely successful</td>\n",
              "      <td>2442</td>\n",
              "    </tr>\n",
              "    <tr>\n",
              "      <th>835</th>\n",
              "      <td>Wishes</td>\n",
              "      <td>Martha's Daughter</td>\n",
              "      <td>Amherst, MA</td>\n",
              "      <td>21435.0</td>\n",
              "      <td>300000.0</td>\n",
              "      <td>110</td>\n",
              "      <td>318000.0</td>\n",
              "      <td>868000.0</td>\n",
              "      <td>greetings,my name is nyanyika banda. i am a ch...</td>\n",
              "      <td>0.071</td>\n",
              "      <td>0.07</td>\n",
              "      <td>highly unsuccessful</td>\n",
              "      <td>4828</td>\n",
              "    </tr>\n",
              "    <tr>\n",
              "      <th>836</th>\n",
              "      <td>Wishes</td>\n",
              "      <td>Financial Difficulties</td>\n",
              "      <td>Johnson City, TN</td>\n",
              "      <td>16405.0</td>\n",
              "      <td>70000.0</td>\n",
              "      <td>173</td>\n",
              "      <td>148000.0</td>\n",
              "      <td>379000.0</td>\n",
              "      <td>my wife, roni, and i have faced many  health c...</td>\n",
              "      <td>0.234</td>\n",
              "      <td>0.11</td>\n",
              "      <td>moderately unsuccessful</td>\n",
              "      <td>5687</td>\n",
              "    </tr>\n",
              "    <tr>\n",
              "      <th>837</th>\n",
              "      <td>Wishes</td>\n",
              "      <td>Our Roots - Yahchouche</td>\n",
              "      <td>Santa Ana, CA</td>\n",
              "      <td>17905.0</td>\n",
              "      <td>50000.0</td>\n",
              "      <td>147</td>\n",
              "      <td>45000.0</td>\n",
              "      <td>242000.0</td>\n",
              "      <td>no matter where life has lead us, our past for...</td>\n",
              "      <td>0.358</td>\n",
              "      <td>0.40</td>\n",
              "      <td>moderately unsuccessful</td>\n",
              "      <td>96</td>\n",
              "    </tr>\n",
              "  </tbody>\n",
              "</table>\n",
              "<p>838 rows × 13 columns</p>\n",
              "</div>"
            ],
            "text/plain": [
              "    Category  ... Num_Chars\n",
              "0    Medical  ...       798\n",
              "1    Medical  ...       719\n",
              "2    Medical  ...      1372\n",
              "3    Medical  ...      1219\n",
              "4    Medical  ...      1033\n",
              "..       ...  ...       ...\n",
              "833   Wishes  ...      3553\n",
              "834   Wishes  ...      2442\n",
              "835   Wishes  ...      4828\n",
              "836   Wishes  ...      5687\n",
              "837   Wishes  ...        96\n",
              "\n",
              "[838 rows x 13 columns]"
            ]
          },
          "metadata": {
            "tags": []
          },
          "execution_count": 32
        }
      ]
    },
    {
      "cell_type": "markdown",
      "metadata": {
        "id": "mW2gm6nWNzHH"
      },
      "source": [
        "**Question 3.6.** Set `cutoff` to be the smallest number of characters for which we will consider a text description to be long, if we want the groups to be about the same size. \n",
        "\n",
        "*Hint*: We may not be able to split the dataset into groups of the exact same size. What is the best we can do? Use a measure of center."
      ]
    },
    {
      "cell_type": "code",
      "metadata": {
        "colab": {
          "base_uri": "https://localhost:8080/"
        },
        "id": "3A7UrevecExf",
        "outputId": "0515e142-8b5d-4053-a34a-b621f8a434b9"
      },
      "source": [
        "print(gfm['Text'][0])\n",
        "print(type(gfm['Num_Chars']))"
      ],
      "execution_count": null,
      "outputs": [
        {
          "output_type": "stream",
          "text": [
            "on august 23rd my son was shot multiple times in the back by a kenosha police department officer, after my son broke up an altercation by an unrelated party. the shooting has now left my son critically injured as he fights for his life. the extent of my son’s injuries is unknown, but we remain prayerful as he continues to undergo multiple rounds of operations to save his life.\r\n",
            "\r\n",
            "this fund is established to cover my son’s medical expenses, mental and grief counseling for our family and to assist our family in the days to come, as we continue to seek justice for jacob.  a portion of these proceeds will also be used to benefit my son’s six children, some of whom witnessed this horrific act of violence.\r\n",
            "\r\n",
            "anyone wishing to send cards, letters of encouragement  and/or contributions in the form of a money order or check, may do so by mail at:\r\n",
            " \r\n",
            "julia y. jackson\r\n",
            "c/o ben crump law, pllc\r\n",
            "122 s. calhoun street\r\n",
            "tallahassee, fl 32301\r\n",
            "attn: adner marcelin\n",
            "<class 'pandas.core.series.Series'>\n"
          ],
          "name": "stdout"
        }
      ]
    },
    {
      "cell_type": "code",
      "metadata": {
        "colab": {
          "base_uri": "https://localhost:8080/"
        },
        "id": "TN8FbOobNzHH",
        "outputId": "0bb983a4-19a2-4d61-b03a-30d157ae95c0"
      },
      "source": [
        "#Search if any zero value in the column\n",
        "\n",
        "cutoff=gfm['Num_Chars'].mean()\n",
        "print(cutoff)"
      ],
      "execution_count": null,
      "outputs": [
        {
          "output_type": "stream",
          "text": [
            "1613.2792362768496\n"
          ],
          "name": "stdout"
        }
      ]
    },
    {
      "cell_type": "markdown",
      "metadata": {
        "id": "87vWqYrLNzHH"
      },
      "source": [
        "Now define a long description to be a description where the number of characters is ***at least*** as long as `cutoff` and a short description to be a description where the number of characters is less than `cutoff`. \n",
        "Make 2 dataframe for long and short"
      ]
    },
    {
      "cell_type": "code",
      "metadata": {
        "id": "VPQ-lf8LNzHI"
      },
      "source": [
        "#function to find long discription\n",
        "long=pd.DataFrame(gfm[gfm['Num_Chars']>=cutoff])\n",
        "\n",
        "#function to find short discription\n",
        "short=pd.DataFrame(gfm[gfm['Num_Chars']<cutoff])"
      ],
      "execution_count": null,
      "outputs": []
    },
    {
      "cell_type": "markdown",
      "metadata": {
        "id": "x_eYbXvpNzHI"
      },
      "source": [
        "Next, we can run some text analysis to determine whether specific words in the `Text` are associated with a higher or lower `Average_Donation_Amount`. More specifically, do donors find specific words found in the description of a campaign impactful? For example, we might conjecture that words relating to family like \"father\", \"daughter\", \"son\", etc. are associated with higher average donation amounts. \n",
        "\n",
        "Which *three* words do you think are impactful to donors? Store any three lowercase words you think are linked to higher average donations in a list called `impactful_words`. "
      ]
    },
    {
      "cell_type": "code",
      "metadata": {
        "id": "4QYv-nqSNzHI"
      },
      "source": [
        "impactful_words=[\"son\", \"covid\", \"pregnant\"]"
      ],
      "execution_count": null,
      "outputs": []
    },
    {
      "cell_type": "markdown",
      "metadata": {
        "id": "HkIEK6pyNzHJ"
      },
      "source": [
        "**Question 3.7** Create a new dataframe called `gfm_impactful`, which contains the information from `gfm` plus a column named `Has_Impactful` which is True/False depending whether the campaign contains at least one impactful word or not."
      ]
    },
    {
      "cell_type": "code",
      "metadata": {
        "colab": {
          "base_uri": "https://localhost:8080/"
        },
        "id": "mhIxAhymNzHJ",
        "outputId": "adbfea7b-3487-4946-bedf-184130ed55f4"
      },
      "source": [
        "#your code here\n",
        "gfm_impactful=gfm\n",
        "\n",
        "#def function to find the text id either impactful or not\n",
        "def is_impactful(st):\n",
        "  if any(x in st for x in impactful_words):\n",
        "    return True\n",
        "  else:\n",
        "    return False\n",
        "\n",
        "gfm_impactful[\"Has_Impactful\"]=gfm_impactful['Text'].apply(is_impactful)\n",
        "gfm_impactful"
      ],
      "execution_count": null,
      "outputs": [
        {
          "output_type": "execute_result",
          "data": {
            "text/html": [
              "<div>\n",
              "<style scoped>\n",
              "    .dataframe tbody tr th:only-of-type {\n",
              "        vertical-align: middle;\n",
              "    }\n",
              "\n",
              "    .dataframe tbody tr th {\n",
              "        vertical-align: top;\n",
              "    }\n",
              "\n",
              "    .dataframe thead th {\n",
              "        text-align: right;\n",
              "    }\n",
              "</style>\n",
              "<table border=\"1\" class=\"dataframe\">\n",
              "  <thead>\n",
              "    <tr style=\"text-align: right;\">\n",
              "      <th></th>\n",
              "      <th>Category</th>\n",
              "      <th>Title</th>\n",
              "      <th>Location</th>\n",
              "      <th>Amount_Raised</th>\n",
              "      <th>Goal</th>\n",
              "      <th>Days_of_Fundraising</th>\n",
              "      <th>Number_of_Donors</th>\n",
              "      <th>FB_Shares</th>\n",
              "      <th>Text</th>\n",
              "      <th>Proportion_Raised</th>\n",
              "      <th>Average_Donation_Amount</th>\n",
              "      <th>How_Successful</th>\n",
              "      <th>Num_Chars</th>\n",
              "      <th>Has_Impactful</th>\n",
              "    </tr>\n",
              "  </thead>\n",
              "  <tbody>\n",
              "    <tr>\n",
              "      <th>0</th>\n",
              "      <td>Medical</td>\n",
              "      <td>Justice for Jacob Blake</td>\n",
              "      <td>Kenosha, WI</td>\n",
              "      <td>2297930.0</td>\n",
              "      <td>3000000.0</td>\n",
              "      <td>93</td>\n",
              "      <td>72500.0</td>\n",
              "      <td>118000.0</td>\n",
              "      <td>on august 23rd my son was shot multiple times ...</td>\n",
              "      <td>0.766</td>\n",
              "      <td>31.70</td>\n",
              "      <td>moderately successful</td>\n",
              "      <td>798</td>\n",
              "      <td>True</td>\n",
              "    </tr>\n",
              "    <tr>\n",
              "      <th>1</th>\n",
              "      <td>Medical</td>\n",
              "      <td>Official Navajo Nation COVID-19 Relief Fund</td>\n",
              "      <td>Window Rock, AZ</td>\n",
              "      <td>1862040.0</td>\n",
              "      <td>1000000.0</td>\n",
              "      <td>205</td>\n",
              "      <td>21900.0</td>\n",
              "      <td>71700.0</td>\n",
              "      <td>the navajo nation covid-19 fund has been estab...</td>\n",
              "      <td>1.862</td>\n",
              "      <td>85.02</td>\n",
              "      <td>extremely successful</td>\n",
              "      <td>719</td>\n",
              "      <td>True</td>\n",
              "    </tr>\n",
              "    <tr>\n",
              "      <th>2</th>\n",
              "      <td>Medical</td>\n",
              "      <td>Help a front line nurse and baby get proper care</td>\n",
              "      <td>Randolph, NJ</td>\n",
              "      <td>954793.0</td>\n",
              "      <td>1200000.0</td>\n",
              "      <td>215</td>\n",
              "      <td>18300.0</td>\n",
              "      <td>16400.0</td>\n",
              "      <td>on sunday, april 12, sylvia leroy, a pregnant ...</td>\n",
              "      <td>0.796</td>\n",
              "      <td>52.17</td>\n",
              "      <td>moderately successful</td>\n",
              "      <td>1372</td>\n",
              "      <td>True</td>\n",
              "    </tr>\n",
              "    <tr>\n",
              "      <th>3</th>\n",
              "      <td>Medical</td>\n",
              "      <td>Rest up, Tommy, we'll see you soon</td>\n",
              "      <td>Scottsdale, AZ</td>\n",
              "      <td>673179.0</td>\n",
              "      <td>1000000.0</td>\n",
              "      <td>131</td>\n",
              "      <td>10300.0</td>\n",
              "      <td>21300.0</td>\n",
              "      <td>first, thank you for being here. tommy rivers ...</td>\n",
              "      <td>0.673</td>\n",
              "      <td>65.36</td>\n",
              "      <td>moderately successful</td>\n",
              "      <td>1219</td>\n",
              "      <td>False</td>\n",
              "    </tr>\n",
              "    <tr>\n",
              "      <th>4</th>\n",
              "      <td>Medical</td>\n",
              "      <td>OFFICIAL BRANDON SAENZ MEDICAL FUND</td>\n",
              "      <td>Tyler, TX</td>\n",
              "      <td>570529.0</td>\n",
              "      <td>750000.0</td>\n",
              "      <td>175</td>\n",
              "      <td>24300.0</td>\n",
              "      <td>5500.0</td>\n",
              "      <td>my name is melissa green and i am the mother o...</td>\n",
              "      <td>0.761</td>\n",
              "      <td>23.48</td>\n",
              "      <td>moderately successful</td>\n",
              "      <td>1033</td>\n",
              "      <td>True</td>\n",
              "    </tr>\n",
              "    <tr>\n",
              "      <th>...</th>\n",
              "      <td>...</td>\n",
              "      <td>...</td>\n",
              "      <td>...</td>\n",
              "      <td>...</td>\n",
              "      <td>...</td>\n",
              "      <td>...</td>\n",
              "      <td>...</td>\n",
              "      <td>...</td>\n",
              "      <td>...</td>\n",
              "      <td>...</td>\n",
              "      <td>...</td>\n",
              "      <td>...</td>\n",
              "      <td>...</td>\n",
              "      <td>...</td>\n",
              "    </tr>\n",
              "    <tr>\n",
              "      <th>833</th>\n",
              "      <td>Wishes</td>\n",
              "      <td>Juneteenth Women of Color Scholarship Fund</td>\n",
              "      <td>Brooklyn, NY</td>\n",
              "      <td>17348.0</td>\n",
              "      <td>20000.0</td>\n",
              "      <td>160</td>\n",
              "      <td>366000.0</td>\n",
              "      <td>214000.0</td>\n",
              "      <td>the need for community and collective healing ...</td>\n",
              "      <td>0.867</td>\n",
              "      <td>0.05</td>\n",
              "      <td>highly successful</td>\n",
              "      <td>3553</td>\n",
              "      <td>True</td>\n",
              "    </tr>\n",
              "    <tr>\n",
              "      <th>834</th>\n",
              "      <td>Wishes</td>\n",
              "      <td>All-Terrain Wheelchair for Benjamin Wimett</td>\n",
              "      <td>Brandon, VT</td>\n",
              "      <td>19300.0</td>\n",
              "      <td>17000.0</td>\n",
              "      <td>200</td>\n",
              "      <td>279000.0</td>\n",
              "      <td>2500.0</td>\n",
              "      <td>i am 35 years old and was born with cerebral p...</td>\n",
              "      <td>1.135</td>\n",
              "      <td>0.07</td>\n",
              "      <td>extremely successful</td>\n",
              "      <td>2442</td>\n",
              "      <td>True</td>\n",
              "    </tr>\n",
              "    <tr>\n",
              "      <th>835</th>\n",
              "      <td>Wishes</td>\n",
              "      <td>Martha's Daughter</td>\n",
              "      <td>Amherst, MA</td>\n",
              "      <td>21435.0</td>\n",
              "      <td>300000.0</td>\n",
              "      <td>110</td>\n",
              "      <td>318000.0</td>\n",
              "      <td>868000.0</td>\n",
              "      <td>greetings,my name is nyanyika banda. i am a ch...</td>\n",
              "      <td>0.071</td>\n",
              "      <td>0.07</td>\n",
              "      <td>highly unsuccessful</td>\n",
              "      <td>4828</td>\n",
              "      <td>True</td>\n",
              "    </tr>\n",
              "    <tr>\n",
              "      <th>836</th>\n",
              "      <td>Wishes</td>\n",
              "      <td>Financial Difficulties</td>\n",
              "      <td>Johnson City, TN</td>\n",
              "      <td>16405.0</td>\n",
              "      <td>70000.0</td>\n",
              "      <td>173</td>\n",
              "      <td>148000.0</td>\n",
              "      <td>379000.0</td>\n",
              "      <td>my wife, roni, and i have faced many  health c...</td>\n",
              "      <td>0.234</td>\n",
              "      <td>0.11</td>\n",
              "      <td>moderately unsuccessful</td>\n",
              "      <td>5687</td>\n",
              "      <td>True</td>\n",
              "    </tr>\n",
              "    <tr>\n",
              "      <th>837</th>\n",
              "      <td>Wishes</td>\n",
              "      <td>Our Roots - Yahchouche</td>\n",
              "      <td>Santa Ana, CA</td>\n",
              "      <td>17905.0</td>\n",
              "      <td>50000.0</td>\n",
              "      <td>147</td>\n",
              "      <td>45000.0</td>\n",
              "      <td>242000.0</td>\n",
              "      <td>no matter where life has lead us, our past for...</td>\n",
              "      <td>0.358</td>\n",
              "      <td>0.40</td>\n",
              "      <td>moderately unsuccessful</td>\n",
              "      <td>96</td>\n",
              "      <td>False</td>\n",
              "    </tr>\n",
              "  </tbody>\n",
              "</table>\n",
              "<p>838 rows × 14 columns</p>\n",
              "</div>"
            ],
            "text/plain": [
              "    Category  ... Has_Impactful\n",
              "0    Medical  ...          True\n",
              "1    Medical  ...          True\n",
              "2    Medical  ...          True\n",
              "3    Medical  ...         False\n",
              "4    Medical  ...          True\n",
              "..       ...  ...           ...\n",
              "833   Wishes  ...          True\n",
              "834   Wishes  ...          True\n",
              "835   Wishes  ...          True\n",
              "836   Wishes  ...          True\n",
              "837   Wishes  ...         False\n",
              "\n",
              "[838 rows x 14 columns]"
            ]
          },
          "metadata": {
            "tags": []
          },
          "execution_count": 37
        }
      ]
    },
    {
      "cell_type": "markdown",
      "metadata": {
        "id": "6FBzH_6bNzHK"
      },
      "source": [
        "## 4. Google Play Store\n",
        "\n",
        "In this problem, we will explore the [Google Play Store Apps Dataset](https://www.kaggle.com/lava18/google-play-store-apps), scraped from the Google Play Store."
      ]
    },
    {
      "cell_type": "code",
      "metadata": {
        "colab": {
          "base_uri": "https://localhost:8080/",
          "height": 841
        },
        "id": "XuX2QlvrNzHK",
        "outputId": "afdd61a0-8e23-4781-f7a0-07876c1f9da3"
      },
      "source": [
        "# run this cell to load the data\n",
        "apps = pd.read_csv('/content/googleplaystore.csv.csv')\n",
        "apps"
      ],
      "execution_count": null,
      "outputs": [
        {
          "output_type": "execute_result",
          "data": {
            "text/html": [
              "<div>\n",
              "<style scoped>\n",
              "    .dataframe tbody tr th:only-of-type {\n",
              "        vertical-align: middle;\n",
              "    }\n",
              "\n",
              "    .dataframe tbody tr th {\n",
              "        vertical-align: top;\n",
              "    }\n",
              "\n",
              "    .dataframe thead th {\n",
              "        text-align: right;\n",
              "    }\n",
              "</style>\n",
              "<table border=\"1\" class=\"dataframe\">\n",
              "  <thead>\n",
              "    <tr style=\"text-align: right;\">\n",
              "      <th></th>\n",
              "      <th>App</th>\n",
              "      <th>Category</th>\n",
              "      <th>Rating</th>\n",
              "      <th>Reviews</th>\n",
              "      <th>Size</th>\n",
              "      <th>Installs</th>\n",
              "      <th>Type</th>\n",
              "      <th>Price</th>\n",
              "      <th>Content Rating</th>\n",
              "      <th>Genres</th>\n",
              "      <th>Last Updated</th>\n",
              "      <th>Current Ver</th>\n",
              "      <th>Android Ver</th>\n",
              "    </tr>\n",
              "  </thead>\n",
              "  <tbody>\n",
              "    <tr>\n",
              "      <th>0</th>\n",
              "      <td>Photo Editor &amp; Candy Camera &amp; Grid &amp; ScrapBook</td>\n",
              "      <td>ART_AND_DESIGN</td>\n",
              "      <td>4.1</td>\n",
              "      <td>159</td>\n",
              "      <td>19M</td>\n",
              "      <td>10,000+</td>\n",
              "      <td>Free</td>\n",
              "      <td>0</td>\n",
              "      <td>Everyone</td>\n",
              "      <td>Art &amp; Design</td>\n",
              "      <td>January 7, 2018</td>\n",
              "      <td>1.0.0</td>\n",
              "      <td>4.0.3 and up</td>\n",
              "    </tr>\n",
              "    <tr>\n",
              "      <th>1</th>\n",
              "      <td>Coloring book moana</td>\n",
              "      <td>ART_AND_DESIGN</td>\n",
              "      <td>3.9</td>\n",
              "      <td>967</td>\n",
              "      <td>14M</td>\n",
              "      <td>500,000+</td>\n",
              "      <td>Free</td>\n",
              "      <td>0</td>\n",
              "      <td>Everyone</td>\n",
              "      <td>Art &amp; Design;Pretend Play</td>\n",
              "      <td>January 15, 2018</td>\n",
              "      <td>2.0.0</td>\n",
              "      <td>4.0.3 and up</td>\n",
              "    </tr>\n",
              "    <tr>\n",
              "      <th>2</th>\n",
              "      <td>U Launcher Lite – FREE Live Cool Themes, Hide ...</td>\n",
              "      <td>ART_AND_DESIGN</td>\n",
              "      <td>4.7</td>\n",
              "      <td>87510</td>\n",
              "      <td>8.7M</td>\n",
              "      <td>5,000,000+</td>\n",
              "      <td>Free</td>\n",
              "      <td>0</td>\n",
              "      <td>Everyone</td>\n",
              "      <td>Art &amp; Design</td>\n",
              "      <td>August 1, 2018</td>\n",
              "      <td>1.2.4</td>\n",
              "      <td>4.0.3 and up</td>\n",
              "    </tr>\n",
              "    <tr>\n",
              "      <th>3</th>\n",
              "      <td>Sketch - Draw &amp; Paint</td>\n",
              "      <td>ART_AND_DESIGN</td>\n",
              "      <td>4.5</td>\n",
              "      <td>215644</td>\n",
              "      <td>25M</td>\n",
              "      <td>50,000,000+</td>\n",
              "      <td>Free</td>\n",
              "      <td>0</td>\n",
              "      <td>Teen</td>\n",
              "      <td>Art &amp; Design</td>\n",
              "      <td>June 8, 2018</td>\n",
              "      <td>Varies with device</td>\n",
              "      <td>4.2 and up</td>\n",
              "    </tr>\n",
              "    <tr>\n",
              "      <th>4</th>\n",
              "      <td>Pixel Draw - Number Art Coloring Book</td>\n",
              "      <td>ART_AND_DESIGN</td>\n",
              "      <td>4.3</td>\n",
              "      <td>967</td>\n",
              "      <td>2.8M</td>\n",
              "      <td>100,000+</td>\n",
              "      <td>Free</td>\n",
              "      <td>0</td>\n",
              "      <td>Everyone</td>\n",
              "      <td>Art &amp; Design;Creativity</td>\n",
              "      <td>June 20, 2018</td>\n",
              "      <td>1.1</td>\n",
              "      <td>4.4 and up</td>\n",
              "    </tr>\n",
              "    <tr>\n",
              "      <th>...</th>\n",
              "      <td>...</td>\n",
              "      <td>...</td>\n",
              "      <td>...</td>\n",
              "      <td>...</td>\n",
              "      <td>...</td>\n",
              "      <td>...</td>\n",
              "      <td>...</td>\n",
              "      <td>...</td>\n",
              "      <td>...</td>\n",
              "      <td>...</td>\n",
              "      <td>...</td>\n",
              "      <td>...</td>\n",
              "      <td>...</td>\n",
              "    </tr>\n",
              "    <tr>\n",
              "      <th>10836</th>\n",
              "      <td>Sya9a Maroc - FR</td>\n",
              "      <td>FAMILY</td>\n",
              "      <td>4.5</td>\n",
              "      <td>38</td>\n",
              "      <td>53M</td>\n",
              "      <td>5,000+</td>\n",
              "      <td>Free</td>\n",
              "      <td>0</td>\n",
              "      <td>Everyone</td>\n",
              "      <td>Education</td>\n",
              "      <td>July 25, 2017</td>\n",
              "      <td>1.48</td>\n",
              "      <td>4.1 and up</td>\n",
              "    </tr>\n",
              "    <tr>\n",
              "      <th>10837</th>\n",
              "      <td>Fr. Mike Schmitz Audio Teachings</td>\n",
              "      <td>FAMILY</td>\n",
              "      <td>5.0</td>\n",
              "      <td>4</td>\n",
              "      <td>3.6M</td>\n",
              "      <td>100+</td>\n",
              "      <td>Free</td>\n",
              "      <td>0</td>\n",
              "      <td>Everyone</td>\n",
              "      <td>Education</td>\n",
              "      <td>July 6, 2018</td>\n",
              "      <td>1</td>\n",
              "      <td>4.1 and up</td>\n",
              "    </tr>\n",
              "    <tr>\n",
              "      <th>10838</th>\n",
              "      <td>Parkinson Exercices FR</td>\n",
              "      <td>MEDICAL</td>\n",
              "      <td>NaN</td>\n",
              "      <td>3</td>\n",
              "      <td>9.5M</td>\n",
              "      <td>1,000+</td>\n",
              "      <td>Free</td>\n",
              "      <td>0</td>\n",
              "      <td>Everyone</td>\n",
              "      <td>Medical</td>\n",
              "      <td>January 20, 2017</td>\n",
              "      <td>1</td>\n",
              "      <td>2.2 and up</td>\n",
              "    </tr>\n",
              "    <tr>\n",
              "      <th>10839</th>\n",
              "      <td>The SCP Foundation DB fr nn5n</td>\n",
              "      <td>BOOKS_AND_REFERENCE</td>\n",
              "      <td>4.5</td>\n",
              "      <td>114</td>\n",
              "      <td>Varies with device</td>\n",
              "      <td>1,000+</td>\n",
              "      <td>Free</td>\n",
              "      <td>0</td>\n",
              "      <td>Mature 17+</td>\n",
              "      <td>Books &amp; Reference</td>\n",
              "      <td>January 19, 2015</td>\n",
              "      <td>Varies with device</td>\n",
              "      <td>Varies with device</td>\n",
              "    </tr>\n",
              "    <tr>\n",
              "      <th>10840</th>\n",
              "      <td>iHoroscope - 2018 Daily Horoscope &amp; Astrology</td>\n",
              "      <td>LIFESTYLE</td>\n",
              "      <td>4.5</td>\n",
              "      <td>398307</td>\n",
              "      <td>19M</td>\n",
              "      <td>10,000,000+</td>\n",
              "      <td>Free</td>\n",
              "      <td>0</td>\n",
              "      <td>Everyone</td>\n",
              "      <td>Lifestyle</td>\n",
              "      <td>July 25, 2018</td>\n",
              "      <td>Varies with device</td>\n",
              "      <td>Varies with device</td>\n",
              "    </tr>\n",
              "  </tbody>\n",
              "</table>\n",
              "<p>10841 rows × 13 columns</p>\n",
              "</div>"
            ],
            "text/plain": [
              "                                                     App  ...         Android Ver\n",
              "0         Photo Editor & Candy Camera & Grid & ScrapBook  ...        4.0.3 and up\n",
              "1                                    Coloring book moana  ...        4.0.3 and up\n",
              "2      U Launcher Lite – FREE Live Cool Themes, Hide ...  ...        4.0.3 and up\n",
              "3                                  Sketch - Draw & Paint  ...          4.2 and up\n",
              "4                  Pixel Draw - Number Art Coloring Book  ...          4.4 and up\n",
              "...                                                  ...  ...                 ...\n",
              "10836                                   Sya9a Maroc - FR  ...          4.1 and up\n",
              "10837                   Fr. Mike Schmitz Audio Teachings  ...          4.1 and up\n",
              "10838                             Parkinson Exercices FR  ...          2.2 and up\n",
              "10839                      The SCP Foundation DB fr nn5n  ...  Varies with device\n",
              "10840      iHoroscope - 2018 Daily Horoscope & Astrology  ...  Varies with device\n",
              "\n",
              "[10841 rows x 13 columns]"
            ]
          },
          "metadata": {
            "tags": []
          },
          "execution_count": 38
        }
      ]
    },
    {
      "cell_type": "markdown",
      "metadata": {
        "id": "pp-YqAQwNzHK"
      },
      "source": [
        "Each row in the table is an app. Here are descriptions of some of the columns.\n",
        "- **Category** Category the app belongs to\n",
        "- **Rating** Overall user rating of the app (as when scraped)\n",
        "- **Reviews** Number of user reviews for the app (as when scraped) \n",
        "- **Installs** Number of user downloads/installs for the app (as when scraped)\n",
        "\n",
        "Notice that we did not set the index, even though it looks like the app name would be a good candidate. This is because the app names are not unique! We can verify this with the help of a `numpy` function called `np.unique`. This function takes in an array and outputs an array with all duplicates removed.\n",
        "\n",
        "We see above that the table has 10,825 rows. This means that there are 10,825 apps in the dataset. But let's calculate how many unique names there are:"
      ]
    },
    {
      "cell_type": "code",
      "metadata": {
        "colab": {
          "base_uri": "https://localhost:8080/"
        },
        "id": "3UybvthpNzHK",
        "outputId": "fe992a54-a5e0-49b2-9304-528b54cb7f06"
      },
      "source": [
        "len(np.unique(apps.get('App')))"
      ],
      "execution_count": null,
      "outputs": [
        {
          "output_type": "execute_result",
          "data": {
            "text/plain": [
              "9660"
            ]
          },
          "metadata": {
            "tags": []
          },
          "execution_count": 39
        }
      ]
    },
    {
      "cell_type": "markdown",
      "metadata": {
        "id": "3YbsdA0ENzHK"
      },
      "source": [
        "So there must be duplicates!\n",
        "\n",
        "Because there are duplicates, the app name is not a good row label. In fact, there is no good row label in this case. In situations like this, we'll leave the index as-is."
      ]
    },
    {
      "cell_type": "markdown",
      "metadata": {
        "id": "GZLeXVdlNzHK"
      },
      "source": [
        "**Question 4.1.** Assign `by_content` to a dataframe which counts the number of apps per Content Rating. List the Content Ratings alphabetically.\n",
        "<br>\n",
        "Hint:You can use groupby\n"
      ]
    },
    {
      "cell_type": "code",
      "metadata": {
        "colab": {
          "base_uri": "https://localhost:8080/"
        },
        "id": "2i62MVSPNzHK",
        "outputId": "ab6b135a-6026-4fc6-a575-3ea86900a467"
      },
      "source": [
        "#your code here\n",
        "by_content=apps.groupby(['Content Rating'])\n",
        "by_content['App'].count()"
      ],
      "execution_count": null,
      "outputs": [
        {
          "output_type": "execute_result",
          "data": {
            "text/plain": [
              "Content Rating\n",
              "Adults only 18+       3\n",
              "Everyone           8714\n",
              "Everyone 10+        414\n",
              "Mature 17+          499\n",
              "Teen               1208\n",
              "Unrated               2\n",
              "Name: App, dtype: int64"
            ]
          },
          "metadata": {
            "tags": []
          },
          "execution_count": 40
        }
      ]
    },
    {
      "cell_type": "markdown",
      "metadata": {
        "id": "aU31dFXwNzHL"
      },
      "source": [
        "**Question 4.2.** Compute the number of apps in the dataset that have 1.5 stars or lower, and save the result in `bad_apps` and compute the number of apps in the dataset that have 4 stars or higher, and save the results in `good_apps`."
      ]
    },
    {
      "cell_type": "code",
      "metadata": {
        "colab": {
          "base_uri": "https://localhost:8080/"
        },
        "id": "xQNIBjHcNzHL",
        "outputId": "6dcc56f5-44ac-44da-926e-f3b5102f7219"
      },
      "source": [
        "bad_apps=(apps['Rating']<=1.5).sum()\n",
        "print(bad_apps)"
      ],
      "execution_count": null,
      "outputs": [
        {
          "output_type": "stream",
          "text": [
            "23\n"
          ],
          "name": "stdout"
        }
      ]
    },
    {
      "cell_type": "code",
      "metadata": {
        "colab": {
          "base_uri": "https://localhost:8080/"
        },
        "id": "eOZfB7YANzHM",
        "outputId": "55301d8b-6235-450e-bb4d-9a603c0bb982"
      },
      "source": [
        "good_apps=(apps['Rating']>1.5).sum()\n",
        "print(good_apps)"
      ],
      "execution_count": null,
      "outputs": [
        {
          "output_type": "stream",
          "text": [
            "9344\n"
          ],
          "name": "stdout"
        }
      ]
    },
    {
      "cell_type": "markdown",
      "metadata": {
        "id": "UlVOjAvdNzHM"
      },
      "source": [
        "**Question 4.3.** How many apps listed have the word \"Google\" (with that exact capitalization) in the App name? Save the number as `google_apps`.\n",
        "\n",
        "Note: each row is a separate App and should be counted as such (even if the names are the same).\n",
        "\n"
      ]
    },
    {
      "cell_type": "code",
      "metadata": {
        "colab": {
          "base_uri": "https://localhost:8080/"
        },
        "id": "Qky5AMGKNzHM",
        "outputId": "3b0635d0-f37e-465e-90b1-f0fbe5cb6e12"
      },
      "source": [
        "#your code here\n",
        "google_apps=0\n",
        "word=[\"Google\"]\n",
        "if any(x in word for x in apps['App']):\n",
        "  google_apps = 1 + google_apps\n",
        "print(google_apps)"
      ],
      "execution_count": null,
      "outputs": [
        {
          "output_type": "stream",
          "text": [
            "1\n"
          ],
          "name": "stdout"
        }
      ]
    },
    {
      "cell_type": "markdown",
      "metadata": {
        "id": "mXBSvKaFNzHN"
      },
      "source": [
        "**Question 4.4.** Of the apps under the Category `COMMUNICATION`, get the `Content Rating` count for apps where the Rating is between or equal to 4 and 5 (inclusive). Return this as a table sorted by `count` (with greatest count at the top of the table) called `top_communication_apps`.\n",
        "\n",
        "Hint: creating two Dataframes may help. Even though it is possible to do this in one line, sometimes it's better to break up the tasks to make the overall process clearer. We will only check the final table though."
      ]
    },
    {
      "cell_type": "code",
      "metadata": {
        "colab": {
          "base_uri": "https://localhost:8080/"
        },
        "id": "yqrEp5o5NzHN",
        "outputId": "ab01770e-c333-49dd-fc14-7ebc8023a663"
      },
      "source": [
        "#your code here\n",
        "group=apps.groupby([\"Category\"])\n",
        "communication=group.get_group('COMMUNICATION')\n",
        "(communication['Rating']>=4).count()"
      ],
      "execution_count": null,
      "outputs": [
        {
          "output_type": "execute_result",
          "data": {
            "text/plain": [
              "387"
            ]
          },
          "metadata": {
            "tags": []
          },
          "execution_count": 44
        }
      ]
    },
    {
      "cell_type": "markdown",
      "metadata": {
        "id": "EKDL3lLrNzHN"
      },
      "source": [
        "**Question 4.5.** Create a table named `install_stats` which has a single column, `Installs`, which contains the mean number of install of apps in each type of content rating."
      ]
    },
    {
      "cell_type": "code",
      "metadata": {
        "colab": {
          "base_uri": "https://localhost:8080/",
          "height": 269
        },
        "id": "LLlA9IJvNzHN",
        "outputId": "1b6df091-9d21-4ea3-e255-edc8c8b80a0e"
      },
      "source": [
        "#your code here\n",
        "group1=apps.groupby([\"Content Rating\"])\n",
        "group1.all()\n",
        "install_stats=pd.DataFrame(columns=[\"Installs\"])\n",
        "install_stats['Installs']=group1['Rating'].mean()\n",
        "install_stats"
      ],
      "execution_count": null,
      "outputs": [
        {
          "output_type": "execute_result",
          "data": {
            "text/html": [
              "<div>\n",
              "<style scoped>\n",
              "    .dataframe tbody tr th:only-of-type {\n",
              "        vertical-align: middle;\n",
              "    }\n",
              "\n",
              "    .dataframe tbody tr th {\n",
              "        vertical-align: top;\n",
              "    }\n",
              "\n",
              "    .dataframe thead th {\n",
              "        text-align: right;\n",
              "    }\n",
              "</style>\n",
              "<table border=\"1\" class=\"dataframe\">\n",
              "  <thead>\n",
              "    <tr style=\"text-align: right;\">\n",
              "      <th></th>\n",
              "      <th>Installs</th>\n",
              "    </tr>\n",
              "    <tr>\n",
              "      <th>Content Rating</th>\n",
              "      <th></th>\n",
              "    </tr>\n",
              "  </thead>\n",
              "  <tbody>\n",
              "    <tr>\n",
              "      <th>Adults only 18+</th>\n",
              "      <td>4.300000</td>\n",
              "    </tr>\n",
              "    <tr>\n",
              "      <th>Everyone</th>\n",
              "      <td>4.186375</td>\n",
              "    </tr>\n",
              "    <tr>\n",
              "      <th>Everyone 10+</th>\n",
              "      <td>4.257179</td>\n",
              "    </tr>\n",
              "    <tr>\n",
              "      <th>Mature 17+</th>\n",
              "      <td>4.123427</td>\n",
              "    </tr>\n",
              "    <tr>\n",
              "      <th>Teen</th>\n",
              "      <td>4.233487</td>\n",
              "    </tr>\n",
              "    <tr>\n",
              "      <th>Unrated</th>\n",
              "      <td>4.100000</td>\n",
              "    </tr>\n",
              "  </tbody>\n",
              "</table>\n",
              "</div>"
            ],
            "text/plain": [
              "                 Installs\n",
              "Content Rating           \n",
              "Adults only 18+  4.300000\n",
              "Everyone         4.186375\n",
              "Everyone 10+     4.257179\n",
              "Mature 17+       4.123427\n",
              "Teen             4.233487\n",
              "Unrated          4.100000"
            ]
          },
          "metadata": {
            "tags": []
          },
          "execution_count": 45
        }
      ]
    },
    {
      "cell_type": "markdown",
      "metadata": {
        "id": "ykxlRRqvNzHO"
      },
      "source": [
        "**Question4.6.** Suppose a good app is one with at least one million installs and a rating of at least 4.0. Create a variable called `best_category` containing the name of the category with the most good apps. "
      ]
    },
    {
      "cell_type": "code",
      "metadata": {
        "id": "xqjUd4PtnVrD"
      },
      "source": [
        "def convert_install(string_rep):\n",
        "  if string_rep!=\"Free\":\n",
        "    string_rep=(string_rep.replace(',',''))\n",
        "    string_rep=string_rep.split(\"+\")[0]\n",
        "    print(string_rep)\n",
        "    string_rep=int(string_rep)\n",
        "    return string_rep\n",
        "apps['Installs']=apps['Installs'].apply(convert_install)\n"
      ],
      "execution_count": null,
      "outputs": []
    },
    {
      "cell_type": "code",
      "metadata": {
        "id": "qx9b_DhRNzHO"
      },
      "source": [
        "#your code here\n",
        "best_category=[apps[apps['Installs']>=10000000]]"
      ],
      "execution_count": null,
      "outputs": []
    },
    {
      "cell_type": "markdown",
      "metadata": {
        "id": "KBeZJenRNzHO"
      },
      "source": [
        "**Question 4.7.** Make a bar chart of the average rating by category in which the bars are sorted from smallest to largest."
      ]
    },
    {
      "cell_type": "code",
      "metadata": {
        "colab": {
          "base_uri": "https://localhost:8080/",
          "height": 338
        },
        "id": "RSY2_CoqNzHP",
        "outputId": "6a986602-2e33-40b8-f119-b5522e19d22e"
      },
      "source": [
        "#smallest to largest avg rating plot\n",
        "\n",
        "group3=apps.groupby([\"Category\"])\n",
        "avg_rating=group3['Rating'].mean()\n",
        "avg_rating=avg_rating.sort_values()\n",
        "plt.figure(figsize=(20,5))\n",
        "plt.bar(x=group3.groups.keys(),height=avg_rating)"
      ],
      "execution_count": null,
      "outputs": [
        {
          "output_type": "execute_result",
          "data": {
            "text/plain": [
              "<BarContainer object of 34 artists>"
            ]
          },
          "metadata": {
            "tags": []
          },
          "execution_count": 57
        },
        {
          "output_type": "display_data",
          "data": {
            "image/png": "[encoded data removed]",
            "text/plain": [
              "<Figure size 1440x360 with 1 Axes>"
            ]
          },
          "metadata": {
            "tags": [],
            "needs_background": "light"
          }
        }
      ]
    },
    {
      "cell_type": "markdown",
      "metadata": {
        "id": "WC6AWrgYNzHP"
      },
      "source": [
        "## 5. Histograms\n",
        "Earlier, we computed the average pay among the CEOs in our 102-CEO dataset.  The average doesn't tell us everything about the amounts CEOs are paid, though.  Maybe just a few CEOs make the bulk of the money, even among these 102.\n"
      ]
    },
    {
      "cell_type": "markdown",
      "metadata": {
        "id": "QNbctTm7NzHP"
      },
      "source": [
        "**Question 5.1.** Make a histogram of the pay of the CEOs in compensation"
      ]
    },
    {
      "cell_type": "code",
      "metadata": {
        "colab": {
          "base_uri": "https://localhost:8080/",
          "height": 297
        },
        "id": "rKKg1C7xNzHP",
        "outputId": "5d921bff-a413-4233-f852-f384eddd45ba"
      },
      "source": [
        "#your code Here\n",
        "sns.histplot(x=raw_compensation['Total Pay_Dollars'],data=raw_compensation)"
      ],
      "execution_count": null,
      "outputs": [
        {
          "output_type": "execute_result",
          "data": {
            "text/plain": [
              "<matplotlib.axes._subplots.AxesSubplot at 0x7fdb9446c6d0>"
            ]
          },
          "metadata": {
            "tags": []
          },
          "execution_count": 58
        },
        {
          "output_type": "display_data",
          "data": {
            "image/png": "[encoded data removed]",
            "text/plain": [
              "<Figure size 432x288 with 1 Axes>"
            ]
          },
          "metadata": {
            "tags": [],
            "needs_background": "light"
          }
        }
      ]
    },
    {
      "cell_type": "markdown",
      "metadata": {
        "id": "XKnB2RHGNzHQ"
      },
      "source": [
        "**Question 5.2.** Looking at the histogram, about how many CEOs made more than $30 million? Make a good guess. (Answer the question by filling in your answer manually. You'll have to do a bit of arithmetic; feel free to use Python as a calculator.)\n",
        "\n"
      ]
    },
    {
      "cell_type": "code",
      "metadata": {
        "id": "KTYrD9P9NzHQ"
      },
      "source": [
        "#your code here\n",
        "num_ceos_more_than_30_million = 4"
      ],
      "execution_count": null,
      "outputs": []
    },
    {
      "cell_type": "markdown",
      "metadata": {
        "id": "6cntBPuFNzHQ"
      },
      "source": [
        "**Question 5.3.** Answer the same question with code.\n"
      ]
    },
    {
      "cell_type": "code",
      "metadata": {
        "colab": {
          "base_uri": "https://localhost:8080/"
        },
        "id": "Q0d1QprQNzHQ",
        "outputId": "8741cd3d-b9f7-4a02-d480-b8bd40a40943"
      },
      "source": [
        "#your code here\n",
        "num_ceos_more_than_30_million_2=(with_previous_compensation[\"Total Pay_Dollars\"]>300000000).sum()\n",
        "print(num_ceos_more_than_30_million)"
      ],
      "execution_count": null,
      "outputs": [
        {
          "output_type": "stream",
          "text": [
            "4\n"
          ],
          "name": "stdout"
        }
      ]
    },
    {
      "cell_type": "markdown",
      "metadata": {
        "id": "7wD9ZRWSNzHQ"
      },
      "source": [
        "Run the next cell if you want to see how far off you were."
      ]
    },
    {
      "cell_type": "code",
      "metadata": {
        "colab": {
          "base_uri": "https://localhost:8080/"
        },
        "id": "dwAF2x00NzHQ",
        "outputId": "504122ba-90b7-4204-a546-fbd9f37fbe25"
      },
      "source": [
        "percent_diff = abs(num_ceos_more_than_30_million - num_ceos_more_than_30_million_2) / num_ceos_more_than_30_million_2\n",
        "print(\"Your guess was only\", percent_diff * 100, \"% off!\")"
      ],
      "execution_count": null,
      "outputs": [
        {
          "output_type": "stream",
          "text": [
            "Your guess was only 33.33333333333333 % off!\n"
          ],
          "name": "stdout"
        }
      ]
    },
    {
      "cell_type": "markdown",
      "metadata": {
        "id": "8HeVo8YVNzHR"
      },
      "source": [
        "### Finish Line"
      ]
    },
    {
      "cell_type": "code",
      "metadata": {
        "id": "GFM6eNwOvSpw"
      },
      "source": [
        ""
      ],
      "execution_count": null,
      "outputs": []
    }
  ]
}